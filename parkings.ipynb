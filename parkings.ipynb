{
 "cells": [
  {
   "cell_type": "code",
   "execution_count": 204,
   "id": "537f6f07",
   "metadata": {},
   "outputs": [],
   "source": [
    "#import libraries\n",
    "import pandas as pd\n",
    "import numpy as np\n",
    "import matplotlib.pyplot as plt\n",
    "from sklearn.model_selection import train_test_split\n",
    "import seaborn as sns "
   ]
  },
  {
   "cell_type": "code",
   "execution_count": 2,
   "id": "09e5fa8a",
   "metadata": {
    "scrolled": false
   },
   "outputs": [
    {
     "data": {
      "text/html": [
       "<div>\n",
       "<style scoped>\n",
       "    .dataframe tbody tr th:only-of-type {\n",
       "        vertical-align: middle;\n",
       "    }\n",
       "\n",
       "    .dataframe tbody tr th {\n",
       "        vertical-align: top;\n",
       "    }\n",
       "\n",
       "    .dataframe thead th {\n",
       "        text-align: right;\n",
       "    }\n",
       "</style>\n",
       "<table border=\"1\" class=\"dataframe\">\n",
       "  <thead>\n",
       "    <tr style=\"text-align: right;\">\n",
       "      <th></th>\n",
       "      <th>name</th>\n",
       "      <th>MDVP:Fo(Hz)</th>\n",
       "      <th>MDVP:Fhi(Hz)</th>\n",
       "      <th>MDVP:Flo(Hz)</th>\n",
       "      <th>MDVP:Jitter(%)</th>\n",
       "      <th>MDVP:Jitter(Abs)</th>\n",
       "      <th>MDVP:RAP</th>\n",
       "      <th>MDVP:PPQ</th>\n",
       "      <th>Jitter:DDP</th>\n",
       "      <th>MDVP:Shimmer</th>\n",
       "      <th>...</th>\n",
       "      <th>Shimmer:DDA</th>\n",
       "      <th>NHR</th>\n",
       "      <th>HNR</th>\n",
       "      <th>status</th>\n",
       "      <th>RPDE</th>\n",
       "      <th>DFA</th>\n",
       "      <th>spread1</th>\n",
       "      <th>spread2</th>\n",
       "      <th>D2</th>\n",
       "      <th>PPE</th>\n",
       "    </tr>\n",
       "  </thead>\n",
       "  <tbody>\n",
       "    <tr>\n",
       "      <th>0</th>\n",
       "      <td>phon_R01_S01_1</td>\n",
       "      <td>119.992</td>\n",
       "      <td>157.302</td>\n",
       "      <td>74.997</td>\n",
       "      <td>0.00784</td>\n",
       "      <td>0.00007</td>\n",
       "      <td>0.00370</td>\n",
       "      <td>0.00554</td>\n",
       "      <td>0.01109</td>\n",
       "      <td>0.04374</td>\n",
       "      <td>...</td>\n",
       "      <td>0.06545</td>\n",
       "      <td>0.02211</td>\n",
       "      <td>21.033</td>\n",
       "      <td>1</td>\n",
       "      <td>0.414783</td>\n",
       "      <td>0.815285</td>\n",
       "      <td>-4.813031</td>\n",
       "      <td>0.266482</td>\n",
       "      <td>2.301442</td>\n",
       "      <td>0.284654</td>\n",
       "    </tr>\n",
       "    <tr>\n",
       "      <th>1</th>\n",
       "      <td>phon_R01_S01_2</td>\n",
       "      <td>122.400</td>\n",
       "      <td>148.650</td>\n",
       "      <td>113.819</td>\n",
       "      <td>0.00968</td>\n",
       "      <td>0.00008</td>\n",
       "      <td>0.00465</td>\n",
       "      <td>0.00696</td>\n",
       "      <td>0.01394</td>\n",
       "      <td>0.06134</td>\n",
       "      <td>...</td>\n",
       "      <td>0.09403</td>\n",
       "      <td>0.01929</td>\n",
       "      <td>19.085</td>\n",
       "      <td>1</td>\n",
       "      <td>0.458359</td>\n",
       "      <td>0.819521</td>\n",
       "      <td>-4.075192</td>\n",
       "      <td>0.335590</td>\n",
       "      <td>2.486855</td>\n",
       "      <td>0.368674</td>\n",
       "    </tr>\n",
       "    <tr>\n",
       "      <th>2</th>\n",
       "      <td>phon_R01_S01_3</td>\n",
       "      <td>116.682</td>\n",
       "      <td>131.111</td>\n",
       "      <td>111.555</td>\n",
       "      <td>0.01050</td>\n",
       "      <td>0.00009</td>\n",
       "      <td>0.00544</td>\n",
       "      <td>0.00781</td>\n",
       "      <td>0.01633</td>\n",
       "      <td>0.05233</td>\n",
       "      <td>...</td>\n",
       "      <td>0.08270</td>\n",
       "      <td>0.01309</td>\n",
       "      <td>20.651</td>\n",
       "      <td>1</td>\n",
       "      <td>0.429895</td>\n",
       "      <td>0.825288</td>\n",
       "      <td>-4.443179</td>\n",
       "      <td>0.311173</td>\n",
       "      <td>2.342259</td>\n",
       "      <td>0.332634</td>\n",
       "    </tr>\n",
       "    <tr>\n",
       "      <th>3</th>\n",
       "      <td>phon_R01_S01_4</td>\n",
       "      <td>116.676</td>\n",
       "      <td>137.871</td>\n",
       "      <td>111.366</td>\n",
       "      <td>0.00997</td>\n",
       "      <td>0.00009</td>\n",
       "      <td>0.00502</td>\n",
       "      <td>0.00698</td>\n",
       "      <td>0.01505</td>\n",
       "      <td>0.05492</td>\n",
       "      <td>...</td>\n",
       "      <td>0.08771</td>\n",
       "      <td>0.01353</td>\n",
       "      <td>20.644</td>\n",
       "      <td>1</td>\n",
       "      <td>0.434969</td>\n",
       "      <td>0.819235</td>\n",
       "      <td>-4.117501</td>\n",
       "      <td>0.334147</td>\n",
       "      <td>2.405554</td>\n",
       "      <td>0.368975</td>\n",
       "    </tr>\n",
       "    <tr>\n",
       "      <th>4</th>\n",
       "      <td>phon_R01_S01_5</td>\n",
       "      <td>116.014</td>\n",
       "      <td>141.781</td>\n",
       "      <td>110.655</td>\n",
       "      <td>0.01284</td>\n",
       "      <td>0.00011</td>\n",
       "      <td>0.00655</td>\n",
       "      <td>0.00908</td>\n",
       "      <td>0.01966</td>\n",
       "      <td>0.06425</td>\n",
       "      <td>...</td>\n",
       "      <td>0.10470</td>\n",
       "      <td>0.01767</td>\n",
       "      <td>19.649</td>\n",
       "      <td>1</td>\n",
       "      <td>0.417356</td>\n",
       "      <td>0.823484</td>\n",
       "      <td>-3.747787</td>\n",
       "      <td>0.234513</td>\n",
       "      <td>2.332180</td>\n",
       "      <td>0.410335</td>\n",
       "    </tr>\n",
       "    <tr>\n",
       "      <th>...</th>\n",
       "      <td>...</td>\n",
       "      <td>...</td>\n",
       "      <td>...</td>\n",
       "      <td>...</td>\n",
       "      <td>...</td>\n",
       "      <td>...</td>\n",
       "      <td>...</td>\n",
       "      <td>...</td>\n",
       "      <td>...</td>\n",
       "      <td>...</td>\n",
       "      <td>...</td>\n",
       "      <td>...</td>\n",
       "      <td>...</td>\n",
       "      <td>...</td>\n",
       "      <td>...</td>\n",
       "      <td>...</td>\n",
       "      <td>...</td>\n",
       "      <td>...</td>\n",
       "      <td>...</td>\n",
       "      <td>...</td>\n",
       "      <td>...</td>\n",
       "    </tr>\n",
       "    <tr>\n",
       "      <th>190</th>\n",
       "      <td>phon_R01_S50_2</td>\n",
       "      <td>174.188</td>\n",
       "      <td>230.978</td>\n",
       "      <td>94.261</td>\n",
       "      <td>0.00459</td>\n",
       "      <td>0.00003</td>\n",
       "      <td>0.00263</td>\n",
       "      <td>0.00259</td>\n",
       "      <td>0.00790</td>\n",
       "      <td>0.04087</td>\n",
       "      <td>...</td>\n",
       "      <td>0.07008</td>\n",
       "      <td>0.02764</td>\n",
       "      <td>19.517</td>\n",
       "      <td>0</td>\n",
       "      <td>0.448439</td>\n",
       "      <td>0.657899</td>\n",
       "      <td>-6.538586</td>\n",
       "      <td>0.121952</td>\n",
       "      <td>2.657476</td>\n",
       "      <td>0.133050</td>\n",
       "    </tr>\n",
       "    <tr>\n",
       "      <th>191</th>\n",
       "      <td>phon_R01_S50_3</td>\n",
       "      <td>209.516</td>\n",
       "      <td>253.017</td>\n",
       "      <td>89.488</td>\n",
       "      <td>0.00564</td>\n",
       "      <td>0.00003</td>\n",
       "      <td>0.00331</td>\n",
       "      <td>0.00292</td>\n",
       "      <td>0.00994</td>\n",
       "      <td>0.02751</td>\n",
       "      <td>...</td>\n",
       "      <td>0.04812</td>\n",
       "      <td>0.01810</td>\n",
       "      <td>19.147</td>\n",
       "      <td>0</td>\n",
       "      <td>0.431674</td>\n",
       "      <td>0.683244</td>\n",
       "      <td>-6.195325</td>\n",
       "      <td>0.129303</td>\n",
       "      <td>2.784312</td>\n",
       "      <td>0.168895</td>\n",
       "    </tr>\n",
       "    <tr>\n",
       "      <th>192</th>\n",
       "      <td>phon_R01_S50_4</td>\n",
       "      <td>174.688</td>\n",
       "      <td>240.005</td>\n",
       "      <td>74.287</td>\n",
       "      <td>0.01360</td>\n",
       "      <td>0.00008</td>\n",
       "      <td>0.00624</td>\n",
       "      <td>0.00564</td>\n",
       "      <td>0.01873</td>\n",
       "      <td>0.02308</td>\n",
       "      <td>...</td>\n",
       "      <td>0.03804</td>\n",
       "      <td>0.10715</td>\n",
       "      <td>17.883</td>\n",
       "      <td>0</td>\n",
       "      <td>0.407567</td>\n",
       "      <td>0.655683</td>\n",
       "      <td>-6.787197</td>\n",
       "      <td>0.158453</td>\n",
       "      <td>2.679772</td>\n",
       "      <td>0.131728</td>\n",
       "    </tr>\n",
       "    <tr>\n",
       "      <th>193</th>\n",
       "      <td>phon_R01_S50_5</td>\n",
       "      <td>198.764</td>\n",
       "      <td>396.961</td>\n",
       "      <td>74.904</td>\n",
       "      <td>0.00740</td>\n",
       "      <td>0.00004</td>\n",
       "      <td>0.00370</td>\n",
       "      <td>0.00390</td>\n",
       "      <td>0.01109</td>\n",
       "      <td>0.02296</td>\n",
       "      <td>...</td>\n",
       "      <td>0.03794</td>\n",
       "      <td>0.07223</td>\n",
       "      <td>19.020</td>\n",
       "      <td>0</td>\n",
       "      <td>0.451221</td>\n",
       "      <td>0.643956</td>\n",
       "      <td>-6.744577</td>\n",
       "      <td>0.207454</td>\n",
       "      <td>2.138608</td>\n",
       "      <td>0.123306</td>\n",
       "    </tr>\n",
       "    <tr>\n",
       "      <th>194</th>\n",
       "      <td>phon_R01_S50_6</td>\n",
       "      <td>214.289</td>\n",
       "      <td>260.277</td>\n",
       "      <td>77.973</td>\n",
       "      <td>0.00567</td>\n",
       "      <td>0.00003</td>\n",
       "      <td>0.00295</td>\n",
       "      <td>0.00317</td>\n",
       "      <td>0.00885</td>\n",
       "      <td>0.01884</td>\n",
       "      <td>...</td>\n",
       "      <td>0.03078</td>\n",
       "      <td>0.04398</td>\n",
       "      <td>21.209</td>\n",
       "      <td>0</td>\n",
       "      <td>0.462803</td>\n",
       "      <td>0.664357</td>\n",
       "      <td>-5.724056</td>\n",
       "      <td>0.190667</td>\n",
       "      <td>2.555477</td>\n",
       "      <td>0.148569</td>\n",
       "    </tr>\n",
       "  </tbody>\n",
       "</table>\n",
       "<p>195 rows × 24 columns</p>\n",
       "</div>"
      ],
      "text/plain": [
       "               name  MDVP:Fo(Hz)  MDVP:Fhi(Hz)  MDVP:Flo(Hz)  MDVP:Jitter(%)  \\\n",
       "0    phon_R01_S01_1      119.992       157.302        74.997         0.00784   \n",
       "1    phon_R01_S01_2      122.400       148.650       113.819         0.00968   \n",
       "2    phon_R01_S01_3      116.682       131.111       111.555         0.01050   \n",
       "3    phon_R01_S01_4      116.676       137.871       111.366         0.00997   \n",
       "4    phon_R01_S01_5      116.014       141.781       110.655         0.01284   \n",
       "..              ...          ...           ...           ...             ...   \n",
       "190  phon_R01_S50_2      174.188       230.978        94.261         0.00459   \n",
       "191  phon_R01_S50_3      209.516       253.017        89.488         0.00564   \n",
       "192  phon_R01_S50_4      174.688       240.005        74.287         0.01360   \n",
       "193  phon_R01_S50_5      198.764       396.961        74.904         0.00740   \n",
       "194  phon_R01_S50_6      214.289       260.277        77.973         0.00567   \n",
       "\n",
       "     MDVP:Jitter(Abs)  MDVP:RAP  MDVP:PPQ  Jitter:DDP  MDVP:Shimmer  ...  \\\n",
       "0             0.00007   0.00370   0.00554     0.01109       0.04374  ...   \n",
       "1             0.00008   0.00465   0.00696     0.01394       0.06134  ...   \n",
       "2             0.00009   0.00544   0.00781     0.01633       0.05233  ...   \n",
       "3             0.00009   0.00502   0.00698     0.01505       0.05492  ...   \n",
       "4             0.00011   0.00655   0.00908     0.01966       0.06425  ...   \n",
       "..                ...       ...       ...         ...           ...  ...   \n",
       "190           0.00003   0.00263   0.00259     0.00790       0.04087  ...   \n",
       "191           0.00003   0.00331   0.00292     0.00994       0.02751  ...   \n",
       "192           0.00008   0.00624   0.00564     0.01873       0.02308  ...   \n",
       "193           0.00004   0.00370   0.00390     0.01109       0.02296  ...   \n",
       "194           0.00003   0.00295   0.00317     0.00885       0.01884  ...   \n",
       "\n",
       "     Shimmer:DDA      NHR     HNR  status      RPDE       DFA   spread1  \\\n",
       "0        0.06545  0.02211  21.033       1  0.414783  0.815285 -4.813031   \n",
       "1        0.09403  0.01929  19.085       1  0.458359  0.819521 -4.075192   \n",
       "2        0.08270  0.01309  20.651       1  0.429895  0.825288 -4.443179   \n",
       "3        0.08771  0.01353  20.644       1  0.434969  0.819235 -4.117501   \n",
       "4        0.10470  0.01767  19.649       1  0.417356  0.823484 -3.747787   \n",
       "..           ...      ...     ...     ...       ...       ...       ...   \n",
       "190      0.07008  0.02764  19.517       0  0.448439  0.657899 -6.538586   \n",
       "191      0.04812  0.01810  19.147       0  0.431674  0.683244 -6.195325   \n",
       "192      0.03804  0.10715  17.883       0  0.407567  0.655683 -6.787197   \n",
       "193      0.03794  0.07223  19.020       0  0.451221  0.643956 -6.744577   \n",
       "194      0.03078  0.04398  21.209       0  0.462803  0.664357 -5.724056   \n",
       "\n",
       "      spread2        D2       PPE  \n",
       "0    0.266482  2.301442  0.284654  \n",
       "1    0.335590  2.486855  0.368674  \n",
       "2    0.311173  2.342259  0.332634  \n",
       "3    0.334147  2.405554  0.368975  \n",
       "4    0.234513  2.332180  0.410335  \n",
       "..        ...       ...       ...  \n",
       "190  0.121952  2.657476  0.133050  \n",
       "191  0.129303  2.784312  0.168895  \n",
       "192  0.158453  2.679772  0.131728  \n",
       "193  0.207454  2.138608  0.123306  \n",
       "194  0.190667  2.555477  0.148569  \n",
       "\n",
       "[195 rows x 24 columns]"
      ]
     },
     "execution_count": 2,
     "metadata": {},
     "output_type": "execute_result"
    }
   ],
   "source": [
    "#loading Parkinson DataFrame\n",
    "park_data = pd.read_csv('parkinson_data.csv')\n",
    "park_data"
   ]
  },
  {
   "cell_type": "markdown",
   "id": "70fa3bb9",
   "metadata": {},
   "source": []
  },
  {
   "cell_type": "code",
   "execution_count": 3,
   "id": "59dffeb9",
   "metadata": {
    "scrolled": true
   },
   "outputs": [
    {
     "data": {
      "text/plain": [
       "(195, 24)"
      ]
     },
     "execution_count": 3,
     "metadata": {},
     "output_type": "execute_result"
    }
   ],
   "source": [
    "#looking at the shape of the dataset\n",
    "park_data.shape"
   ]
  },
  {
   "cell_type": "code",
   "execution_count": 4,
   "id": "6309b623",
   "metadata": {},
   "outputs": [
    {
     "name": "stdout",
     "output_type": "stream",
     "text": [
      "<class 'pandas.core.frame.DataFrame'>\n",
      "RangeIndex: 195 entries, 0 to 194\n",
      "Data columns (total 24 columns):\n",
      " #   Column            Non-Null Count  Dtype  \n",
      "---  ------            --------------  -----  \n",
      " 0   name              195 non-null    object \n",
      " 1   MDVP:Fo(Hz)       195 non-null    float64\n",
      " 2   MDVP:Fhi(Hz)      195 non-null    float64\n",
      " 3   MDVP:Flo(Hz)      195 non-null    float64\n",
      " 4   MDVP:Jitter(%)    195 non-null    float64\n",
      " 5   MDVP:Jitter(Abs)  195 non-null    float64\n",
      " 6   MDVP:RAP          195 non-null    float64\n",
      " 7   MDVP:PPQ          195 non-null    float64\n",
      " 8   Jitter:DDP        195 non-null    float64\n",
      " 9   MDVP:Shimmer      195 non-null    float64\n",
      " 10  MDVP:Shimmer(dB)  195 non-null    float64\n",
      " 11  Shimmer:APQ3      195 non-null    float64\n",
      " 12  Shimmer:APQ5      195 non-null    float64\n",
      " 13  MDVP:APQ          195 non-null    float64\n",
      " 14  Shimmer:DDA       195 non-null    float64\n",
      " 15  NHR               195 non-null    float64\n",
      " 16  HNR               195 non-null    float64\n",
      " 17  status            195 non-null    int64  \n",
      " 18  RPDE              195 non-null    float64\n",
      " 19  DFA               195 non-null    float64\n",
      " 20  spread1           195 non-null    float64\n",
      " 21  spread2           195 non-null    float64\n",
      " 22  D2                195 non-null    float64\n",
      " 23  PPE               195 non-null    float64\n",
      "dtypes: float64(22), int64(1), object(1)\n",
      "memory usage: 36.7+ KB\n"
     ]
    }
   ],
   "source": [
    "#Accessing the information of the parkinson's data columns\n",
    "park_data.info()"
   ]
  },
  {
   "cell_type": "code",
   "execution_count": 5,
   "id": "c63fb9b3",
   "metadata": {},
   "outputs": [
    {
     "data": {
      "text/plain": [
       "Index(['name', 'MDVP:Fo(Hz)', 'MDVP:Fhi(Hz)', 'MDVP:Flo(Hz)', 'MDVP:Jitter(%)',\n",
       "       'MDVP:Jitter(Abs)', 'MDVP:RAP', 'MDVP:PPQ', 'Jitter:DDP',\n",
       "       'MDVP:Shimmer', 'MDVP:Shimmer(dB)', 'Shimmer:APQ3', 'Shimmer:APQ5',\n",
       "       'MDVP:APQ', 'Shimmer:DDA', 'NHR', 'HNR', 'status', 'RPDE', 'DFA',\n",
       "       'spread1', 'spread2', 'D2', 'PPE'],\n",
       "      dtype='object')"
      ]
     },
     "execution_count": 5,
     "metadata": {},
     "output_type": "execute_result"
    }
   ],
   "source": [
    "#accessing the cloumn names\n",
    "park_data.columns"
   ]
  },
  {
   "cell_type": "code",
   "execution_count": 6,
   "id": "f5b9c3de",
   "metadata": {},
   "outputs": [
    {
     "data": {
      "text/html": [
       "<div>\n",
       "<style scoped>\n",
       "    .dataframe tbody tr th:only-of-type {\n",
       "        vertical-align: middle;\n",
       "    }\n",
       "\n",
       "    .dataframe tbody tr th {\n",
       "        vertical-align: top;\n",
       "    }\n",
       "\n",
       "    .dataframe thead th {\n",
       "        text-align: right;\n",
       "    }\n",
       "</style>\n",
       "<table border=\"1\" class=\"dataframe\">\n",
       "  <thead>\n",
       "    <tr style=\"text-align: right;\">\n",
       "      <th></th>\n",
       "      <th>MDVP:Fo(Hz)</th>\n",
       "      <th>MDVP:Fhi(Hz)</th>\n",
       "      <th>MDVP:Flo(Hz)</th>\n",
       "      <th>MDVP:Jitter(%)</th>\n",
       "      <th>MDVP:Jitter(Abs)</th>\n",
       "      <th>MDVP:RAP</th>\n",
       "      <th>MDVP:PPQ</th>\n",
       "      <th>Jitter:DDP</th>\n",
       "      <th>MDVP:Shimmer</th>\n",
       "      <th>MDVP:Shimmer(dB)</th>\n",
       "      <th>...</th>\n",
       "      <th>Shimmer:DDA</th>\n",
       "      <th>NHR</th>\n",
       "      <th>HNR</th>\n",
       "      <th>status</th>\n",
       "      <th>RPDE</th>\n",
       "      <th>DFA</th>\n",
       "      <th>spread1</th>\n",
       "      <th>spread2</th>\n",
       "      <th>D2</th>\n",
       "      <th>PPE</th>\n",
       "    </tr>\n",
       "  </thead>\n",
       "  <tbody>\n",
       "    <tr>\n",
       "      <th>count</th>\n",
       "      <td>195.000000</td>\n",
       "      <td>195.000000</td>\n",
       "      <td>195.000000</td>\n",
       "      <td>195.000000</td>\n",
       "      <td>195.000000</td>\n",
       "      <td>195.000000</td>\n",
       "      <td>195.000000</td>\n",
       "      <td>195.000000</td>\n",
       "      <td>195.000000</td>\n",
       "      <td>195.000000</td>\n",
       "      <td>...</td>\n",
       "      <td>195.000000</td>\n",
       "      <td>195.000000</td>\n",
       "      <td>195.000000</td>\n",
       "      <td>195.000000</td>\n",
       "      <td>195.000000</td>\n",
       "      <td>195.000000</td>\n",
       "      <td>195.000000</td>\n",
       "      <td>195.000000</td>\n",
       "      <td>195.000000</td>\n",
       "      <td>195.000000</td>\n",
       "    </tr>\n",
       "    <tr>\n",
       "      <th>mean</th>\n",
       "      <td>154.228641</td>\n",
       "      <td>197.104918</td>\n",
       "      <td>116.324631</td>\n",
       "      <td>0.006220</td>\n",
       "      <td>0.000044</td>\n",
       "      <td>0.003306</td>\n",
       "      <td>0.003446</td>\n",
       "      <td>0.009920</td>\n",
       "      <td>0.029709</td>\n",
       "      <td>0.282251</td>\n",
       "      <td>...</td>\n",
       "      <td>0.046993</td>\n",
       "      <td>0.024847</td>\n",
       "      <td>21.885974</td>\n",
       "      <td>0.753846</td>\n",
       "      <td>0.498536</td>\n",
       "      <td>0.718099</td>\n",
       "      <td>-5.684397</td>\n",
       "      <td>0.226510</td>\n",
       "      <td>2.381826</td>\n",
       "      <td>0.206552</td>\n",
       "    </tr>\n",
       "    <tr>\n",
       "      <th>std</th>\n",
       "      <td>41.390065</td>\n",
       "      <td>91.491548</td>\n",
       "      <td>43.521413</td>\n",
       "      <td>0.004848</td>\n",
       "      <td>0.000035</td>\n",
       "      <td>0.002968</td>\n",
       "      <td>0.002759</td>\n",
       "      <td>0.008903</td>\n",
       "      <td>0.018857</td>\n",
       "      <td>0.194877</td>\n",
       "      <td>...</td>\n",
       "      <td>0.030459</td>\n",
       "      <td>0.040418</td>\n",
       "      <td>4.425764</td>\n",
       "      <td>0.431878</td>\n",
       "      <td>0.103942</td>\n",
       "      <td>0.055336</td>\n",
       "      <td>1.090208</td>\n",
       "      <td>0.083406</td>\n",
       "      <td>0.382799</td>\n",
       "      <td>0.090119</td>\n",
       "    </tr>\n",
       "    <tr>\n",
       "      <th>min</th>\n",
       "      <td>88.333000</td>\n",
       "      <td>102.145000</td>\n",
       "      <td>65.476000</td>\n",
       "      <td>0.001680</td>\n",
       "      <td>0.000007</td>\n",
       "      <td>0.000680</td>\n",
       "      <td>0.000920</td>\n",
       "      <td>0.002040</td>\n",
       "      <td>0.009540</td>\n",
       "      <td>0.085000</td>\n",
       "      <td>...</td>\n",
       "      <td>0.013640</td>\n",
       "      <td>0.000650</td>\n",
       "      <td>8.441000</td>\n",
       "      <td>0.000000</td>\n",
       "      <td>0.256570</td>\n",
       "      <td>0.574282</td>\n",
       "      <td>-7.964984</td>\n",
       "      <td>0.006274</td>\n",
       "      <td>1.423287</td>\n",
       "      <td>0.044539</td>\n",
       "    </tr>\n",
       "    <tr>\n",
       "      <th>25%</th>\n",
       "      <td>117.572000</td>\n",
       "      <td>134.862500</td>\n",
       "      <td>84.291000</td>\n",
       "      <td>0.003460</td>\n",
       "      <td>0.000020</td>\n",
       "      <td>0.001660</td>\n",
       "      <td>0.001860</td>\n",
       "      <td>0.004985</td>\n",
       "      <td>0.016505</td>\n",
       "      <td>0.148500</td>\n",
       "      <td>...</td>\n",
       "      <td>0.024735</td>\n",
       "      <td>0.005925</td>\n",
       "      <td>19.198000</td>\n",
       "      <td>1.000000</td>\n",
       "      <td>0.421306</td>\n",
       "      <td>0.674758</td>\n",
       "      <td>-6.450096</td>\n",
       "      <td>0.174351</td>\n",
       "      <td>2.099125</td>\n",
       "      <td>0.137451</td>\n",
       "    </tr>\n",
       "    <tr>\n",
       "      <th>50%</th>\n",
       "      <td>148.790000</td>\n",
       "      <td>175.829000</td>\n",
       "      <td>104.315000</td>\n",
       "      <td>0.004940</td>\n",
       "      <td>0.000030</td>\n",
       "      <td>0.002500</td>\n",
       "      <td>0.002690</td>\n",
       "      <td>0.007490</td>\n",
       "      <td>0.022970</td>\n",
       "      <td>0.221000</td>\n",
       "      <td>...</td>\n",
       "      <td>0.038360</td>\n",
       "      <td>0.011660</td>\n",
       "      <td>22.085000</td>\n",
       "      <td>1.000000</td>\n",
       "      <td>0.495954</td>\n",
       "      <td>0.722254</td>\n",
       "      <td>-5.720868</td>\n",
       "      <td>0.218885</td>\n",
       "      <td>2.361532</td>\n",
       "      <td>0.194052</td>\n",
       "    </tr>\n",
       "    <tr>\n",
       "      <th>75%</th>\n",
       "      <td>182.769000</td>\n",
       "      <td>224.205500</td>\n",
       "      <td>140.018500</td>\n",
       "      <td>0.007365</td>\n",
       "      <td>0.000060</td>\n",
       "      <td>0.003835</td>\n",
       "      <td>0.003955</td>\n",
       "      <td>0.011505</td>\n",
       "      <td>0.037885</td>\n",
       "      <td>0.350000</td>\n",
       "      <td>...</td>\n",
       "      <td>0.060795</td>\n",
       "      <td>0.025640</td>\n",
       "      <td>25.075500</td>\n",
       "      <td>1.000000</td>\n",
       "      <td>0.587562</td>\n",
       "      <td>0.761881</td>\n",
       "      <td>-5.046192</td>\n",
       "      <td>0.279234</td>\n",
       "      <td>2.636456</td>\n",
       "      <td>0.252980</td>\n",
       "    </tr>\n",
       "    <tr>\n",
       "      <th>max</th>\n",
       "      <td>260.105000</td>\n",
       "      <td>592.030000</td>\n",
       "      <td>239.170000</td>\n",
       "      <td>0.033160</td>\n",
       "      <td>0.000260</td>\n",
       "      <td>0.021440</td>\n",
       "      <td>0.019580</td>\n",
       "      <td>0.064330</td>\n",
       "      <td>0.119080</td>\n",
       "      <td>1.302000</td>\n",
       "      <td>...</td>\n",
       "      <td>0.169420</td>\n",
       "      <td>0.314820</td>\n",
       "      <td>33.047000</td>\n",
       "      <td>1.000000</td>\n",
       "      <td>0.685151</td>\n",
       "      <td>0.825288</td>\n",
       "      <td>-2.434031</td>\n",
       "      <td>0.450493</td>\n",
       "      <td>3.671155</td>\n",
       "      <td>0.527367</td>\n",
       "    </tr>\n",
       "  </tbody>\n",
       "</table>\n",
       "<p>8 rows × 23 columns</p>\n",
       "</div>"
      ],
      "text/plain": [
       "       MDVP:Fo(Hz)  MDVP:Fhi(Hz)  MDVP:Flo(Hz)  MDVP:Jitter(%)  \\\n",
       "count   195.000000    195.000000    195.000000      195.000000   \n",
       "mean    154.228641    197.104918    116.324631        0.006220   \n",
       "std      41.390065     91.491548     43.521413        0.004848   \n",
       "min      88.333000    102.145000     65.476000        0.001680   \n",
       "25%     117.572000    134.862500     84.291000        0.003460   \n",
       "50%     148.790000    175.829000    104.315000        0.004940   \n",
       "75%     182.769000    224.205500    140.018500        0.007365   \n",
       "max     260.105000    592.030000    239.170000        0.033160   \n",
       "\n",
       "       MDVP:Jitter(Abs)    MDVP:RAP    MDVP:PPQ  Jitter:DDP  MDVP:Shimmer  \\\n",
       "count        195.000000  195.000000  195.000000  195.000000    195.000000   \n",
       "mean           0.000044    0.003306    0.003446    0.009920      0.029709   \n",
       "std            0.000035    0.002968    0.002759    0.008903      0.018857   \n",
       "min            0.000007    0.000680    0.000920    0.002040      0.009540   \n",
       "25%            0.000020    0.001660    0.001860    0.004985      0.016505   \n",
       "50%            0.000030    0.002500    0.002690    0.007490      0.022970   \n",
       "75%            0.000060    0.003835    0.003955    0.011505      0.037885   \n",
       "max            0.000260    0.021440    0.019580    0.064330      0.119080   \n",
       "\n",
       "       MDVP:Shimmer(dB)  ...  Shimmer:DDA         NHR         HNR      status  \\\n",
       "count        195.000000  ...   195.000000  195.000000  195.000000  195.000000   \n",
       "mean           0.282251  ...     0.046993    0.024847   21.885974    0.753846   \n",
       "std            0.194877  ...     0.030459    0.040418    4.425764    0.431878   \n",
       "min            0.085000  ...     0.013640    0.000650    8.441000    0.000000   \n",
       "25%            0.148500  ...     0.024735    0.005925   19.198000    1.000000   \n",
       "50%            0.221000  ...     0.038360    0.011660   22.085000    1.000000   \n",
       "75%            0.350000  ...     0.060795    0.025640   25.075500    1.000000   \n",
       "max            1.302000  ...     0.169420    0.314820   33.047000    1.000000   \n",
       "\n",
       "             RPDE         DFA     spread1     spread2          D2         PPE  \n",
       "count  195.000000  195.000000  195.000000  195.000000  195.000000  195.000000  \n",
       "mean     0.498536    0.718099   -5.684397    0.226510    2.381826    0.206552  \n",
       "std      0.103942    0.055336    1.090208    0.083406    0.382799    0.090119  \n",
       "min      0.256570    0.574282   -7.964984    0.006274    1.423287    0.044539  \n",
       "25%      0.421306    0.674758   -6.450096    0.174351    2.099125    0.137451  \n",
       "50%      0.495954    0.722254   -5.720868    0.218885    2.361532    0.194052  \n",
       "75%      0.587562    0.761881   -5.046192    0.279234    2.636456    0.252980  \n",
       "max      0.685151    0.825288   -2.434031    0.450493    3.671155    0.527367  \n",
       "\n",
       "[8 rows x 23 columns]"
      ]
     },
     "execution_count": 6,
     "metadata": {},
     "output_type": "execute_result"
    }
   ],
   "source": [
    "#Accessing Statistical information\n",
    "park_data.describe()"
   ]
  },
  {
   "cell_type": "markdown",
   "id": "ea246402",
   "metadata": {},
   "source": [
    "### UNIVARIATE ANALYSIS"
   ]
  },
  {
   "cell_type": "code",
   "execution_count": 7,
   "id": "30012093",
   "metadata": {
    "scrolled": true
   },
   "outputs": [
    {
     "data": {
      "text/html": [
       "<div>\n",
       "<style scoped>\n",
       "    .dataframe tbody tr th:only-of-type {\n",
       "        vertical-align: middle;\n",
       "    }\n",
       "\n",
       "    .dataframe tbody tr th {\n",
       "        vertical-align: top;\n",
       "    }\n",
       "\n",
       "    .dataframe thead th {\n",
       "        text-align: right;\n",
       "    }\n",
       "</style>\n",
       "<table border=\"1\" class=\"dataframe\">\n",
       "  <thead>\n",
       "    <tr style=\"text-align: right;\">\n",
       "      <th></th>\n",
       "      <th>name</th>\n",
       "      <th>MDVP:Fo(Hz)</th>\n",
       "      <th>MDVP:Fhi(Hz)</th>\n",
       "      <th>MDVP:Flo(Hz)</th>\n",
       "      <th>MDVP:Jitter(%)</th>\n",
       "      <th>MDVP:Jitter(Abs)</th>\n",
       "      <th>MDVP:RAP</th>\n",
       "      <th>MDVP:PPQ</th>\n",
       "      <th>Jitter:DDP</th>\n",
       "      <th>MDVP:Shimmer</th>\n",
       "      <th>...</th>\n",
       "      <th>Shimmer:DDA</th>\n",
       "      <th>NHR</th>\n",
       "      <th>HNR</th>\n",
       "      <th>status</th>\n",
       "      <th>RPDE</th>\n",
       "      <th>DFA</th>\n",
       "      <th>spread1</th>\n",
       "      <th>spread2</th>\n",
       "      <th>D2</th>\n",
       "      <th>PPE</th>\n",
       "    </tr>\n",
       "  </thead>\n",
       "  <tbody>\n",
       "    <tr>\n",
       "      <th>0</th>\n",
       "      <td>phon_R01_S01_1</td>\n",
       "      <td>119.992</td>\n",
       "      <td>157.302</td>\n",
       "      <td>74.997</td>\n",
       "      <td>0.00784</td>\n",
       "      <td>0.000070</td>\n",
       "      <td>0.00370</td>\n",
       "      <td>0.00554</td>\n",
       "      <td>0.01109</td>\n",
       "      <td>0.04374</td>\n",
       "      <td>...</td>\n",
       "      <td>0.06545</td>\n",
       "      <td>0.02211</td>\n",
       "      <td>21.033</td>\n",
       "      <td>1</td>\n",
       "      <td>0.414783</td>\n",
       "      <td>0.815285</td>\n",
       "      <td>-4.813031</td>\n",
       "      <td>0.266482</td>\n",
       "      <td>2.301442</td>\n",
       "      <td>0.284654</td>\n",
       "    </tr>\n",
       "    <tr>\n",
       "      <th>1</th>\n",
       "      <td>phon_R01_S01_2</td>\n",
       "      <td>122.400</td>\n",
       "      <td>148.650</td>\n",
       "      <td>113.819</td>\n",
       "      <td>0.00968</td>\n",
       "      <td>0.000080</td>\n",
       "      <td>0.00465</td>\n",
       "      <td>0.00696</td>\n",
       "      <td>0.01394</td>\n",
       "      <td>0.06134</td>\n",
       "      <td>...</td>\n",
       "      <td>0.09403</td>\n",
       "      <td>0.01929</td>\n",
       "      <td>19.085</td>\n",
       "      <td>1</td>\n",
       "      <td>0.458359</td>\n",
       "      <td>0.819521</td>\n",
       "      <td>-4.075192</td>\n",
       "      <td>0.335590</td>\n",
       "      <td>2.486855</td>\n",
       "      <td>0.368674</td>\n",
       "    </tr>\n",
       "    <tr>\n",
       "      <th>2</th>\n",
       "      <td>phon_R01_S01_3</td>\n",
       "      <td>116.682</td>\n",
       "      <td>131.111</td>\n",
       "      <td>111.555</td>\n",
       "      <td>0.01050</td>\n",
       "      <td>0.000090</td>\n",
       "      <td>0.00544</td>\n",
       "      <td>0.00781</td>\n",
       "      <td>0.01633</td>\n",
       "      <td>0.05233</td>\n",
       "      <td>...</td>\n",
       "      <td>0.08270</td>\n",
       "      <td>0.01309</td>\n",
       "      <td>20.651</td>\n",
       "      <td>1</td>\n",
       "      <td>0.429895</td>\n",
       "      <td>0.825288</td>\n",
       "      <td>-4.443179</td>\n",
       "      <td>0.311173</td>\n",
       "      <td>2.342259</td>\n",
       "      <td>0.332634</td>\n",
       "    </tr>\n",
       "    <tr>\n",
       "      <th>3</th>\n",
       "      <td>phon_R01_S01_4</td>\n",
       "      <td>116.676</td>\n",
       "      <td>137.871</td>\n",
       "      <td>111.366</td>\n",
       "      <td>0.00997</td>\n",
       "      <td>0.000090</td>\n",
       "      <td>0.00502</td>\n",
       "      <td>0.00698</td>\n",
       "      <td>0.01505</td>\n",
       "      <td>0.05492</td>\n",
       "      <td>...</td>\n",
       "      <td>0.08771</td>\n",
       "      <td>0.01353</td>\n",
       "      <td>20.644</td>\n",
       "      <td>1</td>\n",
       "      <td>0.434969</td>\n",
       "      <td>0.819235</td>\n",
       "      <td>-4.117501</td>\n",
       "      <td>0.334147</td>\n",
       "      <td>2.405554</td>\n",
       "      <td>0.368975</td>\n",
       "    </tr>\n",
       "    <tr>\n",
       "      <th>4</th>\n",
       "      <td>phon_R01_S01_5</td>\n",
       "      <td>116.014</td>\n",
       "      <td>141.781</td>\n",
       "      <td>110.655</td>\n",
       "      <td>0.01284</td>\n",
       "      <td>0.000110</td>\n",
       "      <td>0.00655</td>\n",
       "      <td>0.00908</td>\n",
       "      <td>0.01966</td>\n",
       "      <td>0.06425</td>\n",
       "      <td>...</td>\n",
       "      <td>0.10470</td>\n",
       "      <td>0.01767</td>\n",
       "      <td>19.649</td>\n",
       "      <td>1</td>\n",
       "      <td>0.417356</td>\n",
       "      <td>0.823484</td>\n",
       "      <td>-3.747787</td>\n",
       "      <td>0.234513</td>\n",
       "      <td>2.332180</td>\n",
       "      <td>0.410335</td>\n",
       "    </tr>\n",
       "    <tr>\n",
       "      <th>5</th>\n",
       "      <td>phon_R01_S01_6</td>\n",
       "      <td>120.552</td>\n",
       "      <td>131.162</td>\n",
       "      <td>113.787</td>\n",
       "      <td>0.00968</td>\n",
       "      <td>0.000080</td>\n",
       "      <td>0.00463</td>\n",
       "      <td>0.00750</td>\n",
       "      <td>0.01388</td>\n",
       "      <td>0.04701</td>\n",
       "      <td>...</td>\n",
       "      <td>0.06985</td>\n",
       "      <td>0.01222</td>\n",
       "      <td>21.378</td>\n",
       "      <td>1</td>\n",
       "      <td>0.415564</td>\n",
       "      <td>0.825069</td>\n",
       "      <td>-4.242867</td>\n",
       "      <td>0.299111</td>\n",
       "      <td>2.187560</td>\n",
       "      <td>0.357775</td>\n",
       "    </tr>\n",
       "    <tr>\n",
       "      <th>6</th>\n",
       "      <td>phon_R01_S02_1</td>\n",
       "      <td>120.267</td>\n",
       "      <td>137.244</td>\n",
       "      <td>114.820</td>\n",
       "      <td>0.00333</td>\n",
       "      <td>0.000030</td>\n",
       "      <td>0.00155</td>\n",
       "      <td>0.00202</td>\n",
       "      <td>0.00466</td>\n",
       "      <td>0.01608</td>\n",
       "      <td>...</td>\n",
       "      <td>0.02337</td>\n",
       "      <td>0.00607</td>\n",
       "      <td>24.886</td>\n",
       "      <td>1</td>\n",
       "      <td>0.596040</td>\n",
       "      <td>0.764112</td>\n",
       "      <td>-5.634322</td>\n",
       "      <td>0.257682</td>\n",
       "      <td>1.854785</td>\n",
       "      <td>0.211756</td>\n",
       "    </tr>\n",
       "    <tr>\n",
       "      <th>7</th>\n",
       "      <td>phon_R01_S02_2</td>\n",
       "      <td>107.332</td>\n",
       "      <td>113.840</td>\n",
       "      <td>104.315</td>\n",
       "      <td>0.00290</td>\n",
       "      <td>0.000030</td>\n",
       "      <td>0.00144</td>\n",
       "      <td>0.00182</td>\n",
       "      <td>0.00431</td>\n",
       "      <td>0.01567</td>\n",
       "      <td>...</td>\n",
       "      <td>0.02487</td>\n",
       "      <td>0.00344</td>\n",
       "      <td>26.892</td>\n",
       "      <td>1</td>\n",
       "      <td>0.637420</td>\n",
       "      <td>0.763262</td>\n",
       "      <td>-6.167603</td>\n",
       "      <td>0.183721</td>\n",
       "      <td>2.064693</td>\n",
       "      <td>0.163755</td>\n",
       "    </tr>\n",
       "    <tr>\n",
       "      <th>8</th>\n",
       "      <td>phon_R01_S02_3</td>\n",
       "      <td>95.730</td>\n",
       "      <td>132.068</td>\n",
       "      <td>91.754</td>\n",
       "      <td>0.00551</td>\n",
       "      <td>0.000060</td>\n",
       "      <td>0.00293</td>\n",
       "      <td>0.00332</td>\n",
       "      <td>0.00880</td>\n",
       "      <td>0.02093</td>\n",
       "      <td>...</td>\n",
       "      <td>0.03218</td>\n",
       "      <td>0.01070</td>\n",
       "      <td>21.812</td>\n",
       "      <td>1</td>\n",
       "      <td>0.615551</td>\n",
       "      <td>0.773587</td>\n",
       "      <td>-5.498678</td>\n",
       "      <td>0.327769</td>\n",
       "      <td>2.322511</td>\n",
       "      <td>0.231571</td>\n",
       "    </tr>\n",
       "    <tr>\n",
       "      <th>9</th>\n",
       "      <td>phon_R01_S02_4</td>\n",
       "      <td>95.056</td>\n",
       "      <td>120.103</td>\n",
       "      <td>91.226</td>\n",
       "      <td>0.00532</td>\n",
       "      <td>0.000060</td>\n",
       "      <td>0.00268</td>\n",
       "      <td>0.00332</td>\n",
       "      <td>0.00803</td>\n",
       "      <td>0.02838</td>\n",
       "      <td>...</td>\n",
       "      <td>0.04324</td>\n",
       "      <td>0.01022</td>\n",
       "      <td>21.862</td>\n",
       "      <td>1</td>\n",
       "      <td>0.547037</td>\n",
       "      <td>0.798463</td>\n",
       "      <td>-5.011879</td>\n",
       "      <td>0.325996</td>\n",
       "      <td>2.432792</td>\n",
       "      <td>0.271362</td>\n",
       "    </tr>\n",
       "    <tr>\n",
       "      <th>10</th>\n",
       "      <td>phon_R01_S02_5</td>\n",
       "      <td>88.333</td>\n",
       "      <td>112.240</td>\n",
       "      <td>84.072</td>\n",
       "      <td>0.00505</td>\n",
       "      <td>0.000060</td>\n",
       "      <td>0.00254</td>\n",
       "      <td>0.00330</td>\n",
       "      <td>0.00763</td>\n",
       "      <td>0.02143</td>\n",
       "      <td>...</td>\n",
       "      <td>0.03237</td>\n",
       "      <td>0.01166</td>\n",
       "      <td>21.118</td>\n",
       "      <td>1</td>\n",
       "      <td>0.611137</td>\n",
       "      <td>0.776156</td>\n",
       "      <td>-5.249770</td>\n",
       "      <td>0.391002</td>\n",
       "      <td>2.407313</td>\n",
       "      <td>0.249740</td>\n",
       "    </tr>\n",
       "    <tr>\n",
       "      <th>11</th>\n",
       "      <td>phon_R01_S02_6</td>\n",
       "      <td>91.904</td>\n",
       "      <td>115.871</td>\n",
       "      <td>86.292</td>\n",
       "      <td>0.00540</td>\n",
       "      <td>0.000060</td>\n",
       "      <td>0.00281</td>\n",
       "      <td>0.00336</td>\n",
       "      <td>0.00844</td>\n",
       "      <td>0.02752</td>\n",
       "      <td>...</td>\n",
       "      <td>0.04272</td>\n",
       "      <td>0.01141</td>\n",
       "      <td>21.414</td>\n",
       "      <td>1</td>\n",
       "      <td>0.583390</td>\n",
       "      <td>0.792520</td>\n",
       "      <td>-4.960234</td>\n",
       "      <td>0.363566</td>\n",
       "      <td>2.642476</td>\n",
       "      <td>0.275931</td>\n",
       "    </tr>\n",
       "    <tr>\n",
       "      <th>12</th>\n",
       "      <td>phon_R01_S04_1</td>\n",
       "      <td>136.926</td>\n",
       "      <td>159.866</td>\n",
       "      <td>131.276</td>\n",
       "      <td>0.00293</td>\n",
       "      <td>0.000020</td>\n",
       "      <td>0.00118</td>\n",
       "      <td>0.00153</td>\n",
       "      <td>0.00355</td>\n",
       "      <td>0.01259</td>\n",
       "      <td>...</td>\n",
       "      <td>0.01968</td>\n",
       "      <td>0.00581</td>\n",
       "      <td>25.703</td>\n",
       "      <td>1</td>\n",
       "      <td>0.460600</td>\n",
       "      <td>0.646846</td>\n",
       "      <td>-6.547148</td>\n",
       "      <td>0.152813</td>\n",
       "      <td>2.041277</td>\n",
       "      <td>0.138512</td>\n",
       "    </tr>\n",
       "    <tr>\n",
       "      <th>13</th>\n",
       "      <td>phon_R01_S04_2</td>\n",
       "      <td>139.173</td>\n",
       "      <td>179.139</td>\n",
       "      <td>76.556</td>\n",
       "      <td>0.00390</td>\n",
       "      <td>0.000030</td>\n",
       "      <td>0.00165</td>\n",
       "      <td>0.00208</td>\n",
       "      <td>0.00496</td>\n",
       "      <td>0.01642</td>\n",
       "      <td>...</td>\n",
       "      <td>0.02184</td>\n",
       "      <td>0.01041</td>\n",
       "      <td>24.889</td>\n",
       "      <td>1</td>\n",
       "      <td>0.430166</td>\n",
       "      <td>0.665833</td>\n",
       "      <td>-5.660217</td>\n",
       "      <td>0.254989</td>\n",
       "      <td>2.519422</td>\n",
       "      <td>0.199889</td>\n",
       "    </tr>\n",
       "    <tr>\n",
       "      <th>14</th>\n",
       "      <td>phon_R01_S04_3</td>\n",
       "      <td>152.845</td>\n",
       "      <td>163.305</td>\n",
       "      <td>75.836</td>\n",
       "      <td>0.00294</td>\n",
       "      <td>0.000020</td>\n",
       "      <td>0.00121</td>\n",
       "      <td>0.00149</td>\n",
       "      <td>0.00364</td>\n",
       "      <td>0.01828</td>\n",
       "      <td>...</td>\n",
       "      <td>0.03191</td>\n",
       "      <td>0.00609</td>\n",
       "      <td>24.922</td>\n",
       "      <td>1</td>\n",
       "      <td>0.474791</td>\n",
       "      <td>0.654027</td>\n",
       "      <td>-6.105098</td>\n",
       "      <td>0.203653</td>\n",
       "      <td>2.125618</td>\n",
       "      <td>0.170100</td>\n",
       "    </tr>\n",
       "    <tr>\n",
       "      <th>15</th>\n",
       "      <td>phon_R01_S04_4</td>\n",
       "      <td>142.167</td>\n",
       "      <td>217.455</td>\n",
       "      <td>83.159</td>\n",
       "      <td>0.00369</td>\n",
       "      <td>0.000030</td>\n",
       "      <td>0.00157</td>\n",
       "      <td>0.00203</td>\n",
       "      <td>0.00471</td>\n",
       "      <td>0.01503</td>\n",
       "      <td>...</td>\n",
       "      <td>0.02316</td>\n",
       "      <td>0.00839</td>\n",
       "      <td>25.175</td>\n",
       "      <td>1</td>\n",
       "      <td>0.565924</td>\n",
       "      <td>0.658245</td>\n",
       "      <td>-5.340115</td>\n",
       "      <td>0.210185</td>\n",
       "      <td>2.205546</td>\n",
       "      <td>0.234589</td>\n",
       "    </tr>\n",
       "    <tr>\n",
       "      <th>16</th>\n",
       "      <td>phon_R01_S04_5</td>\n",
       "      <td>144.188</td>\n",
       "      <td>349.259</td>\n",
       "      <td>82.764</td>\n",
       "      <td>0.00544</td>\n",
       "      <td>0.000040</td>\n",
       "      <td>0.00211</td>\n",
       "      <td>0.00292</td>\n",
       "      <td>0.00632</td>\n",
       "      <td>0.02047</td>\n",
       "      <td>...</td>\n",
       "      <td>0.02908</td>\n",
       "      <td>0.01859</td>\n",
       "      <td>22.333</td>\n",
       "      <td>1</td>\n",
       "      <td>0.567380</td>\n",
       "      <td>0.644692</td>\n",
       "      <td>-5.440040</td>\n",
       "      <td>0.239764</td>\n",
       "      <td>2.264501</td>\n",
       "      <td>0.218164</td>\n",
       "    </tr>\n",
       "    <tr>\n",
       "      <th>17</th>\n",
       "      <td>phon_R01_S04_6</td>\n",
       "      <td>168.778</td>\n",
       "      <td>232.181</td>\n",
       "      <td>75.603</td>\n",
       "      <td>0.00718</td>\n",
       "      <td>0.000040</td>\n",
       "      <td>0.00284</td>\n",
       "      <td>0.00387</td>\n",
       "      <td>0.00853</td>\n",
       "      <td>0.03327</td>\n",
       "      <td>...</td>\n",
       "      <td>0.04322</td>\n",
       "      <td>0.02919</td>\n",
       "      <td>20.376</td>\n",
       "      <td>1</td>\n",
       "      <td>0.631099</td>\n",
       "      <td>0.605417</td>\n",
       "      <td>-2.931070</td>\n",
       "      <td>0.434326</td>\n",
       "      <td>3.007463</td>\n",
       "      <td>0.430788</td>\n",
       "    </tr>\n",
       "    <tr>\n",
       "      <th>18</th>\n",
       "      <td>phon_R01_S05_1</td>\n",
       "      <td>153.046</td>\n",
       "      <td>175.829</td>\n",
       "      <td>68.623</td>\n",
       "      <td>0.00742</td>\n",
       "      <td>0.000050</td>\n",
       "      <td>0.00364</td>\n",
       "      <td>0.00432</td>\n",
       "      <td>0.01092</td>\n",
       "      <td>0.05517</td>\n",
       "      <td>...</td>\n",
       "      <td>0.07413</td>\n",
       "      <td>0.03160</td>\n",
       "      <td>17.280</td>\n",
       "      <td>1</td>\n",
       "      <td>0.665318</td>\n",
       "      <td>0.719467</td>\n",
       "      <td>-3.949079</td>\n",
       "      <td>0.357870</td>\n",
       "      <td>3.109010</td>\n",
       "      <td>0.377429</td>\n",
       "    </tr>\n",
       "    <tr>\n",
       "      <th>19</th>\n",
       "      <td>phon_R01_S05_2</td>\n",
       "      <td>156.405</td>\n",
       "      <td>189.398</td>\n",
       "      <td>142.822</td>\n",
       "      <td>0.00768</td>\n",
       "      <td>0.000050</td>\n",
       "      <td>0.00372</td>\n",
       "      <td>0.00399</td>\n",
       "      <td>0.01116</td>\n",
       "      <td>0.03995</td>\n",
       "      <td>...</td>\n",
       "      <td>0.05164</td>\n",
       "      <td>0.03365</td>\n",
       "      <td>17.153</td>\n",
       "      <td>1</td>\n",
       "      <td>0.649554</td>\n",
       "      <td>0.686080</td>\n",
       "      <td>-4.554466</td>\n",
       "      <td>0.340176</td>\n",
       "      <td>2.856676</td>\n",
       "      <td>0.322111</td>\n",
       "    </tr>\n",
       "    <tr>\n",
       "      <th>20</th>\n",
       "      <td>phon_R01_S05_3</td>\n",
       "      <td>153.848</td>\n",
       "      <td>165.738</td>\n",
       "      <td>65.782</td>\n",
       "      <td>0.00840</td>\n",
       "      <td>0.000050</td>\n",
       "      <td>0.00428</td>\n",
       "      <td>0.00450</td>\n",
       "      <td>0.01285</td>\n",
       "      <td>0.03810</td>\n",
       "      <td>...</td>\n",
       "      <td>0.05000</td>\n",
       "      <td>0.03871</td>\n",
       "      <td>17.536</td>\n",
       "      <td>1</td>\n",
       "      <td>0.660125</td>\n",
       "      <td>0.704087</td>\n",
       "      <td>-4.095442</td>\n",
       "      <td>0.262564</td>\n",
       "      <td>2.739710</td>\n",
       "      <td>0.365391</td>\n",
       "    </tr>\n",
       "    <tr>\n",
       "      <th>21</th>\n",
       "      <td>phon_R01_S05_4</td>\n",
       "      <td>153.880</td>\n",
       "      <td>172.860</td>\n",
       "      <td>78.128</td>\n",
       "      <td>0.00480</td>\n",
       "      <td>0.000030</td>\n",
       "      <td>0.00232</td>\n",
       "      <td>0.00267</td>\n",
       "      <td>0.00696</td>\n",
       "      <td>0.04137</td>\n",
       "      <td>...</td>\n",
       "      <td>0.06062</td>\n",
       "      <td>0.01849</td>\n",
       "      <td>19.493</td>\n",
       "      <td>1</td>\n",
       "      <td>0.629017</td>\n",
       "      <td>0.698951</td>\n",
       "      <td>-5.186960</td>\n",
       "      <td>0.237622</td>\n",
       "      <td>2.557536</td>\n",
       "      <td>0.259765</td>\n",
       "    </tr>\n",
       "    <tr>\n",
       "      <th>22</th>\n",
       "      <td>phon_R01_S05_5</td>\n",
       "      <td>167.930</td>\n",
       "      <td>193.221</td>\n",
       "      <td>79.068</td>\n",
       "      <td>0.00442</td>\n",
       "      <td>0.000030</td>\n",
       "      <td>0.00220</td>\n",
       "      <td>0.00247</td>\n",
       "      <td>0.00661</td>\n",
       "      <td>0.04351</td>\n",
       "      <td>...</td>\n",
       "      <td>0.06685</td>\n",
       "      <td>0.01280</td>\n",
       "      <td>22.468</td>\n",
       "      <td>1</td>\n",
       "      <td>0.619060</td>\n",
       "      <td>0.679834</td>\n",
       "      <td>-4.330956</td>\n",
       "      <td>0.262384</td>\n",
       "      <td>2.916777</td>\n",
       "      <td>0.285695</td>\n",
       "    </tr>\n",
       "    <tr>\n",
       "      <th>23</th>\n",
       "      <td>phon_R01_S05_6</td>\n",
       "      <td>173.917</td>\n",
       "      <td>192.735</td>\n",
       "      <td>86.180</td>\n",
       "      <td>0.00476</td>\n",
       "      <td>0.000030</td>\n",
       "      <td>0.00221</td>\n",
       "      <td>0.00258</td>\n",
       "      <td>0.00663</td>\n",
       "      <td>0.04192</td>\n",
       "      <td>...</td>\n",
       "      <td>0.06562</td>\n",
       "      <td>0.01840</td>\n",
       "      <td>20.422</td>\n",
       "      <td>1</td>\n",
       "      <td>0.537264</td>\n",
       "      <td>0.686894</td>\n",
       "      <td>-5.248776</td>\n",
       "      <td>0.210279</td>\n",
       "      <td>2.547508</td>\n",
       "      <td>0.253556</td>\n",
       "    </tr>\n",
       "    <tr>\n",
       "      <th>24</th>\n",
       "      <td>phon_R01_S06_1</td>\n",
       "      <td>163.656</td>\n",
       "      <td>200.841</td>\n",
       "      <td>76.779</td>\n",
       "      <td>0.00742</td>\n",
       "      <td>0.000050</td>\n",
       "      <td>0.00380</td>\n",
       "      <td>0.00390</td>\n",
       "      <td>0.01140</td>\n",
       "      <td>0.01659</td>\n",
       "      <td>...</td>\n",
       "      <td>0.02214</td>\n",
       "      <td>0.01778</td>\n",
       "      <td>23.831</td>\n",
       "      <td>1</td>\n",
       "      <td>0.397937</td>\n",
       "      <td>0.732479</td>\n",
       "      <td>-5.557447</td>\n",
       "      <td>0.220890</td>\n",
       "      <td>2.692176</td>\n",
       "      <td>0.215961</td>\n",
       "    </tr>\n",
       "    <tr>\n",
       "      <th>25</th>\n",
       "      <td>phon_R01_S06_2</td>\n",
       "      <td>104.400</td>\n",
       "      <td>206.002</td>\n",
       "      <td>77.968</td>\n",
       "      <td>0.00633</td>\n",
       "      <td>0.000060</td>\n",
       "      <td>0.00316</td>\n",
       "      <td>0.00375</td>\n",
       "      <td>0.00948</td>\n",
       "      <td>0.03767</td>\n",
       "      <td>...</td>\n",
       "      <td>0.05197</td>\n",
       "      <td>0.02887</td>\n",
       "      <td>22.066</td>\n",
       "      <td>1</td>\n",
       "      <td>0.522746</td>\n",
       "      <td>0.737948</td>\n",
       "      <td>-5.571843</td>\n",
       "      <td>0.236853</td>\n",
       "      <td>2.846369</td>\n",
       "      <td>0.219514</td>\n",
       "    </tr>\n",
       "    <tr>\n",
       "      <th>26</th>\n",
       "      <td>phon_R01_S06_3</td>\n",
       "      <td>171.041</td>\n",
       "      <td>208.313</td>\n",
       "      <td>75.501</td>\n",
       "      <td>0.00455</td>\n",
       "      <td>0.000030</td>\n",
       "      <td>0.00250</td>\n",
       "      <td>0.00234</td>\n",
       "      <td>0.00750</td>\n",
       "      <td>0.01966</td>\n",
       "      <td>...</td>\n",
       "      <td>0.02666</td>\n",
       "      <td>0.01095</td>\n",
       "      <td>25.908</td>\n",
       "      <td>1</td>\n",
       "      <td>0.418622</td>\n",
       "      <td>0.720916</td>\n",
       "      <td>-6.183590</td>\n",
       "      <td>0.226278</td>\n",
       "      <td>2.589702</td>\n",
       "      <td>0.147403</td>\n",
       "    </tr>\n",
       "    <tr>\n",
       "      <th>27</th>\n",
       "      <td>phon_R01_S06_4</td>\n",
       "      <td>146.845</td>\n",
       "      <td>208.701</td>\n",
       "      <td>81.737</td>\n",
       "      <td>0.00496</td>\n",
       "      <td>0.000030</td>\n",
       "      <td>0.00250</td>\n",
       "      <td>0.00275</td>\n",
       "      <td>0.00749</td>\n",
       "      <td>0.01919</td>\n",
       "      <td>...</td>\n",
       "      <td>0.02650</td>\n",
       "      <td>0.01328</td>\n",
       "      <td>25.119</td>\n",
       "      <td>1</td>\n",
       "      <td>0.358773</td>\n",
       "      <td>0.726652</td>\n",
       "      <td>-6.271690</td>\n",
       "      <td>0.196102</td>\n",
       "      <td>2.314209</td>\n",
       "      <td>0.162999</td>\n",
       "    </tr>\n",
       "    <tr>\n",
       "      <th>28</th>\n",
       "      <td>phon_R01_S06_5</td>\n",
       "      <td>155.358</td>\n",
       "      <td>227.383</td>\n",
       "      <td>80.055</td>\n",
       "      <td>0.00310</td>\n",
       "      <td>0.000020</td>\n",
       "      <td>0.00159</td>\n",
       "      <td>0.00176</td>\n",
       "      <td>0.00476</td>\n",
       "      <td>0.01718</td>\n",
       "      <td>...</td>\n",
       "      <td>0.02307</td>\n",
       "      <td>0.00677</td>\n",
       "      <td>25.970</td>\n",
       "      <td>1</td>\n",
       "      <td>0.470478</td>\n",
       "      <td>0.676258</td>\n",
       "      <td>-7.120925</td>\n",
       "      <td>0.279789</td>\n",
       "      <td>2.241742</td>\n",
       "      <td>0.108514</td>\n",
       "    </tr>\n",
       "    <tr>\n",
       "      <th>29</th>\n",
       "      <td>phon_R01_S06_6</td>\n",
       "      <td>162.568</td>\n",
       "      <td>198.346</td>\n",
       "      <td>77.630</td>\n",
       "      <td>0.00502</td>\n",
       "      <td>0.000030</td>\n",
       "      <td>0.00280</td>\n",
       "      <td>0.00253</td>\n",
       "      <td>0.00841</td>\n",
       "      <td>0.01791</td>\n",
       "      <td>...</td>\n",
       "      <td>0.02380</td>\n",
       "      <td>0.01170</td>\n",
       "      <td>25.678</td>\n",
       "      <td>1</td>\n",
       "      <td>0.427785</td>\n",
       "      <td>0.723797</td>\n",
       "      <td>-6.635729</td>\n",
       "      <td>0.209866</td>\n",
       "      <td>1.957961</td>\n",
       "      <td>0.135242</td>\n",
       "    </tr>\n",
       "    <tr>\n",
       "      <th>30</th>\n",
       "      <td>phon_R01_S07_1</td>\n",
       "      <td>197.076</td>\n",
       "      <td>206.896</td>\n",
       "      <td>192.055</td>\n",
       "      <td>0.00289</td>\n",
       "      <td>0.000010</td>\n",
       "      <td>0.00166</td>\n",
       "      <td>0.00168</td>\n",
       "      <td>0.00498</td>\n",
       "      <td>0.01098</td>\n",
       "      <td>...</td>\n",
       "      <td>0.01689</td>\n",
       "      <td>0.00339</td>\n",
       "      <td>26.775</td>\n",
       "      <td>0</td>\n",
       "      <td>0.422229</td>\n",
       "      <td>0.741367</td>\n",
       "      <td>-7.348300</td>\n",
       "      <td>0.177551</td>\n",
       "      <td>1.743867</td>\n",
       "      <td>0.085569</td>\n",
       "    </tr>\n",
       "    <tr>\n",
       "      <th>31</th>\n",
       "      <td>phon_R01_S07_2</td>\n",
       "      <td>199.228</td>\n",
       "      <td>209.512</td>\n",
       "      <td>192.091</td>\n",
       "      <td>0.00241</td>\n",
       "      <td>0.000010</td>\n",
       "      <td>0.00134</td>\n",
       "      <td>0.00138</td>\n",
       "      <td>0.00402</td>\n",
       "      <td>0.01015</td>\n",
       "      <td>...</td>\n",
       "      <td>0.01513</td>\n",
       "      <td>0.00167</td>\n",
       "      <td>30.940</td>\n",
       "      <td>0</td>\n",
       "      <td>0.432439</td>\n",
       "      <td>0.742055</td>\n",
       "      <td>-7.682587</td>\n",
       "      <td>0.173319</td>\n",
       "      <td>2.103106</td>\n",
       "      <td>0.068501</td>\n",
       "    </tr>\n",
       "    <tr>\n",
       "      <th>32</th>\n",
       "      <td>phon_R01_S07_3</td>\n",
       "      <td>198.383</td>\n",
       "      <td>215.203</td>\n",
       "      <td>193.104</td>\n",
       "      <td>0.00212</td>\n",
       "      <td>0.000010</td>\n",
       "      <td>0.00113</td>\n",
       "      <td>0.00135</td>\n",
       "      <td>0.00339</td>\n",
       "      <td>0.01263</td>\n",
       "      <td>...</td>\n",
       "      <td>0.01919</td>\n",
       "      <td>0.00119</td>\n",
       "      <td>30.775</td>\n",
       "      <td>0</td>\n",
       "      <td>0.465946</td>\n",
       "      <td>0.738703</td>\n",
       "      <td>-7.067931</td>\n",
       "      <td>0.175181</td>\n",
       "      <td>1.512275</td>\n",
       "      <td>0.096320</td>\n",
       "    </tr>\n",
       "    <tr>\n",
       "      <th>33</th>\n",
       "      <td>phon_R01_S07_4</td>\n",
       "      <td>202.266</td>\n",
       "      <td>211.604</td>\n",
       "      <td>197.079</td>\n",
       "      <td>0.00180</td>\n",
       "      <td>0.000009</td>\n",
       "      <td>0.00093</td>\n",
       "      <td>0.00107</td>\n",
       "      <td>0.00278</td>\n",
       "      <td>0.00954</td>\n",
       "      <td>...</td>\n",
       "      <td>0.01407</td>\n",
       "      <td>0.00072</td>\n",
       "      <td>32.684</td>\n",
       "      <td>0</td>\n",
       "      <td>0.368535</td>\n",
       "      <td>0.742133</td>\n",
       "      <td>-7.695734</td>\n",
       "      <td>0.178540</td>\n",
       "      <td>1.544609</td>\n",
       "      <td>0.056141</td>\n",
       "    </tr>\n",
       "    <tr>\n",
       "      <th>34</th>\n",
       "      <td>phon_R01_S07_5</td>\n",
       "      <td>203.184</td>\n",
       "      <td>211.526</td>\n",
       "      <td>196.160</td>\n",
       "      <td>0.00178</td>\n",
       "      <td>0.000009</td>\n",
       "      <td>0.00094</td>\n",
       "      <td>0.00106</td>\n",
       "      <td>0.00283</td>\n",
       "      <td>0.00958</td>\n",
       "      <td>...</td>\n",
       "      <td>0.01403</td>\n",
       "      <td>0.00065</td>\n",
       "      <td>33.047</td>\n",
       "      <td>0</td>\n",
       "      <td>0.340068</td>\n",
       "      <td>0.741899</td>\n",
       "      <td>-7.964984</td>\n",
       "      <td>0.163519</td>\n",
       "      <td>1.423287</td>\n",
       "      <td>0.044539</td>\n",
       "    </tr>\n",
       "    <tr>\n",
       "      <th>35</th>\n",
       "      <td>phon_R01_S07_6</td>\n",
       "      <td>201.464</td>\n",
       "      <td>210.565</td>\n",
       "      <td>195.708</td>\n",
       "      <td>0.00198</td>\n",
       "      <td>0.000010</td>\n",
       "      <td>0.00105</td>\n",
       "      <td>0.00115</td>\n",
       "      <td>0.00314</td>\n",
       "      <td>0.01194</td>\n",
       "      <td>...</td>\n",
       "      <td>0.01758</td>\n",
       "      <td>0.00135</td>\n",
       "      <td>31.732</td>\n",
       "      <td>0</td>\n",
       "      <td>0.344252</td>\n",
       "      <td>0.742737</td>\n",
       "      <td>-7.777685</td>\n",
       "      <td>0.170183</td>\n",
       "      <td>2.447064</td>\n",
       "      <td>0.057610</td>\n",
       "    </tr>\n",
       "    <tr>\n",
       "      <th>36</th>\n",
       "      <td>phon_R01_S08_1</td>\n",
       "      <td>177.876</td>\n",
       "      <td>192.921</td>\n",
       "      <td>168.013</td>\n",
       "      <td>0.00411</td>\n",
       "      <td>0.000020</td>\n",
       "      <td>0.00233</td>\n",
       "      <td>0.00241</td>\n",
       "      <td>0.00700</td>\n",
       "      <td>0.02126</td>\n",
       "      <td>...</td>\n",
       "      <td>0.03463</td>\n",
       "      <td>0.00586</td>\n",
       "      <td>23.216</td>\n",
       "      <td>1</td>\n",
       "      <td>0.360148</td>\n",
       "      <td>0.778834</td>\n",
       "      <td>-6.149653</td>\n",
       "      <td>0.218037</td>\n",
       "      <td>2.477082</td>\n",
       "      <td>0.165827</td>\n",
       "    </tr>\n",
       "    <tr>\n",
       "      <th>37</th>\n",
       "      <td>phon_R01_S08_2</td>\n",
       "      <td>176.170</td>\n",
       "      <td>185.604</td>\n",
       "      <td>163.564</td>\n",
       "      <td>0.00369</td>\n",
       "      <td>0.000020</td>\n",
       "      <td>0.00205</td>\n",
       "      <td>0.00218</td>\n",
       "      <td>0.00616</td>\n",
       "      <td>0.01851</td>\n",
       "      <td>...</td>\n",
       "      <td>0.02814</td>\n",
       "      <td>0.00340</td>\n",
       "      <td>24.951</td>\n",
       "      <td>1</td>\n",
       "      <td>0.341435</td>\n",
       "      <td>0.783626</td>\n",
       "      <td>-6.006414</td>\n",
       "      <td>0.196371</td>\n",
       "      <td>2.536527</td>\n",
       "      <td>0.173218</td>\n",
       "    </tr>\n",
       "    <tr>\n",
       "      <th>38</th>\n",
       "      <td>phon_R01_S08_3</td>\n",
       "      <td>180.198</td>\n",
       "      <td>201.249</td>\n",
       "      <td>175.456</td>\n",
       "      <td>0.00284</td>\n",
       "      <td>0.000020</td>\n",
       "      <td>0.00153</td>\n",
       "      <td>0.00166</td>\n",
       "      <td>0.00459</td>\n",
       "      <td>0.01444</td>\n",
       "      <td>...</td>\n",
       "      <td>0.02177</td>\n",
       "      <td>0.00231</td>\n",
       "      <td>26.738</td>\n",
       "      <td>1</td>\n",
       "      <td>0.403884</td>\n",
       "      <td>0.766209</td>\n",
       "      <td>-6.452058</td>\n",
       "      <td>0.212294</td>\n",
       "      <td>2.269398</td>\n",
       "      <td>0.141929</td>\n",
       "    </tr>\n",
       "    <tr>\n",
       "      <th>39</th>\n",
       "      <td>phon_R01_S08_4</td>\n",
       "      <td>187.733</td>\n",
       "      <td>202.324</td>\n",
       "      <td>173.015</td>\n",
       "      <td>0.00316</td>\n",
       "      <td>0.000020</td>\n",
       "      <td>0.00168</td>\n",
       "      <td>0.00182</td>\n",
       "      <td>0.00504</td>\n",
       "      <td>0.01663</td>\n",
       "      <td>...</td>\n",
       "      <td>0.02488</td>\n",
       "      <td>0.00265</td>\n",
       "      <td>26.310</td>\n",
       "      <td>1</td>\n",
       "      <td>0.396793</td>\n",
       "      <td>0.758324</td>\n",
       "      <td>-6.006647</td>\n",
       "      <td>0.266892</td>\n",
       "      <td>2.382544</td>\n",
       "      <td>0.160691</td>\n",
       "    </tr>\n",
       "    <tr>\n",
       "      <th>40</th>\n",
       "      <td>phon_R01_S08_5</td>\n",
       "      <td>186.163</td>\n",
       "      <td>197.724</td>\n",
       "      <td>177.584</td>\n",
       "      <td>0.00298</td>\n",
       "      <td>0.000020</td>\n",
       "      <td>0.00165</td>\n",
       "      <td>0.00175</td>\n",
       "      <td>0.00496</td>\n",
       "      <td>0.01495</td>\n",
       "      <td>...</td>\n",
       "      <td>0.02321</td>\n",
       "      <td>0.00231</td>\n",
       "      <td>26.822</td>\n",
       "      <td>1</td>\n",
       "      <td>0.326480</td>\n",
       "      <td>0.765623</td>\n",
       "      <td>-6.647379</td>\n",
       "      <td>0.201095</td>\n",
       "      <td>2.374073</td>\n",
       "      <td>0.130554</td>\n",
       "    </tr>\n",
       "    <tr>\n",
       "      <th>41</th>\n",
       "      <td>phon_R01_S08_6</td>\n",
       "      <td>184.055</td>\n",
       "      <td>196.537</td>\n",
       "      <td>166.977</td>\n",
       "      <td>0.00258</td>\n",
       "      <td>0.000010</td>\n",
       "      <td>0.00134</td>\n",
       "      <td>0.00147</td>\n",
       "      <td>0.00403</td>\n",
       "      <td>0.01463</td>\n",
       "      <td>...</td>\n",
       "      <td>0.02226</td>\n",
       "      <td>0.00257</td>\n",
       "      <td>26.453</td>\n",
       "      <td>1</td>\n",
       "      <td>0.306443</td>\n",
       "      <td>0.759203</td>\n",
       "      <td>-7.044105</td>\n",
       "      <td>0.063412</td>\n",
       "      <td>2.361532</td>\n",
       "      <td>0.115730</td>\n",
       "    </tr>\n",
       "  </tbody>\n",
       "</table>\n",
       "<p>42 rows × 24 columns</p>\n",
       "</div>"
      ],
      "text/plain": [
       "              name  MDVP:Fo(Hz)  MDVP:Fhi(Hz)  MDVP:Flo(Hz)  MDVP:Jitter(%)  \\\n",
       "0   phon_R01_S01_1      119.992       157.302        74.997         0.00784   \n",
       "1   phon_R01_S01_2      122.400       148.650       113.819         0.00968   \n",
       "2   phon_R01_S01_3      116.682       131.111       111.555         0.01050   \n",
       "3   phon_R01_S01_4      116.676       137.871       111.366         0.00997   \n",
       "4   phon_R01_S01_5      116.014       141.781       110.655         0.01284   \n",
       "5   phon_R01_S01_6      120.552       131.162       113.787         0.00968   \n",
       "6   phon_R01_S02_1      120.267       137.244       114.820         0.00333   \n",
       "7   phon_R01_S02_2      107.332       113.840       104.315         0.00290   \n",
       "8   phon_R01_S02_3       95.730       132.068        91.754         0.00551   \n",
       "9   phon_R01_S02_4       95.056       120.103        91.226         0.00532   \n",
       "10  phon_R01_S02_5       88.333       112.240        84.072         0.00505   \n",
       "11  phon_R01_S02_6       91.904       115.871        86.292         0.00540   \n",
       "12  phon_R01_S04_1      136.926       159.866       131.276         0.00293   \n",
       "13  phon_R01_S04_2      139.173       179.139        76.556         0.00390   \n",
       "14  phon_R01_S04_3      152.845       163.305        75.836         0.00294   \n",
       "15  phon_R01_S04_4      142.167       217.455        83.159         0.00369   \n",
       "16  phon_R01_S04_5      144.188       349.259        82.764         0.00544   \n",
       "17  phon_R01_S04_6      168.778       232.181        75.603         0.00718   \n",
       "18  phon_R01_S05_1      153.046       175.829        68.623         0.00742   \n",
       "19  phon_R01_S05_2      156.405       189.398       142.822         0.00768   \n",
       "20  phon_R01_S05_3      153.848       165.738        65.782         0.00840   \n",
       "21  phon_R01_S05_4      153.880       172.860        78.128         0.00480   \n",
       "22  phon_R01_S05_5      167.930       193.221        79.068         0.00442   \n",
       "23  phon_R01_S05_6      173.917       192.735        86.180         0.00476   \n",
       "24  phon_R01_S06_1      163.656       200.841        76.779         0.00742   \n",
       "25  phon_R01_S06_2      104.400       206.002        77.968         0.00633   \n",
       "26  phon_R01_S06_3      171.041       208.313        75.501         0.00455   \n",
       "27  phon_R01_S06_4      146.845       208.701        81.737         0.00496   \n",
       "28  phon_R01_S06_5      155.358       227.383        80.055         0.00310   \n",
       "29  phon_R01_S06_6      162.568       198.346        77.630         0.00502   \n",
       "30  phon_R01_S07_1      197.076       206.896       192.055         0.00289   \n",
       "31  phon_R01_S07_2      199.228       209.512       192.091         0.00241   \n",
       "32  phon_R01_S07_3      198.383       215.203       193.104         0.00212   \n",
       "33  phon_R01_S07_4      202.266       211.604       197.079         0.00180   \n",
       "34  phon_R01_S07_5      203.184       211.526       196.160         0.00178   \n",
       "35  phon_R01_S07_6      201.464       210.565       195.708         0.00198   \n",
       "36  phon_R01_S08_1      177.876       192.921       168.013         0.00411   \n",
       "37  phon_R01_S08_2      176.170       185.604       163.564         0.00369   \n",
       "38  phon_R01_S08_3      180.198       201.249       175.456         0.00284   \n",
       "39  phon_R01_S08_4      187.733       202.324       173.015         0.00316   \n",
       "40  phon_R01_S08_5      186.163       197.724       177.584         0.00298   \n",
       "41  phon_R01_S08_6      184.055       196.537       166.977         0.00258   \n",
       "\n",
       "    MDVP:Jitter(Abs)  MDVP:RAP  MDVP:PPQ  Jitter:DDP  MDVP:Shimmer  ...  \\\n",
       "0           0.000070   0.00370   0.00554     0.01109       0.04374  ...   \n",
       "1           0.000080   0.00465   0.00696     0.01394       0.06134  ...   \n",
       "2           0.000090   0.00544   0.00781     0.01633       0.05233  ...   \n",
       "3           0.000090   0.00502   0.00698     0.01505       0.05492  ...   \n",
       "4           0.000110   0.00655   0.00908     0.01966       0.06425  ...   \n",
       "5           0.000080   0.00463   0.00750     0.01388       0.04701  ...   \n",
       "6           0.000030   0.00155   0.00202     0.00466       0.01608  ...   \n",
       "7           0.000030   0.00144   0.00182     0.00431       0.01567  ...   \n",
       "8           0.000060   0.00293   0.00332     0.00880       0.02093  ...   \n",
       "9           0.000060   0.00268   0.00332     0.00803       0.02838  ...   \n",
       "10          0.000060   0.00254   0.00330     0.00763       0.02143  ...   \n",
       "11          0.000060   0.00281   0.00336     0.00844       0.02752  ...   \n",
       "12          0.000020   0.00118   0.00153     0.00355       0.01259  ...   \n",
       "13          0.000030   0.00165   0.00208     0.00496       0.01642  ...   \n",
       "14          0.000020   0.00121   0.00149     0.00364       0.01828  ...   \n",
       "15          0.000030   0.00157   0.00203     0.00471       0.01503  ...   \n",
       "16          0.000040   0.00211   0.00292     0.00632       0.02047  ...   \n",
       "17          0.000040   0.00284   0.00387     0.00853       0.03327  ...   \n",
       "18          0.000050   0.00364   0.00432     0.01092       0.05517  ...   \n",
       "19          0.000050   0.00372   0.00399     0.01116       0.03995  ...   \n",
       "20          0.000050   0.00428   0.00450     0.01285       0.03810  ...   \n",
       "21          0.000030   0.00232   0.00267     0.00696       0.04137  ...   \n",
       "22          0.000030   0.00220   0.00247     0.00661       0.04351  ...   \n",
       "23          0.000030   0.00221   0.00258     0.00663       0.04192  ...   \n",
       "24          0.000050   0.00380   0.00390     0.01140       0.01659  ...   \n",
       "25          0.000060   0.00316   0.00375     0.00948       0.03767  ...   \n",
       "26          0.000030   0.00250   0.00234     0.00750       0.01966  ...   \n",
       "27          0.000030   0.00250   0.00275     0.00749       0.01919  ...   \n",
       "28          0.000020   0.00159   0.00176     0.00476       0.01718  ...   \n",
       "29          0.000030   0.00280   0.00253     0.00841       0.01791  ...   \n",
       "30          0.000010   0.00166   0.00168     0.00498       0.01098  ...   \n",
       "31          0.000010   0.00134   0.00138     0.00402       0.01015  ...   \n",
       "32          0.000010   0.00113   0.00135     0.00339       0.01263  ...   \n",
       "33          0.000009   0.00093   0.00107     0.00278       0.00954  ...   \n",
       "34          0.000009   0.00094   0.00106     0.00283       0.00958  ...   \n",
       "35          0.000010   0.00105   0.00115     0.00314       0.01194  ...   \n",
       "36          0.000020   0.00233   0.00241     0.00700       0.02126  ...   \n",
       "37          0.000020   0.00205   0.00218     0.00616       0.01851  ...   \n",
       "38          0.000020   0.00153   0.00166     0.00459       0.01444  ...   \n",
       "39          0.000020   0.00168   0.00182     0.00504       0.01663  ...   \n",
       "40          0.000020   0.00165   0.00175     0.00496       0.01495  ...   \n",
       "41          0.000010   0.00134   0.00147     0.00403       0.01463  ...   \n",
       "\n",
       "    Shimmer:DDA      NHR     HNR  status      RPDE       DFA   spread1  \\\n",
       "0       0.06545  0.02211  21.033       1  0.414783  0.815285 -4.813031   \n",
       "1       0.09403  0.01929  19.085       1  0.458359  0.819521 -4.075192   \n",
       "2       0.08270  0.01309  20.651       1  0.429895  0.825288 -4.443179   \n",
       "3       0.08771  0.01353  20.644       1  0.434969  0.819235 -4.117501   \n",
       "4       0.10470  0.01767  19.649       1  0.417356  0.823484 -3.747787   \n",
       "5       0.06985  0.01222  21.378       1  0.415564  0.825069 -4.242867   \n",
       "6       0.02337  0.00607  24.886       1  0.596040  0.764112 -5.634322   \n",
       "7       0.02487  0.00344  26.892       1  0.637420  0.763262 -6.167603   \n",
       "8       0.03218  0.01070  21.812       1  0.615551  0.773587 -5.498678   \n",
       "9       0.04324  0.01022  21.862       1  0.547037  0.798463 -5.011879   \n",
       "10      0.03237  0.01166  21.118       1  0.611137  0.776156 -5.249770   \n",
       "11      0.04272  0.01141  21.414       1  0.583390  0.792520 -4.960234   \n",
       "12      0.01968  0.00581  25.703       1  0.460600  0.646846 -6.547148   \n",
       "13      0.02184  0.01041  24.889       1  0.430166  0.665833 -5.660217   \n",
       "14      0.03191  0.00609  24.922       1  0.474791  0.654027 -6.105098   \n",
       "15      0.02316  0.00839  25.175       1  0.565924  0.658245 -5.340115   \n",
       "16      0.02908  0.01859  22.333       1  0.567380  0.644692 -5.440040   \n",
       "17      0.04322  0.02919  20.376       1  0.631099  0.605417 -2.931070   \n",
       "18      0.07413  0.03160  17.280       1  0.665318  0.719467 -3.949079   \n",
       "19      0.05164  0.03365  17.153       1  0.649554  0.686080 -4.554466   \n",
       "20      0.05000  0.03871  17.536       1  0.660125  0.704087 -4.095442   \n",
       "21      0.06062  0.01849  19.493       1  0.629017  0.698951 -5.186960   \n",
       "22      0.06685  0.01280  22.468       1  0.619060  0.679834 -4.330956   \n",
       "23      0.06562  0.01840  20.422       1  0.537264  0.686894 -5.248776   \n",
       "24      0.02214  0.01778  23.831       1  0.397937  0.732479 -5.557447   \n",
       "25      0.05197  0.02887  22.066       1  0.522746  0.737948 -5.571843   \n",
       "26      0.02666  0.01095  25.908       1  0.418622  0.720916 -6.183590   \n",
       "27      0.02650  0.01328  25.119       1  0.358773  0.726652 -6.271690   \n",
       "28      0.02307  0.00677  25.970       1  0.470478  0.676258 -7.120925   \n",
       "29      0.02380  0.01170  25.678       1  0.427785  0.723797 -6.635729   \n",
       "30      0.01689  0.00339  26.775       0  0.422229  0.741367 -7.348300   \n",
       "31      0.01513  0.00167  30.940       0  0.432439  0.742055 -7.682587   \n",
       "32      0.01919  0.00119  30.775       0  0.465946  0.738703 -7.067931   \n",
       "33      0.01407  0.00072  32.684       0  0.368535  0.742133 -7.695734   \n",
       "34      0.01403  0.00065  33.047       0  0.340068  0.741899 -7.964984   \n",
       "35      0.01758  0.00135  31.732       0  0.344252  0.742737 -7.777685   \n",
       "36      0.03463  0.00586  23.216       1  0.360148  0.778834 -6.149653   \n",
       "37      0.02814  0.00340  24.951       1  0.341435  0.783626 -6.006414   \n",
       "38      0.02177  0.00231  26.738       1  0.403884  0.766209 -6.452058   \n",
       "39      0.02488  0.00265  26.310       1  0.396793  0.758324 -6.006647   \n",
       "40      0.02321  0.00231  26.822       1  0.326480  0.765623 -6.647379   \n",
       "41      0.02226  0.00257  26.453       1  0.306443  0.759203 -7.044105   \n",
       "\n",
       "     spread2        D2       PPE  \n",
       "0   0.266482  2.301442  0.284654  \n",
       "1   0.335590  2.486855  0.368674  \n",
       "2   0.311173  2.342259  0.332634  \n",
       "3   0.334147  2.405554  0.368975  \n",
       "4   0.234513  2.332180  0.410335  \n",
       "5   0.299111  2.187560  0.357775  \n",
       "6   0.257682  1.854785  0.211756  \n",
       "7   0.183721  2.064693  0.163755  \n",
       "8   0.327769  2.322511  0.231571  \n",
       "9   0.325996  2.432792  0.271362  \n",
       "10  0.391002  2.407313  0.249740  \n",
       "11  0.363566  2.642476  0.275931  \n",
       "12  0.152813  2.041277  0.138512  \n",
       "13  0.254989  2.519422  0.199889  \n",
       "14  0.203653  2.125618  0.170100  \n",
       "15  0.210185  2.205546  0.234589  \n",
       "16  0.239764  2.264501  0.218164  \n",
       "17  0.434326  3.007463  0.430788  \n",
       "18  0.357870  3.109010  0.377429  \n",
       "19  0.340176  2.856676  0.322111  \n",
       "20  0.262564  2.739710  0.365391  \n",
       "21  0.237622  2.557536  0.259765  \n",
       "22  0.262384  2.916777  0.285695  \n",
       "23  0.210279  2.547508  0.253556  \n",
       "24  0.220890  2.692176  0.215961  \n",
       "25  0.236853  2.846369  0.219514  \n",
       "26  0.226278  2.589702  0.147403  \n",
       "27  0.196102  2.314209  0.162999  \n",
       "28  0.279789  2.241742  0.108514  \n",
       "29  0.209866  1.957961  0.135242  \n",
       "30  0.177551  1.743867  0.085569  \n",
       "31  0.173319  2.103106  0.068501  \n",
       "32  0.175181  1.512275  0.096320  \n",
       "33  0.178540  1.544609  0.056141  \n",
       "34  0.163519  1.423287  0.044539  \n",
       "35  0.170183  2.447064  0.057610  \n",
       "36  0.218037  2.477082  0.165827  \n",
       "37  0.196371  2.536527  0.173218  \n",
       "38  0.212294  2.269398  0.141929  \n",
       "39  0.266892  2.382544  0.160691  \n",
       "40  0.201095  2.374073  0.130554  \n",
       "41  0.063412  2.361532  0.115730  \n",
       "\n",
       "[42 rows x 24 columns]"
      ]
     },
     "execution_count": 7,
     "metadata": {},
     "output_type": "execute_result"
    }
   ],
   "source": [
    "park_data[:42]"
   ]
  },
  {
   "cell_type": "markdown",
   "id": "f7cfc815",
   "metadata": {},
   "source": [
    "From first observations looking at the status column and the name column of the data set,it appears a patient passes or fails all 6 tests to be seen as either positive or negative.No patient passed one of this tests and fail the other. \n",
    "This observation is not enough to make conclusions. We will analysize further to get more insight on the data "
   ]
  },
  {
   "cell_type": "markdown",
   "id": "2062fa16",
   "metadata": {},
   "source": [
    "### name"
   ]
  },
  {
   "cell_type": "code",
   "execution_count": 8,
   "id": "9bffd7b3",
   "metadata": {
    "scrolled": true
   },
   "outputs": [
    {
     "data": {
      "text/plain": [
       "phon_R01_S01_1    1\n",
       "phon_R01_S24_4    1\n",
       "phon_R01_S26_1    1\n",
       "phon_R01_S27_7    1\n",
       "phon_R01_S31_1    1\n",
       "phon_R01_S31_2    1\n",
       "phon_R01_S34_5    1\n",
       "phon_R01_S34_4    1\n",
       "phon_R01_S34_3    1\n",
       "phon_R01_S34_2    1\n",
       "phon_R01_S34_1    1\n",
       "phon_R01_S33_6    1\n",
       "phon_R01_S33_5    1\n",
       "phon_R01_S33_4    1\n",
       "phon_R01_S33_3    1\n",
       "phon_R01_S33_2    1\n",
       "phon_R01_S33_1    1\n",
       "phon_R01_S32_6    1\n",
       "phon_R01_S32_5    1\n",
       "phon_R01_S32_4    1\n",
       "phon_R01_S32_3    1\n",
       "phon_R01_S32_2    1\n",
       "phon_R01_S32_1    1\n",
       "phon_R01_S31_6    1\n",
       "phon_R01_S31_5    1\n",
       "phon_R01_S31_4    1\n",
       "phon_R01_S31_3    1\n",
       "phon_R01_S35_1    1\n",
       "phon_R01_S24_5    1\n",
       "phon_R01_S24_6    1\n",
       "Name: name, dtype: int64"
      ]
     },
     "execution_count": 8,
     "metadata": {},
     "output_type": "execute_result"
    }
   ],
   "source": [
    "park_data.name.value_counts()[:30].sort_values()"
   ]
  },
  {
   "cell_type": "markdown",
   "id": "6514a053",
   "metadata": {},
   "source": [
    "It can be observed there are no dublicates in the voice recordings of people who tested for parkinson. each patient was recorded 6 times."
   ]
  },
  {
   "cell_type": "markdown",
   "id": "50981542",
   "metadata": {},
   "source": [
    "#### MDVP:Fo(Hz)"
   ]
  },
  {
   "cell_type": "code",
   "execution_count": 9,
   "id": "05b84272",
   "metadata": {},
   "outputs": [
    {
     "data": {
      "text/plain": [
       "count    195.000000\n",
       "mean     154.228641\n",
       "std       41.390065\n",
       "min       88.333000\n",
       "25%      117.572000\n",
       "50%      148.790000\n",
       "75%      182.769000\n",
       "max      260.105000\n",
       "Name: MDVP:Fo(Hz), dtype: float64"
      ]
     },
     "execution_count": 9,
     "metadata": {},
     "output_type": "execute_result"
    }
   ],
   "source": [
    "#Accessing the statistical information of the average vocal frequency\n",
    "park_data['MDVP:Fo(Hz)'].describe()"
   ]
  },
  {
   "cell_type": "code",
   "execution_count": 10,
   "id": "9462dcd7",
   "metadata": {
    "scrolled": true
   },
   "outputs": [
    {
     "data": {
      "image/png": "[encoded data removed]",
      "text/plain": [
       "<Figure size 432x288 with 1 Axes>"
      ]
     },
     "metadata": {
      "needs_background": "light"
     },
     "output_type": "display_data"
    }
   ],
   "source": [
    "#Checking the distribution of the average vocal frequency\n",
    "plt.hist(park_data['MDVP:Fo(Hz)'])\n",
    "plt.show()"
   ]
  },
  {
   "cell_type": "code",
   "execution_count": 11,
   "id": "2599a795",
   "metadata": {
    "scrolled": false
   },
   "outputs": [
    {
     "data": {
      "text/plain": [
       "{'whiskers': [<matplotlib.lines.Line2D at 0xb36bf1c220>,\n",
       "  <matplotlib.lines.Line2D at 0xb36bf1c4f0>],\n",
       " 'caps': [<matplotlib.lines.Line2D at 0xb36bf1c880>,\n",
       "  <matplotlib.lines.Line2D at 0xb36bf1cc10>],\n",
       " 'boxes': [<matplotlib.lines.Line2D at 0xb36bf0bd90>],\n",
       " 'medians': [<matplotlib.lines.Line2D at 0xb36bf1cfa0>],\n",
       " 'fliers': [<matplotlib.lines.Line2D at 0xb36bf27370>],\n",
       " 'means': []}"
      ]
     },
     "execution_count": 11,
     "metadata": {},
     "output_type": "execute_result"
    },
    {
     "data": {
      "image/png": "[encoded data removed]",
      "text/plain": [
       "<Figure size 432x288 with 1 Axes>"
      ]
     },
     "metadata": {
      "needs_background": "light"
     },
     "output_type": "display_data"
    }
   ],
   "source": [
    "plt.boxplot(park_data['MDVP:Fo(Hz)'])"
   ]
  },
  {
   "cell_type": "markdown",
   "id": "732ebcb4",
   "metadata": {},
   "source": [
    "From the histogram and boxplot, we can observe a bit of of right skewd distribution. It appears there are no outliers. further analysis will check on outliers"
   ]
  },
  {
   "cell_type": "code",
   "execution_count": 12,
   "id": "fdf0d586",
   "metadata": {
    "scrolled": true
   },
   "outputs": [
    {
     "name": "stdout",
     "output_type": "stream",
     "text": [
      "19.7765\n",
      "280.5645\n"
     ]
    }
   ],
   "source": [
    "#useful parameters\n",
    "Avf_mean = 154.228641\n",
    "Avf_first_quartile = 117.572000\n",
    "Avf_second_quartile = 148.790000\n",
    "Avf_third_quartile = 182.769000\n",
    "Avf_IQR = Avf_third_quartile -Avf_first_quartile\n",
    "Avf_lower_fence = Avf_first_quartile - (1.5 *Avf_IQR) #lower outlier range\n",
    "Avf_upper_fence = Avf_third_quartile + (1.5 *Avf_IQR) #upper outlier range\n",
    "print(Avf_lower_fence)\n",
    "print(Avf_upper_fence)"
   ]
  },
  {
   "cell_type": "code",
   "execution_count": 13,
   "id": "eaa85cfb",
   "metadata": {},
   "outputs": [
    {
     "data": {
      "text/plain": [
       "113"
      ]
     },
     "execution_count": 13,
     "metadata": {},
     "output_type": "execute_result"
    }
   ],
   "source": [
    "#Accessing the number of average vocal frequency lower than the mean\n",
    "len(park_data.loc[park_data['MDVP:Fo(Hz)'] < Avf_mean])"
   ]
  },
  {
   "cell_type": "code",
   "execution_count": 14,
   "id": "1e383bc1",
   "metadata": {
    "scrolled": true
   },
   "outputs": [
    {
     "data": {
      "text/plain": [
       "97"
      ]
     },
     "execution_count": 14,
     "metadata": {},
     "output_type": "execute_result"
    }
   ],
   "source": [
    "#Accessing the number of average vocal frequency lower than the median\n",
    "len(park_data.loc[park_data['MDVP:Fo(Hz)'] < Avf_second_quartile])"
   ]
  },
  {
   "cell_type": "code",
   "execution_count": 15,
   "id": "c9d1c148",
   "metadata": {
    "scrolled": true
   },
   "outputs": [
    {
     "data": {
      "text/plain": [
       "0"
      ]
     },
     "execution_count": 15,
     "metadata": {},
     "output_type": "execute_result"
    }
   ],
   "source": [
    "#accessing the number of average vocal frequency which are outliers\n",
    "len(park_data.loc[park_data['MDVP:Fo(Hz)'] > Avf_upper_fence])"
   ]
  },
  {
   "cell_type": "markdown",
   "id": "9d5bc4f7",
   "metadata": {},
   "source": [
    "The initial observation is confirmed.there are no outliers.97 thus 49.74% of recording is less than the median"
   ]
  },
  {
   "cell_type": "markdown",
   "id": "3b72a046",
   "metadata": {},
   "source": [
    "#### NHR"
   ]
  },
  {
   "cell_type": "code",
   "execution_count": 16,
   "id": "b861938f",
   "metadata": {},
   "outputs": [
    {
     "data": {
      "text/plain": [
       "count    195.000000\n",
       "mean       0.024847\n",
       "std        0.040418\n",
       "min        0.000650\n",
       "25%        0.005925\n",
       "50%        0.011660\n",
       "75%        0.025640\n",
       "max        0.314820\n",
       "Name: NHR, dtype: float64"
      ]
     },
     "execution_count": 16,
     "metadata": {},
     "output_type": "execute_result"
    }
   ],
   "source": [
    "#accessing the statistical info NHR(ratio of nocie to tonal component )\n",
    "park_data['NHR'].describe()"
   ]
  },
  {
   "cell_type": "code",
   "execution_count": 17,
   "id": "bd8b208e",
   "metadata": {},
   "outputs": [
    {
     "data": {
      "image/png": "[encoded data removed]",
      "text/plain": [
       "<Figure size 432x288 with 1 Axes>"
      ]
     },
     "metadata": {
      "needs_background": "light"
     },
     "output_type": "display_data"
    }
   ],
   "source": [
    "#plotting a histogram for NHR\n",
    "plt.hist(park_data['NHR'])\n",
    "plt.show()"
   ]
  },
  {
   "cell_type": "code",
   "execution_count": 18,
   "id": "f8c375a1",
   "metadata": {},
   "outputs": [
    {
     "data": {
      "text/plain": [
       "{'whiskers': [<matplotlib.lines.Line2D at 0xb36c01b580>,\n",
       "  <matplotlib.lines.Line2D at 0xb36c01b910>],\n",
       " 'caps': [<matplotlib.lines.Line2D at 0xb36c01bca0>,\n",
       "  <matplotlib.lines.Line2D at 0xb36c025070>],\n",
       " 'boxes': [<matplotlib.lines.Line2D at 0xb36c01b1f0>],\n",
       " 'medians': [<matplotlib.lines.Line2D at 0xb36c025400>],\n",
       " 'fliers': [<matplotlib.lines.Line2D at 0xb36c025790>],\n",
       " 'means': []}"
      ]
     },
     "execution_count": 18,
     "metadata": {},
     "output_type": "execute_result"
    },
    {
     "data": {
      "image/png": "[encoded data removed]",
      "text/plain": [
       "<Figure size 432x288 with 1 Axes>"
      ]
     },
     "metadata": {
      "needs_background": "light"
     },
     "output_type": "display_data"
    }
   ],
   "source": [
    "#plotting a boxplot for NHR\n",
    "plt.boxplot(park_data['NHR'])"
   ]
  },
  {
   "cell_type": "markdown",
   "id": "04dc422a",
   "metadata": {},
   "source": [
    "From both histogram and boxplot we can observe a right skewd distribution. We can see a number of outliers.we will investigate on them"
   ]
  },
  {
   "cell_type": "code",
   "execution_count": 19,
   "id": "565dac9b",
   "metadata": {
    "scrolled": true
   },
   "outputs": [
    {
     "name": "stdout",
     "output_type": "stream",
     "text": [
      "-0.023647500000000002\n",
      "0.0552125\n",
      "0.084785\n"
     ]
    }
   ],
   "source": [
    "#useful parameter\n",
    "NHR_mean = 0.024847\n",
    "NHR_first_quartile = 0.005925\n",
    "NHR_second_quartile = 0.011660\n",
    "NHR_third_qaurtile = 0.025640\n",
    "NHR_IQR = NHR_third_qaurtile - NHR_first_quartile\n",
    "NHR_lower_inner_fence= NHR_first_quartile - (1.5 * NHR_IQR) #lower outlier range\n",
    "NHR_upper_inner_fence= NHR_third_qaurtile + (1.5 * NHR_IQR) #upper outlier range\n",
    "NHR_upper_outer_fence = NHR_third_qaurtile + (3 * NHR_IQR) #extreme outliers\n",
    "print(NHR_lower_inner_fence)\n",
    "print(NHR_upper_inner_fence)\n",
    "print(NHR_upper_outer_fence)"
   ]
  },
  {
   "cell_type": "code",
   "execution_count": 20,
   "id": "3c1d3e45",
   "metadata": {},
   "outputs": [
    {
     "data": {
      "text/plain": [
       "144"
      ]
     },
     "execution_count": 20,
     "metadata": {},
     "output_type": "execute_result"
    }
   ],
   "source": [
    "#accessing the number of NHR recordings below the mean\n",
    "len(park_data.loc[park_data['NHR'] < NHR_mean])"
   ]
  },
  {
   "cell_type": "code",
   "execution_count": 21,
   "id": "054ee477",
   "metadata": {},
   "outputs": [
    {
     "data": {
      "text/plain": [
       "97"
      ]
     },
     "execution_count": 21,
     "metadata": {},
     "output_type": "execute_result"
    }
   ],
   "source": [
    "#accessing the number NHR recordings below the median\n",
    "len(park_data.loc[park_data['NHR'] < NHR_second_quartile])"
   ]
  },
  {
   "cell_type": "code",
   "execution_count": 22,
   "id": "87cbbb76",
   "metadata": {
    "scrolled": false
   },
   "outputs": [
    {
     "data": {
      "text/plain": [
       "8"
      ]
     },
     "execution_count": 22,
     "metadata": {},
     "output_type": "execute_result"
    }
   ],
   "source": [
    "#accessing the number of NHR which are outliers/upper inner(mid-outliers)\n",
    "len(park_data.loc[(park_data['NHR'] > NHR_upper_inner_fence) & (park_data['NHR']< NHR_upper_outer_fence)])"
   ]
  },
  {
   "cell_type": "code",
   "execution_count": 23,
   "id": "ac92922e",
   "metadata": {
    "scrolled": true
   },
   "outputs": [
    {
     "data": {
      "text/plain": [
       "11"
      ]
     },
     "execution_count": 23,
     "metadata": {},
     "output_type": "execute_result"
    }
   ],
   "source": [
    "#accessing the number of NHR which have extreme outliers\n",
    "len(park_data.loc[park_data['NHR'] > NHR_upper_outer_fence])"
   ]
  },
  {
   "cell_type": "code",
   "execution_count": 24,
   "id": "2023eec4",
   "metadata": {},
   "outputs": [
    {
     "data": {
      "text/plain": [
       "0"
      ]
     },
     "execution_count": 24,
     "metadata": {},
     "output_type": "execute_result"
    }
   ],
   "source": [
    "#accessing the number of NHR which are lower outliers\n",
    "len(park_data.loc[park_data['NHR'] < NHR_lower_inner_fence])"
   ]
  },
  {
   "cell_type": "markdown",
   "id": "a1693767",
   "metadata": {},
   "source": [
    "Our initial observations have been comfirmed on the outliers. we can see that out 19 outliers, 8 were above the max whiskers point(also known as mid-outliers) and 11 were extreme outliers as the outer fence.\n",
    "Again, 73.84% of the distribution were below the mean and 49.74% of the distribution made were below the median"
   ]
  },
  {
   "cell_type": "markdown",
   "id": "f8b4a5c9",
   "metadata": {},
   "source": [
    "#### HNR"
   ]
  },
  {
   "cell_type": "code",
   "execution_count": 25,
   "id": "404002d1",
   "metadata": {},
   "outputs": [
    {
     "data": {
      "text/plain": [
       "count    195.000000\n",
       "mean      21.885974\n",
       "std        4.425764\n",
       "min        8.441000\n",
       "25%       19.198000\n",
       "50%       22.085000\n",
       "75%       25.075500\n",
       "max       33.047000\n",
       "Name: HNR, dtype: float64"
      ]
     },
     "execution_count": 25,
     "metadata": {},
     "output_type": "execute_result"
    }
   ],
   "source": [
    "park_data['HNR'].describe()"
   ]
  },
  {
   "cell_type": "code",
   "execution_count": 26,
   "id": "995fe705",
   "metadata": {
    "scrolled": true
   },
   "outputs": [
    {
     "data": {
      "image/png": "[encoded data removed]",
      "text/plain": [
       "<Figure size 432x288 with 1 Axes>"
      ]
     },
     "metadata": {
      "needs_background": "light"
     },
     "output_type": "display_data"
    }
   ],
   "source": [
    "plt.hist(park_data['HNR'])\n",
    "plt.show()"
   ]
  },
  {
   "cell_type": "code",
   "execution_count": 27,
   "id": "1e3eaab7",
   "metadata": {
    "scrolled": true
   },
   "outputs": [
    {
     "data": {
      "text/plain": [
       "{'whiskers': [<matplotlib.lines.Line2D at 0xb36c1099a0>,\n",
       "  <matplotlib.lines.Line2D at 0xb36c109d30>],\n",
       " 'caps': [<matplotlib.lines.Line2D at 0xb36c116100>,\n",
       "  <matplotlib.lines.Line2D at 0xb36c116490>],\n",
       " 'boxes': [<matplotlib.lines.Line2D at 0xb36c109610>],\n",
       " 'medians': [<matplotlib.lines.Line2D at 0xb36c116820>],\n",
       " 'fliers': [<matplotlib.lines.Line2D at 0xb36c116bb0>],\n",
       " 'means': []}"
      ]
     },
     "execution_count": 27,
     "metadata": {},
     "output_type": "execute_result"
    },
    {
     "data": {
      "image/png": "[encoded data removed]",
      "text/plain": [
       "<Figure size 432x288 with 1 Axes>"
      ]
     },
     "metadata": {
      "needs_background": "light"
     },
     "output_type": "display_data"
    }
   ],
   "source": [
    "plt.boxplot(park_data['HNR'])"
   ]
  },
  {
   "cell_type": "markdown",
   "id": "24f02e45",
   "metadata": {},
   "source": [
    "from the histogram and boxplot,we can observe a left skewd distribution. We can also observe some data points far way from the normal distribution. we will analyze for outliers"
   ]
  },
  {
   "cell_type": "code",
   "execution_count": 28,
   "id": "8d26bdca",
   "metadata": {
    "scrolled": true
   },
   "outputs": [
    {
     "name": "stdout",
     "output_type": "stream",
     "text": [
      "10.381749999999998\n",
      "33.89175\n"
     ]
    }
   ],
   "source": [
    "#useful parameters\n",
    "HNR_mean =  21.885974\n",
    "HNR_first_quartile = 19.198000\n",
    "HNR_second_quartile = 22.085000\n",
    "HNR_third_quartile = 25.075500\n",
    "HNR_IQR = HNR_third_quartile - HNR_first_quartile \n",
    "HNR_lower_fence = HNR_first_quartile - (1.5*HNR_IQR)\n",
    "HNR_upper_fence = HNR_third_quartile + (1.5*HNR_IQR)\n",
    "print(HNR_lower_fence)\n",
    "print(HNR_upper_fence)"
   ]
  },
  {
   "cell_type": "code",
   "execution_count": 29,
   "id": "5671ba0e",
   "metadata": {},
   "outputs": [
    {
     "data": {
      "text/plain": [
       "95"
      ]
     },
     "execution_count": 29,
     "metadata": {},
     "output_type": "execute_result"
    }
   ],
   "source": [
    "#Accessing the ratio of noise to tonal components of the recording below the mean\n",
    "len(park_data.loc[park_data['HNR'] < HNR_mean])\n"
   ]
  },
  {
   "cell_type": "code",
   "execution_count": 30,
   "id": "907bfdf9",
   "metadata": {},
   "outputs": [
    {
     "data": {
      "text/plain": [
       "97"
      ]
     },
     "execution_count": 30,
     "metadata": {},
     "output_type": "execute_result"
    }
   ],
   "source": [
    "#Accessing the ratio of noise to tonal components below the median\n",
    "len(park_data.loc[park_data['HNR'] < HNR_second_quartile])\n"
   ]
  },
  {
   "cell_type": "code",
   "execution_count": 31,
   "id": "875b8521",
   "metadata": {
    "scrolled": true
   },
   "outputs": [
    {
     "data": {
      "text/plain": [
       "3"
      ]
     },
     "execution_count": 31,
     "metadata": {},
     "output_type": "execute_result"
    }
   ],
   "source": [
    "#Accessing the number of outliers in the tonal components\n",
    "len(park_data.loc[park_data['HNR'] < HNR_lower_fence])\n"
   ]
  },
  {
   "cell_type": "code",
   "execution_count": 32,
   "id": "ebaf26ad",
   "metadata": {
    "scrolled": true
   },
   "outputs": [
    {
     "data": {
      "text/html": [
       "<div>\n",
       "<style scoped>\n",
       "    .dataframe tbody tr th:only-of-type {\n",
       "        vertical-align: middle;\n",
       "    }\n",
       "\n",
       "    .dataframe tbody tr th {\n",
       "        vertical-align: top;\n",
       "    }\n",
       "\n",
       "    .dataframe thead th {\n",
       "        text-align: right;\n",
       "    }\n",
       "</style>\n",
       "<table border=\"1\" class=\"dataframe\">\n",
       "  <thead>\n",
       "    <tr style=\"text-align: right;\">\n",
       "      <th></th>\n",
       "      <th>name</th>\n",
       "      <th>MDVP:Fo(Hz)</th>\n",
       "      <th>MDVP:Fhi(Hz)</th>\n",
       "      <th>MDVP:Flo(Hz)</th>\n",
       "      <th>MDVP:Jitter(%)</th>\n",
       "      <th>MDVP:Jitter(Abs)</th>\n",
       "      <th>MDVP:RAP</th>\n",
       "      <th>MDVP:PPQ</th>\n",
       "      <th>Jitter:DDP</th>\n",
       "      <th>MDVP:Shimmer</th>\n",
       "      <th>...</th>\n",
       "      <th>Shimmer:DDA</th>\n",
       "      <th>NHR</th>\n",
       "      <th>HNR</th>\n",
       "      <th>status</th>\n",
       "      <th>RPDE</th>\n",
       "      <th>DFA</th>\n",
       "      <th>spread1</th>\n",
       "      <th>spread2</th>\n",
       "      <th>D2</th>\n",
       "      <th>PPE</th>\n",
       "    </tr>\n",
       "  </thead>\n",
       "  <tbody>\n",
       "    <tr>\n",
       "      <th>100</th>\n",
       "      <td>phon_R01_S24_4</td>\n",
       "      <td>125.641</td>\n",
       "      <td>141.068</td>\n",
       "      <td>116.346</td>\n",
       "      <td>0.03316</td>\n",
       "      <td>0.00026</td>\n",
       "      <td>0.02144</td>\n",
       "      <td>0.01522</td>\n",
       "      <td>0.06433</td>\n",
       "      <td>0.09178</td>\n",
       "      <td>...</td>\n",
       "      <td>0.16074</td>\n",
       "      <td>0.31482</td>\n",
       "      <td>8.867</td>\n",
       "      <td>1</td>\n",
       "      <td>0.671299</td>\n",
       "      <td>0.656846</td>\n",
       "      <td>-3.700544</td>\n",
       "      <td>0.260481</td>\n",
       "      <td>2.991063</td>\n",
       "      <td>0.370961</td>\n",
       "    </tr>\n",
       "    <tr>\n",
       "      <th>151</th>\n",
       "      <td>phon_R01_S35_6</td>\n",
       "      <td>192.818</td>\n",
       "      <td>224.429</td>\n",
       "      <td>168.793</td>\n",
       "      <td>0.03107</td>\n",
       "      <td>0.00016</td>\n",
       "      <td>0.01800</td>\n",
       "      <td>0.01958</td>\n",
       "      <td>0.05401</td>\n",
       "      <td>0.11908</td>\n",
       "      <td>...</td>\n",
       "      <td>0.16942</td>\n",
       "      <td>0.21713</td>\n",
       "      <td>8.441</td>\n",
       "      <td>1</td>\n",
       "      <td>0.625866</td>\n",
       "      <td>0.768320</td>\n",
       "      <td>-2.434031</td>\n",
       "      <td>0.450493</td>\n",
       "      <td>3.079221</td>\n",
       "      <td>0.527367</td>\n",
       "    </tr>\n",
       "    <tr>\n",
       "      <th>152</th>\n",
       "      <td>phon_R01_S35_7</td>\n",
       "      <td>198.116</td>\n",
       "      <td>233.099</td>\n",
       "      <td>174.478</td>\n",
       "      <td>0.02714</td>\n",
       "      <td>0.00014</td>\n",
       "      <td>0.01568</td>\n",
       "      <td>0.01699</td>\n",
       "      <td>0.04705</td>\n",
       "      <td>0.08684</td>\n",
       "      <td>...</td>\n",
       "      <td>0.12851</td>\n",
       "      <td>0.16265</td>\n",
       "      <td>9.449</td>\n",
       "      <td>1</td>\n",
       "      <td>0.584164</td>\n",
       "      <td>0.754449</td>\n",
       "      <td>-2.839756</td>\n",
       "      <td>0.356224</td>\n",
       "      <td>3.184027</td>\n",
       "      <td>0.454721</td>\n",
       "    </tr>\n",
       "  </tbody>\n",
       "</table>\n",
       "<p>3 rows × 24 columns</p>\n",
       "</div>"
      ],
      "text/plain": [
       "               name  MDVP:Fo(Hz)  MDVP:Fhi(Hz)  MDVP:Flo(Hz)  MDVP:Jitter(%)  \\\n",
       "100  phon_R01_S24_4      125.641       141.068       116.346         0.03316   \n",
       "151  phon_R01_S35_6      192.818       224.429       168.793         0.03107   \n",
       "152  phon_R01_S35_7      198.116       233.099       174.478         0.02714   \n",
       "\n",
       "     MDVP:Jitter(Abs)  MDVP:RAP  MDVP:PPQ  Jitter:DDP  MDVP:Shimmer  ...  \\\n",
       "100           0.00026   0.02144   0.01522     0.06433       0.09178  ...   \n",
       "151           0.00016   0.01800   0.01958     0.05401       0.11908  ...   \n",
       "152           0.00014   0.01568   0.01699     0.04705       0.08684  ...   \n",
       "\n",
       "     Shimmer:DDA      NHR    HNR  status      RPDE       DFA   spread1  \\\n",
       "100      0.16074  0.31482  8.867       1  0.671299  0.656846 -3.700544   \n",
       "151      0.16942  0.21713  8.441       1  0.625866  0.768320 -2.434031   \n",
       "152      0.12851  0.16265  9.449       1  0.584164  0.754449 -2.839756   \n",
       "\n",
       "      spread2        D2       PPE  \n",
       "100  0.260481  2.991063  0.370961  \n",
       "151  0.450493  3.079221  0.527367  \n",
       "152  0.356224  3.184027  0.454721  \n",
       "\n",
       "[3 rows x 24 columns]"
      ]
     },
     "execution_count": 32,
     "metadata": {},
     "output_type": "execute_result"
    }
   ],
   "source": [
    "#Opening the dataset of noise to tonal components containing the outlier\n",
    "park_data.loc[park_data['HNR'] < HNR_lower_fence]"
   ]
  },
  {
   "cell_type": "markdown",
   "id": "dc413d77",
   "metadata": {},
   "source": [
    "97 which made 49.74% of the ratio of noise to tonal components of the total distribution is less than the median. Again, 3 recording, thus 1.53% made the outliers. they all had a positive status"
   ]
  },
  {
   "cell_type": "markdown",
   "id": "f38d3705",
   "metadata": {},
   "source": [
    "### status"
   ]
  },
  {
   "cell_type": "code",
   "execution_count": 33,
   "id": "58f5cac9",
   "metadata": {
    "scrolled": true
   },
   "outputs": [
    {
     "data": {
      "text/plain": [
       "1    147\n",
       "0     48\n",
       "Name: status, dtype: int64"
      ]
     },
     "execution_count": 33,
     "metadata": {},
     "output_type": "execute_result"
    }
   ],
   "source": [
    "park_data.status.value_counts()"
   ]
  },
  {
   "cell_type": "markdown",
   "id": "22730a58",
   "metadata": {},
   "source": [
    "We can see that 147 people tested positive to parkinsons and 48 did not"
   ]
  },
  {
   "cell_type": "markdown",
   "id": "6de46e30",
   "metadata": {},
   "source": [
    "### MDVP:Fhi(Hz)"
   ]
  },
  {
   "cell_type": "code",
   "execution_count": 34,
   "id": "45794ebd",
   "metadata": {
    "scrolled": true
   },
   "outputs": [
    {
     "data": {
      "image/png": "[encoded data removed]",
      "text/plain": [
       "<Figure size 432x288 with 1 Axes>"
      ]
     },
     "metadata": {
      "needs_background": "light"
     },
     "output_type": "display_data"
    }
   ],
   "source": [
    "#checking the kind of distribution for the maximum vocal findamental frequency\n",
    "plt.hist(park_data['MDVP:Fhi(Hz)']) \n",
    "plt.show()"
   ]
  },
  {
   "cell_type": "code",
   "execution_count": 35,
   "id": "c19b0bb4",
   "metadata": {},
   "outputs": [
    {
     "data": {
      "text/plain": [
       "count    195.000000\n",
       "mean     197.104918\n",
       "std       91.491548\n",
       "min      102.145000\n",
       "25%      134.862500\n",
       "50%      175.829000\n",
       "75%      224.205500\n",
       "max      592.030000\n",
       "Name: MDVP:Fhi(Hz), dtype: float64"
      ]
     },
     "execution_count": 35,
     "metadata": {},
     "output_type": "execute_result"
    }
   ],
   "source": [
    "park_data['MDVP:Fhi(Hz)'].describe()"
   ]
  },
  {
   "cell_type": "code",
   "execution_count": 36,
   "id": "5c6166ac",
   "metadata": {},
   "outputs": [
    {
     "data": {
      "text/plain": [
       "{'whiskers': [<matplotlib.lines.Line2D at 0xb36c1f7880>,\n",
       "  <matplotlib.lines.Line2D at 0xb36c1f7c10>],\n",
       " 'caps': [<matplotlib.lines.Line2D at 0xb36c1f7fa0>,\n",
       "  <matplotlib.lines.Line2D at 0xb36c203370>],\n",
       " 'boxes': [<matplotlib.lines.Line2D at 0xb36c1f74f0>],\n",
       " 'medians': [<matplotlib.lines.Line2D at 0xb36c203700>],\n",
       " 'fliers': [<matplotlib.lines.Line2D at 0xb36c203a90>],\n",
       " 'means': []}"
      ]
     },
     "execution_count": 36,
     "metadata": {},
     "output_type": "execute_result"
    },
    {
     "data": {
      "image/png": "[encoded data removed]",
      "text/plain": [
       "<Figure size 432x288 with 1 Axes>"
      ]
     },
     "metadata": {
      "needs_background": "light"
     },
     "output_type": "display_data"
    }
   ],
   "source": [
    "#Using the boxplot to access the distibution of average vocal frequency\n",
    "plt.boxplot(park_data['MDVP:Fhi(Hz)'])"
   ]
  },
  {
   "cell_type": "markdown",
   "id": "499dca56",
   "metadata": {},
   "source": [
    "from the histogram and boxplot, we can observe a right skewd distribution. we can also observe a number of outliers"
   ]
  },
  {
   "cell_type": "code",
   "execution_count": 37,
   "id": "2d5af3ff",
   "metadata": {},
   "outputs": [
    {
     "name": "stdout",
     "output_type": "stream",
     "text": [
      "0.8480000000000132\n",
      "358.22\n"
     ]
    }
   ],
   "source": [
    "#parameters\n",
    "fhi_first_quartile = 134.862500\n",
    "fhi_second_quartile = 175.829000\n",
    "fhi_third_quartile = 224.205500\n",
    "fhi_mean = 197.104918\n",
    "fhi_IQR = fhi_third_quartile - fhi_first_quartile\n",
    "fhi_lower_inner_fence = fhi_first_quartile -(1.5 * fhi_IQR) #lower outlier range\n",
    "fhi_upper_inner_fence = fhi_third_quartile + (1.5 *fhi_IQR)  #upper outlier range\n",
    "print(fhi_lower_inner_fence)\n",
    "print(fhi_upper_inner_fence)"
   ]
  },
  {
   "cell_type": "code",
   "execution_count": 38,
   "id": "38df540b",
   "metadata": {
    "scrolled": true
   },
   "outputs": [
    {
     "data": {
      "text/plain": [
       "110"
      ]
     },
     "execution_count": 38,
     "metadata": {},
     "output_type": "execute_result"
    }
   ],
   "source": [
    "#Accessing the number of voice recording with high vocal frequency below the mean\n",
    "len(park_data.loc[park_data['MDVP:Fhi(Hz)'] < fhi_mean ])"
   ]
  },
  {
   "cell_type": "code",
   "execution_count": 39,
   "id": "4b29d427",
   "metadata": {
    "scrolled": true
   },
   "outputs": [
    {
     "data": {
      "text/plain": [
       "97"
      ]
     },
     "execution_count": 39,
     "metadata": {},
     "output_type": "execute_result"
    }
   ],
   "source": [
    "#Accessing the number of voice recordings with high vocal frequency below the median\n",
    "len(park_data.loc[park_data['MDVP:Fhi(Hz)'] < fhi_second_quartile])"
   ]
  },
  {
   "cell_type": "code",
   "execution_count": 40,
   "id": "c8b48ce1",
   "metadata": {
    "scrolled": true
   },
   "outputs": [
    {
     "data": {
      "text/plain": [
       "11"
      ]
     },
     "execution_count": 40,
     "metadata": {},
     "output_type": "execute_result"
    }
   ],
   "source": [
    "#Accessing the number of voice recording with high vocal frequency which are outliers\n",
    "len(park_data.loc[park_data['MDVP:Fhi(Hz)'] > fhi_upper_inner_fence])"
   ]
  },
  {
   "cell_type": "code",
   "execution_count": 41,
   "id": "f9b84545",
   "metadata": {
    "scrolled": true
   },
   "outputs": [
    {
     "data": {
      "text/html": [
       "<div>\n",
       "<style scoped>\n",
       "    .dataframe tbody tr th:only-of-type {\n",
       "        vertical-align: middle;\n",
       "    }\n",
       "\n",
       "    .dataframe tbody tr th {\n",
       "        vertical-align: top;\n",
       "    }\n",
       "\n",
       "    .dataframe thead th {\n",
       "        text-align: right;\n",
       "    }\n",
       "</style>\n",
       "<table border=\"1\" class=\"dataframe\">\n",
       "  <thead>\n",
       "    <tr style=\"text-align: right;\">\n",
       "      <th></th>\n",
       "      <th>name</th>\n",
       "      <th>MDVP:Fo(Hz)</th>\n",
       "      <th>MDVP:Fhi(Hz)</th>\n",
       "      <th>MDVP:Flo(Hz)</th>\n",
       "      <th>MDVP:Jitter(%)</th>\n",
       "      <th>MDVP:Jitter(Abs)</th>\n",
       "      <th>MDVP:RAP</th>\n",
       "      <th>MDVP:PPQ</th>\n",
       "      <th>Jitter:DDP</th>\n",
       "      <th>MDVP:Shimmer</th>\n",
       "      <th>...</th>\n",
       "      <th>Shimmer:DDA</th>\n",
       "      <th>NHR</th>\n",
       "      <th>HNR</th>\n",
       "      <th>status</th>\n",
       "      <th>RPDE</th>\n",
       "      <th>DFA</th>\n",
       "      <th>spread1</th>\n",
       "      <th>spread2</th>\n",
       "      <th>D2</th>\n",
       "      <th>PPE</th>\n",
       "    </tr>\n",
       "  </thead>\n",
       "  <tbody>\n",
       "    <tr>\n",
       "      <th>73</th>\n",
       "      <td>phon_R01_S19_2</td>\n",
       "      <td>112.014</td>\n",
       "      <td>588.518</td>\n",
       "      <td>107.024</td>\n",
       "      <td>0.00533</td>\n",
       "      <td>0.00005</td>\n",
       "      <td>0.00268</td>\n",
       "      <td>0.00329</td>\n",
       "      <td>0.00805</td>\n",
       "      <td>0.02448</td>\n",
       "      <td>...</td>\n",
       "      <td>0.04120</td>\n",
       "      <td>0.00623</td>\n",
       "      <td>24.178</td>\n",
       "      <td>1</td>\n",
       "      <td>0.509127</td>\n",
       "      <td>0.789532</td>\n",
       "      <td>-5.389129</td>\n",
       "      <td>0.306636</td>\n",
       "      <td>1.928708</td>\n",
       "      <td>0.225461</td>\n",
       "    </tr>\n",
       "    <tr>\n",
       "      <th>102</th>\n",
       "      <td>phon_R01_S24_6</td>\n",
       "      <td>139.224</td>\n",
       "      <td>586.567</td>\n",
       "      <td>66.157</td>\n",
       "      <td>0.03011</td>\n",
       "      <td>0.00022</td>\n",
       "      <td>0.01854</td>\n",
       "      <td>0.01628</td>\n",
       "      <td>0.05563</td>\n",
       "      <td>0.09419</td>\n",
       "      <td>...</td>\n",
       "      <td>0.16654</td>\n",
       "      <td>0.25930</td>\n",
       "      <td>10.489</td>\n",
       "      <td>1</td>\n",
       "      <td>0.596362</td>\n",
       "      <td>0.641418</td>\n",
       "      <td>-3.269487</td>\n",
       "      <td>0.270641</td>\n",
       "      <td>2.690917</td>\n",
       "      <td>0.444774</td>\n",
       "    </tr>\n",
       "    <tr>\n",
       "      <th>115</th>\n",
       "      <td>phon_R01_S27_1</td>\n",
       "      <td>151.872</td>\n",
       "      <td>492.892</td>\n",
       "      <td>69.085</td>\n",
       "      <td>0.00856</td>\n",
       "      <td>0.00006</td>\n",
       "      <td>0.00404</td>\n",
       "      <td>0.00385</td>\n",
       "      <td>0.01211</td>\n",
       "      <td>0.01843</td>\n",
       "      <td>...</td>\n",
       "      <td>0.02389</td>\n",
       "      <td>0.06051</td>\n",
       "      <td>23.693</td>\n",
       "      <td>1</td>\n",
       "      <td>0.407701</td>\n",
       "      <td>0.662668</td>\n",
       "      <td>-4.673241</td>\n",
       "      <td>0.261549</td>\n",
       "      <td>2.702355</td>\n",
       "      <td>0.274407</td>\n",
       "    </tr>\n",
       "    <tr>\n",
       "      <th>116</th>\n",
       "      <td>phon_R01_S27_2</td>\n",
       "      <td>158.219</td>\n",
       "      <td>442.557</td>\n",
       "      <td>71.948</td>\n",
       "      <td>0.00476</td>\n",
       "      <td>0.00003</td>\n",
       "      <td>0.00214</td>\n",
       "      <td>0.00207</td>\n",
       "      <td>0.00642</td>\n",
       "      <td>0.01458</td>\n",
       "      <td>...</td>\n",
       "      <td>0.01818</td>\n",
       "      <td>0.01554</td>\n",
       "      <td>26.356</td>\n",
       "      <td>1</td>\n",
       "      <td>0.450798</td>\n",
       "      <td>0.653823</td>\n",
       "      <td>-6.051233</td>\n",
       "      <td>0.273280</td>\n",
       "      <td>2.640798</td>\n",
       "      <td>0.170106</td>\n",
       "    </tr>\n",
       "    <tr>\n",
       "      <th>117</th>\n",
       "      <td>phon_R01_S27_3</td>\n",
       "      <td>170.756</td>\n",
       "      <td>450.247</td>\n",
       "      <td>79.032</td>\n",
       "      <td>0.00555</td>\n",
       "      <td>0.00003</td>\n",
       "      <td>0.00244</td>\n",
       "      <td>0.00261</td>\n",
       "      <td>0.00731</td>\n",
       "      <td>0.01725</td>\n",
       "      <td>...</td>\n",
       "      <td>0.02270</td>\n",
       "      <td>0.01802</td>\n",
       "      <td>25.690</td>\n",
       "      <td>1</td>\n",
       "      <td>0.486738</td>\n",
       "      <td>0.676023</td>\n",
       "      <td>-4.597834</td>\n",
       "      <td>0.372114</td>\n",
       "      <td>2.975889</td>\n",
       "      <td>0.282780</td>\n",
       "    </tr>\n",
       "    <tr>\n",
       "      <th>118</th>\n",
       "      <td>phon_R01_S27_4</td>\n",
       "      <td>178.285</td>\n",
       "      <td>442.824</td>\n",
       "      <td>82.063</td>\n",
       "      <td>0.00462</td>\n",
       "      <td>0.00003</td>\n",
       "      <td>0.00157</td>\n",
       "      <td>0.00194</td>\n",
       "      <td>0.00472</td>\n",
       "      <td>0.01279</td>\n",
       "      <td>...</td>\n",
       "      <td>0.01851</td>\n",
       "      <td>0.00856</td>\n",
       "      <td>25.020</td>\n",
       "      <td>1</td>\n",
       "      <td>0.470422</td>\n",
       "      <td>0.655239</td>\n",
       "      <td>-4.913137</td>\n",
       "      <td>0.393056</td>\n",
       "      <td>2.816781</td>\n",
       "      <td>0.251972</td>\n",
       "    </tr>\n",
       "    <tr>\n",
       "      <th>120</th>\n",
       "      <td>phon_R01_S27_6</td>\n",
       "      <td>128.940</td>\n",
       "      <td>479.697</td>\n",
       "      <td>88.251</td>\n",
       "      <td>0.00581</td>\n",
       "      <td>0.00005</td>\n",
       "      <td>0.00241</td>\n",
       "      <td>0.00314</td>\n",
       "      <td>0.00723</td>\n",
       "      <td>0.02008</td>\n",
       "      <td>...</td>\n",
       "      <td>0.02548</td>\n",
       "      <td>0.02350</td>\n",
       "      <td>24.743</td>\n",
       "      <td>1</td>\n",
       "      <td>0.487756</td>\n",
       "      <td>0.684130</td>\n",
       "      <td>-6.186128</td>\n",
       "      <td>0.279933</td>\n",
       "      <td>2.686240</td>\n",
       "      <td>0.152428</td>\n",
       "    </tr>\n",
       "    <tr>\n",
       "      <th>149</th>\n",
       "      <td>phon_R01_S35_4</td>\n",
       "      <td>202.632</td>\n",
       "      <td>565.740</td>\n",
       "      <td>177.258</td>\n",
       "      <td>0.01627</td>\n",
       "      <td>0.00008</td>\n",
       "      <td>0.00919</td>\n",
       "      <td>0.00963</td>\n",
       "      <td>0.02756</td>\n",
       "      <td>0.07170</td>\n",
       "      <td>...</td>\n",
       "      <td>0.10546</td>\n",
       "      <td>0.07889</td>\n",
       "      <td>14.989</td>\n",
       "      <td>1</td>\n",
       "      <td>0.427627</td>\n",
       "      <td>0.775708</td>\n",
       "      <td>-4.892495</td>\n",
       "      <td>0.262281</td>\n",
       "      <td>2.910213</td>\n",
       "      <td>0.270173</td>\n",
       "    </tr>\n",
       "    <tr>\n",
       "      <th>186</th>\n",
       "      <td>phon_R01_S49_4</td>\n",
       "      <td>116.556</td>\n",
       "      <td>592.030</td>\n",
       "      <td>86.228</td>\n",
       "      <td>0.00496</td>\n",
       "      <td>0.00004</td>\n",
       "      <td>0.00254</td>\n",
       "      <td>0.00263</td>\n",
       "      <td>0.00762</td>\n",
       "      <td>0.01660</td>\n",
       "      <td>...</td>\n",
       "      <td>0.02460</td>\n",
       "      <td>0.01397</td>\n",
       "      <td>23.958</td>\n",
       "      <td>0</td>\n",
       "      <td>0.566424</td>\n",
       "      <td>0.667654</td>\n",
       "      <td>-6.431119</td>\n",
       "      <td>0.153310</td>\n",
       "      <td>2.161936</td>\n",
       "      <td>0.120605</td>\n",
       "    </tr>\n",
       "    <tr>\n",
       "      <th>187</th>\n",
       "      <td>phon_R01_S49_5</td>\n",
       "      <td>116.342</td>\n",
       "      <td>581.289</td>\n",
       "      <td>94.246</td>\n",
       "      <td>0.00267</td>\n",
       "      <td>0.00002</td>\n",
       "      <td>0.00115</td>\n",
       "      <td>0.00148</td>\n",
       "      <td>0.00345</td>\n",
       "      <td>0.01300</td>\n",
       "      <td>...</td>\n",
       "      <td>0.01892</td>\n",
       "      <td>0.00680</td>\n",
       "      <td>25.023</td>\n",
       "      <td>0</td>\n",
       "      <td>0.528485</td>\n",
       "      <td>0.663884</td>\n",
       "      <td>-6.359018</td>\n",
       "      <td>0.116636</td>\n",
       "      <td>2.152083</td>\n",
       "      <td>0.138868</td>\n",
       "    </tr>\n",
       "    <tr>\n",
       "      <th>193</th>\n",
       "      <td>phon_R01_S50_5</td>\n",
       "      <td>198.764</td>\n",
       "      <td>396.961</td>\n",
       "      <td>74.904</td>\n",
       "      <td>0.00740</td>\n",
       "      <td>0.00004</td>\n",
       "      <td>0.00370</td>\n",
       "      <td>0.00390</td>\n",
       "      <td>0.01109</td>\n",
       "      <td>0.02296</td>\n",
       "      <td>...</td>\n",
       "      <td>0.03794</td>\n",
       "      <td>0.07223</td>\n",
       "      <td>19.020</td>\n",
       "      <td>0</td>\n",
       "      <td>0.451221</td>\n",
       "      <td>0.643956</td>\n",
       "      <td>-6.744577</td>\n",
       "      <td>0.207454</td>\n",
       "      <td>2.138608</td>\n",
       "      <td>0.123306</td>\n",
       "    </tr>\n",
       "  </tbody>\n",
       "</table>\n",
       "<p>11 rows × 24 columns</p>\n",
       "</div>"
      ],
      "text/plain": [
       "               name  MDVP:Fo(Hz)  MDVP:Fhi(Hz)  MDVP:Flo(Hz)  MDVP:Jitter(%)  \\\n",
       "73   phon_R01_S19_2      112.014       588.518       107.024         0.00533   \n",
       "102  phon_R01_S24_6      139.224       586.567        66.157         0.03011   \n",
       "115  phon_R01_S27_1      151.872       492.892        69.085         0.00856   \n",
       "116  phon_R01_S27_2      158.219       442.557        71.948         0.00476   \n",
       "117  phon_R01_S27_3      170.756       450.247        79.032         0.00555   \n",
       "118  phon_R01_S27_4      178.285       442.824        82.063         0.00462   \n",
       "120  phon_R01_S27_6      128.940       479.697        88.251         0.00581   \n",
       "149  phon_R01_S35_4      202.632       565.740       177.258         0.01627   \n",
       "186  phon_R01_S49_4      116.556       592.030        86.228         0.00496   \n",
       "187  phon_R01_S49_5      116.342       581.289        94.246         0.00267   \n",
       "193  phon_R01_S50_5      198.764       396.961        74.904         0.00740   \n",
       "\n",
       "     MDVP:Jitter(Abs)  MDVP:RAP  MDVP:PPQ  Jitter:DDP  MDVP:Shimmer  ...  \\\n",
       "73            0.00005   0.00268   0.00329     0.00805       0.02448  ...   \n",
       "102           0.00022   0.01854   0.01628     0.05563       0.09419  ...   \n",
       "115           0.00006   0.00404   0.00385     0.01211       0.01843  ...   \n",
       "116           0.00003   0.00214   0.00207     0.00642       0.01458  ...   \n",
       "117           0.00003   0.00244   0.00261     0.00731       0.01725  ...   \n",
       "118           0.00003   0.00157   0.00194     0.00472       0.01279  ...   \n",
       "120           0.00005   0.00241   0.00314     0.00723       0.02008  ...   \n",
       "149           0.00008   0.00919   0.00963     0.02756       0.07170  ...   \n",
       "186           0.00004   0.00254   0.00263     0.00762       0.01660  ...   \n",
       "187           0.00002   0.00115   0.00148     0.00345       0.01300  ...   \n",
       "193           0.00004   0.00370   0.00390     0.01109       0.02296  ...   \n",
       "\n",
       "     Shimmer:DDA      NHR     HNR  status      RPDE       DFA   spread1  \\\n",
       "73       0.04120  0.00623  24.178       1  0.509127  0.789532 -5.389129   \n",
       "102      0.16654  0.25930  10.489       1  0.596362  0.641418 -3.269487   \n",
       "115      0.02389  0.06051  23.693       1  0.407701  0.662668 -4.673241   \n",
       "116      0.01818  0.01554  26.356       1  0.450798  0.653823 -6.051233   \n",
       "117      0.02270  0.01802  25.690       1  0.486738  0.676023 -4.597834   \n",
       "118      0.01851  0.00856  25.020       1  0.470422  0.655239 -4.913137   \n",
       "120      0.02548  0.02350  24.743       1  0.487756  0.684130 -6.186128   \n",
       "149      0.10546  0.07889  14.989       1  0.427627  0.775708 -4.892495   \n",
       "186      0.02460  0.01397  23.958       0  0.566424  0.667654 -6.431119   \n",
       "187      0.01892  0.00680  25.023       0  0.528485  0.663884 -6.359018   \n",
       "193      0.03794  0.07223  19.020       0  0.451221  0.643956 -6.744577   \n",
       "\n",
       "      spread2        D2       PPE  \n",
       "73   0.306636  1.928708  0.225461  \n",
       "102  0.270641  2.690917  0.444774  \n",
       "115  0.261549  2.702355  0.274407  \n",
       "116  0.273280  2.640798  0.170106  \n",
       "117  0.372114  2.975889  0.282780  \n",
       "118  0.393056  2.816781  0.251972  \n",
       "120  0.279933  2.686240  0.152428  \n",
       "149  0.262281  2.910213  0.270173  \n",
       "186  0.153310  2.161936  0.120605  \n",
       "187  0.116636  2.152083  0.138868  \n",
       "193  0.207454  2.138608  0.123306  \n",
       "\n",
       "[11 rows x 24 columns]"
      ]
     },
     "execution_count": 41,
     "metadata": {},
     "output_type": "execute_result"
    }
   ],
   "source": [
    "#opening the dataset of high vocal frequency recordings which are outliers\n",
    "park_data.loc[park_data['MDVP:Fhi(Hz)'] > fhi_upper_inner_fence]"
   ]
  },
  {
   "cell_type": "markdown",
   "id": "c8eebd2f",
   "metadata": {},
   "source": [
    "We can obeserve 97,which makes 49.74% of the total number of recordings with high vocal frequency(thus 195) is less than the median.11 recordings,which is 5.6% have etremely high vocal frequency than the normal distribution. \n",
    "\n",
    "the dataset above shows the extremely high recording. It can be observed that out the 11 recordings 8 tested positive to parkinsons with 3 testing negative. Again, 5 of the 8 recordings testing positive is from one patient."
   ]
  },
  {
   "cell_type": "markdown",
   "id": "1eb8f5a9",
   "metadata": {},
   "source": [
    "### MDVP:Flo(Hz)"
   ]
  },
  {
   "cell_type": "code",
   "execution_count": 42,
   "id": "bb3212d1",
   "metadata": {},
   "outputs": [
    {
     "data": {
      "text/plain": [
       "count    195.000000\n",
       "mean     116.324631\n",
       "std       43.521413\n",
       "min       65.476000\n",
       "25%       84.291000\n",
       "50%      104.315000\n",
       "75%      140.018500\n",
       "max      239.170000\n",
       "Name: MDVP:Flo(Hz), dtype: float64"
      ]
     },
     "execution_count": 42,
     "metadata": {},
     "output_type": "execute_result"
    }
   ],
   "source": [
    "park_data['MDVP:Flo(Hz)'].describe()"
   ]
  },
  {
   "cell_type": "code",
   "execution_count": 43,
   "id": "1c445b89",
   "metadata": {
    "scrolled": false
   },
   "outputs": [
    {
     "data": {
      "image/png": "[encoded data removed]",
      "text/plain": [
       "<Figure size 432x288 with 1 Axes>"
      ]
     },
     "metadata": {
      "needs_background": "light"
     },
     "output_type": "display_data"
    }
   ],
   "source": [
    "#checking the kind of distribution of the minimum vocal findamental frequency\n",
    "plt.hist(park_data['MDVP:Flo(Hz)'])\n",
    "plt.show()"
   ]
  },
  {
   "cell_type": "code",
   "execution_count": 44,
   "id": "67873566",
   "metadata": {
    "scrolled": true
   },
   "outputs": [
    {
     "data": {
      "text/plain": [
       "{'whiskers': [<matplotlib.lines.Line2D at 0xb36c2d9a90>,\n",
       "  <matplotlib.lines.Line2D at 0xb36c2d9e20>],\n",
       " 'caps': [<matplotlib.lines.Line2D at 0xb36c2e71f0>,\n",
       "  <matplotlib.lines.Line2D at 0xb36c2e7580>],\n",
       " 'boxes': [<matplotlib.lines.Line2D at 0xb36c2d9700>],\n",
       " 'medians': [<matplotlib.lines.Line2D at 0xb36c2e7910>],\n",
       " 'fliers': [<matplotlib.lines.Line2D at 0xb36c2e7ca0>],\n",
       " 'means': []}"
      ]
     },
     "execution_count": 44,
     "metadata": {},
     "output_type": "execute_result"
    },
    {
     "data": {
      "image/png": "[encoded data removed]",
      "text/plain": [
       "<Figure size 432x288 with 1 Axes>"
      ]
     },
     "metadata": {
      "needs_background": "light"
     },
     "output_type": "display_data"
    }
   ],
   "source": [
    "plt.boxplot(park_data['MDVP:Flo(Hz)'])"
   ]
  },
  {
   "cell_type": "markdown",
   "id": "29563052",
   "metadata": {},
   "source": [
    "from the histogram and boxplot, we can see the distribution is right skewd. we can also observe most frequncy from the first and third quartiles and a few points as outliers"
   ]
  },
  {
   "cell_type": "code",
   "execution_count": 45,
   "id": "1f3a9942",
   "metadata": {},
   "outputs": [
    {
     "name": "stdout",
     "output_type": "stream",
     "text": [
      "0.6997500000000088\n",
      "223.60974999999996\n"
     ]
    }
   ],
   "source": [
    "#parameters\n",
    "flo_first_quartile = 84.291000\n",
    "flo_second_quartile = 104.315000\n",
    "flo_third_quartile = 140.018500\n",
    "flo_mean = 116.324631\n",
    "flo_IQR = flo_third_quartile - flo_first_quartile\n",
    "flo_lower_inner_fence = flo_first_quartile -(1.5 * flo_IQR) #lower outlier range\n",
    "flo_upper_inner_fence = flo_third_quartile + (1.5 *flo_IQR)  #upper outlier range\n",
    "print(flo_lower_inner_fence)\n",
    "print(flo_upper_inner_fence)\n",
    "\n"
   ]
  },
  {
   "cell_type": "markdown",
   "id": "0ecf796e",
   "metadata": {},
   "source": [
    "from the above, the data sets below 0.6999 and above 223.609 are outliers"
   ]
  },
  {
   "cell_type": "code",
   "execution_count": 46,
   "id": "62e2a25c",
   "metadata": {},
   "outputs": [
    {
     "data": {
      "text/plain": [
       "133"
      ]
     },
     "execution_count": 46,
     "metadata": {},
     "output_type": "execute_result"
    }
   ],
   "source": [
    "#Accessing the number of recordings with low frequency below the mean\n",
    "len(park_data.loc[park_data['MDVP:Flo(Hz)'] < flo_mean])\n"
   ]
  },
  {
   "cell_type": "code",
   "execution_count": 47,
   "id": "cf7fc571",
   "metadata": {},
   "outputs": [
    {
     "data": {
      "text/plain": [
       "97"
      ]
     },
     "execution_count": 47,
     "metadata": {},
     "output_type": "execute_result"
    }
   ],
   "source": [
    "#Accessing the number of recordings with low frequency below the median\n",
    "len(park_data.loc[park_data['MDVP:Flo(Hz)'] < flo_second_quartile])"
   ]
  },
  {
   "cell_type": "code",
   "execution_count": 48,
   "id": "d916eca7",
   "metadata": {
    "scrolled": true
   },
   "outputs": [
    {
     "data": {
      "text/plain": [
       "9"
      ]
     },
     "execution_count": 48,
     "metadata": {},
     "output_type": "execute_result"
    }
   ],
   "source": [
    "#Accessing number of low vocal frequencies which are outliers \n",
    "len(park_data.loc[park_data['MDVP:Flo(Hz)'] > flo_upper_inner_fence])"
   ]
  },
  {
   "cell_type": "code",
   "execution_count": 49,
   "id": "f19c6f6a",
   "metadata": {
    "scrolled": false
   },
   "outputs": [
    {
     "data": {
      "text/html": [
       "<div>\n",
       "<style scoped>\n",
       "    .dataframe tbody tr th:only-of-type {\n",
       "        vertical-align: middle;\n",
       "    }\n",
       "\n",
       "    .dataframe tbody tr th {\n",
       "        vertical-align: top;\n",
       "    }\n",
       "\n",
       "    .dataframe thead th {\n",
       "        text-align: right;\n",
       "    }\n",
       "</style>\n",
       "<table border=\"1\" class=\"dataframe\">\n",
       "  <thead>\n",
       "    <tr style=\"text-align: right;\">\n",
       "      <th></th>\n",
       "      <th>name</th>\n",
       "      <th>MDVP:Fo(Hz)</th>\n",
       "      <th>MDVP:Fhi(Hz)</th>\n",
       "      <th>MDVP:Flo(Hz)</th>\n",
       "      <th>MDVP:Jitter(%)</th>\n",
       "      <th>MDVP:Jitter(Abs)</th>\n",
       "      <th>MDVP:RAP</th>\n",
       "      <th>MDVP:PPQ</th>\n",
       "      <th>Jitter:DDP</th>\n",
       "      <th>MDVP:Shimmer</th>\n",
       "      <th>...</th>\n",
       "      <th>Shimmer:DDA</th>\n",
       "      <th>NHR</th>\n",
       "      <th>HNR</th>\n",
       "      <th>status</th>\n",
       "      <th>RPDE</th>\n",
       "      <th>DFA</th>\n",
       "      <th>spread1</th>\n",
       "      <th>spread2</th>\n",
       "      <th>D2</th>\n",
       "      <th>PPE</th>\n",
       "    </tr>\n",
       "  </thead>\n",
       "  <tbody>\n",
       "    <tr>\n",
       "      <th>42</th>\n",
       "      <td>phon_R01_S10_1</td>\n",
       "      <td>237.226</td>\n",
       "      <td>247.326</td>\n",
       "      <td>225.227</td>\n",
       "      <td>0.00298</td>\n",
       "      <td>0.000010</td>\n",
       "      <td>0.00169</td>\n",
       "      <td>0.00182</td>\n",
       "      <td>0.00507</td>\n",
       "      <td>0.01752</td>\n",
       "      <td>...</td>\n",
       "      <td>0.03104</td>\n",
       "      <td>0.00740</td>\n",
       "      <td>22.736</td>\n",
       "      <td>0</td>\n",
       "      <td>0.305062</td>\n",
       "      <td>0.654172</td>\n",
       "      <td>-7.310550</td>\n",
       "      <td>0.098648</td>\n",
       "      <td>2.416838</td>\n",
       "      <td>0.095032</td>\n",
       "    </tr>\n",
       "    <tr>\n",
       "      <th>43</th>\n",
       "      <td>phon_R01_S10_2</td>\n",
       "      <td>241.404</td>\n",
       "      <td>248.834</td>\n",
       "      <td>232.483</td>\n",
       "      <td>0.00281</td>\n",
       "      <td>0.000010</td>\n",
       "      <td>0.00157</td>\n",
       "      <td>0.00173</td>\n",
       "      <td>0.00470</td>\n",
       "      <td>0.01760</td>\n",
       "      <td>...</td>\n",
       "      <td>0.03017</td>\n",
       "      <td>0.00675</td>\n",
       "      <td>23.145</td>\n",
       "      <td>0</td>\n",
       "      <td>0.457702</td>\n",
       "      <td>0.634267</td>\n",
       "      <td>-6.793547</td>\n",
       "      <td>0.158266</td>\n",
       "      <td>2.256699</td>\n",
       "      <td>0.117399</td>\n",
       "    </tr>\n",
       "    <tr>\n",
       "      <th>44</th>\n",
       "      <td>phon_R01_S10_3</td>\n",
       "      <td>243.439</td>\n",
       "      <td>250.912</td>\n",
       "      <td>232.435</td>\n",
       "      <td>0.00210</td>\n",
       "      <td>0.000009</td>\n",
       "      <td>0.00109</td>\n",
       "      <td>0.00137</td>\n",
       "      <td>0.00327</td>\n",
       "      <td>0.01419</td>\n",
       "      <td>...</td>\n",
       "      <td>0.02330</td>\n",
       "      <td>0.00454</td>\n",
       "      <td>25.368</td>\n",
       "      <td>0</td>\n",
       "      <td>0.438296</td>\n",
       "      <td>0.635285</td>\n",
       "      <td>-7.057869</td>\n",
       "      <td>0.091608</td>\n",
       "      <td>2.330716</td>\n",
       "      <td>0.091470</td>\n",
       "    </tr>\n",
       "    <tr>\n",
       "      <th>45</th>\n",
       "      <td>phon_R01_S10_4</td>\n",
       "      <td>242.852</td>\n",
       "      <td>255.034</td>\n",
       "      <td>227.911</td>\n",
       "      <td>0.00225</td>\n",
       "      <td>0.000009</td>\n",
       "      <td>0.00117</td>\n",
       "      <td>0.00139</td>\n",
       "      <td>0.00350</td>\n",
       "      <td>0.01494</td>\n",
       "      <td>...</td>\n",
       "      <td>0.02542</td>\n",
       "      <td>0.00476</td>\n",
       "      <td>25.032</td>\n",
       "      <td>0</td>\n",
       "      <td>0.431285</td>\n",
       "      <td>0.638928</td>\n",
       "      <td>-6.995820</td>\n",
       "      <td>0.102083</td>\n",
       "      <td>2.365800</td>\n",
       "      <td>0.102706</td>\n",
       "    </tr>\n",
       "    <tr>\n",
       "      <th>46</th>\n",
       "      <td>phon_R01_S10_5</td>\n",
       "      <td>245.510</td>\n",
       "      <td>262.090</td>\n",
       "      <td>231.848</td>\n",
       "      <td>0.00235</td>\n",
       "      <td>0.000010</td>\n",
       "      <td>0.00127</td>\n",
       "      <td>0.00148</td>\n",
       "      <td>0.00380</td>\n",
       "      <td>0.01608</td>\n",
       "      <td>...</td>\n",
       "      <td>0.02719</td>\n",
       "      <td>0.00476</td>\n",
       "      <td>24.602</td>\n",
       "      <td>0</td>\n",
       "      <td>0.467489</td>\n",
       "      <td>0.631653</td>\n",
       "      <td>-7.156076</td>\n",
       "      <td>0.127642</td>\n",
       "      <td>2.392122</td>\n",
       "      <td>0.097336</td>\n",
       "    </tr>\n",
       "    <tr>\n",
       "      <th>63</th>\n",
       "      <td>phon_R01_S17_4</td>\n",
       "      <td>228.832</td>\n",
       "      <td>234.619</td>\n",
       "      <td>223.634</td>\n",
       "      <td>0.00296</td>\n",
       "      <td>0.000010</td>\n",
       "      <td>0.00175</td>\n",
       "      <td>0.00155</td>\n",
       "      <td>0.00526</td>\n",
       "      <td>0.01644</td>\n",
       "      <td>...</td>\n",
       "      <td>0.02647</td>\n",
       "      <td>0.00351</td>\n",
       "      <td>25.964</td>\n",
       "      <td>0</td>\n",
       "      <td>0.256570</td>\n",
       "      <td>0.683296</td>\n",
       "      <td>-7.245620</td>\n",
       "      <td>0.018689</td>\n",
       "      <td>2.498224</td>\n",
       "      <td>0.093534</td>\n",
       "    </tr>\n",
       "    <tr>\n",
       "      <th>166</th>\n",
       "      <td>phon_R01_S42_2</td>\n",
       "      <td>237.323</td>\n",
       "      <td>243.709</td>\n",
       "      <td>229.256</td>\n",
       "      <td>0.00303</td>\n",
       "      <td>0.000010</td>\n",
       "      <td>0.00173</td>\n",
       "      <td>0.00159</td>\n",
       "      <td>0.00519</td>\n",
       "      <td>0.01242</td>\n",
       "      <td>...</td>\n",
       "      <td>0.02089</td>\n",
       "      <td>0.00533</td>\n",
       "      <td>24.679</td>\n",
       "      <td>0</td>\n",
       "      <td>0.384868</td>\n",
       "      <td>0.626710</td>\n",
       "      <td>-7.018057</td>\n",
       "      <td>0.176316</td>\n",
       "      <td>1.852402</td>\n",
       "      <td>0.091604</td>\n",
       "    </tr>\n",
       "    <tr>\n",
       "      <th>167</th>\n",
       "      <td>phon_R01_S42_3</td>\n",
       "      <td>260.105</td>\n",
       "      <td>264.919</td>\n",
       "      <td>237.303</td>\n",
       "      <td>0.00339</td>\n",
       "      <td>0.000010</td>\n",
       "      <td>0.00205</td>\n",
       "      <td>0.00186</td>\n",
       "      <td>0.00616</td>\n",
       "      <td>0.02030</td>\n",
       "      <td>...</td>\n",
       "      <td>0.03557</td>\n",
       "      <td>0.00910</td>\n",
       "      <td>21.083</td>\n",
       "      <td>0</td>\n",
       "      <td>0.440988</td>\n",
       "      <td>0.628058</td>\n",
       "      <td>-7.517934</td>\n",
       "      <td>0.160414</td>\n",
       "      <td>1.881767</td>\n",
       "      <td>0.075587</td>\n",
       "    </tr>\n",
       "    <tr>\n",
       "      <th>170</th>\n",
       "      <td>phon_R01_S42_6</td>\n",
       "      <td>244.990</td>\n",
       "      <td>272.210</td>\n",
       "      <td>239.170</td>\n",
       "      <td>0.00451</td>\n",
       "      <td>0.000020</td>\n",
       "      <td>0.00279</td>\n",
       "      <td>0.00237</td>\n",
       "      <td>0.00837</td>\n",
       "      <td>0.01897</td>\n",
       "      <td>...</td>\n",
       "      <td>0.03253</td>\n",
       "      <td>0.01049</td>\n",
       "      <td>21.528</td>\n",
       "      <td>0</td>\n",
       "      <td>0.522812</td>\n",
       "      <td>0.646818</td>\n",
       "      <td>-7.304500</td>\n",
       "      <td>0.171088</td>\n",
       "      <td>2.095237</td>\n",
       "      <td>0.096220</td>\n",
       "    </tr>\n",
       "  </tbody>\n",
       "</table>\n",
       "<p>9 rows × 24 columns</p>\n",
       "</div>"
      ],
      "text/plain": [
       "               name  MDVP:Fo(Hz)  MDVP:Fhi(Hz)  MDVP:Flo(Hz)  MDVP:Jitter(%)  \\\n",
       "42   phon_R01_S10_1      237.226       247.326       225.227         0.00298   \n",
       "43   phon_R01_S10_2      241.404       248.834       232.483         0.00281   \n",
       "44   phon_R01_S10_3      243.439       250.912       232.435         0.00210   \n",
       "45   phon_R01_S10_4      242.852       255.034       227.911         0.00225   \n",
       "46   phon_R01_S10_5      245.510       262.090       231.848         0.00235   \n",
       "63   phon_R01_S17_4      228.832       234.619       223.634         0.00296   \n",
       "166  phon_R01_S42_2      237.323       243.709       229.256         0.00303   \n",
       "167  phon_R01_S42_3      260.105       264.919       237.303         0.00339   \n",
       "170  phon_R01_S42_6      244.990       272.210       239.170         0.00451   \n",
       "\n",
       "     MDVP:Jitter(Abs)  MDVP:RAP  MDVP:PPQ  Jitter:DDP  MDVP:Shimmer  ...  \\\n",
       "42           0.000010   0.00169   0.00182     0.00507       0.01752  ...   \n",
       "43           0.000010   0.00157   0.00173     0.00470       0.01760  ...   \n",
       "44           0.000009   0.00109   0.00137     0.00327       0.01419  ...   \n",
       "45           0.000009   0.00117   0.00139     0.00350       0.01494  ...   \n",
       "46           0.000010   0.00127   0.00148     0.00380       0.01608  ...   \n",
       "63           0.000010   0.00175   0.00155     0.00526       0.01644  ...   \n",
       "166          0.000010   0.00173   0.00159     0.00519       0.01242  ...   \n",
       "167          0.000010   0.00205   0.00186     0.00616       0.02030  ...   \n",
       "170          0.000020   0.00279   0.00237     0.00837       0.01897  ...   \n",
       "\n",
       "     Shimmer:DDA      NHR     HNR  status      RPDE       DFA   spread1  \\\n",
       "42       0.03104  0.00740  22.736       0  0.305062  0.654172 -7.310550   \n",
       "43       0.03017  0.00675  23.145       0  0.457702  0.634267 -6.793547   \n",
       "44       0.02330  0.00454  25.368       0  0.438296  0.635285 -7.057869   \n",
       "45       0.02542  0.00476  25.032       0  0.431285  0.638928 -6.995820   \n",
       "46       0.02719  0.00476  24.602       0  0.467489  0.631653 -7.156076   \n",
       "63       0.02647  0.00351  25.964       0  0.256570  0.683296 -7.245620   \n",
       "166      0.02089  0.00533  24.679       0  0.384868  0.626710 -7.018057   \n",
       "167      0.03557  0.00910  21.083       0  0.440988  0.628058 -7.517934   \n",
       "170      0.03253  0.01049  21.528       0  0.522812  0.646818 -7.304500   \n",
       "\n",
       "      spread2        D2       PPE  \n",
       "42   0.098648  2.416838  0.095032  \n",
       "43   0.158266  2.256699  0.117399  \n",
       "44   0.091608  2.330716  0.091470  \n",
       "45   0.102083  2.365800  0.102706  \n",
       "46   0.127642  2.392122  0.097336  \n",
       "63   0.018689  2.498224  0.093534  \n",
       "166  0.176316  1.852402  0.091604  \n",
       "167  0.160414  1.881767  0.075587  \n",
       "170  0.171088  2.095237  0.096220  \n",
       "\n",
       "[9 rows x 24 columns]"
      ]
     },
     "execution_count": 49,
     "metadata": {},
     "output_type": "execute_result"
    }
   ],
   "source": [
    "#opening the dataset\n",
    "park_data.loc[park_data['MDVP:Flo(Hz)'] > flo_upper_inner_fence]"
   ]
  },
  {
   "cell_type": "markdown",
   "id": "7629f922",
   "metadata": {},
   "source": [
    "It can be observed that the median 104.3 which made 50% or less of the recordings had low frequency vocals out of 195. thus,a slight majority of the distribution had low frequency .However 9 (i.e 1.23%) of recordings had a higher low frequency vocal. \n",
    "\n",
    "Again, the data set above shows the name of the 1.23% of recordings with high low frequency.We can obvserve that,out of the 9 recordings, **(1)one patient had 5 recordings having a high low freqeuncy another patient had three(3) recordings and 1 patient recording same** "
   ]
  },
  {
   "cell_type": "markdown",
   "id": "ade91d95",
   "metadata": {},
   "source": [
    "#### D2"
   ]
  },
  {
   "cell_type": "code",
   "execution_count": 50,
   "id": "12b18241",
   "metadata": {
    "scrolled": true
   },
   "outputs": [
    {
     "data": {
      "text/plain": [
       "count    195.000000\n",
       "mean       2.381826\n",
       "std        0.382799\n",
       "min        1.423287\n",
       "25%        2.099125\n",
       "50%        2.361532\n",
       "75%        2.636456\n",
       "max        3.671155\n",
       "Name: D2, dtype: float64"
      ]
     },
     "execution_count": 50,
     "metadata": {},
     "output_type": "execute_result"
    }
   ],
   "source": [
    "#accessing the statistical data \n",
    "park_data['D2'].describe()"
   ]
  },
  {
   "cell_type": "code",
   "execution_count": 51,
   "id": "0319f9aa",
   "metadata": {
    "scrolled": false
   },
   "outputs": [
    {
     "data": {
      "image/png": "[encoded data removed]",
      "text/plain": [
       "<Figure size 432x288 with 1 Axes>"
      ]
     },
     "metadata": {
      "needs_background": "light"
     },
     "output_type": "display_data"
    }
   ],
   "source": [
    "plt.hist(park_data['D2'])\n",
    "plt.show()"
   ]
  },
  {
   "cell_type": "code",
   "execution_count": 52,
   "id": "07445e72",
   "metadata": {
    "scrolled": true
   },
   "outputs": [
    {
     "data": {
      "text/plain": [
       "{'whiskers': [<matplotlib.lines.Line2D at 0xb36c320550>,\n",
       "  <matplotlib.lines.Line2D at 0xb36c320220>],\n",
       " 'caps': [<matplotlib.lines.Line2D at 0xb3697c6f10>,\n",
       "  <matplotlib.lines.Line2D at 0xb3697c6490>],\n",
       " 'boxes': [<matplotlib.lines.Line2D at 0xb36c320730>],\n",
       " 'medians': [<matplotlib.lines.Line2D at 0xb3697c61f0>],\n",
       " 'fliers': [<matplotlib.lines.Line2D at 0xb3697c6880>],\n",
       " 'means': []}"
      ]
     },
     "execution_count": 52,
     "metadata": {},
     "output_type": "execute_result"
    },
    {
     "data": {
      "image/png": "[encoded data removed]",
      "text/plain": [
       "<Figure size 432x288 with 1 Axes>"
      ]
     },
     "metadata": {
      "needs_background": "light"
     },
     "output_type": "display_data"
    }
   ],
   "source": [
    "plt.boxplot(park_data['D2'])"
   ]
  },
  {
   "cell_type": "code",
   "execution_count": 53,
   "id": "2841bb01",
   "metadata": {},
   "outputs": [
    {
     "name": "stdout",
     "output_type": "stream",
     "text": [
      "1.2931285\n",
      "3.4424525\n"
     ]
    }
   ],
   "source": [
    "#parameters\n",
    "d2_first_quartile = 2.099125\n",
    "d2_second_quartile =  2.361532\n",
    "d2_third_quartile = 2.636456\n",
    "d2_mean = 2.381826\n",
    "d2_IQR = d2_third_quartile - d2_first_quartile\n",
    "d2_lower_inner_fence = d2_first_quartile -(1.5 * d2_IQR) #lower outlier range\n",
    "d2_upper_inner_fence = d2_third_quartile + (1.5 *d2_IQR)  #upper outlier range\n",
    "print(d2_lower_inner_fence)\n",
    "print(d2_upper_inner_fence)"
   ]
  },
  {
   "cell_type": "code",
   "execution_count": 54,
   "id": "5c8f6f6a",
   "metadata": {
    "scrolled": true
   },
   "outputs": [
    {
     "data": {
      "text/plain": [
       "1"
      ]
     },
     "execution_count": 54,
     "metadata": {},
     "output_type": "execute_result"
    }
   ],
   "source": [
    "#accessing the number dynamic complexity in the recordings which are outliers\n",
    "\n",
    "len(park_data.loc[park_data['D2'] > d2_upper_inner_fence])"
   ]
  },
  {
   "cell_type": "code",
   "execution_count": 55,
   "id": "8c80b323",
   "metadata": {
    "scrolled": true
   },
   "outputs": [
    {
     "data": {
      "text/plain": [
       "102"
      ]
     },
     "execution_count": 55,
     "metadata": {},
     "output_type": "execute_result"
    }
   ],
   "source": [
    "#accessing the number dynamic complexity in the recordings below the mean\n",
    "\n",
    "len(park_data.loc[park_data['D2'] < d2_mean])"
   ]
  },
  {
   "cell_type": "code",
   "execution_count": 56,
   "id": "b1ce6654",
   "metadata": {
    "scrolled": true
   },
   "outputs": [
    {
     "data": {
      "text/plain": [
       "97"
      ]
     },
     "execution_count": 56,
     "metadata": {},
     "output_type": "execute_result"
    }
   ],
   "source": [
    "#accessing the number dynamic complexity in the recordings below the median\n",
    "len(park_data.loc[park_data['D2'] < d2_second_quartile])"
   ]
  },
  {
   "cell_type": "code",
   "execution_count": 57,
   "id": "5feae5f3",
   "metadata": {
    "scrolled": false
   },
   "outputs": [
    {
     "data": {
      "text/html": [
       "<div>\n",
       "<style scoped>\n",
       "    .dataframe tbody tr th:only-of-type {\n",
       "        vertical-align: middle;\n",
       "    }\n",
       "\n",
       "    .dataframe tbody tr th {\n",
       "        vertical-align: top;\n",
       "    }\n",
       "\n",
       "    .dataframe thead th {\n",
       "        text-align: right;\n",
       "    }\n",
       "</style>\n",
       "<table border=\"1\" class=\"dataframe\">\n",
       "  <thead>\n",
       "    <tr style=\"text-align: right;\">\n",
       "      <th></th>\n",
       "      <th>name</th>\n",
       "      <th>MDVP:Fo(Hz)</th>\n",
       "      <th>MDVP:Fhi(Hz)</th>\n",
       "      <th>MDVP:Flo(Hz)</th>\n",
       "      <th>MDVP:Jitter(%)</th>\n",
       "      <th>MDVP:Jitter(Abs)</th>\n",
       "      <th>MDVP:RAP</th>\n",
       "      <th>MDVP:PPQ</th>\n",
       "      <th>Jitter:DDP</th>\n",
       "      <th>MDVP:Shimmer</th>\n",
       "      <th>...</th>\n",
       "      <th>Shimmer:DDA</th>\n",
       "      <th>NHR</th>\n",
       "      <th>HNR</th>\n",
       "      <th>status</th>\n",
       "      <th>RPDE</th>\n",
       "      <th>DFA</th>\n",
       "      <th>spread1</th>\n",
       "      <th>spread2</th>\n",
       "      <th>D2</th>\n",
       "      <th>PPE</th>\n",
       "    </tr>\n",
       "  </thead>\n",
       "  <tbody>\n",
       "    <tr>\n",
       "      <th>89</th>\n",
       "      <td>phon_R01_S21_6</td>\n",
       "      <td>179.711</td>\n",
       "      <td>225.93</td>\n",
       "      <td>144.878</td>\n",
       "      <td>0.00709</td>\n",
       "      <td>0.00004</td>\n",
       "      <td>0.00391</td>\n",
       "      <td>0.00419</td>\n",
       "      <td>0.01172</td>\n",
       "      <td>0.04313</td>\n",
       "      <td>...</td>\n",
       "      <td>0.06892</td>\n",
       "      <td>0.07223</td>\n",
       "      <td>11.866</td>\n",
       "      <td>1</td>\n",
       "      <td>0.590951</td>\n",
       "      <td>0.745526</td>\n",
       "      <td>-4.379411</td>\n",
       "      <td>0.375531</td>\n",
       "      <td>3.671155</td>\n",
       "      <td>0.332086</td>\n",
       "    </tr>\n",
       "  </tbody>\n",
       "</table>\n",
       "<p>1 rows × 24 columns</p>\n",
       "</div>"
      ],
      "text/plain": [
       "              name  MDVP:Fo(Hz)  MDVP:Fhi(Hz)  MDVP:Flo(Hz)  MDVP:Jitter(%)  \\\n",
       "89  phon_R01_S21_6      179.711        225.93       144.878         0.00709   \n",
       "\n",
       "    MDVP:Jitter(Abs)  MDVP:RAP  MDVP:PPQ  Jitter:DDP  MDVP:Shimmer  ...  \\\n",
       "89           0.00004   0.00391   0.00419     0.01172       0.04313  ...   \n",
       "\n",
       "    Shimmer:DDA      NHR     HNR  status      RPDE       DFA   spread1  \\\n",
       "89      0.06892  0.07223  11.866       1  0.590951  0.745526 -4.379411   \n",
       "\n",
       "     spread2        D2       PPE  \n",
       "89  0.375531  3.671155  0.332086  \n",
       "\n",
       "[1 rows x 24 columns]"
      ]
     },
     "execution_count": 57,
     "metadata": {},
     "output_type": "execute_result"
    }
   ],
   "source": [
    "#accessing the dataset containing the outliers\n",
    "park_data.loc[park_data['D2'] > d2_upper_inner_fence]"
   ]
  },
  {
   "cell_type": "markdown",
   "id": "255f4083",
   "metadata": {},
   "source": [
    "From the observations, one recording was outlier. Again, 97, thus 49.74% had recordings below the median "
   ]
  },
  {
   "cell_type": "markdown",
   "id": "c61c5054",
   "metadata": {},
   "source": [
    "##### MDVP:APQ"
   ]
  },
  {
   "cell_type": "code",
   "execution_count": 58,
   "id": "b55bcabf",
   "metadata": {},
   "outputs": [
    {
     "data": {
      "text/plain": [
       "count    195.000000\n",
       "mean       0.024081\n",
       "std        0.016947\n",
       "min        0.007190\n",
       "25%        0.013080\n",
       "50%        0.018260\n",
       "75%        0.029400\n",
       "max        0.137780\n",
       "Name: MDVP:APQ, dtype: float64"
      ]
     },
     "execution_count": 58,
     "metadata": {},
     "output_type": "execute_result"
    }
   ],
   "source": [
    "#accessing stat info of MDVP:APQ\n",
    "park_data['MDVP:APQ'].describe()"
   ]
  },
  {
   "cell_type": "code",
   "execution_count": 59,
   "id": "898b3704",
   "metadata": {},
   "outputs": [
    {
     "data": {
      "image/png": "[encoded data removed]",
      "text/plain": [
       "<Figure size 432x288 with 1 Axes>"
      ]
     },
     "metadata": {
      "needs_background": "light"
     },
     "output_type": "display_data"
    }
   ],
   "source": [
    "#plotting the histogram \n",
    "plt.hist(park_data['MDVP:APQ'])\n",
    "plt.show()"
   ]
  },
  {
   "cell_type": "code",
   "execution_count": 60,
   "id": "e40351c4",
   "metadata": {},
   "outputs": [
    {
     "data": {
      "text/plain": [
       "{'whiskers': [<matplotlib.lines.Line2D at 0xb36c0a96a0>,\n",
       "  <matplotlib.lines.Line2D at 0xb36c0a16d0>],\n",
       " 'caps': [<matplotlib.lines.Line2D at 0xb36c0a1070>,\n",
       "  <matplotlib.lines.Line2D at 0xb36c0a13d0>],\n",
       " 'boxes': [<matplotlib.lines.Line2D at 0xb36c0a9130>],\n",
       " 'medians': [<matplotlib.lines.Line2D at 0xb36c0a11c0>],\n",
       " 'fliers': [<matplotlib.lines.Line2D at 0xb36c0518b0>],\n",
       " 'means': []}"
      ]
     },
     "execution_count": 60,
     "metadata": {},
     "output_type": "execute_result"
    },
    {
     "data": {
      "image/png": "[encoded data removed]",
      "text/plain": [
       "<Figure size 432x288 with 1 Axes>"
      ]
     },
     "metadata": {
      "needs_background": "light"
     },
     "output_type": "display_data"
    }
   ],
   "source": [
    "#plotting boxplot\n",
    "plt.boxplot(park_data['MDVP:APQ'])"
   ]
  },
  {
   "cell_type": "markdown",
   "id": "a6a650f5",
   "metadata": {},
   "source": [
    "From the above histogram and boxplot, we can observe a right skewed distribution. we can also observe a majority of data distribution at 50% or less. there is quite a number of outliers in the distribution. we will analyze them."
   ]
  },
  {
   "cell_type": "code",
   "execution_count": 61,
   "id": "77eb0176",
   "metadata": {
    "scrolled": true
   },
   "outputs": [
    {
     "name": "stdout",
     "output_type": "stream",
     "text": [
      "-0.011400000000000002\n",
      "0.05388\n",
      "0.07836\n"
     ]
    }
   ],
   "source": [
    "#parameters\n",
    "APQ_mean =  0.024081\n",
    "APQ_first_quartile =  0.013080\n",
    "APQ_second_quartile =  0.018260\n",
    "APQ_third_quartile =  0.029400\n",
    "APQ_IQR = APQ_third_quartile - APQ_first_quartile \n",
    "APQ_upper_inner_fence = APQ_third_quartile + (1.5 * APQ_IQR) #upper outier\n",
    "APQ_lower_inner_fence = APQ_first_quartile - (1.5 * APQ_IQR) #lower outlier \n",
    "APQ_upper_outer_fence = APQ_third_quartile + (3 * APQ_IQR) #extreme outlier\n",
    "print(APQ_lower_inner_fence)\n",
    "print(APQ_upper_inner_fence)\n",
    "print(APQ_upper_outer_fence)"
   ]
  },
  {
   "cell_type": "code",
   "execution_count": 62,
   "id": "ec387a57",
   "metadata": {},
   "outputs": [
    {
     "data": {
      "text/plain": [
       "126"
      ]
     },
     "execution_count": 62,
     "metadata": {},
     "output_type": "execute_result"
    }
   ],
   "source": [
    "#accessing the number of APQ(variation in amplitude) below the mean\n",
    "len(park_data.loc[park_data['MDVP:APQ'] < APQ_mean])"
   ]
  },
  {
   "cell_type": "code",
   "execution_count": 63,
   "id": "4ad66c0c",
   "metadata": {},
   "outputs": [
    {
     "data": {
      "text/plain": [
       "97"
      ]
     },
     "execution_count": 63,
     "metadata": {},
     "output_type": "execute_result"
    }
   ],
   "source": [
    "#accessing the number of APQ below the median\n",
    "len(park_data.loc[park_data['MDVP:APQ'] < APQ_second_quartile])"
   ]
  },
  {
   "cell_type": "code",
   "execution_count": 64,
   "id": "08514d36",
   "metadata": {},
   "outputs": [
    {
     "data": {
      "text/plain": [
       "9"
      ]
     },
     "execution_count": 64,
     "metadata": {},
     "output_type": "execute_result"
    }
   ],
   "source": [
    "#accessing the number of APQ which are mid outliers(beyond the max point only)\n",
    "len(park_data.loc[(park_data['MDVP:APQ'] > APQ_upper_inner_fence) & (park_data['MDVP:APQ'] < APQ_upper_outer_fence)])"
   ]
  },
  {
   "cell_type": "code",
   "execution_count": 65,
   "id": "2fcc3ca5",
   "metadata": {},
   "outputs": [
    {
     "data": {
      "text/plain": [
       "3"
      ]
     },
     "execution_count": 65,
     "metadata": {},
     "output_type": "execute_result"
    }
   ],
   "source": [
    "#accessing the number of APQ which are extreme outliers\n",
    "len(park_data.loc[park_data['MDVP:APQ'] > APQ_upper_outer_fence])"
   ]
  },
  {
   "cell_type": "markdown",
   "id": "50a4271c",
   "metadata": {},
   "source": [
    "126 recordings thus 64.61%  are below the mean. 49.74% of the data recordings are below the median. On outliers, 9 recordings were slightly above the maximum point of the distribution and 3 recordings were widely apart from the data distributions"
   ]
  },
  {
   "cell_type": "markdown",
   "id": "2bd2b6a5",
   "metadata": {},
   "source": [
    "#### Jitter:DDP "
   ]
  },
  {
   "cell_type": "code",
   "execution_count": 66,
   "id": "245388de",
   "metadata": {},
   "outputs": [
    {
     "data": {
      "text/plain": [
       "count    195.000000\n",
       "mean       0.009920\n",
       "std        0.008903\n",
       "min        0.002040\n",
       "25%        0.004985\n",
       "50%        0.007490\n",
       "75%        0.011505\n",
       "max        0.064330\n",
       "Name: Jitter:DDP, dtype: float64"
      ]
     },
     "execution_count": 66,
     "metadata": {},
     "output_type": "execute_result"
    }
   ],
   "source": [
    "#acessing the statistical info\n",
    "park_data['Jitter:DDP'].describe()\n"
   ]
  },
  {
   "cell_type": "code",
   "execution_count": 67,
   "id": "284ce4f1",
   "metadata": {},
   "outputs": [
    {
     "data": {
      "image/png": "[encoded data removed]",
      "text/plain": [
       "<Figure size 432x288 with 1 Axes>"
      ]
     },
     "metadata": {
      "needs_background": "light"
     },
     "output_type": "display_data"
    }
   ],
   "source": [
    "#plotting histogram\n",
    "plt.hist(park_data['Jitter:DDP'])\n",
    "plt.show()"
   ]
  },
  {
   "cell_type": "code",
   "execution_count": 68,
   "id": "c1fa650c",
   "metadata": {},
   "outputs": [
    {
     "data": {
      "text/plain": [
       "{'whiskers': [<matplotlib.lines.Line2D at 0xb36c323dc0>,\n",
       "  <matplotlib.lines.Line2D at 0xb36c323820>],\n",
       " 'caps': [<matplotlib.lines.Line2D at 0xb36c3232b0>,\n",
       "  <matplotlib.lines.Line2D at 0xb36c23b9a0>],\n",
       " 'boxes': [<matplotlib.lines.Line2D at 0xb36c323790>],\n",
       " 'medians': [<matplotlib.lines.Line2D at 0xb36c23b310>],\n",
       " 'fliers': [<matplotlib.lines.Line2D at 0xb36c23b3a0>],\n",
       " 'means': []}"
      ]
     },
     "execution_count": 68,
     "metadata": {},
     "output_type": "execute_result"
    },
    {
     "data": {
      "image/png": "[encoded data removed]",
      "text/plain": [
       "<Figure size 432x288 with 1 Axes>"
      ]
     },
     "metadata": {
      "needs_background": "light"
     },
     "output_type": "display_data"
    }
   ],
   "source": [
    "#plotting boxplot\n",
    "plt.boxplot(park_data['Jitter:DDP'])"
   ]
  },
  {
   "cell_type": "markdown",
   "id": "20d21021",
   "metadata": {},
   "source": [
    "We can observe a right skewed distribution. There appears to be outliers in the distribution.we will analyze further"
   ]
  },
  {
   "cell_type": "code",
   "execution_count": 248,
   "id": "aab1c19c",
   "metadata": {},
   "outputs": [
    {
     "name": "stdout",
     "output_type": "stream",
     "text": [
      "0.021285\n",
      "-0.004795000000000001\n",
      "0.031065000000000002\n"
     ]
    }
   ],
   "source": [
    "#parameters\n",
    "DDP_mean = 0.009920\n",
    "DDP_first_quartile = 0.004985\n",
    "DDP_second_quartile = 0.007490\n",
    "DDP_third_quartile = 0.011505\n",
    "DDP_IQR = DDP_third_quartile - DDP_first_quartile\n",
    "DDP_upper_inner_fence = DDP_third_quartile + (1.5 * DDP_IQR)\n",
    "DDP_lower_inner_fence = DDP_first_quartile - (1.5 * DDP_IQR)\n",
    "DDP_upper_outer_fence = DDP_third_quartile + (3 * DDP_IQR)\n",
    "print(DDP_upper_inner_fence)\n",
    "print(DDP_lower_inner_fence)\n",
    "print(DDP_upper_outer_fence)"
   ]
  },
  {
   "cell_type": "code",
   "execution_count": 70,
   "id": "0a16f676",
   "metadata": {},
   "outputs": [
    {
     "data": {
      "text/plain": [
       "128"
      ]
     },
     "execution_count": 70,
     "metadata": {},
     "output_type": "execute_result"
    }
   ],
   "source": [
    "#accessing the number of DDP below the mean\n",
    "len(park_data.loc[park_data['Jitter:DDP'] < DDP_mean])"
   ]
  },
  {
   "cell_type": "code",
   "execution_count": 71,
   "id": "13069e69",
   "metadata": {},
   "outputs": [
    {
     "data": {
      "text/plain": [
       "97"
      ]
     },
     "execution_count": 71,
     "metadata": {},
     "output_type": "execute_result"
    }
   ],
   "source": [
    "#accessing the nmuber of DDP below the median\n",
    "len(park_data.loc[park_data['Jitter:DDP'] < DDP_second_quartile])"
   ]
  },
  {
   "cell_type": "code",
   "execution_count": 72,
   "id": "20d874b0",
   "metadata": {},
   "outputs": [
    {
     "data": {
      "text/plain": [
       "7"
      ]
     },
     "execution_count": 72,
     "metadata": {},
     "output_type": "execute_result"
    }
   ],
   "source": [
    "#accessing the number of DDP which are mid-outliers\n",
    "len(park_data.loc[(park_data['Jitter:DDP'] > DDP_upper_inner_fence) & (park_data['Jitter:DDP'] < DDP_upper_outer_fence)])"
   ]
  },
  {
   "cell_type": "code",
   "execution_count": 73,
   "id": "ec5e5154",
   "metadata": {},
   "outputs": [
    {
     "data": {
      "text/html": [
       "<div>\n",
       "<style scoped>\n",
       "    .dataframe tbody tr th:only-of-type {\n",
       "        vertical-align: middle;\n",
       "    }\n",
       "\n",
       "    .dataframe tbody tr th {\n",
       "        vertical-align: top;\n",
       "    }\n",
       "\n",
       "    .dataframe thead th {\n",
       "        text-align: right;\n",
       "    }\n",
       "</style>\n",
       "<table border=\"1\" class=\"dataframe\">\n",
       "  <thead>\n",
       "    <tr style=\"text-align: right;\">\n",
       "      <th></th>\n",
       "      <th>name</th>\n",
       "      <th>MDVP:Fo(Hz)</th>\n",
       "      <th>MDVP:Fhi(Hz)</th>\n",
       "      <th>MDVP:Flo(Hz)</th>\n",
       "      <th>MDVP:Jitter(%)</th>\n",
       "      <th>MDVP:Jitter(Abs)</th>\n",
       "      <th>MDVP:RAP</th>\n",
       "      <th>MDVP:PPQ</th>\n",
       "      <th>Jitter:DDP</th>\n",
       "      <th>MDVP:Shimmer</th>\n",
       "      <th>...</th>\n",
       "      <th>Shimmer:DDA</th>\n",
       "      <th>NHR</th>\n",
       "      <th>HNR</th>\n",
       "      <th>status</th>\n",
       "      <th>RPDE</th>\n",
       "      <th>DFA</th>\n",
       "      <th>spread1</th>\n",
       "      <th>spread2</th>\n",
       "      <th>D2</th>\n",
       "      <th>PPE</th>\n",
       "    </tr>\n",
       "  </thead>\n",
       "  <tbody>\n",
       "    <tr>\n",
       "      <th>97</th>\n",
       "      <td>phon_R01_S24_1</td>\n",
       "      <td>125.036</td>\n",
       "      <td>143.946</td>\n",
       "      <td>116.187</td>\n",
       "      <td>0.01280</td>\n",
       "      <td>0.00010</td>\n",
       "      <td>0.00743</td>\n",
       "      <td>0.00623</td>\n",
       "      <td>0.02228</td>\n",
       "      <td>0.03886</td>\n",
       "      <td>...</td>\n",
       "      <td>0.06406</td>\n",
       "      <td>0.08151</td>\n",
       "      <td>15.338</td>\n",
       "      <td>1</td>\n",
       "      <td>0.629574</td>\n",
       "      <td>0.714485</td>\n",
       "      <td>-4.020042</td>\n",
       "      <td>0.265315</td>\n",
       "      <td>2.671825</td>\n",
       "      <td>0.340623</td>\n",
       "    </tr>\n",
       "    <tr>\n",
       "      <th>98</th>\n",
       "      <td>phon_R01_S24_2</td>\n",
       "      <td>125.791</td>\n",
       "      <td>140.557</td>\n",
       "      <td>96.206</td>\n",
       "      <td>0.01378</td>\n",
       "      <td>0.00011</td>\n",
       "      <td>0.00826</td>\n",
       "      <td>0.00655</td>\n",
       "      <td>0.02478</td>\n",
       "      <td>0.04689</td>\n",
       "      <td>...</td>\n",
       "      <td>0.07625</td>\n",
       "      <td>0.10323</td>\n",
       "      <td>15.433</td>\n",
       "      <td>1</td>\n",
       "      <td>0.571010</td>\n",
       "      <td>0.690892</td>\n",
       "      <td>-5.159169</td>\n",
       "      <td>0.202146</td>\n",
       "      <td>2.441612</td>\n",
       "      <td>0.260375</td>\n",
       "    </tr>\n",
       "    <tr>\n",
       "      <th>101</th>\n",
       "      <td>phon_R01_S24_5</td>\n",
       "      <td>128.451</td>\n",
       "      <td>150.449</td>\n",
       "      <td>75.632</td>\n",
       "      <td>0.01551</td>\n",
       "      <td>0.00012</td>\n",
       "      <td>0.00905</td>\n",
       "      <td>0.00909</td>\n",
       "      <td>0.02716</td>\n",
       "      <td>0.06170</td>\n",
       "      <td>...</td>\n",
       "      <td>0.09669</td>\n",
       "      <td>0.11843</td>\n",
       "      <td>15.060</td>\n",
       "      <td>1</td>\n",
       "      <td>0.639808</td>\n",
       "      <td>0.643327</td>\n",
       "      <td>-4.202730</td>\n",
       "      <td>0.310163</td>\n",
       "      <td>2.638279</td>\n",
       "      <td>0.356881</td>\n",
       "    </tr>\n",
       "    <tr>\n",
       "      <th>146</th>\n",
       "      <td>phon_R01_S35_1</td>\n",
       "      <td>169.774</td>\n",
       "      <td>191.759</td>\n",
       "      <td>151.451</td>\n",
       "      <td>0.01568</td>\n",
       "      <td>0.00009</td>\n",
       "      <td>0.00863</td>\n",
       "      <td>0.00946</td>\n",
       "      <td>0.02589</td>\n",
       "      <td>0.08143</td>\n",
       "      <td>...</td>\n",
       "      <td>0.11411</td>\n",
       "      <td>0.07530</td>\n",
       "      <td>12.359</td>\n",
       "      <td>1</td>\n",
       "      <td>0.561610</td>\n",
       "      <td>0.793509</td>\n",
       "      <td>-3.297668</td>\n",
       "      <td>0.414758</td>\n",
       "      <td>3.413649</td>\n",
       "      <td>0.457533</td>\n",
       "    </tr>\n",
       "    <tr>\n",
       "      <th>147</th>\n",
       "      <td>phon_R01_S35_2</td>\n",
       "      <td>183.520</td>\n",
       "      <td>216.814</td>\n",
       "      <td>161.340</td>\n",
       "      <td>0.01466</td>\n",
       "      <td>0.00008</td>\n",
       "      <td>0.00849</td>\n",
       "      <td>0.00819</td>\n",
       "      <td>0.02546</td>\n",
       "      <td>0.06050</td>\n",
       "      <td>...</td>\n",
       "      <td>0.08595</td>\n",
       "      <td>0.06057</td>\n",
       "      <td>14.367</td>\n",
       "      <td>1</td>\n",
       "      <td>0.478024</td>\n",
       "      <td>0.768974</td>\n",
       "      <td>-4.276605</td>\n",
       "      <td>0.355736</td>\n",
       "      <td>3.142364</td>\n",
       "      <td>0.336085</td>\n",
       "    </tr>\n",
       "    <tr>\n",
       "      <th>148</th>\n",
       "      <td>phon_R01_S35_3</td>\n",
       "      <td>188.620</td>\n",
       "      <td>216.302</td>\n",
       "      <td>165.982</td>\n",
       "      <td>0.01719</td>\n",
       "      <td>0.00009</td>\n",
       "      <td>0.00996</td>\n",
       "      <td>0.01027</td>\n",
       "      <td>0.02987</td>\n",
       "      <td>0.07118</td>\n",
       "      <td>...</td>\n",
       "      <td>0.10422</td>\n",
       "      <td>0.08069</td>\n",
       "      <td>12.298</td>\n",
       "      <td>1</td>\n",
       "      <td>0.552870</td>\n",
       "      <td>0.764036</td>\n",
       "      <td>-3.377325</td>\n",
       "      <td>0.335357</td>\n",
       "      <td>3.274865</td>\n",
       "      <td>0.418646</td>\n",
       "    </tr>\n",
       "    <tr>\n",
       "      <th>149</th>\n",
       "      <td>phon_R01_S35_4</td>\n",
       "      <td>202.632</td>\n",
       "      <td>565.740</td>\n",
       "      <td>177.258</td>\n",
       "      <td>0.01627</td>\n",
       "      <td>0.00008</td>\n",
       "      <td>0.00919</td>\n",
       "      <td>0.00963</td>\n",
       "      <td>0.02756</td>\n",
       "      <td>0.07170</td>\n",
       "      <td>...</td>\n",
       "      <td>0.10546</td>\n",
       "      <td>0.07889</td>\n",
       "      <td>14.989</td>\n",
       "      <td>1</td>\n",
       "      <td>0.427627</td>\n",
       "      <td>0.775708</td>\n",
       "      <td>-4.892495</td>\n",
       "      <td>0.262281</td>\n",
       "      <td>2.910213</td>\n",
       "      <td>0.270173</td>\n",
       "    </tr>\n",
       "  </tbody>\n",
       "</table>\n",
       "<p>7 rows × 24 columns</p>\n",
       "</div>"
      ],
      "text/plain": [
       "               name  MDVP:Fo(Hz)  MDVP:Fhi(Hz)  MDVP:Flo(Hz)  MDVP:Jitter(%)  \\\n",
       "97   phon_R01_S24_1      125.036       143.946       116.187         0.01280   \n",
       "98   phon_R01_S24_2      125.791       140.557        96.206         0.01378   \n",
       "101  phon_R01_S24_5      128.451       150.449        75.632         0.01551   \n",
       "146  phon_R01_S35_1      169.774       191.759       151.451         0.01568   \n",
       "147  phon_R01_S35_2      183.520       216.814       161.340         0.01466   \n",
       "148  phon_R01_S35_3      188.620       216.302       165.982         0.01719   \n",
       "149  phon_R01_S35_4      202.632       565.740       177.258         0.01627   \n",
       "\n",
       "     MDVP:Jitter(Abs)  MDVP:RAP  MDVP:PPQ  Jitter:DDP  MDVP:Shimmer  ...  \\\n",
       "97            0.00010   0.00743   0.00623     0.02228       0.03886  ...   \n",
       "98            0.00011   0.00826   0.00655     0.02478       0.04689  ...   \n",
       "101           0.00012   0.00905   0.00909     0.02716       0.06170  ...   \n",
       "146           0.00009   0.00863   0.00946     0.02589       0.08143  ...   \n",
       "147           0.00008   0.00849   0.00819     0.02546       0.06050  ...   \n",
       "148           0.00009   0.00996   0.01027     0.02987       0.07118  ...   \n",
       "149           0.00008   0.00919   0.00963     0.02756       0.07170  ...   \n",
       "\n",
       "     Shimmer:DDA      NHR     HNR  status      RPDE       DFA   spread1  \\\n",
       "97       0.06406  0.08151  15.338       1  0.629574  0.714485 -4.020042   \n",
       "98       0.07625  0.10323  15.433       1  0.571010  0.690892 -5.159169   \n",
       "101      0.09669  0.11843  15.060       1  0.639808  0.643327 -4.202730   \n",
       "146      0.11411  0.07530  12.359       1  0.561610  0.793509 -3.297668   \n",
       "147      0.08595  0.06057  14.367       1  0.478024  0.768974 -4.276605   \n",
       "148      0.10422  0.08069  12.298       1  0.552870  0.764036 -3.377325   \n",
       "149      0.10546  0.07889  14.989       1  0.427627  0.775708 -4.892495   \n",
       "\n",
       "      spread2        D2       PPE  \n",
       "97   0.265315  2.671825  0.340623  \n",
       "98   0.202146  2.441612  0.260375  \n",
       "101  0.310163  2.638279  0.356881  \n",
       "146  0.414758  3.413649  0.457533  \n",
       "147  0.355736  3.142364  0.336085  \n",
       "148  0.335357  3.274865  0.418646  \n",
       "149  0.262281  2.910213  0.270173  \n",
       "\n",
       "[7 rows x 24 columns]"
      ]
     },
     "execution_count": 73,
     "metadata": {},
     "output_type": "execute_result"
    }
   ],
   "source": [
    "#accessing the dataset of midoutliers\n",
    "park_data.loc[(park_data['Jitter:DDP'] > DDP_upper_inner_fence) & (park_data['Jitter:DDP'] < DDP_upper_outer_fence)]"
   ]
  },
  {
   "cell_type": "code",
   "execution_count": 74,
   "id": "53e1a454",
   "metadata": {},
   "outputs": [
    {
     "data": {
      "text/plain": [
       "7"
      ]
     },
     "execution_count": 74,
     "metadata": {},
     "output_type": "execute_result"
    }
   ],
   "source": [
    "#accessing the number of DDP which are extreme outliers\n",
    "len(park_data.loc[park_data['Jitter:DDP'] > DDP_upper_outer_fence])"
   ]
  },
  {
   "cell_type": "code",
   "execution_count": 75,
   "id": "b0223ab3",
   "metadata": {
    "scrolled": true
   },
   "outputs": [
    {
     "data": {
      "text/html": [
       "<div>\n",
       "<style scoped>\n",
       "    .dataframe tbody tr th:only-of-type {\n",
       "        vertical-align: middle;\n",
       "    }\n",
       "\n",
       "    .dataframe tbody tr th {\n",
       "        vertical-align: top;\n",
       "    }\n",
       "\n",
       "    .dataframe thead th {\n",
       "        text-align: right;\n",
       "    }\n",
       "</style>\n",
       "<table border=\"1\" class=\"dataframe\">\n",
       "  <thead>\n",
       "    <tr style=\"text-align: right;\">\n",
       "      <th></th>\n",
       "      <th>name</th>\n",
       "      <th>MDVP:Fo(Hz)</th>\n",
       "      <th>MDVP:Fhi(Hz)</th>\n",
       "      <th>MDVP:Flo(Hz)</th>\n",
       "      <th>MDVP:Jitter(%)</th>\n",
       "      <th>MDVP:Jitter(Abs)</th>\n",
       "      <th>MDVP:RAP</th>\n",
       "      <th>MDVP:PPQ</th>\n",
       "      <th>Jitter:DDP</th>\n",
       "      <th>MDVP:Shimmer</th>\n",
       "      <th>...</th>\n",
       "      <th>Shimmer:DDA</th>\n",
       "      <th>NHR</th>\n",
       "      <th>HNR</th>\n",
       "      <th>status</th>\n",
       "      <th>RPDE</th>\n",
       "      <th>DFA</th>\n",
       "      <th>spread1</th>\n",
       "      <th>spread2</th>\n",
       "      <th>D2</th>\n",
       "      <th>PPE</th>\n",
       "    </tr>\n",
       "  </thead>\n",
       "  <tbody>\n",
       "    <tr>\n",
       "      <th>99</th>\n",
       "      <td>phon_R01_S24_3</td>\n",
       "      <td>126.512</td>\n",
       "      <td>141.756</td>\n",
       "      <td>99.770</td>\n",
       "      <td>0.01936</td>\n",
       "      <td>0.00015</td>\n",
       "      <td>0.01159</td>\n",
       "      <td>0.00990</td>\n",
       "      <td>0.03476</td>\n",
       "      <td>0.06734</td>\n",
       "      <td>...</td>\n",
       "      <td>0.10833</td>\n",
       "      <td>0.16744</td>\n",
       "      <td>12.435</td>\n",
       "      <td>1</td>\n",
       "      <td>0.638545</td>\n",
       "      <td>0.674953</td>\n",
       "      <td>-3.760348</td>\n",
       "      <td>0.242861</td>\n",
       "      <td>2.634633</td>\n",
       "      <td>0.378483</td>\n",
       "    </tr>\n",
       "    <tr>\n",
       "      <th>100</th>\n",
       "      <td>phon_R01_S24_4</td>\n",
       "      <td>125.641</td>\n",
       "      <td>141.068</td>\n",
       "      <td>116.346</td>\n",
       "      <td>0.03316</td>\n",
       "      <td>0.00026</td>\n",
       "      <td>0.02144</td>\n",
       "      <td>0.01522</td>\n",
       "      <td>0.06433</td>\n",
       "      <td>0.09178</td>\n",
       "      <td>...</td>\n",
       "      <td>0.16074</td>\n",
       "      <td>0.31482</td>\n",
       "      <td>8.867</td>\n",
       "      <td>1</td>\n",
       "      <td>0.671299</td>\n",
       "      <td>0.656846</td>\n",
       "      <td>-3.700544</td>\n",
       "      <td>0.260481</td>\n",
       "      <td>2.991063</td>\n",
       "      <td>0.370961</td>\n",
       "    </tr>\n",
       "    <tr>\n",
       "      <th>102</th>\n",
       "      <td>phon_R01_S24_6</td>\n",
       "      <td>139.224</td>\n",
       "      <td>586.567</td>\n",
       "      <td>66.157</td>\n",
       "      <td>0.03011</td>\n",
       "      <td>0.00022</td>\n",
       "      <td>0.01854</td>\n",
       "      <td>0.01628</td>\n",
       "      <td>0.05563</td>\n",
       "      <td>0.09419</td>\n",
       "      <td>...</td>\n",
       "      <td>0.16654</td>\n",
       "      <td>0.25930</td>\n",
       "      <td>10.489</td>\n",
       "      <td>1</td>\n",
       "      <td>0.596362</td>\n",
       "      <td>0.641418</td>\n",
       "      <td>-3.269487</td>\n",
       "      <td>0.270641</td>\n",
       "      <td>2.690917</td>\n",
       "      <td>0.444774</td>\n",
       "    </tr>\n",
       "    <tr>\n",
       "      <th>150</th>\n",
       "      <td>phon_R01_S35_5</td>\n",
       "      <td>186.695</td>\n",
       "      <td>211.961</td>\n",
       "      <td>149.442</td>\n",
       "      <td>0.01872</td>\n",
       "      <td>0.00010</td>\n",
       "      <td>0.01075</td>\n",
       "      <td>0.01154</td>\n",
       "      <td>0.03225</td>\n",
       "      <td>0.05830</td>\n",
       "      <td>...</td>\n",
       "      <td>0.08096</td>\n",
       "      <td>0.10952</td>\n",
       "      <td>12.529</td>\n",
       "      <td>1</td>\n",
       "      <td>0.507826</td>\n",
       "      <td>0.762726</td>\n",
       "      <td>-4.484303</td>\n",
       "      <td>0.340256</td>\n",
       "      <td>2.958815</td>\n",
       "      <td>0.301487</td>\n",
       "    </tr>\n",
       "    <tr>\n",
       "      <th>151</th>\n",
       "      <td>phon_R01_S35_6</td>\n",
       "      <td>192.818</td>\n",
       "      <td>224.429</td>\n",
       "      <td>168.793</td>\n",
       "      <td>0.03107</td>\n",
       "      <td>0.00016</td>\n",
       "      <td>0.01800</td>\n",
       "      <td>0.01958</td>\n",
       "      <td>0.05401</td>\n",
       "      <td>0.11908</td>\n",
       "      <td>...</td>\n",
       "      <td>0.16942</td>\n",
       "      <td>0.21713</td>\n",
       "      <td>8.441</td>\n",
       "      <td>1</td>\n",
       "      <td>0.625866</td>\n",
       "      <td>0.768320</td>\n",
       "      <td>-2.434031</td>\n",
       "      <td>0.450493</td>\n",
       "      <td>3.079221</td>\n",
       "      <td>0.527367</td>\n",
       "    </tr>\n",
       "    <tr>\n",
       "      <th>152</th>\n",
       "      <td>phon_R01_S35_7</td>\n",
       "      <td>198.116</td>\n",
       "      <td>233.099</td>\n",
       "      <td>174.478</td>\n",
       "      <td>0.02714</td>\n",
       "      <td>0.00014</td>\n",
       "      <td>0.01568</td>\n",
       "      <td>0.01699</td>\n",
       "      <td>0.04705</td>\n",
       "      <td>0.08684</td>\n",
       "      <td>...</td>\n",
       "      <td>0.12851</td>\n",
       "      <td>0.16265</td>\n",
       "      <td>9.449</td>\n",
       "      <td>1</td>\n",
       "      <td>0.584164</td>\n",
       "      <td>0.754449</td>\n",
       "      <td>-2.839756</td>\n",
       "      <td>0.356224</td>\n",
       "      <td>3.184027</td>\n",
       "      <td>0.454721</td>\n",
       "    </tr>\n",
       "    <tr>\n",
       "      <th>157</th>\n",
       "      <td>phon_R01_S37_5</td>\n",
       "      <td>117.963</td>\n",
       "      <td>134.209</td>\n",
       "      <td>100.757</td>\n",
       "      <td>0.01813</td>\n",
       "      <td>0.00015</td>\n",
       "      <td>0.01117</td>\n",
       "      <td>0.00718</td>\n",
       "      <td>0.03351</td>\n",
       "      <td>0.04912</td>\n",
       "      <td>...</td>\n",
       "      <td>0.07830</td>\n",
       "      <td>0.10748</td>\n",
       "      <td>19.075</td>\n",
       "      <td>1</td>\n",
       "      <td>0.630547</td>\n",
       "      <td>0.646786</td>\n",
       "      <td>-3.444478</td>\n",
       "      <td>0.303214</td>\n",
       "      <td>2.964568</td>\n",
       "      <td>0.261305</td>\n",
       "    </tr>\n",
       "  </tbody>\n",
       "</table>\n",
       "<p>7 rows × 24 columns</p>\n",
       "</div>"
      ],
      "text/plain": [
       "               name  MDVP:Fo(Hz)  MDVP:Fhi(Hz)  MDVP:Flo(Hz)  MDVP:Jitter(%)  \\\n",
       "99   phon_R01_S24_3      126.512       141.756        99.770         0.01936   \n",
       "100  phon_R01_S24_4      125.641       141.068       116.346         0.03316   \n",
       "102  phon_R01_S24_6      139.224       586.567        66.157         0.03011   \n",
       "150  phon_R01_S35_5      186.695       211.961       149.442         0.01872   \n",
       "151  phon_R01_S35_6      192.818       224.429       168.793         0.03107   \n",
       "152  phon_R01_S35_7      198.116       233.099       174.478         0.02714   \n",
       "157  phon_R01_S37_5      117.963       134.209       100.757         0.01813   \n",
       "\n",
       "     MDVP:Jitter(Abs)  MDVP:RAP  MDVP:PPQ  Jitter:DDP  MDVP:Shimmer  ...  \\\n",
       "99            0.00015   0.01159   0.00990     0.03476       0.06734  ...   \n",
       "100           0.00026   0.02144   0.01522     0.06433       0.09178  ...   \n",
       "102           0.00022   0.01854   0.01628     0.05563       0.09419  ...   \n",
       "150           0.00010   0.01075   0.01154     0.03225       0.05830  ...   \n",
       "151           0.00016   0.01800   0.01958     0.05401       0.11908  ...   \n",
       "152           0.00014   0.01568   0.01699     0.04705       0.08684  ...   \n",
       "157           0.00015   0.01117   0.00718     0.03351       0.04912  ...   \n",
       "\n",
       "     Shimmer:DDA      NHR     HNR  status      RPDE       DFA   spread1  \\\n",
       "99       0.10833  0.16744  12.435       1  0.638545  0.674953 -3.760348   \n",
       "100      0.16074  0.31482   8.867       1  0.671299  0.656846 -3.700544   \n",
       "102      0.16654  0.25930  10.489       1  0.596362  0.641418 -3.269487   \n",
       "150      0.08096  0.10952  12.529       1  0.507826  0.762726 -4.484303   \n",
       "151      0.16942  0.21713   8.441       1  0.625866  0.768320 -2.434031   \n",
       "152      0.12851  0.16265   9.449       1  0.584164  0.754449 -2.839756   \n",
       "157      0.07830  0.10748  19.075       1  0.630547  0.646786 -3.444478   \n",
       "\n",
       "      spread2        D2       PPE  \n",
       "99   0.242861  2.634633  0.378483  \n",
       "100  0.260481  2.991063  0.370961  \n",
       "102  0.270641  2.690917  0.444774  \n",
       "150  0.340256  2.958815  0.301487  \n",
       "151  0.450493  3.079221  0.527367  \n",
       "152  0.356224  3.184027  0.454721  \n",
       "157  0.303214  2.964568  0.261305  \n",
       "\n",
       "[7 rows x 24 columns]"
      ]
     },
     "execution_count": 75,
     "metadata": {},
     "output_type": "execute_result"
    }
   ],
   "source": [
    "#accessing the dataset of extreme outliers\n",
    "park_data.loc[park_data['Jitter:DDP'] > DDP_upper_outer_fence]"
   ]
  },
  {
   "cell_type": "markdown",
   "id": "67429e4c",
   "metadata": {},
   "source": [
    "128 thus(65.64%) of the data has recordings below the mean. We observe a total of 14 outliers (thus 7.17% of the data) out of which 2 patients(phon_R01_S35 and phon_R01_S24) recorded most extreme and mid outliers respectivefully. "
   ]
  },
  {
   "cell_type": "markdown",
   "id": "83109861",
   "metadata": {},
   "source": [
    "#### MDVP:PPQ"
   ]
  },
  {
   "cell_type": "code",
   "execution_count": 76,
   "id": "817d5164",
   "metadata": {},
   "outputs": [
    {
     "data": {
      "text/plain": [
       "count    195.000000\n",
       "mean       0.003446\n",
       "std        0.002759\n",
       "min        0.000920\n",
       "25%        0.001860\n",
       "50%        0.002690\n",
       "75%        0.003955\n",
       "max        0.019580\n",
       "Name: MDVP:PPQ, dtype: float64"
      ]
     },
     "execution_count": 76,
     "metadata": {},
     "output_type": "execute_result"
    }
   ],
   "source": [
    "#accessing the statistical info\n",
    "park_data['MDVP:PPQ'].describe()"
   ]
  },
  {
   "cell_type": "code",
   "execution_count": 77,
   "id": "b077f0f3",
   "metadata": {},
   "outputs": [
    {
     "data": {
      "image/png": "[encoded data removed]",
      "text/plain": [
       "<Figure size 432x288 with 1 Axes>"
      ]
     },
     "metadata": {
      "needs_background": "light"
     },
     "output_type": "display_data"
    }
   ],
   "source": [
    "#plotting the histogram\n",
    "plt.hist(park_data['MDVP:PPQ'])\n",
    "plt.show()"
   ]
  },
  {
   "cell_type": "code",
   "execution_count": 78,
   "id": "de6988df",
   "metadata": {},
   "outputs": [
    {
     "data": {
      "text/plain": [
       "{'whiskers': [<matplotlib.lines.Line2D at 0xb369839f70>,\n",
       "  <matplotlib.lines.Line2D at 0xb369845340>],\n",
       " 'caps': [<matplotlib.lines.Line2D at 0xb3698456d0>,\n",
       "  <matplotlib.lines.Line2D at 0xb369845a60>],\n",
       " 'boxes': [<matplotlib.lines.Line2D at 0xb369839be0>],\n",
       " 'medians': [<matplotlib.lines.Line2D at 0xb369845df0>],\n",
       " 'fliers': [<matplotlib.lines.Line2D at 0xb3698521c0>],\n",
       " 'means': []}"
      ]
     },
     "execution_count": 78,
     "metadata": {},
     "output_type": "execute_result"
    },
    {
     "data": {
      "image/png": "[encoded data removed]",
      "text/plain": [
       "<Figure size 432x288 with 1 Axes>"
      ]
     },
     "metadata": {
      "needs_background": "light"
     },
     "output_type": "display_data"
    }
   ],
   "source": [
    "#plotting boxplot\n",
    "plt.boxplot(park_data['MDVP:PPQ'])"
   ]
  },
  {
   "cell_type": "markdown",
   "id": "739e16bd",
   "metadata": {},
   "source": [
    "From both distributions we can observe a right skewed data. We can identify some outliers"
   ]
  },
  {
   "cell_type": "code",
   "execution_count": 250,
   "id": "419a8333",
   "metadata": {},
   "outputs": [
    {
     "name": "stdout",
     "output_type": "stream",
     "text": [
      "0.0070975000000000005\n",
      "-0.0012825000000000002\n"
     ]
    }
   ],
   "source": [
    "#parameters\n",
    "PPQ_mean =  0.003446\n",
    "PPQ_first_quartile = 0.001860\n",
    "PPQ_second_quartile = 0.002690\n",
    "PPQ_third_quartile = 0.003955\n",
    "PPQ_IQR = PPQ_third_quartile - PPQ_first_quartile\n",
    "PPQ_outlier = PPQ_third_quartile + (1.5 * PPQ_IQR) #outlier range\n",
    "PPQ_lower_inner_fence = PPQ_first_quartile - (1.5 * PPQ_IQR)\n",
    "print(PPQ_outlier)\n",
    "print(PPQ_lower_inner_fence)"
   ]
  },
  {
   "cell_type": "code",
   "execution_count": 80,
   "id": "8657fe0c",
   "metadata": {},
   "outputs": [
    {
     "data": {
      "text/plain": [
       "134"
      ]
     },
     "execution_count": 80,
     "metadata": {},
     "output_type": "execute_result"
    }
   ],
   "source": [
    "#accessing the number of PPQ below the mean\n",
    "len(park_data.loc[park_data['MDVP:PPQ'] < PPQ_mean])"
   ]
  },
  {
   "cell_type": "code",
   "execution_count": 81,
   "id": "6e4cc72c",
   "metadata": {},
   "outputs": [
    {
     "data": {
      "text/plain": [
       "97"
      ]
     },
     "execution_count": 81,
     "metadata": {},
     "output_type": "execute_result"
    }
   ],
   "source": [
    "#accessing the number of PPQ below the median\n",
    "len(park_data.loc[park_data['MDVP:PPQ'] < PPQ_second_quartile])"
   ]
  },
  {
   "cell_type": "code",
   "execution_count": 82,
   "id": "d369b2e0",
   "metadata": {},
   "outputs": [
    {
     "data": {
      "text/plain": [
       "15"
      ]
     },
     "execution_count": 82,
     "metadata": {},
     "output_type": "execute_result"
    }
   ],
   "source": [
    "#accessing the number of PPQ which are outliers\n",
    "len(park_data.loc[park_data['MDVP:PPQ'] > PPQ_outlier])"
   ]
  },
  {
   "cell_type": "code",
   "execution_count": 83,
   "id": "3aa25f54",
   "metadata": {},
   "outputs": [
    {
     "data": {
      "text/html": [
       "<div>\n",
       "<style scoped>\n",
       "    .dataframe tbody tr th:only-of-type {\n",
       "        vertical-align: middle;\n",
       "    }\n",
       "\n",
       "    .dataframe tbody tr th {\n",
       "        vertical-align: top;\n",
       "    }\n",
       "\n",
       "    .dataframe thead th {\n",
       "        text-align: right;\n",
       "    }\n",
       "</style>\n",
       "<table border=\"1\" class=\"dataframe\">\n",
       "  <thead>\n",
       "    <tr style=\"text-align: right;\">\n",
       "      <th></th>\n",
       "      <th>name</th>\n",
       "      <th>MDVP:Fo(Hz)</th>\n",
       "      <th>MDVP:Fhi(Hz)</th>\n",
       "      <th>MDVP:Flo(Hz)</th>\n",
       "      <th>MDVP:Jitter(%)</th>\n",
       "      <th>MDVP:Jitter(Abs)</th>\n",
       "      <th>MDVP:RAP</th>\n",
       "      <th>MDVP:PPQ</th>\n",
       "      <th>Jitter:DDP</th>\n",
       "      <th>MDVP:Shimmer</th>\n",
       "      <th>...</th>\n",
       "      <th>Shimmer:DDA</th>\n",
       "      <th>NHR</th>\n",
       "      <th>HNR</th>\n",
       "      <th>status</th>\n",
       "      <th>RPDE</th>\n",
       "      <th>DFA</th>\n",
       "      <th>spread1</th>\n",
       "      <th>spread2</th>\n",
       "      <th>D2</th>\n",
       "      <th>PPE</th>\n",
       "    </tr>\n",
       "  </thead>\n",
       "  <tbody>\n",
       "    <tr>\n",
       "      <th>2</th>\n",
       "      <td>phon_R01_S01_3</td>\n",
       "      <td>116.682</td>\n",
       "      <td>131.111</td>\n",
       "      <td>111.555</td>\n",
       "      <td>0.01050</td>\n",
       "      <td>0.00009</td>\n",
       "      <td>0.00544</td>\n",
       "      <td>0.00781</td>\n",
       "      <td>0.01633</td>\n",
       "      <td>0.05233</td>\n",
       "      <td>...</td>\n",
       "      <td>0.08270</td>\n",
       "      <td>0.01309</td>\n",
       "      <td>20.651</td>\n",
       "      <td>1</td>\n",
       "      <td>0.429895</td>\n",
       "      <td>0.825288</td>\n",
       "      <td>-4.443179</td>\n",
       "      <td>0.311173</td>\n",
       "      <td>2.342259</td>\n",
       "      <td>0.332634</td>\n",
       "    </tr>\n",
       "    <tr>\n",
       "      <th>4</th>\n",
       "      <td>phon_R01_S01_5</td>\n",
       "      <td>116.014</td>\n",
       "      <td>141.781</td>\n",
       "      <td>110.655</td>\n",
       "      <td>0.01284</td>\n",
       "      <td>0.00011</td>\n",
       "      <td>0.00655</td>\n",
       "      <td>0.00908</td>\n",
       "      <td>0.01966</td>\n",
       "      <td>0.06425</td>\n",
       "      <td>...</td>\n",
       "      <td>0.10470</td>\n",
       "      <td>0.01767</td>\n",
       "      <td>19.649</td>\n",
       "      <td>1</td>\n",
       "      <td>0.417356</td>\n",
       "      <td>0.823484</td>\n",
       "      <td>-3.747787</td>\n",
       "      <td>0.234513</td>\n",
       "      <td>2.332180</td>\n",
       "      <td>0.410335</td>\n",
       "    </tr>\n",
       "    <tr>\n",
       "      <th>5</th>\n",
       "      <td>phon_R01_S01_6</td>\n",
       "      <td>120.552</td>\n",
       "      <td>131.162</td>\n",
       "      <td>113.787</td>\n",
       "      <td>0.00968</td>\n",
       "      <td>0.00008</td>\n",
       "      <td>0.00463</td>\n",
       "      <td>0.00750</td>\n",
       "      <td>0.01388</td>\n",
       "      <td>0.04701</td>\n",
       "      <td>...</td>\n",
       "      <td>0.06985</td>\n",
       "      <td>0.01222</td>\n",
       "      <td>21.378</td>\n",
       "      <td>1</td>\n",
       "      <td>0.415564</td>\n",
       "      <td>0.825069</td>\n",
       "      <td>-4.242867</td>\n",
       "      <td>0.299111</td>\n",
       "      <td>2.187560</td>\n",
       "      <td>0.357775</td>\n",
       "    </tr>\n",
       "    <tr>\n",
       "      <th>99</th>\n",
       "      <td>phon_R01_S24_3</td>\n",
       "      <td>126.512</td>\n",
       "      <td>141.756</td>\n",
       "      <td>99.770</td>\n",
       "      <td>0.01936</td>\n",
       "      <td>0.00015</td>\n",
       "      <td>0.01159</td>\n",
       "      <td>0.00990</td>\n",
       "      <td>0.03476</td>\n",
       "      <td>0.06734</td>\n",
       "      <td>...</td>\n",
       "      <td>0.10833</td>\n",
       "      <td>0.16744</td>\n",
       "      <td>12.435</td>\n",
       "      <td>1</td>\n",
       "      <td>0.638545</td>\n",
       "      <td>0.674953</td>\n",
       "      <td>-3.760348</td>\n",
       "      <td>0.242861</td>\n",
       "      <td>2.634633</td>\n",
       "      <td>0.378483</td>\n",
       "    </tr>\n",
       "    <tr>\n",
       "      <th>100</th>\n",
       "      <td>phon_R01_S24_4</td>\n",
       "      <td>125.641</td>\n",
       "      <td>141.068</td>\n",
       "      <td>116.346</td>\n",
       "      <td>0.03316</td>\n",
       "      <td>0.00026</td>\n",
       "      <td>0.02144</td>\n",
       "      <td>0.01522</td>\n",
       "      <td>0.06433</td>\n",
       "      <td>0.09178</td>\n",
       "      <td>...</td>\n",
       "      <td>0.16074</td>\n",
       "      <td>0.31482</td>\n",
       "      <td>8.867</td>\n",
       "      <td>1</td>\n",
       "      <td>0.671299</td>\n",
       "      <td>0.656846</td>\n",
       "      <td>-3.700544</td>\n",
       "      <td>0.260481</td>\n",
       "      <td>2.991063</td>\n",
       "      <td>0.370961</td>\n",
       "    </tr>\n",
       "    <tr>\n",
       "      <th>101</th>\n",
       "      <td>phon_R01_S24_5</td>\n",
       "      <td>128.451</td>\n",
       "      <td>150.449</td>\n",
       "      <td>75.632</td>\n",
       "      <td>0.01551</td>\n",
       "      <td>0.00012</td>\n",
       "      <td>0.00905</td>\n",
       "      <td>0.00909</td>\n",
       "      <td>0.02716</td>\n",
       "      <td>0.06170</td>\n",
       "      <td>...</td>\n",
       "      <td>0.09669</td>\n",
       "      <td>0.11843</td>\n",
       "      <td>15.060</td>\n",
       "      <td>1</td>\n",
       "      <td>0.639808</td>\n",
       "      <td>0.643327</td>\n",
       "      <td>-4.202730</td>\n",
       "      <td>0.310163</td>\n",
       "      <td>2.638279</td>\n",
       "      <td>0.356881</td>\n",
       "    </tr>\n",
       "    <tr>\n",
       "      <th>102</th>\n",
       "      <td>phon_R01_S24_6</td>\n",
       "      <td>139.224</td>\n",
       "      <td>586.567</td>\n",
       "      <td>66.157</td>\n",
       "      <td>0.03011</td>\n",
       "      <td>0.00022</td>\n",
       "      <td>0.01854</td>\n",
       "      <td>0.01628</td>\n",
       "      <td>0.05563</td>\n",
       "      <td>0.09419</td>\n",
       "      <td>...</td>\n",
       "      <td>0.16654</td>\n",
       "      <td>0.25930</td>\n",
       "      <td>10.489</td>\n",
       "      <td>1</td>\n",
       "      <td>0.596362</td>\n",
       "      <td>0.641418</td>\n",
       "      <td>-3.269487</td>\n",
       "      <td>0.270641</td>\n",
       "      <td>2.690917</td>\n",
       "      <td>0.444774</td>\n",
       "    </tr>\n",
       "    <tr>\n",
       "      <th>146</th>\n",
       "      <td>phon_R01_S35_1</td>\n",
       "      <td>169.774</td>\n",
       "      <td>191.759</td>\n",
       "      <td>151.451</td>\n",
       "      <td>0.01568</td>\n",
       "      <td>0.00009</td>\n",
       "      <td>0.00863</td>\n",
       "      <td>0.00946</td>\n",
       "      <td>0.02589</td>\n",
       "      <td>0.08143</td>\n",
       "      <td>...</td>\n",
       "      <td>0.11411</td>\n",
       "      <td>0.07530</td>\n",
       "      <td>12.359</td>\n",
       "      <td>1</td>\n",
       "      <td>0.561610</td>\n",
       "      <td>0.793509</td>\n",
       "      <td>-3.297668</td>\n",
       "      <td>0.414758</td>\n",
       "      <td>3.413649</td>\n",
       "      <td>0.457533</td>\n",
       "    </tr>\n",
       "    <tr>\n",
       "      <th>147</th>\n",
       "      <td>phon_R01_S35_2</td>\n",
       "      <td>183.520</td>\n",
       "      <td>216.814</td>\n",
       "      <td>161.340</td>\n",
       "      <td>0.01466</td>\n",
       "      <td>0.00008</td>\n",
       "      <td>0.00849</td>\n",
       "      <td>0.00819</td>\n",
       "      <td>0.02546</td>\n",
       "      <td>0.06050</td>\n",
       "      <td>...</td>\n",
       "      <td>0.08595</td>\n",
       "      <td>0.06057</td>\n",
       "      <td>14.367</td>\n",
       "      <td>1</td>\n",
       "      <td>0.478024</td>\n",
       "      <td>0.768974</td>\n",
       "      <td>-4.276605</td>\n",
       "      <td>0.355736</td>\n",
       "      <td>3.142364</td>\n",
       "      <td>0.336085</td>\n",
       "    </tr>\n",
       "    <tr>\n",
       "      <th>148</th>\n",
       "      <td>phon_R01_S35_3</td>\n",
       "      <td>188.620</td>\n",
       "      <td>216.302</td>\n",
       "      <td>165.982</td>\n",
       "      <td>0.01719</td>\n",
       "      <td>0.00009</td>\n",
       "      <td>0.00996</td>\n",
       "      <td>0.01027</td>\n",
       "      <td>0.02987</td>\n",
       "      <td>0.07118</td>\n",
       "      <td>...</td>\n",
       "      <td>0.10422</td>\n",
       "      <td>0.08069</td>\n",
       "      <td>12.298</td>\n",
       "      <td>1</td>\n",
       "      <td>0.552870</td>\n",
       "      <td>0.764036</td>\n",
       "      <td>-3.377325</td>\n",
       "      <td>0.335357</td>\n",
       "      <td>3.274865</td>\n",
       "      <td>0.418646</td>\n",
       "    </tr>\n",
       "    <tr>\n",
       "      <th>149</th>\n",
       "      <td>phon_R01_S35_4</td>\n",
       "      <td>202.632</td>\n",
       "      <td>565.740</td>\n",
       "      <td>177.258</td>\n",
       "      <td>0.01627</td>\n",
       "      <td>0.00008</td>\n",
       "      <td>0.00919</td>\n",
       "      <td>0.00963</td>\n",
       "      <td>0.02756</td>\n",
       "      <td>0.07170</td>\n",
       "      <td>...</td>\n",
       "      <td>0.10546</td>\n",
       "      <td>0.07889</td>\n",
       "      <td>14.989</td>\n",
       "      <td>1</td>\n",
       "      <td>0.427627</td>\n",
       "      <td>0.775708</td>\n",
       "      <td>-4.892495</td>\n",
       "      <td>0.262281</td>\n",
       "      <td>2.910213</td>\n",
       "      <td>0.270173</td>\n",
       "    </tr>\n",
       "    <tr>\n",
       "      <th>150</th>\n",
       "      <td>phon_R01_S35_5</td>\n",
       "      <td>186.695</td>\n",
       "      <td>211.961</td>\n",
       "      <td>149.442</td>\n",
       "      <td>0.01872</td>\n",
       "      <td>0.00010</td>\n",
       "      <td>0.01075</td>\n",
       "      <td>0.01154</td>\n",
       "      <td>0.03225</td>\n",
       "      <td>0.05830</td>\n",
       "      <td>...</td>\n",
       "      <td>0.08096</td>\n",
       "      <td>0.10952</td>\n",
       "      <td>12.529</td>\n",
       "      <td>1</td>\n",
       "      <td>0.507826</td>\n",
       "      <td>0.762726</td>\n",
       "      <td>-4.484303</td>\n",
       "      <td>0.340256</td>\n",
       "      <td>2.958815</td>\n",
       "      <td>0.301487</td>\n",
       "    </tr>\n",
       "    <tr>\n",
       "      <th>151</th>\n",
       "      <td>phon_R01_S35_6</td>\n",
       "      <td>192.818</td>\n",
       "      <td>224.429</td>\n",
       "      <td>168.793</td>\n",
       "      <td>0.03107</td>\n",
       "      <td>0.00016</td>\n",
       "      <td>0.01800</td>\n",
       "      <td>0.01958</td>\n",
       "      <td>0.05401</td>\n",
       "      <td>0.11908</td>\n",
       "      <td>...</td>\n",
       "      <td>0.16942</td>\n",
       "      <td>0.21713</td>\n",
       "      <td>8.441</td>\n",
       "      <td>1</td>\n",
       "      <td>0.625866</td>\n",
       "      <td>0.768320</td>\n",
       "      <td>-2.434031</td>\n",
       "      <td>0.450493</td>\n",
       "      <td>3.079221</td>\n",
       "      <td>0.527367</td>\n",
       "    </tr>\n",
       "    <tr>\n",
       "      <th>152</th>\n",
       "      <td>phon_R01_S35_7</td>\n",
       "      <td>198.116</td>\n",
       "      <td>233.099</td>\n",
       "      <td>174.478</td>\n",
       "      <td>0.02714</td>\n",
       "      <td>0.00014</td>\n",
       "      <td>0.01568</td>\n",
       "      <td>0.01699</td>\n",
       "      <td>0.04705</td>\n",
       "      <td>0.08684</td>\n",
       "      <td>...</td>\n",
       "      <td>0.12851</td>\n",
       "      <td>0.16265</td>\n",
       "      <td>9.449</td>\n",
       "      <td>1</td>\n",
       "      <td>0.584164</td>\n",
       "      <td>0.754449</td>\n",
       "      <td>-2.839756</td>\n",
       "      <td>0.356224</td>\n",
       "      <td>3.184027</td>\n",
       "      <td>0.454721</td>\n",
       "    </tr>\n",
       "    <tr>\n",
       "      <th>157</th>\n",
       "      <td>phon_R01_S37_5</td>\n",
       "      <td>117.963</td>\n",
       "      <td>134.209</td>\n",
       "      <td>100.757</td>\n",
       "      <td>0.01813</td>\n",
       "      <td>0.00015</td>\n",
       "      <td>0.01117</td>\n",
       "      <td>0.00718</td>\n",
       "      <td>0.03351</td>\n",
       "      <td>0.04912</td>\n",
       "      <td>...</td>\n",
       "      <td>0.07830</td>\n",
       "      <td>0.10748</td>\n",
       "      <td>19.075</td>\n",
       "      <td>1</td>\n",
       "      <td>0.630547</td>\n",
       "      <td>0.646786</td>\n",
       "      <td>-3.444478</td>\n",
       "      <td>0.303214</td>\n",
       "      <td>2.964568</td>\n",
       "      <td>0.261305</td>\n",
       "    </tr>\n",
       "  </tbody>\n",
       "</table>\n",
       "<p>15 rows × 24 columns</p>\n",
       "</div>"
      ],
      "text/plain": [
       "               name  MDVP:Fo(Hz)  MDVP:Fhi(Hz)  MDVP:Flo(Hz)  MDVP:Jitter(%)  \\\n",
       "2    phon_R01_S01_3      116.682       131.111       111.555         0.01050   \n",
       "4    phon_R01_S01_5      116.014       141.781       110.655         0.01284   \n",
       "5    phon_R01_S01_6      120.552       131.162       113.787         0.00968   \n",
       "99   phon_R01_S24_3      126.512       141.756        99.770         0.01936   \n",
       "100  phon_R01_S24_4      125.641       141.068       116.346         0.03316   \n",
       "101  phon_R01_S24_5      128.451       150.449        75.632         0.01551   \n",
       "102  phon_R01_S24_6      139.224       586.567        66.157         0.03011   \n",
       "146  phon_R01_S35_1      169.774       191.759       151.451         0.01568   \n",
       "147  phon_R01_S35_2      183.520       216.814       161.340         0.01466   \n",
       "148  phon_R01_S35_3      188.620       216.302       165.982         0.01719   \n",
       "149  phon_R01_S35_4      202.632       565.740       177.258         0.01627   \n",
       "150  phon_R01_S35_5      186.695       211.961       149.442         0.01872   \n",
       "151  phon_R01_S35_6      192.818       224.429       168.793         0.03107   \n",
       "152  phon_R01_S35_7      198.116       233.099       174.478         0.02714   \n",
       "157  phon_R01_S37_5      117.963       134.209       100.757         0.01813   \n",
       "\n",
       "     MDVP:Jitter(Abs)  MDVP:RAP  MDVP:PPQ  Jitter:DDP  MDVP:Shimmer  ...  \\\n",
       "2             0.00009   0.00544   0.00781     0.01633       0.05233  ...   \n",
       "4             0.00011   0.00655   0.00908     0.01966       0.06425  ...   \n",
       "5             0.00008   0.00463   0.00750     0.01388       0.04701  ...   \n",
       "99            0.00015   0.01159   0.00990     0.03476       0.06734  ...   \n",
       "100           0.00026   0.02144   0.01522     0.06433       0.09178  ...   \n",
       "101           0.00012   0.00905   0.00909     0.02716       0.06170  ...   \n",
       "102           0.00022   0.01854   0.01628     0.05563       0.09419  ...   \n",
       "146           0.00009   0.00863   0.00946     0.02589       0.08143  ...   \n",
       "147           0.00008   0.00849   0.00819     0.02546       0.06050  ...   \n",
       "148           0.00009   0.00996   0.01027     0.02987       0.07118  ...   \n",
       "149           0.00008   0.00919   0.00963     0.02756       0.07170  ...   \n",
       "150           0.00010   0.01075   0.01154     0.03225       0.05830  ...   \n",
       "151           0.00016   0.01800   0.01958     0.05401       0.11908  ...   \n",
       "152           0.00014   0.01568   0.01699     0.04705       0.08684  ...   \n",
       "157           0.00015   0.01117   0.00718     0.03351       0.04912  ...   \n",
       "\n",
       "     Shimmer:DDA      NHR     HNR  status      RPDE       DFA   spread1  \\\n",
       "2        0.08270  0.01309  20.651       1  0.429895  0.825288 -4.443179   \n",
       "4        0.10470  0.01767  19.649       1  0.417356  0.823484 -3.747787   \n",
       "5        0.06985  0.01222  21.378       1  0.415564  0.825069 -4.242867   \n",
       "99       0.10833  0.16744  12.435       1  0.638545  0.674953 -3.760348   \n",
       "100      0.16074  0.31482   8.867       1  0.671299  0.656846 -3.700544   \n",
       "101      0.09669  0.11843  15.060       1  0.639808  0.643327 -4.202730   \n",
       "102      0.16654  0.25930  10.489       1  0.596362  0.641418 -3.269487   \n",
       "146      0.11411  0.07530  12.359       1  0.561610  0.793509 -3.297668   \n",
       "147      0.08595  0.06057  14.367       1  0.478024  0.768974 -4.276605   \n",
       "148      0.10422  0.08069  12.298       1  0.552870  0.764036 -3.377325   \n",
       "149      0.10546  0.07889  14.989       1  0.427627  0.775708 -4.892495   \n",
       "150      0.08096  0.10952  12.529       1  0.507826  0.762726 -4.484303   \n",
       "151      0.16942  0.21713   8.441       1  0.625866  0.768320 -2.434031   \n",
       "152      0.12851  0.16265   9.449       1  0.584164  0.754449 -2.839756   \n",
       "157      0.07830  0.10748  19.075       1  0.630547  0.646786 -3.444478   \n",
       "\n",
       "      spread2        D2       PPE  \n",
       "2    0.311173  2.342259  0.332634  \n",
       "4    0.234513  2.332180  0.410335  \n",
       "5    0.299111  2.187560  0.357775  \n",
       "99   0.242861  2.634633  0.378483  \n",
       "100  0.260481  2.991063  0.370961  \n",
       "101  0.310163  2.638279  0.356881  \n",
       "102  0.270641  2.690917  0.444774  \n",
       "146  0.414758  3.413649  0.457533  \n",
       "147  0.355736  3.142364  0.336085  \n",
       "148  0.335357  3.274865  0.418646  \n",
       "149  0.262281  2.910213  0.270173  \n",
       "150  0.340256  2.958815  0.301487  \n",
       "151  0.450493  3.079221  0.527367  \n",
       "152  0.356224  3.184027  0.454721  \n",
       "157  0.303214  2.964568  0.261305  \n",
       "\n",
       "[15 rows x 24 columns]"
      ]
     },
     "execution_count": 83,
     "metadata": {},
     "output_type": "execute_result"
    }
   ],
   "source": [
    "#accessing the dataset of outliers\n",
    "park_data.loc[park_data['MDVP:PPQ'] > PPQ_outlier]"
   ]
  },
  {
   "cell_type": "markdown",
   "id": "1b8659c4",
   "metadata": {},
   "source": [
    "134 thus 68.71% of the ditribution is below the mean. Additionally, we see 15 outliers making up 7.69% of the entire dataset.out of which a patient (phon_R01_S35) had 7 its recording as most outlier and a patient(phon_R01_S24) recording 4 outliers. All outliers have a positive status"
   ]
  },
  {
   "cell_type": "markdown",
   "id": "a354dd92",
   "metadata": {},
   "source": [
    "#### MDVP:RAP"
   ]
  },
  {
   "cell_type": "code",
   "execution_count": 84,
   "id": "fbede534",
   "metadata": {},
   "outputs": [
    {
     "data": {
      "text/plain": [
       "count    195.000000\n",
       "mean       0.003306\n",
       "std        0.002968\n",
       "min        0.000680\n",
       "25%        0.001660\n",
       "50%        0.002500\n",
       "75%        0.003835\n",
       "max        0.021440\n",
       "Name: MDVP:RAP, dtype: float64"
      ]
     },
     "execution_count": 84,
     "metadata": {},
     "output_type": "execute_result"
    }
   ],
   "source": [
    "# accessing the statistical info\n",
    "park_data['MDVP:RAP'].describe()"
   ]
  },
  {
   "cell_type": "code",
   "execution_count": 85,
   "id": "c4b6f088",
   "metadata": {},
   "outputs": [
    {
     "data": {
      "image/png": "[encoded data removed]",
      "text/plain": [
       "<Figure size 432x288 with 1 Axes>"
      ]
     },
     "metadata": {
      "needs_background": "light"
     },
     "output_type": "display_data"
    }
   ],
   "source": [
    "#plotting a histogram for MDVP:RAP\n",
    "plt.hist(park_data['MDVP:RAP'])\n",
    "plt.show()"
   ]
  },
  {
   "cell_type": "code",
   "execution_count": 86,
   "id": "1fb36c7b",
   "metadata": {},
   "outputs": [
    {
     "data": {
      "text/plain": [
       "{'whiskers': [<matplotlib.lines.Line2D at 0xb36994ae50>,\n",
       "  <matplotlib.lines.Line2D at 0xb369959250>],\n",
       " 'caps': [<matplotlib.lines.Line2D at 0xb3699595e0>,\n",
       "  <matplotlib.lines.Line2D at 0xb369959970>],\n",
       " 'boxes': [<matplotlib.lines.Line2D at 0xb36994aac0>],\n",
       " 'medians': [<matplotlib.lines.Line2D at 0xb369959d00>],\n",
       " 'fliers': [<matplotlib.lines.Line2D at 0xb3699660d0>],\n",
       " 'means': []}"
      ]
     },
     "execution_count": 86,
     "metadata": {},
     "output_type": "execute_result"
    },
    {
     "data": {
      "image/png": "[encoded data removed]",
      "text/plain": [
       "<Figure size 432x288 with 1 Axes>"
      ]
     },
     "metadata": {
      "needs_background": "light"
     },
     "output_type": "display_data"
    }
   ],
   "source": [
    "#plotting boxplot\n",
    "plt.boxplot(park_data['MDVP:RAP'])"
   ]
  },
  {
   "cell_type": "markdown",
   "id": "5a31ad40",
   "metadata": {},
   "source": [
    "From both distributions we can observe a right skewed distribution. Again, we identify quite a number of outliers. We will analyze further into the data"
   ]
  },
  {
   "cell_type": "code",
   "execution_count": 253,
   "id": "1aa25435",
   "metadata": {},
   "outputs": [
    {
     "name": "stdout",
     "output_type": "stream",
     "text": [
      "0.0070975\n",
      "-0.0016024999999999998\n"
     ]
    }
   ],
   "source": [
    "#parameters\n",
    "RAP_mean = 0.003306\n",
    "RAP_first_quartile =  0.001660\n",
    "RAP_second_quartile = 0.002500\n",
    "RAP_third_quartile = 0.003835\n",
    "RAP_IQR = RAP_third_quartile - RAP_first_quartile\n",
    "RAP_outlier = RAP_third_quartile + (1.5 * RAP_IQR) #outlier range\n",
    "RAP_lower_inner_fence = RAP_first_quartile - (1.5 * RAP_IQR)\n",
    "print(RAP_outlier)\n",
    "print(RAP_lower_inner_fence)"
   ]
  },
  {
   "cell_type": "code",
   "execution_count": 88,
   "id": "d6afd6b8",
   "metadata": {},
   "outputs": [
    {
     "data": {
      "text/plain": [
       "128"
      ]
     },
     "execution_count": 88,
     "metadata": {},
     "output_type": "execute_result"
    }
   ],
   "source": [
    "#accessing the number of MDVP:RAP below the mean\n",
    "len(park_data.loc[park_data['MDVP:RAP'] < RAP_mean])"
   ]
  },
  {
   "cell_type": "code",
   "execution_count": 89,
   "id": "cf72a1cf",
   "metadata": {},
   "outputs": [
    {
     "data": {
      "text/plain": [
       "97"
      ]
     },
     "execution_count": 89,
     "metadata": {},
     "output_type": "execute_result"
    }
   ],
   "source": [
    "#accessing the number of MDVP:RAP below the median\n",
    "len(park_data.loc[park_data['MDVP:RAP'] < RAP_second_quartile])"
   ]
  },
  {
   "cell_type": "code",
   "execution_count": 90,
   "id": "d8dc57fb",
   "metadata": {},
   "outputs": [
    {
     "data": {
      "text/plain": [
       "14"
      ]
     },
     "execution_count": 90,
     "metadata": {},
     "output_type": "execute_result"
    }
   ],
   "source": [
    "#accessing the number of MDVP:RAP which are outliers\n",
    "len(park_data.loc[park_data['MDVP:RAP'] > RAP_outlier])"
   ]
  },
  {
   "cell_type": "code",
   "execution_count": 91,
   "id": "f31104d9",
   "metadata": {},
   "outputs": [
    {
     "data": {
      "text/html": [
       "<div>\n",
       "<style scoped>\n",
       "    .dataframe tbody tr th:only-of-type {\n",
       "        vertical-align: middle;\n",
       "    }\n",
       "\n",
       "    .dataframe tbody tr th {\n",
       "        vertical-align: top;\n",
       "    }\n",
       "\n",
       "    .dataframe thead th {\n",
       "        text-align: right;\n",
       "    }\n",
       "</style>\n",
       "<table border=\"1\" class=\"dataframe\">\n",
       "  <thead>\n",
       "    <tr style=\"text-align: right;\">\n",
       "      <th></th>\n",
       "      <th>name</th>\n",
       "      <th>MDVP:Fo(Hz)</th>\n",
       "      <th>MDVP:Fhi(Hz)</th>\n",
       "      <th>MDVP:Flo(Hz)</th>\n",
       "      <th>MDVP:Jitter(%)</th>\n",
       "      <th>MDVP:Jitter(Abs)</th>\n",
       "      <th>MDVP:RAP</th>\n",
       "      <th>MDVP:PPQ</th>\n",
       "      <th>Jitter:DDP</th>\n",
       "      <th>MDVP:Shimmer</th>\n",
       "      <th>...</th>\n",
       "      <th>Shimmer:DDA</th>\n",
       "      <th>NHR</th>\n",
       "      <th>HNR</th>\n",
       "      <th>status</th>\n",
       "      <th>RPDE</th>\n",
       "      <th>DFA</th>\n",
       "      <th>spread1</th>\n",
       "      <th>spread2</th>\n",
       "      <th>D2</th>\n",
       "      <th>PPE</th>\n",
       "    </tr>\n",
       "  </thead>\n",
       "  <tbody>\n",
       "    <tr>\n",
       "      <th>97</th>\n",
       "      <td>phon_R01_S24_1</td>\n",
       "      <td>125.036</td>\n",
       "      <td>143.946</td>\n",
       "      <td>116.187</td>\n",
       "      <td>0.01280</td>\n",
       "      <td>0.00010</td>\n",
       "      <td>0.00743</td>\n",
       "      <td>0.00623</td>\n",
       "      <td>0.02228</td>\n",
       "      <td>0.03886</td>\n",
       "      <td>...</td>\n",
       "      <td>0.06406</td>\n",
       "      <td>0.08151</td>\n",
       "      <td>15.338</td>\n",
       "      <td>1</td>\n",
       "      <td>0.629574</td>\n",
       "      <td>0.714485</td>\n",
       "      <td>-4.020042</td>\n",
       "      <td>0.265315</td>\n",
       "      <td>2.671825</td>\n",
       "      <td>0.340623</td>\n",
       "    </tr>\n",
       "    <tr>\n",
       "      <th>98</th>\n",
       "      <td>phon_R01_S24_2</td>\n",
       "      <td>125.791</td>\n",
       "      <td>140.557</td>\n",
       "      <td>96.206</td>\n",
       "      <td>0.01378</td>\n",
       "      <td>0.00011</td>\n",
       "      <td>0.00826</td>\n",
       "      <td>0.00655</td>\n",
       "      <td>0.02478</td>\n",
       "      <td>0.04689</td>\n",
       "      <td>...</td>\n",
       "      <td>0.07625</td>\n",
       "      <td>0.10323</td>\n",
       "      <td>15.433</td>\n",
       "      <td>1</td>\n",
       "      <td>0.571010</td>\n",
       "      <td>0.690892</td>\n",
       "      <td>-5.159169</td>\n",
       "      <td>0.202146</td>\n",
       "      <td>2.441612</td>\n",
       "      <td>0.260375</td>\n",
       "    </tr>\n",
       "    <tr>\n",
       "      <th>99</th>\n",
       "      <td>phon_R01_S24_3</td>\n",
       "      <td>126.512</td>\n",
       "      <td>141.756</td>\n",
       "      <td>99.770</td>\n",
       "      <td>0.01936</td>\n",
       "      <td>0.00015</td>\n",
       "      <td>0.01159</td>\n",
       "      <td>0.00990</td>\n",
       "      <td>0.03476</td>\n",
       "      <td>0.06734</td>\n",
       "      <td>...</td>\n",
       "      <td>0.10833</td>\n",
       "      <td>0.16744</td>\n",
       "      <td>12.435</td>\n",
       "      <td>1</td>\n",
       "      <td>0.638545</td>\n",
       "      <td>0.674953</td>\n",
       "      <td>-3.760348</td>\n",
       "      <td>0.242861</td>\n",
       "      <td>2.634633</td>\n",
       "      <td>0.378483</td>\n",
       "    </tr>\n",
       "    <tr>\n",
       "      <th>100</th>\n",
       "      <td>phon_R01_S24_4</td>\n",
       "      <td>125.641</td>\n",
       "      <td>141.068</td>\n",
       "      <td>116.346</td>\n",
       "      <td>0.03316</td>\n",
       "      <td>0.00026</td>\n",
       "      <td>0.02144</td>\n",
       "      <td>0.01522</td>\n",
       "      <td>0.06433</td>\n",
       "      <td>0.09178</td>\n",
       "      <td>...</td>\n",
       "      <td>0.16074</td>\n",
       "      <td>0.31482</td>\n",
       "      <td>8.867</td>\n",
       "      <td>1</td>\n",
       "      <td>0.671299</td>\n",
       "      <td>0.656846</td>\n",
       "      <td>-3.700544</td>\n",
       "      <td>0.260481</td>\n",
       "      <td>2.991063</td>\n",
       "      <td>0.370961</td>\n",
       "    </tr>\n",
       "    <tr>\n",
       "      <th>101</th>\n",
       "      <td>phon_R01_S24_5</td>\n",
       "      <td>128.451</td>\n",
       "      <td>150.449</td>\n",
       "      <td>75.632</td>\n",
       "      <td>0.01551</td>\n",
       "      <td>0.00012</td>\n",
       "      <td>0.00905</td>\n",
       "      <td>0.00909</td>\n",
       "      <td>0.02716</td>\n",
       "      <td>0.06170</td>\n",
       "      <td>...</td>\n",
       "      <td>0.09669</td>\n",
       "      <td>0.11843</td>\n",
       "      <td>15.060</td>\n",
       "      <td>1</td>\n",
       "      <td>0.639808</td>\n",
       "      <td>0.643327</td>\n",
       "      <td>-4.202730</td>\n",
       "      <td>0.310163</td>\n",
       "      <td>2.638279</td>\n",
       "      <td>0.356881</td>\n",
       "    </tr>\n",
       "    <tr>\n",
       "      <th>102</th>\n",
       "      <td>phon_R01_S24_6</td>\n",
       "      <td>139.224</td>\n",
       "      <td>586.567</td>\n",
       "      <td>66.157</td>\n",
       "      <td>0.03011</td>\n",
       "      <td>0.00022</td>\n",
       "      <td>0.01854</td>\n",
       "      <td>0.01628</td>\n",
       "      <td>0.05563</td>\n",
       "      <td>0.09419</td>\n",
       "      <td>...</td>\n",
       "      <td>0.16654</td>\n",
       "      <td>0.25930</td>\n",
       "      <td>10.489</td>\n",
       "      <td>1</td>\n",
       "      <td>0.596362</td>\n",
       "      <td>0.641418</td>\n",
       "      <td>-3.269487</td>\n",
       "      <td>0.270641</td>\n",
       "      <td>2.690917</td>\n",
       "      <td>0.444774</td>\n",
       "    </tr>\n",
       "    <tr>\n",
       "      <th>146</th>\n",
       "      <td>phon_R01_S35_1</td>\n",
       "      <td>169.774</td>\n",
       "      <td>191.759</td>\n",
       "      <td>151.451</td>\n",
       "      <td>0.01568</td>\n",
       "      <td>0.00009</td>\n",
       "      <td>0.00863</td>\n",
       "      <td>0.00946</td>\n",
       "      <td>0.02589</td>\n",
       "      <td>0.08143</td>\n",
       "      <td>...</td>\n",
       "      <td>0.11411</td>\n",
       "      <td>0.07530</td>\n",
       "      <td>12.359</td>\n",
       "      <td>1</td>\n",
       "      <td>0.561610</td>\n",
       "      <td>0.793509</td>\n",
       "      <td>-3.297668</td>\n",
       "      <td>0.414758</td>\n",
       "      <td>3.413649</td>\n",
       "      <td>0.457533</td>\n",
       "    </tr>\n",
       "    <tr>\n",
       "      <th>147</th>\n",
       "      <td>phon_R01_S35_2</td>\n",
       "      <td>183.520</td>\n",
       "      <td>216.814</td>\n",
       "      <td>161.340</td>\n",
       "      <td>0.01466</td>\n",
       "      <td>0.00008</td>\n",
       "      <td>0.00849</td>\n",
       "      <td>0.00819</td>\n",
       "      <td>0.02546</td>\n",
       "      <td>0.06050</td>\n",
       "      <td>...</td>\n",
       "      <td>0.08595</td>\n",
       "      <td>0.06057</td>\n",
       "      <td>14.367</td>\n",
       "      <td>1</td>\n",
       "      <td>0.478024</td>\n",
       "      <td>0.768974</td>\n",
       "      <td>-4.276605</td>\n",
       "      <td>0.355736</td>\n",
       "      <td>3.142364</td>\n",
       "      <td>0.336085</td>\n",
       "    </tr>\n",
       "    <tr>\n",
       "      <th>148</th>\n",
       "      <td>phon_R01_S35_3</td>\n",
       "      <td>188.620</td>\n",
       "      <td>216.302</td>\n",
       "      <td>165.982</td>\n",
       "      <td>0.01719</td>\n",
       "      <td>0.00009</td>\n",
       "      <td>0.00996</td>\n",
       "      <td>0.01027</td>\n",
       "      <td>0.02987</td>\n",
       "      <td>0.07118</td>\n",
       "      <td>...</td>\n",
       "      <td>0.10422</td>\n",
       "      <td>0.08069</td>\n",
       "      <td>12.298</td>\n",
       "      <td>1</td>\n",
       "      <td>0.552870</td>\n",
       "      <td>0.764036</td>\n",
       "      <td>-3.377325</td>\n",
       "      <td>0.335357</td>\n",
       "      <td>3.274865</td>\n",
       "      <td>0.418646</td>\n",
       "    </tr>\n",
       "    <tr>\n",
       "      <th>149</th>\n",
       "      <td>phon_R01_S35_4</td>\n",
       "      <td>202.632</td>\n",
       "      <td>565.740</td>\n",
       "      <td>177.258</td>\n",
       "      <td>0.01627</td>\n",
       "      <td>0.00008</td>\n",
       "      <td>0.00919</td>\n",
       "      <td>0.00963</td>\n",
       "      <td>0.02756</td>\n",
       "      <td>0.07170</td>\n",
       "      <td>...</td>\n",
       "      <td>0.10546</td>\n",
       "      <td>0.07889</td>\n",
       "      <td>14.989</td>\n",
       "      <td>1</td>\n",
       "      <td>0.427627</td>\n",
       "      <td>0.775708</td>\n",
       "      <td>-4.892495</td>\n",
       "      <td>0.262281</td>\n",
       "      <td>2.910213</td>\n",
       "      <td>0.270173</td>\n",
       "    </tr>\n",
       "    <tr>\n",
       "      <th>150</th>\n",
       "      <td>phon_R01_S35_5</td>\n",
       "      <td>186.695</td>\n",
       "      <td>211.961</td>\n",
       "      <td>149.442</td>\n",
       "      <td>0.01872</td>\n",
       "      <td>0.00010</td>\n",
       "      <td>0.01075</td>\n",
       "      <td>0.01154</td>\n",
       "      <td>0.03225</td>\n",
       "      <td>0.05830</td>\n",
       "      <td>...</td>\n",
       "      <td>0.08096</td>\n",
       "      <td>0.10952</td>\n",
       "      <td>12.529</td>\n",
       "      <td>1</td>\n",
       "      <td>0.507826</td>\n",
       "      <td>0.762726</td>\n",
       "      <td>-4.484303</td>\n",
       "      <td>0.340256</td>\n",
       "      <td>2.958815</td>\n",
       "      <td>0.301487</td>\n",
       "    </tr>\n",
       "    <tr>\n",
       "      <th>151</th>\n",
       "      <td>phon_R01_S35_6</td>\n",
       "      <td>192.818</td>\n",
       "      <td>224.429</td>\n",
       "      <td>168.793</td>\n",
       "      <td>0.03107</td>\n",
       "      <td>0.00016</td>\n",
       "      <td>0.01800</td>\n",
       "      <td>0.01958</td>\n",
       "      <td>0.05401</td>\n",
       "      <td>0.11908</td>\n",
       "      <td>...</td>\n",
       "      <td>0.16942</td>\n",
       "      <td>0.21713</td>\n",
       "      <td>8.441</td>\n",
       "      <td>1</td>\n",
       "      <td>0.625866</td>\n",
       "      <td>0.768320</td>\n",
       "      <td>-2.434031</td>\n",
       "      <td>0.450493</td>\n",
       "      <td>3.079221</td>\n",
       "      <td>0.527367</td>\n",
       "    </tr>\n",
       "    <tr>\n",
       "      <th>152</th>\n",
       "      <td>phon_R01_S35_7</td>\n",
       "      <td>198.116</td>\n",
       "      <td>233.099</td>\n",
       "      <td>174.478</td>\n",
       "      <td>0.02714</td>\n",
       "      <td>0.00014</td>\n",
       "      <td>0.01568</td>\n",
       "      <td>0.01699</td>\n",
       "      <td>0.04705</td>\n",
       "      <td>0.08684</td>\n",
       "      <td>...</td>\n",
       "      <td>0.12851</td>\n",
       "      <td>0.16265</td>\n",
       "      <td>9.449</td>\n",
       "      <td>1</td>\n",
       "      <td>0.584164</td>\n",
       "      <td>0.754449</td>\n",
       "      <td>-2.839756</td>\n",
       "      <td>0.356224</td>\n",
       "      <td>3.184027</td>\n",
       "      <td>0.454721</td>\n",
       "    </tr>\n",
       "    <tr>\n",
       "      <th>157</th>\n",
       "      <td>phon_R01_S37_5</td>\n",
       "      <td>117.963</td>\n",
       "      <td>134.209</td>\n",
       "      <td>100.757</td>\n",
       "      <td>0.01813</td>\n",
       "      <td>0.00015</td>\n",
       "      <td>0.01117</td>\n",
       "      <td>0.00718</td>\n",
       "      <td>0.03351</td>\n",
       "      <td>0.04912</td>\n",
       "      <td>...</td>\n",
       "      <td>0.07830</td>\n",
       "      <td>0.10748</td>\n",
       "      <td>19.075</td>\n",
       "      <td>1</td>\n",
       "      <td>0.630547</td>\n",
       "      <td>0.646786</td>\n",
       "      <td>-3.444478</td>\n",
       "      <td>0.303214</td>\n",
       "      <td>2.964568</td>\n",
       "      <td>0.261305</td>\n",
       "    </tr>\n",
       "  </tbody>\n",
       "</table>\n",
       "<p>14 rows × 24 columns</p>\n",
       "</div>"
      ],
      "text/plain": [
       "               name  MDVP:Fo(Hz)  MDVP:Fhi(Hz)  MDVP:Flo(Hz)  MDVP:Jitter(%)  \\\n",
       "97   phon_R01_S24_1      125.036       143.946       116.187         0.01280   \n",
       "98   phon_R01_S24_2      125.791       140.557        96.206         0.01378   \n",
       "99   phon_R01_S24_3      126.512       141.756        99.770         0.01936   \n",
       "100  phon_R01_S24_4      125.641       141.068       116.346         0.03316   \n",
       "101  phon_R01_S24_5      128.451       150.449        75.632         0.01551   \n",
       "102  phon_R01_S24_6      139.224       586.567        66.157         0.03011   \n",
       "146  phon_R01_S35_1      169.774       191.759       151.451         0.01568   \n",
       "147  phon_R01_S35_2      183.520       216.814       161.340         0.01466   \n",
       "148  phon_R01_S35_3      188.620       216.302       165.982         0.01719   \n",
       "149  phon_R01_S35_4      202.632       565.740       177.258         0.01627   \n",
       "150  phon_R01_S35_5      186.695       211.961       149.442         0.01872   \n",
       "151  phon_R01_S35_6      192.818       224.429       168.793         0.03107   \n",
       "152  phon_R01_S35_7      198.116       233.099       174.478         0.02714   \n",
       "157  phon_R01_S37_5      117.963       134.209       100.757         0.01813   \n",
       "\n",
       "     MDVP:Jitter(Abs)  MDVP:RAP  MDVP:PPQ  Jitter:DDP  MDVP:Shimmer  ...  \\\n",
       "97            0.00010   0.00743   0.00623     0.02228       0.03886  ...   \n",
       "98            0.00011   0.00826   0.00655     0.02478       0.04689  ...   \n",
       "99            0.00015   0.01159   0.00990     0.03476       0.06734  ...   \n",
       "100           0.00026   0.02144   0.01522     0.06433       0.09178  ...   \n",
       "101           0.00012   0.00905   0.00909     0.02716       0.06170  ...   \n",
       "102           0.00022   0.01854   0.01628     0.05563       0.09419  ...   \n",
       "146           0.00009   0.00863   0.00946     0.02589       0.08143  ...   \n",
       "147           0.00008   0.00849   0.00819     0.02546       0.06050  ...   \n",
       "148           0.00009   0.00996   0.01027     0.02987       0.07118  ...   \n",
       "149           0.00008   0.00919   0.00963     0.02756       0.07170  ...   \n",
       "150           0.00010   0.01075   0.01154     0.03225       0.05830  ...   \n",
       "151           0.00016   0.01800   0.01958     0.05401       0.11908  ...   \n",
       "152           0.00014   0.01568   0.01699     0.04705       0.08684  ...   \n",
       "157           0.00015   0.01117   0.00718     0.03351       0.04912  ...   \n",
       "\n",
       "     Shimmer:DDA      NHR     HNR  status      RPDE       DFA   spread1  \\\n",
       "97       0.06406  0.08151  15.338       1  0.629574  0.714485 -4.020042   \n",
       "98       0.07625  0.10323  15.433       1  0.571010  0.690892 -5.159169   \n",
       "99       0.10833  0.16744  12.435       1  0.638545  0.674953 -3.760348   \n",
       "100      0.16074  0.31482   8.867       1  0.671299  0.656846 -3.700544   \n",
       "101      0.09669  0.11843  15.060       1  0.639808  0.643327 -4.202730   \n",
       "102      0.16654  0.25930  10.489       1  0.596362  0.641418 -3.269487   \n",
       "146      0.11411  0.07530  12.359       1  0.561610  0.793509 -3.297668   \n",
       "147      0.08595  0.06057  14.367       1  0.478024  0.768974 -4.276605   \n",
       "148      0.10422  0.08069  12.298       1  0.552870  0.764036 -3.377325   \n",
       "149      0.10546  0.07889  14.989       1  0.427627  0.775708 -4.892495   \n",
       "150      0.08096  0.10952  12.529       1  0.507826  0.762726 -4.484303   \n",
       "151      0.16942  0.21713   8.441       1  0.625866  0.768320 -2.434031   \n",
       "152      0.12851  0.16265   9.449       1  0.584164  0.754449 -2.839756   \n",
       "157      0.07830  0.10748  19.075       1  0.630547  0.646786 -3.444478   \n",
       "\n",
       "      spread2        D2       PPE  \n",
       "97   0.265315  2.671825  0.340623  \n",
       "98   0.202146  2.441612  0.260375  \n",
       "99   0.242861  2.634633  0.378483  \n",
       "100  0.260481  2.991063  0.370961  \n",
       "101  0.310163  2.638279  0.356881  \n",
       "102  0.270641  2.690917  0.444774  \n",
       "146  0.414758  3.413649  0.457533  \n",
       "147  0.355736  3.142364  0.336085  \n",
       "148  0.335357  3.274865  0.418646  \n",
       "149  0.262281  2.910213  0.270173  \n",
       "150  0.340256  2.958815  0.301487  \n",
       "151  0.450493  3.079221  0.527367  \n",
       "152  0.356224  3.184027  0.454721  \n",
       "157  0.303214  2.964568  0.261305  \n",
       "\n",
       "[14 rows x 24 columns]"
      ]
     },
     "execution_count": 91,
     "metadata": {},
     "output_type": "execute_result"
    }
   ],
   "source": [
    "#accessing the dataset of MDVP:RAP outliers\n",
    "park_data.loc[park_data['MDVP:RAP'] > RAP_outlier]"
   ]
  },
  {
   "cell_type": "markdown",
   "id": "067d0817",
   "metadata": {},
   "source": [
    "128 which makes 65.64% of the entire dataset has recordings below the mean. Additionally, 14 outliers which makes 7.17% can also be observed out of which a patient (phon_R01_S35) had the most of 7 outliers and patient(phon_R01_S24) having 6 outliers"
   ]
  },
  {
   "cell_type": "markdown",
   "id": "fcf5f3b6",
   "metadata": {},
   "source": [
    "#### MDVP:Jitter(Abs)"
   ]
  },
  {
   "cell_type": "code",
   "execution_count": 92,
   "id": "e8ad48c4",
   "metadata": {},
   "outputs": [
    {
     "data": {
      "text/plain": [
       "count    195.000000\n",
       "mean       0.000044\n",
       "std        0.000035\n",
       "min        0.000007\n",
       "25%        0.000020\n",
       "50%        0.000030\n",
       "75%        0.000060\n",
       "max        0.000260\n",
       "Name: MDVP:Jitter(Abs), dtype: float64"
      ]
     },
     "execution_count": 92,
     "metadata": {},
     "output_type": "execute_result"
    }
   ],
   "source": [
    "#statistical info\n",
    "park_data['MDVP:Jitter(Abs)'].describe()"
   ]
  },
  {
   "cell_type": "code",
   "execution_count": 93,
   "id": "47db02bd",
   "metadata": {},
   "outputs": [
    {
     "data": {
      "image/png": "[encoded data removed]",
      "text/plain": [
       "<Figure size 432x288 with 1 Axes>"
      ]
     },
     "metadata": {
      "needs_background": "light"
     },
     "output_type": "display_data"
    }
   ],
   "source": [
    "#plotting a histogram for MDVP:Jitter(Abs)\n",
    "plt.hist(park_data['MDVP:Jitter(Abs)'])\n",
    "plt.show()"
   ]
  },
  {
   "cell_type": "code",
   "execution_count": 94,
   "id": "abbe53f2",
   "metadata": {},
   "outputs": [
    {
     "data": {
      "text/plain": [
       "{'whiskers': [<matplotlib.lines.Line2D at 0xb36d3ca550>,\n",
       "  <matplotlib.lines.Line2D at 0xb36d3ca8e0>],\n",
       " 'caps': [<matplotlib.lines.Line2D at 0xb36d3cac70>,\n",
       "  <matplotlib.lines.Line2D at 0xb36d3d4040>],\n",
       " 'boxes': [<matplotlib.lines.Line2D at 0xb36d3ca1c0>],\n",
       " 'medians': [<matplotlib.lines.Line2D at 0xb36d3d43d0>],\n",
       " 'fliers': [<matplotlib.lines.Line2D at 0xb36d3d4760>],\n",
       " 'means': []}"
      ]
     },
     "execution_count": 94,
     "metadata": {},
     "output_type": "execute_result"
    },
    {
     "data": {
      "image/png": "[encoded data removed]",
      "text/plain": [
       "<Figure size 432x288 with 1 Axes>"
      ]
     },
     "metadata": {
      "needs_background": "light"
     },
     "output_type": "display_data"
    }
   ],
   "source": [
    "#plotting a boxplot for MDVP:Jitter(Abs)\n",
    "plt.boxplot(park_data['MDVP:Jitter(Abs)'])"
   ]
  },
  {
   "cell_type": "markdown",
   "id": "43e1b7fb",
   "metadata": {},
   "source": [
    "The two representations shows a right skewed distribution.Also, we can identify some outliers"
   ]
  },
  {
   "cell_type": "code",
   "execution_count": 255,
   "id": "7ff15807",
   "metadata": {},
   "outputs": [
    {
     "name": "stdout",
     "output_type": "stream",
     "text": [
      "0.00011999999999999999\n",
      "-3.9999999999999996e-05\n"
     ]
    }
   ],
   "source": [
    "#parameters\n",
    "Abs_mean = 0.000044\n",
    "Abs_first_quartile = 0.000020\n",
    "Abs_second_quartile = 0.000030\n",
    "Abs_third_quartile = 0.000060\n",
    "Abs_IQR = Abs_third_quartile - Abs_first_quartile\n",
    "Abs_outlier = Abs_third_quartile + (1.5 * Abs_IQR) #outlier upper range\n",
    "Abs_lower_outlier = Abs_first_quartile - (1.5 * Abs_IQR)\n",
    "print(Abs_outlier)\n",
    "print(Abs_lower_outlier)"
   ]
  },
  {
   "cell_type": "code",
   "execution_count": 96,
   "id": "381173d6",
   "metadata": {},
   "outputs": [
    {
     "data": {
      "text/plain": [
       "128"
      ]
     },
     "execution_count": 96,
     "metadata": {},
     "output_type": "execute_result"
    }
   ],
   "source": [
    "#accessing the number of MDVP:Jitter(Abs) below the mean\n",
    "len(park_data.loc[park_data['MDVP:Jitter(Abs)'] < Abs_mean])"
   ]
  },
  {
   "cell_type": "code",
   "execution_count": 97,
   "id": "f79d675f",
   "metadata": {},
   "outputs": [
    {
     "data": {
      "text/plain": [
       "54"
      ]
     },
     "execution_count": 97,
     "metadata": {},
     "output_type": "execute_result"
    }
   ],
   "source": [
    "#accessing the number of MDVP:Jitter(Abs) below the median\n",
    "len(park_data.loc[park_data['MDVP:Jitter(Abs)'] < Abs_second_quartile])"
   ]
  },
  {
   "cell_type": "code",
   "execution_count": 98,
   "id": "fc3a22ae",
   "metadata": {},
   "outputs": [
    {
     "data": {
      "text/plain": [
       "7"
      ]
     },
     "execution_count": 98,
     "metadata": {},
     "output_type": "execute_result"
    }
   ],
   "source": [
    "#accessing the number of MDVP:Jitter(Abs) which are outliers\n",
    "len(park_data.loc[park_data['MDVP:Jitter(Abs)'] > Abs_outlier])"
   ]
  },
  {
   "cell_type": "code",
   "execution_count": 99,
   "id": "ab96087a",
   "metadata": {},
   "outputs": [
    {
     "data": {
      "text/html": [
       "<div>\n",
       "<style scoped>\n",
       "    .dataframe tbody tr th:only-of-type {\n",
       "        vertical-align: middle;\n",
       "    }\n",
       "\n",
       "    .dataframe tbody tr th {\n",
       "        vertical-align: top;\n",
       "    }\n",
       "\n",
       "    .dataframe thead th {\n",
       "        text-align: right;\n",
       "    }\n",
       "</style>\n",
       "<table border=\"1\" class=\"dataframe\">\n",
       "  <thead>\n",
       "    <tr style=\"text-align: right;\">\n",
       "      <th></th>\n",
       "      <th>name</th>\n",
       "      <th>MDVP:Fo(Hz)</th>\n",
       "      <th>MDVP:Fhi(Hz)</th>\n",
       "      <th>MDVP:Flo(Hz)</th>\n",
       "      <th>MDVP:Jitter(%)</th>\n",
       "      <th>MDVP:Jitter(Abs)</th>\n",
       "      <th>MDVP:RAP</th>\n",
       "      <th>MDVP:PPQ</th>\n",
       "      <th>Jitter:DDP</th>\n",
       "      <th>MDVP:Shimmer</th>\n",
       "      <th>...</th>\n",
       "      <th>Shimmer:DDA</th>\n",
       "      <th>NHR</th>\n",
       "      <th>HNR</th>\n",
       "      <th>status</th>\n",
       "      <th>RPDE</th>\n",
       "      <th>DFA</th>\n",
       "      <th>spread1</th>\n",
       "      <th>spread2</th>\n",
       "      <th>D2</th>\n",
       "      <th>PPE</th>\n",
       "    </tr>\n",
       "  </thead>\n",
       "  <tbody>\n",
       "    <tr>\n",
       "      <th>99</th>\n",
       "      <td>phon_R01_S24_3</td>\n",
       "      <td>126.512</td>\n",
       "      <td>141.756</td>\n",
       "      <td>99.770</td>\n",
       "      <td>0.01936</td>\n",
       "      <td>0.00015</td>\n",
       "      <td>0.01159</td>\n",
       "      <td>0.00990</td>\n",
       "      <td>0.03476</td>\n",
       "      <td>0.06734</td>\n",
       "      <td>...</td>\n",
       "      <td>0.10833</td>\n",
       "      <td>0.16744</td>\n",
       "      <td>12.435</td>\n",
       "      <td>1</td>\n",
       "      <td>0.638545</td>\n",
       "      <td>0.674953</td>\n",
       "      <td>-3.760348</td>\n",
       "      <td>0.242861</td>\n",
       "      <td>2.634633</td>\n",
       "      <td>0.378483</td>\n",
       "    </tr>\n",
       "    <tr>\n",
       "      <th>100</th>\n",
       "      <td>phon_R01_S24_4</td>\n",
       "      <td>125.641</td>\n",
       "      <td>141.068</td>\n",
       "      <td>116.346</td>\n",
       "      <td>0.03316</td>\n",
       "      <td>0.00026</td>\n",
       "      <td>0.02144</td>\n",
       "      <td>0.01522</td>\n",
       "      <td>0.06433</td>\n",
       "      <td>0.09178</td>\n",
       "      <td>...</td>\n",
       "      <td>0.16074</td>\n",
       "      <td>0.31482</td>\n",
       "      <td>8.867</td>\n",
       "      <td>1</td>\n",
       "      <td>0.671299</td>\n",
       "      <td>0.656846</td>\n",
       "      <td>-3.700544</td>\n",
       "      <td>0.260481</td>\n",
       "      <td>2.991063</td>\n",
       "      <td>0.370961</td>\n",
       "    </tr>\n",
       "    <tr>\n",
       "      <th>101</th>\n",
       "      <td>phon_R01_S24_5</td>\n",
       "      <td>128.451</td>\n",
       "      <td>150.449</td>\n",
       "      <td>75.632</td>\n",
       "      <td>0.01551</td>\n",
       "      <td>0.00012</td>\n",
       "      <td>0.00905</td>\n",
       "      <td>0.00909</td>\n",
       "      <td>0.02716</td>\n",
       "      <td>0.06170</td>\n",
       "      <td>...</td>\n",
       "      <td>0.09669</td>\n",
       "      <td>0.11843</td>\n",
       "      <td>15.060</td>\n",
       "      <td>1</td>\n",
       "      <td>0.639808</td>\n",
       "      <td>0.643327</td>\n",
       "      <td>-4.202730</td>\n",
       "      <td>0.310163</td>\n",
       "      <td>2.638279</td>\n",
       "      <td>0.356881</td>\n",
       "    </tr>\n",
       "    <tr>\n",
       "      <th>102</th>\n",
       "      <td>phon_R01_S24_6</td>\n",
       "      <td>139.224</td>\n",
       "      <td>586.567</td>\n",
       "      <td>66.157</td>\n",
       "      <td>0.03011</td>\n",
       "      <td>0.00022</td>\n",
       "      <td>0.01854</td>\n",
       "      <td>0.01628</td>\n",
       "      <td>0.05563</td>\n",
       "      <td>0.09419</td>\n",
       "      <td>...</td>\n",
       "      <td>0.16654</td>\n",
       "      <td>0.25930</td>\n",
       "      <td>10.489</td>\n",
       "      <td>1</td>\n",
       "      <td>0.596362</td>\n",
       "      <td>0.641418</td>\n",
       "      <td>-3.269487</td>\n",
       "      <td>0.270641</td>\n",
       "      <td>2.690917</td>\n",
       "      <td>0.444774</td>\n",
       "    </tr>\n",
       "    <tr>\n",
       "      <th>151</th>\n",
       "      <td>phon_R01_S35_6</td>\n",
       "      <td>192.818</td>\n",
       "      <td>224.429</td>\n",
       "      <td>168.793</td>\n",
       "      <td>0.03107</td>\n",
       "      <td>0.00016</td>\n",
       "      <td>0.01800</td>\n",
       "      <td>0.01958</td>\n",
       "      <td>0.05401</td>\n",
       "      <td>0.11908</td>\n",
       "      <td>...</td>\n",
       "      <td>0.16942</td>\n",
       "      <td>0.21713</td>\n",
       "      <td>8.441</td>\n",
       "      <td>1</td>\n",
       "      <td>0.625866</td>\n",
       "      <td>0.768320</td>\n",
       "      <td>-2.434031</td>\n",
       "      <td>0.450493</td>\n",
       "      <td>3.079221</td>\n",
       "      <td>0.527367</td>\n",
       "    </tr>\n",
       "    <tr>\n",
       "      <th>152</th>\n",
       "      <td>phon_R01_S35_7</td>\n",
       "      <td>198.116</td>\n",
       "      <td>233.099</td>\n",
       "      <td>174.478</td>\n",
       "      <td>0.02714</td>\n",
       "      <td>0.00014</td>\n",
       "      <td>0.01568</td>\n",
       "      <td>0.01699</td>\n",
       "      <td>0.04705</td>\n",
       "      <td>0.08684</td>\n",
       "      <td>...</td>\n",
       "      <td>0.12851</td>\n",
       "      <td>0.16265</td>\n",
       "      <td>9.449</td>\n",
       "      <td>1</td>\n",
       "      <td>0.584164</td>\n",
       "      <td>0.754449</td>\n",
       "      <td>-2.839756</td>\n",
       "      <td>0.356224</td>\n",
       "      <td>3.184027</td>\n",
       "      <td>0.454721</td>\n",
       "    </tr>\n",
       "    <tr>\n",
       "      <th>157</th>\n",
       "      <td>phon_R01_S37_5</td>\n",
       "      <td>117.963</td>\n",
       "      <td>134.209</td>\n",
       "      <td>100.757</td>\n",
       "      <td>0.01813</td>\n",
       "      <td>0.00015</td>\n",
       "      <td>0.01117</td>\n",
       "      <td>0.00718</td>\n",
       "      <td>0.03351</td>\n",
       "      <td>0.04912</td>\n",
       "      <td>...</td>\n",
       "      <td>0.07830</td>\n",
       "      <td>0.10748</td>\n",
       "      <td>19.075</td>\n",
       "      <td>1</td>\n",
       "      <td>0.630547</td>\n",
       "      <td>0.646786</td>\n",
       "      <td>-3.444478</td>\n",
       "      <td>0.303214</td>\n",
       "      <td>2.964568</td>\n",
       "      <td>0.261305</td>\n",
       "    </tr>\n",
       "  </tbody>\n",
       "</table>\n",
       "<p>7 rows × 24 columns</p>\n",
       "</div>"
      ],
      "text/plain": [
       "               name  MDVP:Fo(Hz)  MDVP:Fhi(Hz)  MDVP:Flo(Hz)  MDVP:Jitter(%)  \\\n",
       "99   phon_R01_S24_3      126.512       141.756        99.770         0.01936   \n",
       "100  phon_R01_S24_4      125.641       141.068       116.346         0.03316   \n",
       "101  phon_R01_S24_5      128.451       150.449        75.632         0.01551   \n",
       "102  phon_R01_S24_6      139.224       586.567        66.157         0.03011   \n",
       "151  phon_R01_S35_6      192.818       224.429       168.793         0.03107   \n",
       "152  phon_R01_S35_7      198.116       233.099       174.478         0.02714   \n",
       "157  phon_R01_S37_5      117.963       134.209       100.757         0.01813   \n",
       "\n",
       "     MDVP:Jitter(Abs)  MDVP:RAP  MDVP:PPQ  Jitter:DDP  MDVP:Shimmer  ...  \\\n",
       "99            0.00015   0.01159   0.00990     0.03476       0.06734  ...   \n",
       "100           0.00026   0.02144   0.01522     0.06433       0.09178  ...   \n",
       "101           0.00012   0.00905   0.00909     0.02716       0.06170  ...   \n",
       "102           0.00022   0.01854   0.01628     0.05563       0.09419  ...   \n",
       "151           0.00016   0.01800   0.01958     0.05401       0.11908  ...   \n",
       "152           0.00014   0.01568   0.01699     0.04705       0.08684  ...   \n",
       "157           0.00015   0.01117   0.00718     0.03351       0.04912  ...   \n",
       "\n",
       "     Shimmer:DDA      NHR     HNR  status      RPDE       DFA   spread1  \\\n",
       "99       0.10833  0.16744  12.435       1  0.638545  0.674953 -3.760348   \n",
       "100      0.16074  0.31482   8.867       1  0.671299  0.656846 -3.700544   \n",
       "101      0.09669  0.11843  15.060       1  0.639808  0.643327 -4.202730   \n",
       "102      0.16654  0.25930  10.489       1  0.596362  0.641418 -3.269487   \n",
       "151      0.16942  0.21713   8.441       1  0.625866  0.768320 -2.434031   \n",
       "152      0.12851  0.16265   9.449       1  0.584164  0.754449 -2.839756   \n",
       "157      0.07830  0.10748  19.075       1  0.630547  0.646786 -3.444478   \n",
       "\n",
       "      spread2        D2       PPE  \n",
       "99   0.242861  2.634633  0.378483  \n",
       "100  0.260481  2.991063  0.370961  \n",
       "101  0.310163  2.638279  0.356881  \n",
       "102  0.270641  2.690917  0.444774  \n",
       "151  0.450493  3.079221  0.527367  \n",
       "152  0.356224  3.184027  0.454721  \n",
       "157  0.303214  2.964568  0.261305  \n",
       "\n",
       "[7 rows x 24 columns]"
      ]
     },
     "execution_count": 99,
     "metadata": {},
     "output_type": "execute_result"
    }
   ],
   "source": [
    "#accessing the dataset of MDVP:Jitter(Abs) outliers\n",
    "park_data.loc[park_data['MDVP:Jitter(Abs)'] > Abs_outlier]"
   ]
  },
  {
   "cell_type": "markdown",
   "id": "b3a4a184",
   "metadata": {},
   "source": [
    "128 which makes 65.64% of the entire dataset has recordings below the mean. 54 thus 27.69% of the data is below the median. \n",
    "7 outliers are observed with all having a positive status "
   ]
  },
  {
   "cell_type": "markdown",
   "id": "f64963ac",
   "metadata": {},
   "source": [
    "#### MDVP:Jitter(%)"
   ]
  },
  {
   "cell_type": "code",
   "execution_count": 100,
   "id": "225750e7",
   "metadata": {},
   "outputs": [
    {
     "data": {
      "text/plain": [
       "count    195.000000\n",
       "mean       0.006220\n",
       "std        0.004848\n",
       "min        0.001680\n",
       "25%        0.003460\n",
       "50%        0.004940\n",
       "75%        0.007365\n",
       "max        0.033160\n",
       "Name: MDVP:Jitter(%), dtype: float64"
      ]
     },
     "execution_count": 100,
     "metadata": {},
     "output_type": "execute_result"
    }
   ],
   "source": [
    "#statistical info\n",
    "park_data['MDVP:Jitter(%)'].describe()"
   ]
  },
  {
   "cell_type": "code",
   "execution_count": 101,
   "id": "90477854",
   "metadata": {},
   "outputs": [
    {
     "data": {
      "image/png": "[encoded data removed]",
      "text/plain": [
       "<Figure size 432x288 with 1 Axes>"
      ]
     },
     "metadata": {
      "needs_background": "light"
     },
     "output_type": "display_data"
    }
   ],
   "source": [
    "#plotting a histogram of MDVP:Jitter(%)\n",
    "plt.hist(park_data['MDVP:Jitter(%)'])\n",
    "plt.show()"
   ]
  },
  {
   "cell_type": "code",
   "execution_count": 102,
   "id": "57b54dbc",
   "metadata": {},
   "outputs": [
    {
     "data": {
      "text/plain": [
       "{'whiskers': [<matplotlib.lines.Line2D at 0xb36d420fa0>,\n",
       "  <matplotlib.lines.Line2D at 0xb36d4205e0>],\n",
       " 'caps': [<matplotlib.lines.Line2D at 0xb36d4202b0>,\n",
       "  <matplotlib.lines.Line2D at 0xb36d417ca0>],\n",
       " 'boxes': [<matplotlib.lines.Line2D at 0xb36d420c70>],\n",
       " 'medians': [<matplotlib.lines.Line2D at 0xb36d417a60>],\n",
       " 'fliers': [<matplotlib.lines.Line2D at 0xb36d417f70>],\n",
       " 'means': []}"
      ]
     },
     "execution_count": 102,
     "metadata": {},
     "output_type": "execute_result"
    },
    {
     "data": {
      "image/png": "[encoded data removed]",
      "text/plain": [
       "<Figure size 432x288 with 1 Axes>"
      ]
     },
     "metadata": {
      "needs_background": "light"
     },
     "output_type": "display_data"
    }
   ],
   "source": [
    "#plottinga a boxplot\n",
    "plt.boxplot(park_data['MDVP:Jitter(%)'])"
   ]
  },
  {
   "cell_type": "markdown",
   "id": "4773a08f",
   "metadata": {},
   "source": [
    "From both distributions we see a right skewed data. we can also observe a number of outliers.we will look into"
   ]
  },
  {
   "cell_type": "code",
   "execution_count": 257,
   "id": "c5da424d",
   "metadata": {},
   "outputs": [
    {
     "name": "stdout",
     "output_type": "stream",
     "text": [
      "0.0132225\n",
      "-0.0023975\n"
     ]
    }
   ],
   "source": [
    "#parameters\n",
    "Jit_mean = 0.006220\n",
    "Jit_first_quartile = 0.003460\n",
    "Jit_second_quartile = 0.004940\n",
    "Jit_third_quartile = 0.007365\n",
    "Jit_IQR = Jit_third_quartile - Jit_first_quartile \n",
    "Jit_outlier = Jit_third_quartile + (1.5 * Jit_IQR)\n",
    "Jit_lower_outlier = Jit_first_quartile - (1.5 * Jit_IQR)\n",
    "print(Jit_outlier)\n",
    "print(Jit_lower_outlier)"
   ]
  },
  {
   "cell_type": "code",
   "execution_count": 104,
   "id": "d94587ca",
   "metadata": {},
   "outputs": [
    {
     "data": {
      "text/plain": [
       "131"
      ]
     },
     "execution_count": 104,
     "metadata": {},
     "output_type": "execute_result"
    }
   ],
   "source": [
    "#accessing the number of MDVP:Jitter(%) below the mean\n",
    "len(park_data.loc[park_data['MDVP:Jitter(%)'] < Jit_mean])"
   ]
  },
  {
   "cell_type": "code",
   "execution_count": 105,
   "id": "e04f88da",
   "metadata": {},
   "outputs": [
    {
     "data": {
      "text/plain": [
       "96"
      ]
     },
     "execution_count": 105,
     "metadata": {},
     "output_type": "execute_result"
    }
   ],
   "source": [
    "#accessing the number of MDVP:Jitter(%) below the median\n",
    "len(park_data.loc[park_data['MDVP:Jitter(%)'] < Jit_second_quartile])"
   ]
  },
  {
   "cell_type": "code",
   "execution_count": 106,
   "id": "d8974b79",
   "metadata": {},
   "outputs": [
    {
     "data": {
      "text/plain": [
       "14"
      ]
     },
     "execution_count": 106,
     "metadata": {},
     "output_type": "execute_result"
    }
   ],
   "source": [
    "#accessing the number of MDVP:Jitter(%) which are outlier\n",
    "len(park_data.loc[park_data['MDVP:Jitter(%)'] > Jit_outlier])"
   ]
  },
  {
   "cell_type": "code",
   "execution_count": 107,
   "id": "e72db7ee",
   "metadata": {},
   "outputs": [
    {
     "data": {
      "text/html": [
       "<div>\n",
       "<style scoped>\n",
       "    .dataframe tbody tr th:only-of-type {\n",
       "        vertical-align: middle;\n",
       "    }\n",
       "\n",
       "    .dataframe tbody tr th {\n",
       "        vertical-align: top;\n",
       "    }\n",
       "\n",
       "    .dataframe thead th {\n",
       "        text-align: right;\n",
       "    }\n",
       "</style>\n",
       "<table border=\"1\" class=\"dataframe\">\n",
       "  <thead>\n",
       "    <tr style=\"text-align: right;\">\n",
       "      <th></th>\n",
       "      <th>name</th>\n",
       "      <th>MDVP:Fo(Hz)</th>\n",
       "      <th>MDVP:Fhi(Hz)</th>\n",
       "      <th>MDVP:Flo(Hz)</th>\n",
       "      <th>MDVP:Jitter(%)</th>\n",
       "      <th>MDVP:Jitter(Abs)</th>\n",
       "      <th>MDVP:RAP</th>\n",
       "      <th>MDVP:PPQ</th>\n",
       "      <th>Jitter:DDP</th>\n",
       "      <th>MDVP:Shimmer</th>\n",
       "      <th>...</th>\n",
       "      <th>Shimmer:DDA</th>\n",
       "      <th>NHR</th>\n",
       "      <th>HNR</th>\n",
       "      <th>status</th>\n",
       "      <th>RPDE</th>\n",
       "      <th>DFA</th>\n",
       "      <th>spread1</th>\n",
       "      <th>spread2</th>\n",
       "      <th>D2</th>\n",
       "      <th>PPE</th>\n",
       "    </tr>\n",
       "  </thead>\n",
       "  <tbody>\n",
       "    <tr>\n",
       "      <th>98</th>\n",
       "      <td>phon_R01_S24_2</td>\n",
       "      <td>125.791</td>\n",
       "      <td>140.557</td>\n",
       "      <td>96.206</td>\n",
       "      <td>0.01378</td>\n",
       "      <td>0.00011</td>\n",
       "      <td>0.00826</td>\n",
       "      <td>0.00655</td>\n",
       "      <td>0.02478</td>\n",
       "      <td>0.04689</td>\n",
       "      <td>...</td>\n",
       "      <td>0.07625</td>\n",
       "      <td>0.10323</td>\n",
       "      <td>15.433</td>\n",
       "      <td>1</td>\n",
       "      <td>0.571010</td>\n",
       "      <td>0.690892</td>\n",
       "      <td>-5.159169</td>\n",
       "      <td>0.202146</td>\n",
       "      <td>2.441612</td>\n",
       "      <td>0.260375</td>\n",
       "    </tr>\n",
       "    <tr>\n",
       "      <th>99</th>\n",
       "      <td>phon_R01_S24_3</td>\n",
       "      <td>126.512</td>\n",
       "      <td>141.756</td>\n",
       "      <td>99.770</td>\n",
       "      <td>0.01936</td>\n",
       "      <td>0.00015</td>\n",
       "      <td>0.01159</td>\n",
       "      <td>0.00990</td>\n",
       "      <td>0.03476</td>\n",
       "      <td>0.06734</td>\n",
       "      <td>...</td>\n",
       "      <td>0.10833</td>\n",
       "      <td>0.16744</td>\n",
       "      <td>12.435</td>\n",
       "      <td>1</td>\n",
       "      <td>0.638545</td>\n",
       "      <td>0.674953</td>\n",
       "      <td>-3.760348</td>\n",
       "      <td>0.242861</td>\n",
       "      <td>2.634633</td>\n",
       "      <td>0.378483</td>\n",
       "    </tr>\n",
       "    <tr>\n",
       "      <th>100</th>\n",
       "      <td>phon_R01_S24_4</td>\n",
       "      <td>125.641</td>\n",
       "      <td>141.068</td>\n",
       "      <td>116.346</td>\n",
       "      <td>0.03316</td>\n",
       "      <td>0.00026</td>\n",
       "      <td>0.02144</td>\n",
       "      <td>0.01522</td>\n",
       "      <td>0.06433</td>\n",
       "      <td>0.09178</td>\n",
       "      <td>...</td>\n",
       "      <td>0.16074</td>\n",
       "      <td>0.31482</td>\n",
       "      <td>8.867</td>\n",
       "      <td>1</td>\n",
       "      <td>0.671299</td>\n",
       "      <td>0.656846</td>\n",
       "      <td>-3.700544</td>\n",
       "      <td>0.260481</td>\n",
       "      <td>2.991063</td>\n",
       "      <td>0.370961</td>\n",
       "    </tr>\n",
       "    <tr>\n",
       "      <th>101</th>\n",
       "      <td>phon_R01_S24_5</td>\n",
       "      <td>128.451</td>\n",
       "      <td>150.449</td>\n",
       "      <td>75.632</td>\n",
       "      <td>0.01551</td>\n",
       "      <td>0.00012</td>\n",
       "      <td>0.00905</td>\n",
       "      <td>0.00909</td>\n",
       "      <td>0.02716</td>\n",
       "      <td>0.06170</td>\n",
       "      <td>...</td>\n",
       "      <td>0.09669</td>\n",
       "      <td>0.11843</td>\n",
       "      <td>15.060</td>\n",
       "      <td>1</td>\n",
       "      <td>0.639808</td>\n",
       "      <td>0.643327</td>\n",
       "      <td>-4.202730</td>\n",
       "      <td>0.310163</td>\n",
       "      <td>2.638279</td>\n",
       "      <td>0.356881</td>\n",
       "    </tr>\n",
       "    <tr>\n",
       "      <th>102</th>\n",
       "      <td>phon_R01_S24_6</td>\n",
       "      <td>139.224</td>\n",
       "      <td>586.567</td>\n",
       "      <td>66.157</td>\n",
       "      <td>0.03011</td>\n",
       "      <td>0.00022</td>\n",
       "      <td>0.01854</td>\n",
       "      <td>0.01628</td>\n",
       "      <td>0.05563</td>\n",
       "      <td>0.09419</td>\n",
       "      <td>...</td>\n",
       "      <td>0.16654</td>\n",
       "      <td>0.25930</td>\n",
       "      <td>10.489</td>\n",
       "      <td>1</td>\n",
       "      <td>0.596362</td>\n",
       "      <td>0.641418</td>\n",
       "      <td>-3.269487</td>\n",
       "      <td>0.270641</td>\n",
       "      <td>2.690917</td>\n",
       "      <td>0.444774</td>\n",
       "    </tr>\n",
       "    <tr>\n",
       "      <th>146</th>\n",
       "      <td>phon_R01_S35_1</td>\n",
       "      <td>169.774</td>\n",
       "      <td>191.759</td>\n",
       "      <td>151.451</td>\n",
       "      <td>0.01568</td>\n",
       "      <td>0.00009</td>\n",
       "      <td>0.00863</td>\n",
       "      <td>0.00946</td>\n",
       "      <td>0.02589</td>\n",
       "      <td>0.08143</td>\n",
       "      <td>...</td>\n",
       "      <td>0.11411</td>\n",
       "      <td>0.07530</td>\n",
       "      <td>12.359</td>\n",
       "      <td>1</td>\n",
       "      <td>0.561610</td>\n",
       "      <td>0.793509</td>\n",
       "      <td>-3.297668</td>\n",
       "      <td>0.414758</td>\n",
       "      <td>3.413649</td>\n",
       "      <td>0.457533</td>\n",
       "    </tr>\n",
       "    <tr>\n",
       "      <th>147</th>\n",
       "      <td>phon_R01_S35_2</td>\n",
       "      <td>183.520</td>\n",
       "      <td>216.814</td>\n",
       "      <td>161.340</td>\n",
       "      <td>0.01466</td>\n",
       "      <td>0.00008</td>\n",
       "      <td>0.00849</td>\n",
       "      <td>0.00819</td>\n",
       "      <td>0.02546</td>\n",
       "      <td>0.06050</td>\n",
       "      <td>...</td>\n",
       "      <td>0.08595</td>\n",
       "      <td>0.06057</td>\n",
       "      <td>14.367</td>\n",
       "      <td>1</td>\n",
       "      <td>0.478024</td>\n",
       "      <td>0.768974</td>\n",
       "      <td>-4.276605</td>\n",
       "      <td>0.355736</td>\n",
       "      <td>3.142364</td>\n",
       "      <td>0.336085</td>\n",
       "    </tr>\n",
       "    <tr>\n",
       "      <th>148</th>\n",
       "      <td>phon_R01_S35_3</td>\n",
       "      <td>188.620</td>\n",
       "      <td>216.302</td>\n",
       "      <td>165.982</td>\n",
       "      <td>0.01719</td>\n",
       "      <td>0.00009</td>\n",
       "      <td>0.00996</td>\n",
       "      <td>0.01027</td>\n",
       "      <td>0.02987</td>\n",
       "      <td>0.07118</td>\n",
       "      <td>...</td>\n",
       "      <td>0.10422</td>\n",
       "      <td>0.08069</td>\n",
       "      <td>12.298</td>\n",
       "      <td>1</td>\n",
       "      <td>0.552870</td>\n",
       "      <td>0.764036</td>\n",
       "      <td>-3.377325</td>\n",
       "      <td>0.335357</td>\n",
       "      <td>3.274865</td>\n",
       "      <td>0.418646</td>\n",
       "    </tr>\n",
       "    <tr>\n",
       "      <th>149</th>\n",
       "      <td>phon_R01_S35_4</td>\n",
       "      <td>202.632</td>\n",
       "      <td>565.740</td>\n",
       "      <td>177.258</td>\n",
       "      <td>0.01627</td>\n",
       "      <td>0.00008</td>\n",
       "      <td>0.00919</td>\n",
       "      <td>0.00963</td>\n",
       "      <td>0.02756</td>\n",
       "      <td>0.07170</td>\n",
       "      <td>...</td>\n",
       "      <td>0.10546</td>\n",
       "      <td>0.07889</td>\n",
       "      <td>14.989</td>\n",
       "      <td>1</td>\n",
       "      <td>0.427627</td>\n",
       "      <td>0.775708</td>\n",
       "      <td>-4.892495</td>\n",
       "      <td>0.262281</td>\n",
       "      <td>2.910213</td>\n",
       "      <td>0.270173</td>\n",
       "    </tr>\n",
       "    <tr>\n",
       "      <th>150</th>\n",
       "      <td>phon_R01_S35_5</td>\n",
       "      <td>186.695</td>\n",
       "      <td>211.961</td>\n",
       "      <td>149.442</td>\n",
       "      <td>0.01872</td>\n",
       "      <td>0.00010</td>\n",
       "      <td>0.01075</td>\n",
       "      <td>0.01154</td>\n",
       "      <td>0.03225</td>\n",
       "      <td>0.05830</td>\n",
       "      <td>...</td>\n",
       "      <td>0.08096</td>\n",
       "      <td>0.10952</td>\n",
       "      <td>12.529</td>\n",
       "      <td>1</td>\n",
       "      <td>0.507826</td>\n",
       "      <td>0.762726</td>\n",
       "      <td>-4.484303</td>\n",
       "      <td>0.340256</td>\n",
       "      <td>2.958815</td>\n",
       "      <td>0.301487</td>\n",
       "    </tr>\n",
       "    <tr>\n",
       "      <th>151</th>\n",
       "      <td>phon_R01_S35_6</td>\n",
       "      <td>192.818</td>\n",
       "      <td>224.429</td>\n",
       "      <td>168.793</td>\n",
       "      <td>0.03107</td>\n",
       "      <td>0.00016</td>\n",
       "      <td>0.01800</td>\n",
       "      <td>0.01958</td>\n",
       "      <td>0.05401</td>\n",
       "      <td>0.11908</td>\n",
       "      <td>...</td>\n",
       "      <td>0.16942</td>\n",
       "      <td>0.21713</td>\n",
       "      <td>8.441</td>\n",
       "      <td>1</td>\n",
       "      <td>0.625866</td>\n",
       "      <td>0.768320</td>\n",
       "      <td>-2.434031</td>\n",
       "      <td>0.450493</td>\n",
       "      <td>3.079221</td>\n",
       "      <td>0.527367</td>\n",
       "    </tr>\n",
       "    <tr>\n",
       "      <th>152</th>\n",
       "      <td>phon_R01_S35_7</td>\n",
       "      <td>198.116</td>\n",
       "      <td>233.099</td>\n",
       "      <td>174.478</td>\n",
       "      <td>0.02714</td>\n",
       "      <td>0.00014</td>\n",
       "      <td>0.01568</td>\n",
       "      <td>0.01699</td>\n",
       "      <td>0.04705</td>\n",
       "      <td>0.08684</td>\n",
       "      <td>...</td>\n",
       "      <td>0.12851</td>\n",
       "      <td>0.16265</td>\n",
       "      <td>9.449</td>\n",
       "      <td>1</td>\n",
       "      <td>0.584164</td>\n",
       "      <td>0.754449</td>\n",
       "      <td>-2.839756</td>\n",
       "      <td>0.356224</td>\n",
       "      <td>3.184027</td>\n",
       "      <td>0.454721</td>\n",
       "    </tr>\n",
       "    <tr>\n",
       "      <th>157</th>\n",
       "      <td>phon_R01_S37_5</td>\n",
       "      <td>117.963</td>\n",
       "      <td>134.209</td>\n",
       "      <td>100.757</td>\n",
       "      <td>0.01813</td>\n",
       "      <td>0.00015</td>\n",
       "      <td>0.01117</td>\n",
       "      <td>0.00718</td>\n",
       "      <td>0.03351</td>\n",
       "      <td>0.04912</td>\n",
       "      <td>...</td>\n",
       "      <td>0.07830</td>\n",
       "      <td>0.10748</td>\n",
       "      <td>19.075</td>\n",
       "      <td>1</td>\n",
       "      <td>0.630547</td>\n",
       "      <td>0.646786</td>\n",
       "      <td>-3.444478</td>\n",
       "      <td>0.303214</td>\n",
       "      <td>2.964568</td>\n",
       "      <td>0.261305</td>\n",
       "    </tr>\n",
       "    <tr>\n",
       "      <th>192</th>\n",
       "      <td>phon_R01_S50_4</td>\n",
       "      <td>174.688</td>\n",
       "      <td>240.005</td>\n",
       "      <td>74.287</td>\n",
       "      <td>0.01360</td>\n",
       "      <td>0.00008</td>\n",
       "      <td>0.00624</td>\n",
       "      <td>0.00564</td>\n",
       "      <td>0.01873</td>\n",
       "      <td>0.02308</td>\n",
       "      <td>...</td>\n",
       "      <td>0.03804</td>\n",
       "      <td>0.10715</td>\n",
       "      <td>17.883</td>\n",
       "      <td>0</td>\n",
       "      <td>0.407567</td>\n",
       "      <td>0.655683</td>\n",
       "      <td>-6.787197</td>\n",
       "      <td>0.158453</td>\n",
       "      <td>2.679772</td>\n",
       "      <td>0.131728</td>\n",
       "    </tr>\n",
       "  </tbody>\n",
       "</table>\n",
       "<p>14 rows × 24 columns</p>\n",
       "</div>"
      ],
      "text/plain": [
       "               name  MDVP:Fo(Hz)  MDVP:Fhi(Hz)  MDVP:Flo(Hz)  MDVP:Jitter(%)  \\\n",
       "98   phon_R01_S24_2      125.791       140.557        96.206         0.01378   \n",
       "99   phon_R01_S24_3      126.512       141.756        99.770         0.01936   \n",
       "100  phon_R01_S24_4      125.641       141.068       116.346         0.03316   \n",
       "101  phon_R01_S24_5      128.451       150.449        75.632         0.01551   \n",
       "102  phon_R01_S24_6      139.224       586.567        66.157         0.03011   \n",
       "146  phon_R01_S35_1      169.774       191.759       151.451         0.01568   \n",
       "147  phon_R01_S35_2      183.520       216.814       161.340         0.01466   \n",
       "148  phon_R01_S35_3      188.620       216.302       165.982         0.01719   \n",
       "149  phon_R01_S35_4      202.632       565.740       177.258         0.01627   \n",
       "150  phon_R01_S35_5      186.695       211.961       149.442         0.01872   \n",
       "151  phon_R01_S35_6      192.818       224.429       168.793         0.03107   \n",
       "152  phon_R01_S35_7      198.116       233.099       174.478         0.02714   \n",
       "157  phon_R01_S37_5      117.963       134.209       100.757         0.01813   \n",
       "192  phon_R01_S50_4      174.688       240.005        74.287         0.01360   \n",
       "\n",
       "     MDVP:Jitter(Abs)  MDVP:RAP  MDVP:PPQ  Jitter:DDP  MDVP:Shimmer  ...  \\\n",
       "98            0.00011   0.00826   0.00655     0.02478       0.04689  ...   \n",
       "99            0.00015   0.01159   0.00990     0.03476       0.06734  ...   \n",
       "100           0.00026   0.02144   0.01522     0.06433       0.09178  ...   \n",
       "101           0.00012   0.00905   0.00909     0.02716       0.06170  ...   \n",
       "102           0.00022   0.01854   0.01628     0.05563       0.09419  ...   \n",
       "146           0.00009   0.00863   0.00946     0.02589       0.08143  ...   \n",
       "147           0.00008   0.00849   0.00819     0.02546       0.06050  ...   \n",
       "148           0.00009   0.00996   0.01027     0.02987       0.07118  ...   \n",
       "149           0.00008   0.00919   0.00963     0.02756       0.07170  ...   \n",
       "150           0.00010   0.01075   0.01154     0.03225       0.05830  ...   \n",
       "151           0.00016   0.01800   0.01958     0.05401       0.11908  ...   \n",
       "152           0.00014   0.01568   0.01699     0.04705       0.08684  ...   \n",
       "157           0.00015   0.01117   0.00718     0.03351       0.04912  ...   \n",
       "192           0.00008   0.00624   0.00564     0.01873       0.02308  ...   \n",
       "\n",
       "     Shimmer:DDA      NHR     HNR  status      RPDE       DFA   spread1  \\\n",
       "98       0.07625  0.10323  15.433       1  0.571010  0.690892 -5.159169   \n",
       "99       0.10833  0.16744  12.435       1  0.638545  0.674953 -3.760348   \n",
       "100      0.16074  0.31482   8.867       1  0.671299  0.656846 -3.700544   \n",
       "101      0.09669  0.11843  15.060       1  0.639808  0.643327 -4.202730   \n",
       "102      0.16654  0.25930  10.489       1  0.596362  0.641418 -3.269487   \n",
       "146      0.11411  0.07530  12.359       1  0.561610  0.793509 -3.297668   \n",
       "147      0.08595  0.06057  14.367       1  0.478024  0.768974 -4.276605   \n",
       "148      0.10422  0.08069  12.298       1  0.552870  0.764036 -3.377325   \n",
       "149      0.10546  0.07889  14.989       1  0.427627  0.775708 -4.892495   \n",
       "150      0.08096  0.10952  12.529       1  0.507826  0.762726 -4.484303   \n",
       "151      0.16942  0.21713   8.441       1  0.625866  0.768320 -2.434031   \n",
       "152      0.12851  0.16265   9.449       1  0.584164  0.754449 -2.839756   \n",
       "157      0.07830  0.10748  19.075       1  0.630547  0.646786 -3.444478   \n",
       "192      0.03804  0.10715  17.883       0  0.407567  0.655683 -6.787197   \n",
       "\n",
       "      spread2        D2       PPE  \n",
       "98   0.202146  2.441612  0.260375  \n",
       "99   0.242861  2.634633  0.378483  \n",
       "100  0.260481  2.991063  0.370961  \n",
       "101  0.310163  2.638279  0.356881  \n",
       "102  0.270641  2.690917  0.444774  \n",
       "146  0.414758  3.413649  0.457533  \n",
       "147  0.355736  3.142364  0.336085  \n",
       "148  0.335357  3.274865  0.418646  \n",
       "149  0.262281  2.910213  0.270173  \n",
       "150  0.340256  2.958815  0.301487  \n",
       "151  0.450493  3.079221  0.527367  \n",
       "152  0.356224  3.184027  0.454721  \n",
       "157  0.303214  2.964568  0.261305  \n",
       "192  0.158453  2.679772  0.131728  \n",
       "\n",
       "[14 rows x 24 columns]"
      ]
     },
     "execution_count": 107,
     "metadata": {},
     "output_type": "execute_result"
    }
   ],
   "source": [
    "#accessing the dataset of MDVP:Jitter(%) outliers\n",
    "park_data.loc[park_data['MDVP:Jitter(%)'] > Jit_outlier]"
   ]
  },
  {
   "cell_type": "markdown",
   "id": "033f08e5",
   "metadata": {},
   "source": [
    "131 thus 67.17% of the data has recordings below the mean. Again, 96 thus 49.23% of the dataset makes up recordings below the median. We observe 14 outliers which makes up 7.17% of the data. only 1 recordings of the 14 outliers have a status of 0(negative). patient(phon_R01_S35) had most outliers of 7 recordings and patient(phon_R01_S24) had 5 recordings"
   ]
  },
  {
   "cell_type": "markdown",
   "id": "79edde36",
   "metadata": {},
   "source": [
    "#### Shimmer:APQ5"
   ]
  },
  {
   "cell_type": "code",
   "execution_count": 108,
   "id": "47af7c7d",
   "metadata": {},
   "outputs": [
    {
     "data": {
      "text/plain": [
       "count    195.000000\n",
       "mean       0.017878\n",
       "std        0.012024\n",
       "min        0.005700\n",
       "25%        0.009580\n",
       "50%        0.013470\n",
       "75%        0.022380\n",
       "max        0.079400\n",
       "Name: Shimmer:APQ5, dtype: float64"
      ]
     },
     "execution_count": 108,
     "metadata": {},
     "output_type": "execute_result"
    }
   ],
   "source": [
    "#accessing the statistical info\n",
    "park_data['Shimmer:APQ5'].describe()"
   ]
  },
  {
   "cell_type": "code",
   "execution_count": 109,
   "id": "8d948339",
   "metadata": {},
   "outputs": [
    {
     "data": {
      "image/png": "[encoded data removed]",
      "text/plain": [
       "<Figure size 432x288 with 1 Axes>"
      ]
     },
     "metadata": {
      "needs_background": "light"
     },
     "output_type": "display_data"
    }
   ],
   "source": [
    "#plotting the histogram\n",
    "plt.hist(park_data['Shimmer:APQ5'])\n",
    "plt.show()"
   ]
  },
  {
   "cell_type": "code",
   "execution_count": 110,
   "id": "a547d98a",
   "metadata": {},
   "outputs": [
    {
     "data": {
      "text/plain": [
       "{'whiskers': [<matplotlib.lines.Line2D at 0xb36bf96fd0>,\n",
       "  <matplotlib.lines.Line2D at 0xb36bf96be0>],\n",
       " 'caps': [<matplotlib.lines.Line2D at 0xb36c16bb80>,\n",
       "  <matplotlib.lines.Line2D at 0xb36c16b7c0>],\n",
       " 'boxes': [<matplotlib.lines.Line2D at 0xb36bf96610>],\n",
       " 'medians': [<matplotlib.lines.Line2D at 0xb36c16bd00>],\n",
       " 'fliers': [<matplotlib.lines.Line2D at 0xb36c16b370>],\n",
       " 'means': []}"
      ]
     },
     "execution_count": 110,
     "metadata": {},
     "output_type": "execute_result"
    },
    {
     "data": {
      "image/png": "[encoded data removed]",
      "text/plain": [
       "<Figure size 432x288 with 1 Axes>"
      ]
     },
     "metadata": {
      "needs_background": "light"
     },
     "output_type": "display_data"
    }
   ],
   "source": [
    "#plotting the boxplot\n",
    "plt.boxplot(park_data['Shimmer:APQ5'])"
   ]
  },
  {
   "cell_type": "markdown",
   "id": "41e7d9fe",
   "metadata": {},
   "source": [
    "From the histogram and boxplot, we observe a right skewed distribution. we can see some outliers in the distribution"
   ]
  },
  {
   "cell_type": "code",
   "execution_count": 111,
   "id": "c2e68c47",
   "metadata": {},
   "outputs": [
    {
     "name": "stdout",
     "output_type": "stream",
     "text": [
      "-0.009620000000000002\n",
      "0.041580000000000006\n",
      "0.06078\n"
     ]
    }
   ],
   "source": [
    "#parameters\n",
    "APQ5_mean = 0.017878\n",
    "APQ5_first_quartile = 0.009580\n",
    "APQ5_second_quartile = 0.013470\n",
    "APQ5_third_quartile =  0.022380\n",
    "APQ5_IQR = APQ5_third_quartile - APQ5_first_quartile\n",
    "APQ5_lower_inner_fence = APQ5_first_quartile - (1.5 * APQ5_IQR)\n",
    "APQ5_upper_inner_fence = APQ5_third_quartile + (1.5 * APQ5_IQR)\n",
    "APQ5_upper_outer_fence = APQ5_third_quartile + (3 * APQ5_IQR)\n",
    "print(APQ5_lower_inner_fence)\n",
    "print(APQ5_upper_inner_fence)\n",
    "print(APQ5_upper_outer_fence)"
   ]
  },
  {
   "cell_type": "code",
   "execution_count": 112,
   "id": "4ff71996",
   "metadata": {},
   "outputs": [
    {
     "data": {
      "text/plain": [
       "125"
      ]
     },
     "execution_count": 112,
     "metadata": {},
     "output_type": "execute_result"
    }
   ],
   "source": [
    "#accessing the number of shimmer:APQ5 below the mean\n",
    "len(park_data.loc[park_data['Shimmer:APQ5'] < APQ5_mean])"
   ]
  },
  {
   "cell_type": "code",
   "execution_count": 113,
   "id": "d7dc3414",
   "metadata": {},
   "outputs": [
    {
     "data": {
      "text/plain": [
       "97"
      ]
     },
     "execution_count": 113,
     "metadata": {},
     "output_type": "execute_result"
    }
   ],
   "source": [
    "#accessing the number of Shimmer:APQ5 below the median\n",
    "len(park_data.loc[park_data['Shimmer:APQ5'] < APQ5_second_quartile])"
   ]
  },
  {
   "cell_type": "code",
   "execution_count": 114,
   "id": "7c097dd3",
   "metadata": {},
   "outputs": [
    {
     "data": {
      "text/plain": [
       "12"
      ]
     },
     "execution_count": 114,
     "metadata": {},
     "output_type": "execute_result"
    }
   ],
   "source": [
    "#accessing the number of Shimmer:APQ5 which are mid outliers( above the max point only)\n",
    "len(park_data.loc[(park_data['Shimmer:APQ5'] > APQ5_upper_inner_fence) & (park_data['Shimmer:APQ5'] < APQ5_upper_outer_fence)])"
   ]
  },
  {
   "cell_type": "code",
   "execution_count": 115,
   "id": "972d86af",
   "metadata": {},
   "outputs": [
    {
     "data": {
      "text/plain": [
       "1"
      ]
     },
     "execution_count": 115,
     "metadata": {},
     "output_type": "execute_result"
    }
   ],
   "source": [
    "#accessing the number of Shimmer:APQ5 which are extreme outliers\n",
    "len(park_data.loc[park_data['Shimmer:APQ5'] > APQ5_upper_outer_fence])"
   ]
  },
  {
   "cell_type": "markdown",
   "id": "ff930067",
   "metadata": {},
   "source": [
    "13 thus 6.66% outliers were observed in the dataset. 12 of which were above the max point of distribution and 1 being an extreme outlier. Again, 97, 49.74% were below the median and 125( 64.10%) were below the mean"
   ]
  },
  {
   "cell_type": "markdown",
   "id": "fd1c72a0",
   "metadata": {},
   "source": [
    "#### Shimmer:APQ3"
   ]
  },
  {
   "cell_type": "code",
   "execution_count": 116,
   "id": "cf32fc08",
   "metadata": {},
   "outputs": [
    {
     "data": {
      "text/plain": [
       "count    195.000000\n",
       "mean       0.015664\n",
       "std        0.010153\n",
       "min        0.004550\n",
       "25%        0.008245\n",
       "50%        0.012790\n",
       "75%        0.020265\n",
       "max        0.056470\n",
       "Name: Shimmer:APQ3, dtype: float64"
      ]
     },
     "execution_count": 116,
     "metadata": {},
     "output_type": "execute_result"
    }
   ],
   "source": [
    "#statistical info \n",
    "park_data['Shimmer:APQ3'].describe()"
   ]
  },
  {
   "cell_type": "code",
   "execution_count": 117,
   "id": "66e3e881",
   "metadata": {},
   "outputs": [
    {
     "data": {
      "image/png": "[encoded data removed]",
      "text/plain": [
       "<Figure size 432x288 with 1 Axes>"
      ]
     },
     "metadata": {
      "needs_background": "light"
     },
     "output_type": "display_data"
    }
   ],
   "source": [
    "#plotting histogram\n",
    "plt.hist(park_data['Shimmer:APQ3'])\n",
    "plt.show()"
   ]
  },
  {
   "cell_type": "code",
   "execution_count": 118,
   "id": "c964821b",
   "metadata": {
    "scrolled": true
   },
   "outputs": [
    {
     "data": {
      "text/plain": [
       "{'whiskers': [<matplotlib.lines.Line2D at 0xb36c170280>,\n",
       "  <matplotlib.lines.Line2D at 0xb36c170910>],\n",
       " 'caps': [<matplotlib.lines.Line2D at 0xb36c1b3b80>,\n",
       "  <matplotlib.lines.Line2D at 0xb36c1b3310>],\n",
       " 'boxes': [<matplotlib.lines.Line2D at 0xb36c170ac0>],\n",
       " 'medians': [<matplotlib.lines.Line2D at 0xb36c1b3880>],\n",
       " 'fliers': [<matplotlib.lines.Line2D at 0xb36c282d90>],\n",
       " 'means': []}"
      ]
     },
     "execution_count": 118,
     "metadata": {},
     "output_type": "execute_result"
    },
    {
     "data": {
      "image/png": "[encoded data removed]",
      "text/plain": [
       "<Figure size 432x288 with 1 Axes>"
      ]
     },
     "metadata": {
      "needs_background": "light"
     },
     "output_type": "display_data"
    }
   ],
   "source": [
    "#plotting boxplot\n",
    "plt.boxplot(park_data['Shimmer:APQ3'])"
   ]
  },
  {
   "cell_type": "markdown",
   "id": "6d330f1d",
   "metadata": {},
   "source": [
    "From both distribution, we see a right skewed data. We can also see outliers from the boxplot"
   ]
  },
  {
   "cell_type": "code",
   "execution_count": 259,
   "id": "33d12858",
   "metadata": {},
   "outputs": [
    {
     "name": "stdout",
     "output_type": "stream",
     "text": [
      "0.038294999999999996\n",
      "-0.009784999999999997\n",
      "0.05632499999999999\n"
     ]
    }
   ],
   "source": [
    "#parameters\n",
    "APQ3_mean = 0.015664\n",
    "APQ3_first_quartile = 0.008245\n",
    "APQ3_second_quartile = 0.012790\n",
    "APQ3_third_quartile = 0.020265\n",
    "APQ3_IQR = APQ3_third_quartile - APQ3_first_quartile\n",
    "APQ3_upper_inner_fence = APQ3_third_quartile + (1.5 * APQ3_IQR)\n",
    "APQ3_lower_inner_fence = APQ3_first_quartile - (1.5 * APQ3_IQR)\n",
    "APQ3_upper_outer_fence = APQ3_third_quartile + (3 * APQ3_IQR)\n",
    "print(APQ3_upper_inner_fence)\n",
    "print(APQ3_lower_inner_fence)\n",
    "print(APQ3_upper_outer_fence)"
   ]
  },
  {
   "cell_type": "code",
   "execution_count": 120,
   "id": "22e0be28",
   "metadata": {},
   "outputs": [
    {
     "data": {
      "text/plain": [
       "124"
      ]
     },
     "execution_count": 120,
     "metadata": {},
     "output_type": "execute_result"
    }
   ],
   "source": [
    "#accessing the number of shimmer:APQ3 below the mean\n",
    "len(park_data.loc[park_data['Shimmer:APQ3'] < APQ3_mean])"
   ]
  },
  {
   "cell_type": "code",
   "execution_count": 121,
   "id": "5205dace",
   "metadata": {},
   "outputs": [
    {
     "data": {
      "text/plain": [
       "97"
      ]
     },
     "execution_count": 121,
     "metadata": {},
     "output_type": "execute_result"
    }
   ],
   "source": [
    "#accessing the number of shimmer:APQ3 below the median\n",
    "len(park_data.loc[park_data['Shimmer:APQ3'] < APQ3_second_quartile])"
   ]
  },
  {
   "cell_type": "code",
   "execution_count": 122,
   "id": "cfe6c869",
   "metadata": {},
   "outputs": [
    {
     "data": {
      "text/plain": [
       "5"
      ]
     },
     "execution_count": 122,
     "metadata": {},
     "output_type": "execute_result"
    }
   ],
   "source": [
    "#accessing the number of shimmer:APQ3 which are midoutliers\n",
    "len(park_data.loc[(park_data['Shimmer:APQ3'] > APQ3_upper_inner_fence) & (park_data['Shimmer:APQ3'] < APQ3_upper_outer_fence)])"
   ]
  },
  {
   "cell_type": "code",
   "execution_count": 123,
   "id": "b23129d8",
   "metadata": {},
   "outputs": [
    {
     "data": {
      "text/plain": [
       "1"
      ]
     },
     "execution_count": 123,
     "metadata": {},
     "output_type": "execute_result"
    }
   ],
   "source": [
    "#accessing the number of shimmer:APQ3 which are extreme outliers\n",
    "len(park_data.loc[park_data['Shimmer:APQ3'] > APQ3_upper_outer_fence])"
   ]
  },
  {
   "cell_type": "markdown",
   "id": "25d31fa3",
   "metadata": {},
   "source": [
    "From the observations, 6 recordings were outliers of which 5 were  mid outliers and 1 extreme outlier. Again, 97, thus 49.74% had recordings below the median. 124(63.58%) recordings were below the mean"
   ]
  },
  {
   "cell_type": "markdown",
   "id": "3346b994",
   "metadata": {},
   "source": [
    "#### MDVP:Shimmer(dB)"
   ]
  },
  {
   "cell_type": "code",
   "execution_count": 124,
   "id": "2551bd31",
   "metadata": {},
   "outputs": [
    {
     "data": {
      "text/plain": [
       "count    195.000000\n",
       "mean       0.282251\n",
       "std        0.194877\n",
       "min        0.085000\n",
       "25%        0.148500\n",
       "50%        0.221000\n",
       "75%        0.350000\n",
       "max        1.302000\n",
       "Name: MDVP:Shimmer(dB), dtype: float64"
      ]
     },
     "execution_count": 124,
     "metadata": {},
     "output_type": "execute_result"
    }
   ],
   "source": [
    "#statistical info\n",
    "park_data['MDVP:Shimmer(dB)'].describe()"
   ]
  },
  {
   "cell_type": "code",
   "execution_count": 125,
   "id": "924c61a7",
   "metadata": {},
   "outputs": [
    {
     "data": {
      "image/png": "[encoded data removed]",
      "text/plain": [
       "<Figure size 432x288 with 1 Axes>"
      ]
     },
     "metadata": {
      "needs_background": "light"
     },
     "output_type": "display_data"
    }
   ],
   "source": [
    "#plotting histogram\n",
    "plt.hist(park_data['MDVP:Shimmer(dB)'])\n",
    "plt.show()"
   ]
  },
  {
   "cell_type": "code",
   "execution_count": 126,
   "id": "41d865dd",
   "metadata": {},
   "outputs": [
    {
     "data": {
      "text/plain": [
       "{'whiskers': [<matplotlib.lines.Line2D at 0xb36d492880>,\n",
       "  <matplotlib.lines.Line2D at 0xb36d492c10>],\n",
       " 'caps': [<matplotlib.lines.Line2D at 0xb36d492fa0>,\n",
       "  <matplotlib.lines.Line2D at 0xb36d49f370>],\n",
       " 'boxes': [<matplotlib.lines.Line2D at 0xb36d4924f0>],\n",
       " 'medians': [<matplotlib.lines.Line2D at 0xb36d49f700>],\n",
       " 'fliers': [<matplotlib.lines.Line2D at 0xb36d49fa90>],\n",
       " 'means': []}"
      ]
     },
     "execution_count": 126,
     "metadata": {},
     "output_type": "execute_result"
    },
    {
     "data": {
      "image/png": "[encoded data removed]",
      "text/plain": [
       "<Figure size 432x288 with 1 Axes>"
      ]
     },
     "metadata": {
      "needs_background": "light"
     },
     "output_type": "display_data"
    }
   ],
   "source": [
    "#plotting boxplot\n",
    "plt.boxplot(park_data['MDVP:Shimmer(dB)'])"
   ]
  },
  {
   "cell_type": "markdown",
   "id": "37939466",
   "metadata": {},
   "source": [
    " From both distributions, we can see a right skewed data. we can also observe some outliers in the data"
   ]
  },
  {
   "cell_type": "code",
   "execution_count": 261,
   "id": "1dc6db11",
   "metadata": {},
   "outputs": [
    {
     "name": "stdout",
     "output_type": "stream",
     "text": [
      "0.65225\n",
      "-0.15374999999999997\n",
      "0.9544999999999999\n"
     ]
    }
   ],
   "source": [
    "#parameters\n",
    "db_mean = 0.282251\n",
    "db_first_quartile = 0.148500\n",
    "db_second_quartile = 0.221000\n",
    "db_third_quartile = 0.350000\n",
    "db_IQR = db_third_quartile - db_first_quartile\n",
    "db_upper_inner_fence = db_third_quartile + (1.5 * db_IQR) #upper outlier\n",
    "db_lower_inner_fence = db_first_quartile - (1.5 * db_IQR)\n",
    "db_upper_outer_fence = db_third_quartile + (3 * db_IQR)   #extrem outlier\n",
    "print(db_upper_inner_fence)\n",
    "print(db_lower_inner_fence)\n",
    "print(db_upper_outer_fence)"
   ]
  },
  {
   "cell_type": "code",
   "execution_count": 128,
   "id": "9fb31c04",
   "metadata": {},
   "outputs": [
    {
     "data": {
      "text/plain": [
       "128"
      ]
     },
     "execution_count": 128,
     "metadata": {},
     "output_type": "execute_result"
    }
   ],
   "source": [
    "#accessing the number of MDVP:Shimmer(dB) less than the mean\n",
    "len(park_data.loc[park_data['MDVP:Shimmer(dB)'] < db_mean])"
   ]
  },
  {
   "cell_type": "code",
   "execution_count": 129,
   "id": "2a56e861",
   "metadata": {},
   "outputs": [
    {
     "data": {
      "text/plain": [
       "97"
      ]
     },
     "execution_count": 129,
     "metadata": {},
     "output_type": "execute_result"
    }
   ],
   "source": [
    "#accessing the number of MDVP:Shimmer(dB) less than the median\n",
    "len(park_data.loc[park_data['MDVP:Shimmer(dB)'] < db_second_quartile])"
   ]
  },
  {
   "cell_type": "code",
   "execution_count": 130,
   "id": "31bec5cb",
   "metadata": {
    "scrolled": true
   },
   "outputs": [
    {
     "data": {
      "text/plain": [
       "8"
      ]
     },
     "execution_count": 130,
     "metadata": {},
     "output_type": "execute_result"
    }
   ],
   "source": [
    "#accessing the number of MDVP:Shimmer(dB) which are mid-outliers (at the max point of the whiskers)\n",
    "len(park_data.loc[(park_data['MDVP:Shimmer(dB)'] > db_upper_inner_fence) & (park_data['MDVP:Shimmer(dB)'] < db_upper_outer_fence)])"
   ]
  },
  {
   "cell_type": "code",
   "execution_count": 131,
   "id": "28e41933",
   "metadata": {},
   "outputs": [
    {
     "data": {
      "text/html": [
       "<div>\n",
       "<style scoped>\n",
       "    .dataframe tbody tr th:only-of-type {\n",
       "        vertical-align: middle;\n",
       "    }\n",
       "\n",
       "    .dataframe tbody tr th {\n",
       "        vertical-align: top;\n",
       "    }\n",
       "\n",
       "    .dataframe thead th {\n",
       "        text-align: right;\n",
       "    }\n",
       "</style>\n",
       "<table border=\"1\" class=\"dataframe\">\n",
       "  <thead>\n",
       "    <tr style=\"text-align: right;\">\n",
       "      <th></th>\n",
       "      <th>name</th>\n",
       "      <th>MDVP:Fo(Hz)</th>\n",
       "      <th>MDVP:Fhi(Hz)</th>\n",
       "      <th>MDVP:Flo(Hz)</th>\n",
       "      <th>MDVP:Jitter(%)</th>\n",
       "      <th>MDVP:Jitter(Abs)</th>\n",
       "      <th>MDVP:RAP</th>\n",
       "      <th>MDVP:PPQ</th>\n",
       "      <th>Jitter:DDP</th>\n",
       "      <th>MDVP:Shimmer</th>\n",
       "      <th>...</th>\n",
       "      <th>Shimmer:DDA</th>\n",
       "      <th>NHR</th>\n",
       "      <th>HNR</th>\n",
       "      <th>status</th>\n",
       "      <th>RPDE</th>\n",
       "      <th>DFA</th>\n",
       "      <th>spread1</th>\n",
       "      <th>spread2</th>\n",
       "      <th>D2</th>\n",
       "      <th>PPE</th>\n",
       "    </tr>\n",
       "  </thead>\n",
       "  <tbody>\n",
       "    <tr>\n",
       "      <th>91</th>\n",
       "      <td>phon_R01_S22_1</td>\n",
       "      <td>151.955</td>\n",
       "      <td>163.335</td>\n",
       "      <td>147.226</td>\n",
       "      <td>0.00419</td>\n",
       "      <td>0.00003</td>\n",
       "      <td>0.00224</td>\n",
       "      <td>0.00227</td>\n",
       "      <td>0.00672</td>\n",
       "      <td>0.07959</td>\n",
       "      <td>...</td>\n",
       "      <td>0.13262</td>\n",
       "      <td>0.01658</td>\n",
       "      <td>19.664</td>\n",
       "      <td>1</td>\n",
       "      <td>0.501037</td>\n",
       "      <td>0.714360</td>\n",
       "      <td>-6.411497</td>\n",
       "      <td>0.207156</td>\n",
       "      <td>2.344876</td>\n",
       "      <td>0.134120</td>\n",
       "    </tr>\n",
       "    <tr>\n",
       "      <th>99</th>\n",
       "      <td>phon_R01_S24_3</td>\n",
       "      <td>126.512</td>\n",
       "      <td>141.756</td>\n",
       "      <td>99.770</td>\n",
       "      <td>0.01936</td>\n",
       "      <td>0.00015</td>\n",
       "      <td>0.01159</td>\n",
       "      <td>0.00990</td>\n",
       "      <td>0.03476</td>\n",
       "      <td>0.06734</td>\n",
       "      <td>...</td>\n",
       "      <td>0.10833</td>\n",
       "      <td>0.16744</td>\n",
       "      <td>12.435</td>\n",
       "      <td>1</td>\n",
       "      <td>0.638545</td>\n",
       "      <td>0.674953</td>\n",
       "      <td>-3.760348</td>\n",
       "      <td>0.242861</td>\n",
       "      <td>2.634633</td>\n",
       "      <td>0.378483</td>\n",
       "    </tr>\n",
       "    <tr>\n",
       "      <th>100</th>\n",
       "      <td>phon_R01_S24_4</td>\n",
       "      <td>125.641</td>\n",
       "      <td>141.068</td>\n",
       "      <td>116.346</td>\n",
       "      <td>0.03316</td>\n",
       "      <td>0.00026</td>\n",
       "      <td>0.02144</td>\n",
       "      <td>0.01522</td>\n",
       "      <td>0.06433</td>\n",
       "      <td>0.09178</td>\n",
       "      <td>...</td>\n",
       "      <td>0.16074</td>\n",
       "      <td>0.31482</td>\n",
       "      <td>8.867</td>\n",
       "      <td>1</td>\n",
       "      <td>0.671299</td>\n",
       "      <td>0.656846</td>\n",
       "      <td>-3.700544</td>\n",
       "      <td>0.260481</td>\n",
       "      <td>2.991063</td>\n",
       "      <td>0.370961</td>\n",
       "    </tr>\n",
       "    <tr>\n",
       "      <th>102</th>\n",
       "      <td>phon_R01_S24_6</td>\n",
       "      <td>139.224</td>\n",
       "      <td>586.567</td>\n",
       "      <td>66.157</td>\n",
       "      <td>0.03011</td>\n",
       "      <td>0.00022</td>\n",
       "      <td>0.01854</td>\n",
       "      <td>0.01628</td>\n",
       "      <td>0.05563</td>\n",
       "      <td>0.09419</td>\n",
       "      <td>...</td>\n",
       "      <td>0.16654</td>\n",
       "      <td>0.25930</td>\n",
       "      <td>10.489</td>\n",
       "      <td>1</td>\n",
       "      <td>0.596362</td>\n",
       "      <td>0.641418</td>\n",
       "      <td>-3.269487</td>\n",
       "      <td>0.270641</td>\n",
       "      <td>2.690917</td>\n",
       "      <td>0.444774</td>\n",
       "    </tr>\n",
       "    <tr>\n",
       "      <th>146</th>\n",
       "      <td>phon_R01_S35_1</td>\n",
       "      <td>169.774</td>\n",
       "      <td>191.759</td>\n",
       "      <td>151.451</td>\n",
       "      <td>0.01568</td>\n",
       "      <td>0.00009</td>\n",
       "      <td>0.00863</td>\n",
       "      <td>0.00946</td>\n",
       "      <td>0.02589</td>\n",
       "      <td>0.08143</td>\n",
       "      <td>...</td>\n",
       "      <td>0.11411</td>\n",
       "      <td>0.07530</td>\n",
       "      <td>12.359</td>\n",
       "      <td>1</td>\n",
       "      <td>0.561610</td>\n",
       "      <td>0.793509</td>\n",
       "      <td>-3.297668</td>\n",
       "      <td>0.414758</td>\n",
       "      <td>3.413649</td>\n",
       "      <td>0.457533</td>\n",
       "    </tr>\n",
       "    <tr>\n",
       "      <th>148</th>\n",
       "      <td>phon_R01_S35_3</td>\n",
       "      <td>188.620</td>\n",
       "      <td>216.302</td>\n",
       "      <td>165.982</td>\n",
       "      <td>0.01719</td>\n",
       "      <td>0.00009</td>\n",
       "      <td>0.00996</td>\n",
       "      <td>0.01027</td>\n",
       "      <td>0.02987</td>\n",
       "      <td>0.07118</td>\n",
       "      <td>...</td>\n",
       "      <td>0.10422</td>\n",
       "      <td>0.08069</td>\n",
       "      <td>12.298</td>\n",
       "      <td>1</td>\n",
       "      <td>0.552870</td>\n",
       "      <td>0.764036</td>\n",
       "      <td>-3.377325</td>\n",
       "      <td>0.335357</td>\n",
       "      <td>3.274865</td>\n",
       "      <td>0.418646</td>\n",
       "    </tr>\n",
       "    <tr>\n",
       "      <th>149</th>\n",
       "      <td>phon_R01_S35_4</td>\n",
       "      <td>202.632</td>\n",
       "      <td>565.740</td>\n",
       "      <td>177.258</td>\n",
       "      <td>0.01627</td>\n",
       "      <td>0.00008</td>\n",
       "      <td>0.00919</td>\n",
       "      <td>0.00963</td>\n",
       "      <td>0.02756</td>\n",
       "      <td>0.07170</td>\n",
       "      <td>...</td>\n",
       "      <td>0.10546</td>\n",
       "      <td>0.07889</td>\n",
       "      <td>14.989</td>\n",
       "      <td>1</td>\n",
       "      <td>0.427627</td>\n",
       "      <td>0.775708</td>\n",
       "      <td>-4.892495</td>\n",
       "      <td>0.262281</td>\n",
       "      <td>2.910213</td>\n",
       "      <td>0.270173</td>\n",
       "    </tr>\n",
       "    <tr>\n",
       "      <th>150</th>\n",
       "      <td>phon_R01_S35_5</td>\n",
       "      <td>186.695</td>\n",
       "      <td>211.961</td>\n",
       "      <td>149.442</td>\n",
       "      <td>0.01872</td>\n",
       "      <td>0.00010</td>\n",
       "      <td>0.01075</td>\n",
       "      <td>0.01154</td>\n",
       "      <td>0.03225</td>\n",
       "      <td>0.05830</td>\n",
       "      <td>...</td>\n",
       "      <td>0.08096</td>\n",
       "      <td>0.10952</td>\n",
       "      <td>12.529</td>\n",
       "      <td>1</td>\n",
       "      <td>0.507826</td>\n",
       "      <td>0.762726</td>\n",
       "      <td>-4.484303</td>\n",
       "      <td>0.340256</td>\n",
       "      <td>2.958815</td>\n",
       "      <td>0.301487</td>\n",
       "    </tr>\n",
       "  </tbody>\n",
       "</table>\n",
       "<p>8 rows × 24 columns</p>\n",
       "</div>"
      ],
      "text/plain": [
       "               name  MDVP:Fo(Hz)  MDVP:Fhi(Hz)  MDVP:Flo(Hz)  MDVP:Jitter(%)  \\\n",
       "91   phon_R01_S22_1      151.955       163.335       147.226         0.00419   \n",
       "99   phon_R01_S24_3      126.512       141.756        99.770         0.01936   \n",
       "100  phon_R01_S24_4      125.641       141.068       116.346         0.03316   \n",
       "102  phon_R01_S24_6      139.224       586.567        66.157         0.03011   \n",
       "146  phon_R01_S35_1      169.774       191.759       151.451         0.01568   \n",
       "148  phon_R01_S35_3      188.620       216.302       165.982         0.01719   \n",
       "149  phon_R01_S35_4      202.632       565.740       177.258         0.01627   \n",
       "150  phon_R01_S35_5      186.695       211.961       149.442         0.01872   \n",
       "\n",
       "     MDVP:Jitter(Abs)  MDVP:RAP  MDVP:PPQ  Jitter:DDP  MDVP:Shimmer  ...  \\\n",
       "91            0.00003   0.00224   0.00227     0.00672       0.07959  ...   \n",
       "99            0.00015   0.01159   0.00990     0.03476       0.06734  ...   \n",
       "100           0.00026   0.02144   0.01522     0.06433       0.09178  ...   \n",
       "102           0.00022   0.01854   0.01628     0.05563       0.09419  ...   \n",
       "146           0.00009   0.00863   0.00946     0.02589       0.08143  ...   \n",
       "148           0.00009   0.00996   0.01027     0.02987       0.07118  ...   \n",
       "149           0.00008   0.00919   0.00963     0.02756       0.07170  ...   \n",
       "150           0.00010   0.01075   0.01154     0.03225       0.05830  ...   \n",
       "\n",
       "     Shimmer:DDA      NHR     HNR  status      RPDE       DFA   spread1  \\\n",
       "91       0.13262  0.01658  19.664       1  0.501037  0.714360 -6.411497   \n",
       "99       0.10833  0.16744  12.435       1  0.638545  0.674953 -3.760348   \n",
       "100      0.16074  0.31482   8.867       1  0.671299  0.656846 -3.700544   \n",
       "102      0.16654  0.25930  10.489       1  0.596362  0.641418 -3.269487   \n",
       "146      0.11411  0.07530  12.359       1  0.561610  0.793509 -3.297668   \n",
       "148      0.10422  0.08069  12.298       1  0.552870  0.764036 -3.377325   \n",
       "149      0.10546  0.07889  14.989       1  0.427627  0.775708 -4.892495   \n",
       "150      0.08096  0.10952  12.529       1  0.507826  0.762726 -4.484303   \n",
       "\n",
       "      spread2        D2       PPE  \n",
       "91   0.207156  2.344876  0.134120  \n",
       "99   0.242861  2.634633  0.378483  \n",
       "100  0.260481  2.991063  0.370961  \n",
       "102  0.270641  2.690917  0.444774  \n",
       "146  0.414758  3.413649  0.457533  \n",
       "148  0.335357  3.274865  0.418646  \n",
       "149  0.262281  2.910213  0.270173  \n",
       "150  0.340256  2.958815  0.301487  \n",
       "\n",
       "[8 rows x 24 columns]"
      ]
     },
     "execution_count": 131,
     "metadata": {},
     "output_type": "execute_result"
    }
   ],
   "source": [
    "#accessing the dataset of midoutliers\n",
    "park_data.loc[(park_data['MDVP:Shimmer(dB)'] > db_upper_inner_fence) & (park_data['MDVP:Shimmer(dB)'] < db_upper_outer_fence)]"
   ]
  },
  {
   "cell_type": "code",
   "execution_count": 132,
   "id": "0fef2135",
   "metadata": {},
   "outputs": [
    {
     "data": {
      "text/plain": [
       "2"
      ]
     },
     "execution_count": 132,
     "metadata": {},
     "output_type": "execute_result"
    }
   ],
   "source": [
    "#accessing the number of MDVP:Shimmer(dB) which  are extreme outliers \n",
    "len(park_data.loc[park_data['MDVP:Shimmer(dB)'] > db_upper_outer_fence])"
   ]
  },
  {
   "cell_type": "code",
   "execution_count": 133,
   "id": "057a8c91",
   "metadata": {
    "scrolled": true
   },
   "outputs": [
    {
     "data": {
      "text/html": [
       "<div>\n",
       "<style scoped>\n",
       "    .dataframe tbody tr th:only-of-type {\n",
       "        vertical-align: middle;\n",
       "    }\n",
       "\n",
       "    .dataframe tbody tr th {\n",
       "        vertical-align: top;\n",
       "    }\n",
       "\n",
       "    .dataframe thead th {\n",
       "        text-align: right;\n",
       "    }\n",
       "</style>\n",
       "<table border=\"1\" class=\"dataframe\">\n",
       "  <thead>\n",
       "    <tr style=\"text-align: right;\">\n",
       "      <th></th>\n",
       "      <th>name</th>\n",
       "      <th>MDVP:Fo(Hz)</th>\n",
       "      <th>MDVP:Fhi(Hz)</th>\n",
       "      <th>MDVP:Flo(Hz)</th>\n",
       "      <th>MDVP:Jitter(%)</th>\n",
       "      <th>MDVP:Jitter(Abs)</th>\n",
       "      <th>MDVP:RAP</th>\n",
       "      <th>MDVP:PPQ</th>\n",
       "      <th>Jitter:DDP</th>\n",
       "      <th>MDVP:Shimmer</th>\n",
       "      <th>...</th>\n",
       "      <th>Shimmer:DDA</th>\n",
       "      <th>NHR</th>\n",
       "      <th>HNR</th>\n",
       "      <th>status</th>\n",
       "      <th>RPDE</th>\n",
       "      <th>DFA</th>\n",
       "      <th>spread1</th>\n",
       "      <th>spread2</th>\n",
       "      <th>D2</th>\n",
       "      <th>PPE</th>\n",
       "    </tr>\n",
       "  </thead>\n",
       "  <tbody>\n",
       "    <tr>\n",
       "      <th>151</th>\n",
       "      <td>phon_R01_S35_6</td>\n",
       "      <td>192.818</td>\n",
       "      <td>224.429</td>\n",
       "      <td>168.793</td>\n",
       "      <td>0.03107</td>\n",
       "      <td>0.00016</td>\n",
       "      <td>0.01800</td>\n",
       "      <td>0.01958</td>\n",
       "      <td>0.05401</td>\n",
       "      <td>0.11908</td>\n",
       "      <td>...</td>\n",
       "      <td>0.16942</td>\n",
       "      <td>0.21713</td>\n",
       "      <td>8.441</td>\n",
       "      <td>1</td>\n",
       "      <td>0.625866</td>\n",
       "      <td>0.768320</td>\n",
       "      <td>-2.434031</td>\n",
       "      <td>0.450493</td>\n",
       "      <td>3.079221</td>\n",
       "      <td>0.527367</td>\n",
       "    </tr>\n",
       "    <tr>\n",
       "      <th>152</th>\n",
       "      <td>phon_R01_S35_7</td>\n",
       "      <td>198.116</td>\n",
       "      <td>233.099</td>\n",
       "      <td>174.478</td>\n",
       "      <td>0.02714</td>\n",
       "      <td>0.00014</td>\n",
       "      <td>0.01568</td>\n",
       "      <td>0.01699</td>\n",
       "      <td>0.04705</td>\n",
       "      <td>0.08684</td>\n",
       "      <td>...</td>\n",
       "      <td>0.12851</td>\n",
       "      <td>0.16265</td>\n",
       "      <td>9.449</td>\n",
       "      <td>1</td>\n",
       "      <td>0.584164</td>\n",
       "      <td>0.754449</td>\n",
       "      <td>-2.839756</td>\n",
       "      <td>0.356224</td>\n",
       "      <td>3.184027</td>\n",
       "      <td>0.454721</td>\n",
       "    </tr>\n",
       "  </tbody>\n",
       "</table>\n",
       "<p>2 rows × 24 columns</p>\n",
       "</div>"
      ],
      "text/plain": [
       "               name  MDVP:Fo(Hz)  MDVP:Fhi(Hz)  MDVP:Flo(Hz)  MDVP:Jitter(%)  \\\n",
       "151  phon_R01_S35_6      192.818       224.429       168.793         0.03107   \n",
       "152  phon_R01_S35_7      198.116       233.099       174.478         0.02714   \n",
       "\n",
       "     MDVP:Jitter(Abs)  MDVP:RAP  MDVP:PPQ  Jitter:DDP  MDVP:Shimmer  ...  \\\n",
       "151           0.00016   0.01800   0.01958     0.05401       0.11908  ...   \n",
       "152           0.00014   0.01568   0.01699     0.04705       0.08684  ...   \n",
       "\n",
       "     Shimmer:DDA      NHR    HNR  status      RPDE       DFA   spread1  \\\n",
       "151      0.16942  0.21713  8.441       1  0.625866  0.768320 -2.434031   \n",
       "152      0.12851  0.16265  9.449       1  0.584164  0.754449 -2.839756   \n",
       "\n",
       "      spread2        D2       PPE  \n",
       "151  0.450493  3.079221  0.527367  \n",
       "152  0.356224  3.184027  0.454721  \n",
       "\n",
       "[2 rows x 24 columns]"
      ]
     },
     "execution_count": 133,
     "metadata": {},
     "output_type": "execute_result"
    }
   ],
   "source": [
    "#accessing the dataset of extreme outliers\n",
    "park_data.loc[park_data['MDVP:Shimmer(dB)'] > db_upper_outer_fence]"
   ]
  },
  {
   "cell_type": "markdown",
   "id": "2f5358eb",
   "metadata": {},
   "source": [
    "There are 10 (5.12%)outliers in the distributions of which 8 are at the max point of the distribution where 4 recordings are from one patient, 3 recordings from another patient and the remaining 1 to a patient. Additionally, 2 extreme outliers recorded from a one patient.\n",
    "Again, we can observe one patient(phon_R01_S35) having all 6 recordings on 'MDVP:Shimmer(dB)' as outliers .\n",
    "\n",
    "128 recordings (65.64%) were below the mean"
   ]
  },
  {
   "cell_type": "markdown",
   "id": "5e02388d",
   "metadata": {},
   "source": [
    "#### MDVP:Shimmer"
   ]
  },
  {
   "cell_type": "code",
   "execution_count": 134,
   "id": "85fc90b7",
   "metadata": {},
   "outputs": [
    {
     "data": {
      "text/plain": [
       "count    195.000000\n",
       "mean       0.029709\n",
       "std        0.018857\n",
       "min        0.009540\n",
       "25%        0.016505\n",
       "50%        0.022970\n",
       "75%        0.037885\n",
       "max        0.119080\n",
       "Name: MDVP:Shimmer, dtype: float64"
      ]
     },
     "execution_count": 134,
     "metadata": {},
     "output_type": "execute_result"
    }
   ],
   "source": [
    "#aceesing the statistical info \n",
    "park_data['MDVP:Shimmer'].describe()"
   ]
  },
  {
   "cell_type": "code",
   "execution_count": 135,
   "id": "db469d12",
   "metadata": {},
   "outputs": [
    {
     "data": {
      "image/png": "[encoded data removed]",
      "text/plain": [
       "<Figure size 432x288 with 1 Axes>"
      ]
     },
     "metadata": {
      "needs_background": "light"
     },
     "output_type": "display_data"
    }
   ],
   "source": [
    "#plotting a histogram\n",
    "plt.hist(park_data['MDVP:Shimmer'])\n",
    "plt.show()"
   ]
  },
  {
   "cell_type": "code",
   "execution_count": 136,
   "id": "75b3e654",
   "metadata": {},
   "outputs": [
    {
     "data": {
      "text/plain": [
       "{'whiskers': [<matplotlib.lines.Line2D at 0xb36d57caf0>,\n",
       "  <matplotlib.lines.Line2D at 0xb36d57ceb0>],\n",
       " 'caps': [<matplotlib.lines.Line2D at 0xb36d588280>,\n",
       "  <matplotlib.lines.Line2D at 0xb36d588610>],\n",
       " 'boxes': [<matplotlib.lines.Line2D at 0xb36d57c760>],\n",
       " 'medians': [<matplotlib.lines.Line2D at 0xb36d5889a0>],\n",
       " 'fliers': [<matplotlib.lines.Line2D at 0xb36d588d30>],\n",
       " 'means': []}"
      ]
     },
     "execution_count": 136,
     "metadata": {},
     "output_type": "execute_result"
    },
    {
     "data": {
      "image/png": "[encoded data removed]",
      "text/plain": [
       "<Figure size 432x288 with 1 Axes>"
      ]
     },
     "metadata": {
      "needs_background": "light"
     },
     "output_type": "display_data"
    }
   ],
   "source": [
    "#accessing a boxplot \n",
    "plt.boxplot(park_data['MDVP:Shimmer'])"
   ]
  },
  {
   "cell_type": "markdown",
   "id": "adad2279",
   "metadata": {},
   "source": [
    "We observe a right skewed distribution. There are quite a number of outliers"
   ]
  },
  {
   "cell_type": "code",
   "execution_count": 263,
   "id": "5d353179",
   "metadata": {},
   "outputs": [
    {
     "name": "stdout",
     "output_type": "stream",
     "text": [
      "0.069955\n",
      "-0.015565000000000002\n",
      "0.102025\n"
     ]
    }
   ],
   "source": [
    "#parameters\n",
    "shim_mean = 0.029709\n",
    "shim_first_quartile = 0.016505\n",
    "shim_second_quartile = 0.022970\n",
    "shim_third_quartile =  0.037885\n",
    "shim_IQR = shim_third_quartile - shim_first_quartile\n",
    "shim_upper_inner_fence = shim_third_quartile + (1.5 * shim_IQR)\n",
    "shim_lower_inner_fence = shim_first_quartile - (1.5 * shim_IQR)\n",
    "shim_upper_outer_fence = shim_third_quartile + (3 * shim_IQR )\n",
    "print(shim_upper_inner_fence)\n",
    "print(shim_lower_inner_fence)\n",
    "print(shim_upper_outer_fence)"
   ]
  },
  {
   "cell_type": "code",
   "execution_count": 138,
   "id": "0d5c9798",
   "metadata": {},
   "outputs": [
    {
     "data": {
      "text/plain": [
       "123"
      ]
     },
     "execution_count": 138,
     "metadata": {},
     "output_type": "execute_result"
    }
   ],
   "source": [
    "#Acessing the number of MDVP:Shimmer below the mean\n",
    "len(park_data.loc[park_data['MDVP:Shimmer'] < shim_mean])"
   ]
  },
  {
   "cell_type": "code",
   "execution_count": 139,
   "id": "5d3b2cc2",
   "metadata": {},
   "outputs": [
    {
     "data": {
      "text/plain": [
       "97"
      ]
     },
     "execution_count": 139,
     "metadata": {},
     "output_type": "execute_result"
    }
   ],
   "source": [
    "#accessing the number of MDVP:Shimmer below the median\n",
    "len(park_data.loc[park_data['MDVP:Shimmer'] < shim_second_quartile])"
   ]
  },
  {
   "cell_type": "code",
   "execution_count": 140,
   "id": "dbeafd10",
   "metadata": {},
   "outputs": [
    {
     "data": {
      "text/plain": [
       "7"
      ]
     },
     "execution_count": 140,
     "metadata": {},
     "output_type": "execute_result"
    }
   ],
   "source": [
    "#accessing the number of MDVP:Shimmer which are mid-outliers\n",
    "len(park_data.loc[(park_data['MDVP:Shimmer'] > shim_upper_inner_fence) & (park_data['MDVP:Shimmer'] < shim_upper_outer_fence)])"
   ]
  },
  {
   "cell_type": "code",
   "execution_count": 141,
   "id": "988fccb5",
   "metadata": {},
   "outputs": [
    {
     "data": {
      "text/html": [
       "<div>\n",
       "<style scoped>\n",
       "    .dataframe tbody tr th:only-of-type {\n",
       "        vertical-align: middle;\n",
       "    }\n",
       "\n",
       "    .dataframe tbody tr th {\n",
       "        vertical-align: top;\n",
       "    }\n",
       "\n",
       "    .dataframe thead th {\n",
       "        text-align: right;\n",
       "    }\n",
       "</style>\n",
       "<table border=\"1\" class=\"dataframe\">\n",
       "  <thead>\n",
       "    <tr style=\"text-align: right;\">\n",
       "      <th></th>\n",
       "      <th>name</th>\n",
       "      <th>MDVP:Fo(Hz)</th>\n",
       "      <th>MDVP:Fhi(Hz)</th>\n",
       "      <th>MDVP:Flo(Hz)</th>\n",
       "      <th>MDVP:Jitter(%)</th>\n",
       "      <th>MDVP:Jitter(Abs)</th>\n",
       "      <th>MDVP:RAP</th>\n",
       "      <th>MDVP:PPQ</th>\n",
       "      <th>Jitter:DDP</th>\n",
       "      <th>MDVP:Shimmer</th>\n",
       "      <th>...</th>\n",
       "      <th>Shimmer:DDA</th>\n",
       "      <th>NHR</th>\n",
       "      <th>HNR</th>\n",
       "      <th>status</th>\n",
       "      <th>RPDE</th>\n",
       "      <th>DFA</th>\n",
       "      <th>spread1</th>\n",
       "      <th>spread2</th>\n",
       "      <th>D2</th>\n",
       "      <th>PPE</th>\n",
       "    </tr>\n",
       "  </thead>\n",
       "  <tbody>\n",
       "    <tr>\n",
       "      <th>91</th>\n",
       "      <td>phon_R01_S22_1</td>\n",
       "      <td>151.955</td>\n",
       "      <td>163.335</td>\n",
       "      <td>147.226</td>\n",
       "      <td>0.00419</td>\n",
       "      <td>0.00003</td>\n",
       "      <td>0.00224</td>\n",
       "      <td>0.00227</td>\n",
       "      <td>0.00672</td>\n",
       "      <td>0.07959</td>\n",
       "      <td>...</td>\n",
       "      <td>0.13262</td>\n",
       "      <td>0.01658</td>\n",
       "      <td>19.664</td>\n",
       "      <td>1</td>\n",
       "      <td>0.501037</td>\n",
       "      <td>0.714360</td>\n",
       "      <td>-6.411497</td>\n",
       "      <td>0.207156</td>\n",
       "      <td>2.344876</td>\n",
       "      <td>0.134120</td>\n",
       "    </tr>\n",
       "    <tr>\n",
       "      <th>100</th>\n",
       "      <td>phon_R01_S24_4</td>\n",
       "      <td>125.641</td>\n",
       "      <td>141.068</td>\n",
       "      <td>116.346</td>\n",
       "      <td>0.03316</td>\n",
       "      <td>0.00026</td>\n",
       "      <td>0.02144</td>\n",
       "      <td>0.01522</td>\n",
       "      <td>0.06433</td>\n",
       "      <td>0.09178</td>\n",
       "      <td>...</td>\n",
       "      <td>0.16074</td>\n",
       "      <td>0.31482</td>\n",
       "      <td>8.867</td>\n",
       "      <td>1</td>\n",
       "      <td>0.671299</td>\n",
       "      <td>0.656846</td>\n",
       "      <td>-3.700544</td>\n",
       "      <td>0.260481</td>\n",
       "      <td>2.991063</td>\n",
       "      <td>0.370961</td>\n",
       "    </tr>\n",
       "    <tr>\n",
       "      <th>102</th>\n",
       "      <td>phon_R01_S24_6</td>\n",
       "      <td>139.224</td>\n",
       "      <td>586.567</td>\n",
       "      <td>66.157</td>\n",
       "      <td>0.03011</td>\n",
       "      <td>0.00022</td>\n",
       "      <td>0.01854</td>\n",
       "      <td>0.01628</td>\n",
       "      <td>0.05563</td>\n",
       "      <td>0.09419</td>\n",
       "      <td>...</td>\n",
       "      <td>0.16654</td>\n",
       "      <td>0.25930</td>\n",
       "      <td>10.489</td>\n",
       "      <td>1</td>\n",
       "      <td>0.596362</td>\n",
       "      <td>0.641418</td>\n",
       "      <td>-3.269487</td>\n",
       "      <td>0.270641</td>\n",
       "      <td>2.690917</td>\n",
       "      <td>0.444774</td>\n",
       "    </tr>\n",
       "    <tr>\n",
       "      <th>146</th>\n",
       "      <td>phon_R01_S35_1</td>\n",
       "      <td>169.774</td>\n",
       "      <td>191.759</td>\n",
       "      <td>151.451</td>\n",
       "      <td>0.01568</td>\n",
       "      <td>0.00009</td>\n",
       "      <td>0.00863</td>\n",
       "      <td>0.00946</td>\n",
       "      <td>0.02589</td>\n",
       "      <td>0.08143</td>\n",
       "      <td>...</td>\n",
       "      <td>0.11411</td>\n",
       "      <td>0.07530</td>\n",
       "      <td>12.359</td>\n",
       "      <td>1</td>\n",
       "      <td>0.561610</td>\n",
       "      <td>0.793509</td>\n",
       "      <td>-3.297668</td>\n",
       "      <td>0.414758</td>\n",
       "      <td>3.413649</td>\n",
       "      <td>0.457533</td>\n",
       "    </tr>\n",
       "    <tr>\n",
       "      <th>148</th>\n",
       "      <td>phon_R01_S35_3</td>\n",
       "      <td>188.620</td>\n",
       "      <td>216.302</td>\n",
       "      <td>165.982</td>\n",
       "      <td>0.01719</td>\n",
       "      <td>0.00009</td>\n",
       "      <td>0.00996</td>\n",
       "      <td>0.01027</td>\n",
       "      <td>0.02987</td>\n",
       "      <td>0.07118</td>\n",
       "      <td>...</td>\n",
       "      <td>0.10422</td>\n",
       "      <td>0.08069</td>\n",
       "      <td>12.298</td>\n",
       "      <td>1</td>\n",
       "      <td>0.552870</td>\n",
       "      <td>0.764036</td>\n",
       "      <td>-3.377325</td>\n",
       "      <td>0.335357</td>\n",
       "      <td>3.274865</td>\n",
       "      <td>0.418646</td>\n",
       "    </tr>\n",
       "    <tr>\n",
       "      <th>149</th>\n",
       "      <td>phon_R01_S35_4</td>\n",
       "      <td>202.632</td>\n",
       "      <td>565.740</td>\n",
       "      <td>177.258</td>\n",
       "      <td>0.01627</td>\n",
       "      <td>0.00008</td>\n",
       "      <td>0.00919</td>\n",
       "      <td>0.00963</td>\n",
       "      <td>0.02756</td>\n",
       "      <td>0.07170</td>\n",
       "      <td>...</td>\n",
       "      <td>0.10546</td>\n",
       "      <td>0.07889</td>\n",
       "      <td>14.989</td>\n",
       "      <td>1</td>\n",
       "      <td>0.427627</td>\n",
       "      <td>0.775708</td>\n",
       "      <td>-4.892495</td>\n",
       "      <td>0.262281</td>\n",
       "      <td>2.910213</td>\n",
       "      <td>0.270173</td>\n",
       "    </tr>\n",
       "    <tr>\n",
       "      <th>152</th>\n",
       "      <td>phon_R01_S35_7</td>\n",
       "      <td>198.116</td>\n",
       "      <td>233.099</td>\n",
       "      <td>174.478</td>\n",
       "      <td>0.02714</td>\n",
       "      <td>0.00014</td>\n",
       "      <td>0.01568</td>\n",
       "      <td>0.01699</td>\n",
       "      <td>0.04705</td>\n",
       "      <td>0.08684</td>\n",
       "      <td>...</td>\n",
       "      <td>0.12851</td>\n",
       "      <td>0.16265</td>\n",
       "      <td>9.449</td>\n",
       "      <td>1</td>\n",
       "      <td>0.584164</td>\n",
       "      <td>0.754449</td>\n",
       "      <td>-2.839756</td>\n",
       "      <td>0.356224</td>\n",
       "      <td>3.184027</td>\n",
       "      <td>0.454721</td>\n",
       "    </tr>\n",
       "  </tbody>\n",
       "</table>\n",
       "<p>7 rows × 24 columns</p>\n",
       "</div>"
      ],
      "text/plain": [
       "               name  MDVP:Fo(Hz)  MDVP:Fhi(Hz)  MDVP:Flo(Hz)  MDVP:Jitter(%)  \\\n",
       "91   phon_R01_S22_1      151.955       163.335       147.226         0.00419   \n",
       "100  phon_R01_S24_4      125.641       141.068       116.346         0.03316   \n",
       "102  phon_R01_S24_6      139.224       586.567        66.157         0.03011   \n",
       "146  phon_R01_S35_1      169.774       191.759       151.451         0.01568   \n",
       "148  phon_R01_S35_3      188.620       216.302       165.982         0.01719   \n",
       "149  phon_R01_S35_4      202.632       565.740       177.258         0.01627   \n",
       "152  phon_R01_S35_7      198.116       233.099       174.478         0.02714   \n",
       "\n",
       "     MDVP:Jitter(Abs)  MDVP:RAP  MDVP:PPQ  Jitter:DDP  MDVP:Shimmer  ...  \\\n",
       "91            0.00003   0.00224   0.00227     0.00672       0.07959  ...   \n",
       "100           0.00026   0.02144   0.01522     0.06433       0.09178  ...   \n",
       "102           0.00022   0.01854   0.01628     0.05563       0.09419  ...   \n",
       "146           0.00009   0.00863   0.00946     0.02589       0.08143  ...   \n",
       "148           0.00009   0.00996   0.01027     0.02987       0.07118  ...   \n",
       "149           0.00008   0.00919   0.00963     0.02756       0.07170  ...   \n",
       "152           0.00014   0.01568   0.01699     0.04705       0.08684  ...   \n",
       "\n",
       "     Shimmer:DDA      NHR     HNR  status      RPDE       DFA   spread1  \\\n",
       "91       0.13262  0.01658  19.664       1  0.501037  0.714360 -6.411497   \n",
       "100      0.16074  0.31482   8.867       1  0.671299  0.656846 -3.700544   \n",
       "102      0.16654  0.25930  10.489       1  0.596362  0.641418 -3.269487   \n",
       "146      0.11411  0.07530  12.359       1  0.561610  0.793509 -3.297668   \n",
       "148      0.10422  0.08069  12.298       1  0.552870  0.764036 -3.377325   \n",
       "149      0.10546  0.07889  14.989       1  0.427627  0.775708 -4.892495   \n",
       "152      0.12851  0.16265   9.449       1  0.584164  0.754449 -2.839756   \n",
       "\n",
       "      spread2        D2       PPE  \n",
       "91   0.207156  2.344876  0.134120  \n",
       "100  0.260481  2.991063  0.370961  \n",
       "102  0.270641  2.690917  0.444774  \n",
       "146  0.414758  3.413649  0.457533  \n",
       "148  0.335357  3.274865  0.418646  \n",
       "149  0.262281  2.910213  0.270173  \n",
       "152  0.356224  3.184027  0.454721  \n",
       "\n",
       "[7 rows x 24 columns]"
      ]
     },
     "execution_count": 141,
     "metadata": {},
     "output_type": "execute_result"
    }
   ],
   "source": [
    "#accessing the dataset of mid-outliers\n",
    "park_data.loc[(park_data['MDVP:Shimmer'] > shim_upper_inner_fence) & (park_data['MDVP:Shimmer'] < shim_upper_outer_fence)]"
   ]
  },
  {
   "cell_type": "code",
   "execution_count": 142,
   "id": "f31cfc26",
   "metadata": {},
   "outputs": [
    {
     "data": {
      "text/plain": [
       "1"
      ]
     },
     "execution_count": 142,
     "metadata": {},
     "output_type": "execute_result"
    }
   ],
   "source": [
    "#accessing the number of MDVP:Shimmer which are extreme outliers\n",
    "len(park_data.loc[park_data['MDVP:Shimmer'] > shim_upper_outer_fence])"
   ]
  },
  {
   "cell_type": "code",
   "execution_count": 143,
   "id": "9720b956",
   "metadata": {
    "scrolled": true
   },
   "outputs": [
    {
     "data": {
      "text/html": [
       "<div>\n",
       "<style scoped>\n",
       "    .dataframe tbody tr th:only-of-type {\n",
       "        vertical-align: middle;\n",
       "    }\n",
       "\n",
       "    .dataframe tbody tr th {\n",
       "        vertical-align: top;\n",
       "    }\n",
       "\n",
       "    .dataframe thead th {\n",
       "        text-align: right;\n",
       "    }\n",
       "</style>\n",
       "<table border=\"1\" class=\"dataframe\">\n",
       "  <thead>\n",
       "    <tr style=\"text-align: right;\">\n",
       "      <th></th>\n",
       "      <th>name</th>\n",
       "      <th>MDVP:Fo(Hz)</th>\n",
       "      <th>MDVP:Fhi(Hz)</th>\n",
       "      <th>MDVP:Flo(Hz)</th>\n",
       "      <th>MDVP:Jitter(%)</th>\n",
       "      <th>MDVP:Jitter(Abs)</th>\n",
       "      <th>MDVP:RAP</th>\n",
       "      <th>MDVP:PPQ</th>\n",
       "      <th>Jitter:DDP</th>\n",
       "      <th>MDVP:Shimmer</th>\n",
       "      <th>...</th>\n",
       "      <th>Shimmer:DDA</th>\n",
       "      <th>NHR</th>\n",
       "      <th>HNR</th>\n",
       "      <th>status</th>\n",
       "      <th>RPDE</th>\n",
       "      <th>DFA</th>\n",
       "      <th>spread1</th>\n",
       "      <th>spread2</th>\n",
       "      <th>D2</th>\n",
       "      <th>PPE</th>\n",
       "    </tr>\n",
       "  </thead>\n",
       "  <tbody>\n",
       "    <tr>\n",
       "      <th>151</th>\n",
       "      <td>phon_R01_S35_6</td>\n",
       "      <td>192.818</td>\n",
       "      <td>224.429</td>\n",
       "      <td>168.793</td>\n",
       "      <td>0.03107</td>\n",
       "      <td>0.00016</td>\n",
       "      <td>0.018</td>\n",
       "      <td>0.01958</td>\n",
       "      <td>0.05401</td>\n",
       "      <td>0.11908</td>\n",
       "      <td>...</td>\n",
       "      <td>0.16942</td>\n",
       "      <td>0.21713</td>\n",
       "      <td>8.441</td>\n",
       "      <td>1</td>\n",
       "      <td>0.625866</td>\n",
       "      <td>0.76832</td>\n",
       "      <td>-2.434031</td>\n",
       "      <td>0.450493</td>\n",
       "      <td>3.079221</td>\n",
       "      <td>0.527367</td>\n",
       "    </tr>\n",
       "  </tbody>\n",
       "</table>\n",
       "<p>1 rows × 24 columns</p>\n",
       "</div>"
      ],
      "text/plain": [
       "               name  MDVP:Fo(Hz)  MDVP:Fhi(Hz)  MDVP:Flo(Hz)  MDVP:Jitter(%)  \\\n",
       "151  phon_R01_S35_6      192.818       224.429       168.793         0.03107   \n",
       "\n",
       "     MDVP:Jitter(Abs)  MDVP:RAP  MDVP:PPQ  Jitter:DDP  MDVP:Shimmer  ...  \\\n",
       "151           0.00016     0.018   0.01958     0.05401       0.11908  ...   \n",
       "\n",
       "     Shimmer:DDA      NHR    HNR  status      RPDE      DFA   spread1  \\\n",
       "151      0.16942  0.21713  8.441       1  0.625866  0.76832 -2.434031   \n",
       "\n",
       "      spread2        D2       PPE  \n",
       "151  0.450493  3.079221  0.527367  \n",
       "\n",
       "[1 rows x 24 columns]"
      ]
     },
     "execution_count": 143,
     "metadata": {},
     "output_type": "execute_result"
    }
   ],
   "source": [
    "#accessing the dataset of MDVP:Shimmer extreme outliers\n",
    "(park_data.loc[park_data['MDVP:Shimmer'] > shim_upper_outer_fence])"
   ]
  },
  {
   "cell_type": "markdown",
   "id": "e0d550ec",
   "metadata": {},
   "source": [
    "123 thus(63.07%) of the dataset have recorgings below the mean on MDVP:Shimmer. Again, 97(thus 49.74%) of data are below the median. We observe 8 outliers of which  7 are mid-outliers and 1 extreme outliers. We see patient (phon_R01_S35) having 5 outliers of the 8 outliers. \n",
    "All outliers have a status of 1 to the disease"
   ]
  },
  {
   "cell_type": "markdown",
   "id": "f6322e8e",
   "metadata": {},
   "source": [
    "#### Shimmer:DDA"
   ]
  },
  {
   "cell_type": "code",
   "execution_count": 144,
   "id": "1ab2ce04",
   "metadata": {},
   "outputs": [
    {
     "data": {
      "text/plain": [
       "count    195.000000\n",
       "mean       0.046993\n",
       "std        0.030459\n",
       "min        0.013640\n",
       "25%        0.024735\n",
       "50%        0.038360\n",
       "75%        0.060795\n",
       "max        0.169420\n",
       "Name: Shimmer:DDA, dtype: float64"
      ]
     },
     "execution_count": 144,
     "metadata": {},
     "output_type": "execute_result"
    }
   ],
   "source": [
    "#accessing the statistical info\n",
    "park_data['Shimmer:DDA'].describe()"
   ]
  },
  {
   "cell_type": "code",
   "execution_count": 145,
   "id": "80cb11b0",
   "metadata": {},
   "outputs": [
    {
     "data": {
      "image/png": "[encoded data removed]",
      "text/plain": [
       "<Figure size 432x288 with 1 Axes>"
      ]
     },
     "metadata": {
      "needs_background": "light"
     },
     "output_type": "display_data"
    }
   ],
   "source": [
    "#plotting a histogram\n",
    "plt.hist(park_data['Shimmer:DDA'])\n",
    "plt.show()"
   ]
  },
  {
   "cell_type": "code",
   "execution_count": 146,
   "id": "ff5b4ac2",
   "metadata": {},
   "outputs": [
    {
     "data": {
      "text/plain": [
       "{'whiskers': [<matplotlib.lines.Line2D at 0xb36d677550>,\n",
       "  <matplotlib.lines.Line2D at 0xb36d6778e0>],\n",
       " 'caps': [<matplotlib.lines.Line2D at 0xb36d677c70>,\n",
       "  <matplotlib.lines.Line2D at 0xb36d684040>],\n",
       " 'boxes': [<matplotlib.lines.Line2D at 0xb36d6771c0>],\n",
       " 'medians': [<matplotlib.lines.Line2D at 0xb36d6843d0>],\n",
       " 'fliers': [<matplotlib.lines.Line2D at 0xb36d684760>],\n",
       " 'means': []}"
      ]
     },
     "execution_count": 146,
     "metadata": {},
     "output_type": "execute_result"
    },
    {
     "data": {
      "image/png": "[encoded data removed]",
      "text/plain": [
       "<Figure size 432x288 with 1 Axes>"
      ]
     },
     "metadata": {
      "needs_background": "light"
     },
     "output_type": "display_data"
    }
   ],
   "source": [
    "#plotting a boxplot\n",
    "plt.boxplot(park_data['Shimmer:DDA'])"
   ]
  },
  {
   "cell_type": "markdown",
   "id": "33996a68",
   "metadata": {},
   "source": [
    "The two distributions above show a right skewed data of Shimmer:DDA. We can observe outliers in the boxplot. We will analyze the distribution further."
   ]
  },
  {
   "cell_type": "code",
   "execution_count": 147,
   "id": "aa624e35",
   "metadata": {},
   "outputs": [
    {
     "name": "stdout",
     "output_type": "stream",
     "text": [
      "-0.029355\n",
      "0.114885\n",
      "0.168975\n"
     ]
    }
   ],
   "source": [
    "#parameters\n",
    "DDA_mean =  0.046993\n",
    "DDA_first_quartile = 0.024735\n",
    "DDA_second_quartile = 0.038360\n",
    "DDA_third_quartile = 0.060795\n",
    "DDA_IQR = DDA_third_quartile - DDA_first_quartile\n",
    "DDA_upper_inner_fence = DDA_third_quartile + (1.5 * DDA_IQR)\n",
    "DDA_lower_inner_fence = DDA_first_quartile - (1.5 * DDA_IQR)\n",
    "DDA_upper_outer_fence = DDA_third_quartile + (3 * DDA_IQR)\n",
    "print(DDA_lower_inner_fence)\n",
    "print(DDA_upper_inner_fence)\n",
    "print(DDA_upper_outer_fence)"
   ]
  },
  {
   "cell_type": "code",
   "execution_count": 148,
   "id": "d0764e8a",
   "metadata": {},
   "outputs": [
    {
     "data": {
      "text/plain": [
       "124"
      ]
     },
     "execution_count": 148,
     "metadata": {},
     "output_type": "execute_result"
    }
   ],
   "source": [
    "#accessing the number of DDA below the mean\n",
    "len(park_data.loc[park_data['Shimmer:DDA'] < DDA_mean])"
   ]
  },
  {
   "cell_type": "code",
   "execution_count": 149,
   "id": "1e537d3f",
   "metadata": {
    "scrolled": true
   },
   "outputs": [
    {
     "data": {
      "text/plain": [
       "97"
      ]
     },
     "execution_count": 149,
     "metadata": {},
     "output_type": "execute_result"
    }
   ],
   "source": [
    "#accessing the number of DDA below the median\n",
    "len(park_data.loc[park_data['Shimmer:DDA'] < DDA_second_quartile])"
   ]
  },
  {
   "cell_type": "code",
   "execution_count": 150,
   "id": "f4995065",
   "metadata": {},
   "outputs": [
    {
     "data": {
      "text/plain": [
       "5"
      ]
     },
     "execution_count": 150,
     "metadata": {},
     "output_type": "execute_result"
    }
   ],
   "source": [
    "#accessing the number of DDA which are mid-outliers(beyond the upper_inner_fence only) \n",
    "#thus,at the max point on the whiskers\n",
    "len(park_data.loc[(park_data['Shimmer:DDA'] > DDA_upper_inner_fence) & (park_data['Shimmer:DDA'] < DDA_upper_outer_fence)])"
   ]
  },
  {
   "cell_type": "code",
   "execution_count": 151,
   "id": "4aa96278",
   "metadata": {},
   "outputs": [
    {
     "data": {
      "text/html": [
       "<div>\n",
       "<style scoped>\n",
       "    .dataframe tbody tr th:only-of-type {\n",
       "        vertical-align: middle;\n",
       "    }\n",
       "\n",
       "    .dataframe tbody tr th {\n",
       "        vertical-align: top;\n",
       "    }\n",
       "\n",
       "    .dataframe thead th {\n",
       "        text-align: right;\n",
       "    }\n",
       "</style>\n",
       "<table border=\"1\" class=\"dataframe\">\n",
       "  <thead>\n",
       "    <tr style=\"text-align: right;\">\n",
       "      <th></th>\n",
       "      <th>name</th>\n",
       "      <th>MDVP:Fo(Hz)</th>\n",
       "      <th>MDVP:Fhi(Hz)</th>\n",
       "      <th>MDVP:Flo(Hz)</th>\n",
       "      <th>MDVP:Jitter(%)</th>\n",
       "      <th>MDVP:Jitter(Abs)</th>\n",
       "      <th>MDVP:RAP</th>\n",
       "      <th>MDVP:PPQ</th>\n",
       "      <th>Jitter:DDP</th>\n",
       "      <th>MDVP:Shimmer</th>\n",
       "      <th>...</th>\n",
       "      <th>Shimmer:DDA</th>\n",
       "      <th>NHR</th>\n",
       "      <th>HNR</th>\n",
       "      <th>status</th>\n",
       "      <th>RPDE</th>\n",
       "      <th>DFA</th>\n",
       "      <th>spread1</th>\n",
       "      <th>spread2</th>\n",
       "      <th>D2</th>\n",
       "      <th>PPE</th>\n",
       "    </tr>\n",
       "  </thead>\n",
       "  <tbody>\n",
       "    <tr>\n",
       "      <th>91</th>\n",
       "      <td>phon_R01_S22_1</td>\n",
       "      <td>151.955</td>\n",
       "      <td>163.335</td>\n",
       "      <td>147.226</td>\n",
       "      <td>0.00419</td>\n",
       "      <td>0.00003</td>\n",
       "      <td>0.00224</td>\n",
       "      <td>0.00227</td>\n",
       "      <td>0.00672</td>\n",
       "      <td>0.07959</td>\n",
       "      <td>...</td>\n",
       "      <td>0.13262</td>\n",
       "      <td>0.01658</td>\n",
       "      <td>19.664</td>\n",
       "      <td>1</td>\n",
       "      <td>0.501037</td>\n",
       "      <td>0.714360</td>\n",
       "      <td>-6.411497</td>\n",
       "      <td>0.207156</td>\n",
       "      <td>2.344876</td>\n",
       "      <td>0.134120</td>\n",
       "    </tr>\n",
       "    <tr>\n",
       "      <th>100</th>\n",
       "      <td>phon_R01_S24_4</td>\n",
       "      <td>125.641</td>\n",
       "      <td>141.068</td>\n",
       "      <td>116.346</td>\n",
       "      <td>0.03316</td>\n",
       "      <td>0.00026</td>\n",
       "      <td>0.02144</td>\n",
       "      <td>0.01522</td>\n",
       "      <td>0.06433</td>\n",
       "      <td>0.09178</td>\n",
       "      <td>...</td>\n",
       "      <td>0.16074</td>\n",
       "      <td>0.31482</td>\n",
       "      <td>8.867</td>\n",
       "      <td>1</td>\n",
       "      <td>0.671299</td>\n",
       "      <td>0.656846</td>\n",
       "      <td>-3.700544</td>\n",
       "      <td>0.260481</td>\n",
       "      <td>2.991063</td>\n",
       "      <td>0.370961</td>\n",
       "    </tr>\n",
       "    <tr>\n",
       "      <th>102</th>\n",
       "      <td>phon_R01_S24_6</td>\n",
       "      <td>139.224</td>\n",
       "      <td>586.567</td>\n",
       "      <td>66.157</td>\n",
       "      <td>0.03011</td>\n",
       "      <td>0.00022</td>\n",
       "      <td>0.01854</td>\n",
       "      <td>0.01628</td>\n",
       "      <td>0.05563</td>\n",
       "      <td>0.09419</td>\n",
       "      <td>...</td>\n",
       "      <td>0.16654</td>\n",
       "      <td>0.25930</td>\n",
       "      <td>10.489</td>\n",
       "      <td>1</td>\n",
       "      <td>0.596362</td>\n",
       "      <td>0.641418</td>\n",
       "      <td>-3.269487</td>\n",
       "      <td>0.270641</td>\n",
       "      <td>2.690917</td>\n",
       "      <td>0.444774</td>\n",
       "    </tr>\n",
       "    <tr>\n",
       "      <th>141</th>\n",
       "      <td>phon_R01_S34_2</td>\n",
       "      <td>208.083</td>\n",
       "      <td>253.792</td>\n",
       "      <td>91.802</td>\n",
       "      <td>0.00757</td>\n",
       "      <td>0.00004</td>\n",
       "      <td>0.00428</td>\n",
       "      <td>0.00428</td>\n",
       "      <td>0.01285</td>\n",
       "      <td>0.06725</td>\n",
       "      <td>...</td>\n",
       "      <td>0.12047</td>\n",
       "      <td>0.04238</td>\n",
       "      <td>15.648</td>\n",
       "      <td>1</td>\n",
       "      <td>0.606344</td>\n",
       "      <td>0.665945</td>\n",
       "      <td>-5.410336</td>\n",
       "      <td>0.288917</td>\n",
       "      <td>2.665133</td>\n",
       "      <td>0.231723</td>\n",
       "    </tr>\n",
       "    <tr>\n",
       "      <th>152</th>\n",
       "      <td>phon_R01_S35_7</td>\n",
       "      <td>198.116</td>\n",
       "      <td>233.099</td>\n",
       "      <td>174.478</td>\n",
       "      <td>0.02714</td>\n",
       "      <td>0.00014</td>\n",
       "      <td>0.01568</td>\n",
       "      <td>0.01699</td>\n",
       "      <td>0.04705</td>\n",
       "      <td>0.08684</td>\n",
       "      <td>...</td>\n",
       "      <td>0.12851</td>\n",
       "      <td>0.16265</td>\n",
       "      <td>9.449</td>\n",
       "      <td>1</td>\n",
       "      <td>0.584164</td>\n",
       "      <td>0.754449</td>\n",
       "      <td>-2.839756</td>\n",
       "      <td>0.356224</td>\n",
       "      <td>3.184027</td>\n",
       "      <td>0.454721</td>\n",
       "    </tr>\n",
       "  </tbody>\n",
       "</table>\n",
       "<p>5 rows × 24 columns</p>\n",
       "</div>"
      ],
      "text/plain": [
       "               name  MDVP:Fo(Hz)  MDVP:Fhi(Hz)  MDVP:Flo(Hz)  MDVP:Jitter(%)  \\\n",
       "91   phon_R01_S22_1      151.955       163.335       147.226         0.00419   \n",
       "100  phon_R01_S24_4      125.641       141.068       116.346         0.03316   \n",
       "102  phon_R01_S24_6      139.224       586.567        66.157         0.03011   \n",
       "141  phon_R01_S34_2      208.083       253.792        91.802         0.00757   \n",
       "152  phon_R01_S35_7      198.116       233.099       174.478         0.02714   \n",
       "\n",
       "     MDVP:Jitter(Abs)  MDVP:RAP  MDVP:PPQ  Jitter:DDP  MDVP:Shimmer  ...  \\\n",
       "91            0.00003   0.00224   0.00227     0.00672       0.07959  ...   \n",
       "100           0.00026   0.02144   0.01522     0.06433       0.09178  ...   \n",
       "102           0.00022   0.01854   0.01628     0.05563       0.09419  ...   \n",
       "141           0.00004   0.00428   0.00428     0.01285       0.06725  ...   \n",
       "152           0.00014   0.01568   0.01699     0.04705       0.08684  ...   \n",
       "\n",
       "     Shimmer:DDA      NHR     HNR  status      RPDE       DFA   spread1  \\\n",
       "91       0.13262  0.01658  19.664       1  0.501037  0.714360 -6.411497   \n",
       "100      0.16074  0.31482   8.867       1  0.671299  0.656846 -3.700544   \n",
       "102      0.16654  0.25930  10.489       1  0.596362  0.641418 -3.269487   \n",
       "141      0.12047  0.04238  15.648       1  0.606344  0.665945 -5.410336   \n",
       "152      0.12851  0.16265   9.449       1  0.584164  0.754449 -2.839756   \n",
       "\n",
       "      spread2        D2       PPE  \n",
       "91   0.207156  2.344876  0.134120  \n",
       "100  0.260481  2.991063  0.370961  \n",
       "102  0.270641  2.690917  0.444774  \n",
       "141  0.288917  2.665133  0.231723  \n",
       "152  0.356224  3.184027  0.454721  \n",
       "\n",
       "[5 rows x 24 columns]"
      ]
     },
     "execution_count": 151,
     "metadata": {},
     "output_type": "execute_result"
    }
   ],
   "source": [
    "#accessing the dataset with outliers beyond the upper fence only(mid-outliers)\n",
    "park_data.loc[(park_data['Shimmer:DDA'] > DDA_upper_inner_fence) & (park_data['Shimmer:DDA'] < DDA_upper_outer_fence)]"
   ]
  },
  {
   "cell_type": "code",
   "execution_count": 152,
   "id": "f3c94f44",
   "metadata": {},
   "outputs": [
    {
     "data": {
      "text/plain": [
       "1"
      ]
     },
     "execution_count": 152,
     "metadata": {},
     "output_type": "execute_result"
    }
   ],
   "source": [
    "#accessing the number of DDA which have extreme outliers\n",
    "len(park_data.loc[park_data['Shimmer:DDA'] > DDA_upper_outer_fence])"
   ]
  },
  {
   "cell_type": "code",
   "execution_count": 153,
   "id": "f5428eaa",
   "metadata": {},
   "outputs": [
    {
     "data": {
      "text/html": [
       "<div>\n",
       "<style scoped>\n",
       "    .dataframe tbody tr th:only-of-type {\n",
       "        vertical-align: middle;\n",
       "    }\n",
       "\n",
       "    .dataframe tbody tr th {\n",
       "        vertical-align: top;\n",
       "    }\n",
       "\n",
       "    .dataframe thead th {\n",
       "        text-align: right;\n",
       "    }\n",
       "</style>\n",
       "<table border=\"1\" class=\"dataframe\">\n",
       "  <thead>\n",
       "    <tr style=\"text-align: right;\">\n",
       "      <th></th>\n",
       "      <th>name</th>\n",
       "      <th>MDVP:Fo(Hz)</th>\n",
       "      <th>MDVP:Fhi(Hz)</th>\n",
       "      <th>MDVP:Flo(Hz)</th>\n",
       "      <th>MDVP:Jitter(%)</th>\n",
       "      <th>MDVP:Jitter(Abs)</th>\n",
       "      <th>MDVP:RAP</th>\n",
       "      <th>MDVP:PPQ</th>\n",
       "      <th>Jitter:DDP</th>\n",
       "      <th>MDVP:Shimmer</th>\n",
       "      <th>...</th>\n",
       "      <th>Shimmer:DDA</th>\n",
       "      <th>NHR</th>\n",
       "      <th>HNR</th>\n",
       "      <th>status</th>\n",
       "      <th>RPDE</th>\n",
       "      <th>DFA</th>\n",
       "      <th>spread1</th>\n",
       "      <th>spread2</th>\n",
       "      <th>D2</th>\n",
       "      <th>PPE</th>\n",
       "    </tr>\n",
       "  </thead>\n",
       "  <tbody>\n",
       "    <tr>\n",
       "      <th>151</th>\n",
       "      <td>phon_R01_S35_6</td>\n",
       "      <td>192.818</td>\n",
       "      <td>224.429</td>\n",
       "      <td>168.793</td>\n",
       "      <td>0.03107</td>\n",
       "      <td>0.00016</td>\n",
       "      <td>0.018</td>\n",
       "      <td>0.01958</td>\n",
       "      <td>0.05401</td>\n",
       "      <td>0.11908</td>\n",
       "      <td>...</td>\n",
       "      <td>0.16942</td>\n",
       "      <td>0.21713</td>\n",
       "      <td>8.441</td>\n",
       "      <td>1</td>\n",
       "      <td>0.625866</td>\n",
       "      <td>0.76832</td>\n",
       "      <td>-2.434031</td>\n",
       "      <td>0.450493</td>\n",
       "      <td>3.079221</td>\n",
       "      <td>0.527367</td>\n",
       "    </tr>\n",
       "  </tbody>\n",
       "</table>\n",
       "<p>1 rows × 24 columns</p>\n",
       "</div>"
      ],
      "text/plain": [
       "               name  MDVP:Fo(Hz)  MDVP:Fhi(Hz)  MDVP:Flo(Hz)  MDVP:Jitter(%)  \\\n",
       "151  phon_R01_S35_6      192.818       224.429       168.793         0.03107   \n",
       "\n",
       "     MDVP:Jitter(Abs)  MDVP:RAP  MDVP:PPQ  Jitter:DDP  MDVP:Shimmer  ...  \\\n",
       "151           0.00016     0.018   0.01958     0.05401       0.11908  ...   \n",
       "\n",
       "     Shimmer:DDA      NHR    HNR  status      RPDE      DFA   spread1  \\\n",
       "151      0.16942  0.21713  8.441       1  0.625866  0.76832 -2.434031   \n",
       "\n",
       "      spread2        D2       PPE  \n",
       "151  0.450493  3.079221  0.527367  \n",
       "\n",
       "[1 rows x 24 columns]"
      ]
     },
     "execution_count": 153,
     "metadata": {},
     "output_type": "execute_result"
    }
   ],
   "source": [
    "#accessing the dataset with the outer fence\n",
    "park_data.loc[park_data['Shimmer:DDA'] > DDA_upper_outer_fence]"
   ]
  },
  {
   "cell_type": "markdown",
   "id": "5edc046f",
   "metadata": {},
   "source": [
    "From further analysis, there are 6 recordings which are outliers and have a status of 1.There is 1 extreme outlier and 5 inner outliers. 124 recordings thus 63.58% are below the mean with 49.74% of data below the median."
   ]
  },
  {
   "cell_type": "markdown",
   "id": "1a88cb54",
   "metadata": {},
   "source": [
    "#### RPDE"
   ]
  },
  {
   "cell_type": "code",
   "execution_count": 154,
   "id": "1d85d645",
   "metadata": {},
   "outputs": [
    {
     "data": {
      "text/plain": [
       "count    195.000000\n",
       "mean       0.498536\n",
       "std        0.103942\n",
       "min        0.256570\n",
       "25%        0.421306\n",
       "50%        0.495954\n",
       "75%        0.587562\n",
       "max        0.685151\n",
       "Name: RPDE, dtype: float64"
      ]
     },
     "execution_count": 154,
     "metadata": {},
     "output_type": "execute_result"
    }
   ],
   "source": [
    "#accessing the statistical info of RPDE(nonlinear measure)\n",
    "park_data['RPDE'].describe()"
   ]
  },
  {
   "cell_type": "code",
   "execution_count": 155,
   "id": "00fa8495",
   "metadata": {},
   "outputs": [
    {
     "data": {
      "image/png": "[encoded data removed]",
      "text/plain": [
       "<Figure size 432x288 with 1 Axes>"
      ]
     },
     "metadata": {
      "needs_background": "light"
     },
     "output_type": "display_data"
    }
   ],
   "source": [
    "#plotting a histogram for RPDE\n",
    "plt.hist(park_data['RPDE'])\n",
    "plt.show()"
   ]
  },
  {
   "cell_type": "code",
   "execution_count": 156,
   "id": "65f84df3",
   "metadata": {},
   "outputs": [
    {
     "data": {
      "text/plain": [
       "{'whiskers': [<matplotlib.lines.Line2D at 0xb36d75e8e0>,\n",
       "  <matplotlib.lines.Line2D at 0xb36d75ec70>],\n",
       " 'caps': [<matplotlib.lines.Line2D at 0xb36d76d040>,\n",
       "  <matplotlib.lines.Line2D at 0xb36d76d3d0>],\n",
       " 'boxes': [<matplotlib.lines.Line2D at 0xb36d75e550>],\n",
       " 'medians': [<matplotlib.lines.Line2D at 0xb36d76d760>],\n",
       " 'fliers': [<matplotlib.lines.Line2D at 0xb36d76daf0>],\n",
       " 'means': []}"
      ]
     },
     "execution_count": 156,
     "metadata": {},
     "output_type": "execute_result"
    },
    {
     "data": {
      "image/png": "[encoded data removed]",
      "text/plain": [
       "<Figure size 432x288 with 1 Axes>"
      ]
     },
     "metadata": {
      "needs_background": "light"
     },
     "output_type": "display_data"
    }
   ],
   "source": [
    "#plotting a boxplot for RPDE\n",
    "plt.boxplot(park_data['RPDE'])"
   ]
  },
  {
   "cell_type": "markdown",
   "id": "daac00f0",
   "metadata": {},
   "source": [
    "from the histogram and boxplot,it can be observed that the distribution approaches a normal and 50% or less recorded most of the data. "
   ]
  },
  {
   "cell_type": "code",
   "execution_count": 157,
   "id": "d4ee073c",
   "metadata": {
    "scrolled": true
   },
   "outputs": [
    {
     "name": "stdout",
     "output_type": "stream",
     "text": [
      "0.8369460000000001\n",
      "0.171922\n"
     ]
    }
   ],
   "source": [
    "#useful parameters\n",
    "RPDE_mean = 0.498536\n",
    "RPDE_first_quartile = 0.421306\n",
    "RPDE_second_quartile = 0.495954\n",
    "RPDE_third_quartile = 0.587562\n",
    "RPDE_IQR = RPDE_third_quartile - RPDE_first_quartile\n",
    "RPDE_upper_inner_fence = RPDE_third_quartile + (1.5 *RPDE_IQR) # upper outlier range\n",
    "RPDE_lower_inner_fence = RPDE_first_quartile - (1.5* RPDE_IQR) #lower outlier range\n",
    "print(RPDE_upper_inner_fence)\n",
    "print(RPDE_lower_inner_fence)\n"
   ]
  },
  {
   "cell_type": "code",
   "execution_count": 158,
   "id": "c1d8a856",
   "metadata": {},
   "outputs": [
    {
     "data": {
      "text/plain": [
       "101"
      ]
     },
     "execution_count": 158,
     "metadata": {},
     "output_type": "execute_result"
    }
   ],
   "source": [
    "#accessing the number of RPDE below the mean\n",
    "len(park_data.loc[park_data['RPDE'] < RPDE_mean])"
   ]
  },
  {
   "cell_type": "code",
   "execution_count": 159,
   "id": "a2134be6",
   "metadata": {
    "scrolled": true
   },
   "outputs": [
    {
     "data": {
      "text/plain": [
       "97"
      ]
     },
     "execution_count": 159,
     "metadata": {},
     "output_type": "execute_result"
    }
   ],
   "source": [
    "#accessing the number of RPDE below the median\n",
    "len(park_data.loc[park_data['RPDE'] < RPDE_second_quartile])"
   ]
  },
  {
   "cell_type": "code",
   "execution_count": 160,
   "id": "852de766",
   "metadata": {
    "scrolled": true
   },
   "outputs": [
    {
     "data": {
      "text/plain": [
       "0"
      ]
     },
     "execution_count": 160,
     "metadata": {},
     "output_type": "execute_result"
    }
   ],
   "source": [
    "#accessing the number of RPDE which have outliers\n",
    "len(park_data.loc[park_data['RPDE'] > RPDE_upper_inner_fence])"
   ]
  },
  {
   "cell_type": "markdown",
   "id": "8d37169c",
   "metadata": {},
   "source": [
    "It is observed that 49.74% of the distribution makes up data below the median. Again, 101 recordings made 51.79% of the dataset that are below the mean. there were no outliers."
   ]
  },
  {
   "cell_type": "markdown",
   "id": "c565dd3e",
   "metadata": {},
   "source": [
    "#### PPE"
   ]
  },
  {
   "cell_type": "code",
   "execution_count": 161,
   "id": "64d5922f",
   "metadata": {
    "scrolled": true
   },
   "outputs": [
    {
     "data": {
      "text/plain": [
       "count    195.000000\n",
       "mean       0.206552\n",
       "std        0.090119\n",
       "min        0.044539\n",
       "25%        0.137451\n",
       "50%        0.194052\n",
       "75%        0.252980\n",
       "max        0.527367\n",
       "Name: PPE, dtype: float64"
      ]
     },
     "execution_count": 161,
     "metadata": {},
     "output_type": "execute_result"
    }
   ],
   "source": [
    "#drawing out the statistical data of the data\n",
    "park_data['PPE'].describe()"
   ]
  },
  {
   "cell_type": "code",
   "execution_count": 162,
   "id": "c65f6130",
   "metadata": {},
   "outputs": [
    {
     "data": {
      "image/png": "[encoded data removed]",
      "text/plain": [
       "<Figure size 432x288 with 1 Axes>"
      ]
     },
     "metadata": {
      "needs_background": "light"
     },
     "output_type": "display_data"
    }
   ],
   "source": [
    "#plotting a histogram\n",
    "plt.hist(park_data['PPE'])\n",
    "plt.show()"
   ]
  },
  {
   "cell_type": "code",
   "execution_count": 163,
   "id": "b4d7f90a",
   "metadata": {
    "scrolled": true
   },
   "outputs": [
    {
     "data": {
      "text/plain": [
       "{'whiskers': [<matplotlib.lines.Line2D at 0xb36d7ca760>,\n",
       "  <matplotlib.lines.Line2D at 0xb36d7ca8b0>],\n",
       " 'caps': [<matplotlib.lines.Line2D at 0xb36d7caf10>,\n",
       "  <matplotlib.lines.Line2D at 0xb36d7ca4c0>],\n",
       " 'boxes': [<matplotlib.lines.Line2D at 0xb36d7a2a00>],\n",
       " 'medians': [<matplotlib.lines.Line2D at 0xb36d7e7580>],\n",
       " 'fliers': [<matplotlib.lines.Line2D at 0xb36d7e70a0>],\n",
       " 'means': []}"
      ]
     },
     "execution_count": 163,
     "metadata": {},
     "output_type": "execute_result"
    },
    {
     "data": {
      "image/png": "[encoded data removed]",
      "text/plain": [
       "<Figure size 432x288 with 1 Axes>"
      ]
     },
     "metadata": {
      "needs_background": "light"
     },
     "output_type": "display_data"
    }
   ],
   "source": [
    "#plotting a boxplot\n",
    "plt.boxplot(park_data['PPE'])"
   ]
  },
  {
   "cell_type": "markdown",
   "id": "7cd226b7",
   "metadata": {},
   "source": [
    "From the histogram and boxplot we can observe a right skewed distribution. we can also observe outliers"
   ]
  },
  {
   "cell_type": "code",
   "execution_count": 164,
   "id": "697de9eb",
   "metadata": {
    "scrolled": true
   },
   "outputs": [
    {
     "name": "stdout",
     "output_type": "stream",
     "text": [
      "-0.0358425\n",
      "0.42627349999999997\n"
     ]
    }
   ],
   "source": [
    "#parameters\n",
    "pp_first_quartile = 0.137451\n",
    "pp_second_quartile = 0.194052\n",
    "pp_third_quartile = 0.252980\n",
    "pp_mean = 0.206552\n",
    "pp_IQR = pp_third_quartile - pp_first_quartile\n",
    "pp_lower_inner_fence = pp_first_quartile -(1.5 * pp_IQR) #lower outlier range\n",
    "pp_upper_inner_fence = pp_third_quartile + (1.5 *pp_IQR)  #upper outlier range\n",
    "print(pp_lower_inner_fence)\n",
    "print(pp_upper_inner_fence)"
   ]
  },
  {
   "cell_type": "code",
   "execution_count": 165,
   "id": "0dd975cb",
   "metadata": {},
   "outputs": [
    {
     "data": {
      "text/plain": [
       "104"
      ]
     },
     "execution_count": 165,
     "metadata": {},
     "output_type": "execute_result"
    }
   ],
   "source": [
    "#accessing the number of PPE below the mean\n",
    "len(park_data.loc[park_data['PPE'] < pp_mean])"
   ]
  },
  {
   "cell_type": "code",
   "execution_count": 166,
   "id": "6a76f0d6",
   "metadata": {
    "scrolled": true
   },
   "outputs": [
    {
     "data": {
      "text/plain": [
       "97"
      ]
     },
     "execution_count": 166,
     "metadata": {},
     "output_type": "execute_result"
    }
   ],
   "source": [
    "#accessing the number of ppe below the median\n",
    "len(park_data.loc[park_data['PPE'] < pp_second_quartile])"
   ]
  },
  {
   "cell_type": "code",
   "execution_count": 167,
   "id": "846158a0",
   "metadata": {},
   "outputs": [
    {
     "data": {
      "text/plain": [
       "5"
      ]
     },
     "execution_count": 167,
     "metadata": {},
     "output_type": "execute_result"
    }
   ],
   "source": [
    "#accessing the number of ppe which are outliers\n",
    "len(park_data.loc[park_data['PPE'] > pp_upper_inner_fence])"
   ]
  },
  {
   "cell_type": "code",
   "execution_count": 168,
   "id": "3779eaac",
   "metadata": {
    "scrolled": true
   },
   "outputs": [
    {
     "data": {
      "text/html": [
       "<div>\n",
       "<style scoped>\n",
       "    .dataframe tbody tr th:only-of-type {\n",
       "        vertical-align: middle;\n",
       "    }\n",
       "\n",
       "    .dataframe tbody tr th {\n",
       "        vertical-align: top;\n",
       "    }\n",
       "\n",
       "    .dataframe thead th {\n",
       "        text-align: right;\n",
       "    }\n",
       "</style>\n",
       "<table border=\"1\" class=\"dataframe\">\n",
       "  <thead>\n",
       "    <tr style=\"text-align: right;\">\n",
       "      <th></th>\n",
       "      <th>name</th>\n",
       "      <th>MDVP:Fo(Hz)</th>\n",
       "      <th>MDVP:Fhi(Hz)</th>\n",
       "      <th>MDVP:Flo(Hz)</th>\n",
       "      <th>MDVP:Jitter(%)</th>\n",
       "      <th>MDVP:Jitter(Abs)</th>\n",
       "      <th>MDVP:RAP</th>\n",
       "      <th>MDVP:PPQ</th>\n",
       "      <th>Jitter:DDP</th>\n",
       "      <th>MDVP:Shimmer</th>\n",
       "      <th>...</th>\n",
       "      <th>Shimmer:DDA</th>\n",
       "      <th>NHR</th>\n",
       "      <th>HNR</th>\n",
       "      <th>status</th>\n",
       "      <th>RPDE</th>\n",
       "      <th>DFA</th>\n",
       "      <th>spread1</th>\n",
       "      <th>spread2</th>\n",
       "      <th>D2</th>\n",
       "      <th>PPE</th>\n",
       "    </tr>\n",
       "  </thead>\n",
       "  <tbody>\n",
       "    <tr>\n",
       "      <th>17</th>\n",
       "      <td>phon_R01_S04_6</td>\n",
       "      <td>168.778</td>\n",
       "      <td>232.181</td>\n",
       "      <td>75.603</td>\n",
       "      <td>0.00718</td>\n",
       "      <td>0.00004</td>\n",
       "      <td>0.00284</td>\n",
       "      <td>0.00387</td>\n",
       "      <td>0.00853</td>\n",
       "      <td>0.03327</td>\n",
       "      <td>...</td>\n",
       "      <td>0.04322</td>\n",
       "      <td>0.02919</td>\n",
       "      <td>20.376</td>\n",
       "      <td>1</td>\n",
       "      <td>0.631099</td>\n",
       "      <td>0.605417</td>\n",
       "      <td>-2.931070</td>\n",
       "      <td>0.434326</td>\n",
       "      <td>3.007463</td>\n",
       "      <td>0.430788</td>\n",
       "    </tr>\n",
       "    <tr>\n",
       "      <th>102</th>\n",
       "      <td>phon_R01_S24_6</td>\n",
       "      <td>139.224</td>\n",
       "      <td>586.567</td>\n",
       "      <td>66.157</td>\n",
       "      <td>0.03011</td>\n",
       "      <td>0.00022</td>\n",
       "      <td>0.01854</td>\n",
       "      <td>0.01628</td>\n",
       "      <td>0.05563</td>\n",
       "      <td>0.09419</td>\n",
       "      <td>...</td>\n",
       "      <td>0.16654</td>\n",
       "      <td>0.25930</td>\n",
       "      <td>10.489</td>\n",
       "      <td>1</td>\n",
       "      <td>0.596362</td>\n",
       "      <td>0.641418</td>\n",
       "      <td>-3.269487</td>\n",
       "      <td>0.270641</td>\n",
       "      <td>2.690917</td>\n",
       "      <td>0.444774</td>\n",
       "    </tr>\n",
       "    <tr>\n",
       "      <th>146</th>\n",
       "      <td>phon_R01_S35_1</td>\n",
       "      <td>169.774</td>\n",
       "      <td>191.759</td>\n",
       "      <td>151.451</td>\n",
       "      <td>0.01568</td>\n",
       "      <td>0.00009</td>\n",
       "      <td>0.00863</td>\n",
       "      <td>0.00946</td>\n",
       "      <td>0.02589</td>\n",
       "      <td>0.08143</td>\n",
       "      <td>...</td>\n",
       "      <td>0.11411</td>\n",
       "      <td>0.07530</td>\n",
       "      <td>12.359</td>\n",
       "      <td>1</td>\n",
       "      <td>0.561610</td>\n",
       "      <td>0.793509</td>\n",
       "      <td>-3.297668</td>\n",
       "      <td>0.414758</td>\n",
       "      <td>3.413649</td>\n",
       "      <td>0.457533</td>\n",
       "    </tr>\n",
       "    <tr>\n",
       "      <th>151</th>\n",
       "      <td>phon_R01_S35_6</td>\n",
       "      <td>192.818</td>\n",
       "      <td>224.429</td>\n",
       "      <td>168.793</td>\n",
       "      <td>0.03107</td>\n",
       "      <td>0.00016</td>\n",
       "      <td>0.01800</td>\n",
       "      <td>0.01958</td>\n",
       "      <td>0.05401</td>\n",
       "      <td>0.11908</td>\n",
       "      <td>...</td>\n",
       "      <td>0.16942</td>\n",
       "      <td>0.21713</td>\n",
       "      <td>8.441</td>\n",
       "      <td>1</td>\n",
       "      <td>0.625866</td>\n",
       "      <td>0.768320</td>\n",
       "      <td>-2.434031</td>\n",
       "      <td>0.450493</td>\n",
       "      <td>3.079221</td>\n",
       "      <td>0.527367</td>\n",
       "    </tr>\n",
       "    <tr>\n",
       "      <th>152</th>\n",
       "      <td>phon_R01_S35_7</td>\n",
       "      <td>198.116</td>\n",
       "      <td>233.099</td>\n",
       "      <td>174.478</td>\n",
       "      <td>0.02714</td>\n",
       "      <td>0.00014</td>\n",
       "      <td>0.01568</td>\n",
       "      <td>0.01699</td>\n",
       "      <td>0.04705</td>\n",
       "      <td>0.08684</td>\n",
       "      <td>...</td>\n",
       "      <td>0.12851</td>\n",
       "      <td>0.16265</td>\n",
       "      <td>9.449</td>\n",
       "      <td>1</td>\n",
       "      <td>0.584164</td>\n",
       "      <td>0.754449</td>\n",
       "      <td>-2.839756</td>\n",
       "      <td>0.356224</td>\n",
       "      <td>3.184027</td>\n",
       "      <td>0.454721</td>\n",
       "    </tr>\n",
       "  </tbody>\n",
       "</table>\n",
       "<p>5 rows × 24 columns</p>\n",
       "</div>"
      ],
      "text/plain": [
       "               name  MDVP:Fo(Hz)  MDVP:Fhi(Hz)  MDVP:Flo(Hz)  MDVP:Jitter(%)  \\\n",
       "17   phon_R01_S04_6      168.778       232.181        75.603         0.00718   \n",
       "102  phon_R01_S24_6      139.224       586.567        66.157         0.03011   \n",
       "146  phon_R01_S35_1      169.774       191.759       151.451         0.01568   \n",
       "151  phon_R01_S35_6      192.818       224.429       168.793         0.03107   \n",
       "152  phon_R01_S35_7      198.116       233.099       174.478         0.02714   \n",
       "\n",
       "     MDVP:Jitter(Abs)  MDVP:RAP  MDVP:PPQ  Jitter:DDP  MDVP:Shimmer  ...  \\\n",
       "17            0.00004   0.00284   0.00387     0.00853       0.03327  ...   \n",
       "102           0.00022   0.01854   0.01628     0.05563       0.09419  ...   \n",
       "146           0.00009   0.00863   0.00946     0.02589       0.08143  ...   \n",
       "151           0.00016   0.01800   0.01958     0.05401       0.11908  ...   \n",
       "152           0.00014   0.01568   0.01699     0.04705       0.08684  ...   \n",
       "\n",
       "     Shimmer:DDA      NHR     HNR  status      RPDE       DFA   spread1  \\\n",
       "17       0.04322  0.02919  20.376       1  0.631099  0.605417 -2.931070   \n",
       "102      0.16654  0.25930  10.489       1  0.596362  0.641418 -3.269487   \n",
       "146      0.11411  0.07530  12.359       1  0.561610  0.793509 -3.297668   \n",
       "151      0.16942  0.21713   8.441       1  0.625866  0.768320 -2.434031   \n",
       "152      0.12851  0.16265   9.449       1  0.584164  0.754449 -2.839756   \n",
       "\n",
       "      spread2        D2       PPE  \n",
       "17   0.434326  3.007463  0.430788  \n",
       "102  0.270641  2.690917  0.444774  \n",
       "146  0.414758  3.413649  0.457533  \n",
       "151  0.450493  3.079221  0.527367  \n",
       "152  0.356224  3.184027  0.454721  \n",
       "\n",
       "[5 rows x 24 columns]"
      ]
     },
     "execution_count": 168,
     "metadata": {},
     "output_type": "execute_result"
    }
   ],
   "source": [
    "#drawing out the dataset of ppe which are outliers\n",
    "park_data.loc[park_data['PPE'] > pp_upper_inner_fence]"
   ]
  },
  {
   "cell_type": "markdown",
   "id": "394eb79b",
   "metadata": {},
   "source": [
    "It is observed that the median 0.194052 which makes 50% or less of the distribution have a low frequency and 2.56% outliers.\n",
    "we can see the status of the outliers are positive. Three of the recordings were from a single patient"
   ]
  },
  {
   "cell_type": "markdown",
   "id": "fc9d656f",
   "metadata": {},
   "source": [
    "#### DFA"
   ]
  },
  {
   "cell_type": "code",
   "execution_count": 169,
   "id": "4c8c508c",
   "metadata": {},
   "outputs": [
    {
     "data": {
      "text/plain": [
       "count    195.000000\n",
       "mean       0.718099\n",
       "std        0.055336\n",
       "min        0.574282\n",
       "25%        0.674758\n",
       "50%        0.722254\n",
       "75%        0.761881\n",
       "max        0.825288\n",
       "Name: DFA, dtype: float64"
      ]
     },
     "execution_count": 169,
     "metadata": {},
     "output_type": "execute_result"
    }
   ],
   "source": [
    "#accessing the stats info of signal fractal scaling exponent\n",
    "park_data['DFA'].describe()"
   ]
  },
  {
   "cell_type": "code",
   "execution_count": 170,
   "id": "13f8a1b8",
   "metadata": {},
   "outputs": [
    {
     "data": {
      "image/png": "[encoded data removed]",
      "text/plain": [
       "<Figure size 432x288 with 1 Axes>"
      ]
     },
     "metadata": {
      "needs_background": "light"
     },
     "output_type": "display_data"
    }
   ],
   "source": [
    "#plotting the histogram for DFA\n",
    "plt.hist(park_data['DFA'])\n",
    "plt.show()"
   ]
  },
  {
   "cell_type": "code",
   "execution_count": 171,
   "id": "757d93ce",
   "metadata": {
    "scrolled": true
   },
   "outputs": [
    {
     "data": {
      "text/plain": [
       "{'whiskers': [<matplotlib.lines.Line2D at 0xb36d52a8e0>,\n",
       "  <matplotlib.lines.Line2D at 0xb36d52aa60>],\n",
       " 'caps': [<matplotlib.lines.Line2D at 0xb36d525ca0>,\n",
       "  <matplotlib.lines.Line2D at 0xb36d525130>],\n",
       " 'boxes': [<matplotlib.lines.Line2D at 0xb36d52acd0>],\n",
       " 'medians': [<matplotlib.lines.Line2D at 0xb36d5254f0>],\n",
       " 'fliers': [<matplotlib.lines.Line2D at 0xb36d525d90>],\n",
       " 'means': []}"
      ]
     },
     "execution_count": 171,
     "metadata": {},
     "output_type": "execute_result"
    },
    {
     "data": {
      "image/png": "[encoded data removed]",
      "text/plain": [
       "<Figure size 432x288 with 1 Axes>"
      ]
     },
     "metadata": {
      "needs_background": "light"
     },
     "output_type": "display_data"
    }
   ],
   "source": [
    "#plotting a boxplot for DFA\n",
    "plt.boxplot(park_data['DFA'])"
   ]
  },
  {
   "cell_type": "markdown",
   "id": "2112f7a4",
   "metadata": {},
   "source": [
    "From both histogram and boxplot, we can observe a left skewed distribution. we will use the boxplot distribution to draw out further analysis"
   ]
  },
  {
   "cell_type": "code",
   "execution_count": 172,
   "id": "03cbc216",
   "metadata": {
    "scrolled": true
   },
   "outputs": [
    {
     "name": "stdout",
     "output_type": "stream",
     "text": [
      "0.5440734999999999\n",
      "0.8925655000000001\n"
     ]
    }
   ],
   "source": [
    "#useful parameters\n",
    "DFA_mean = 0.718099\n",
    "DFA_first_quartile = 0.674758\n",
    "DFA_second_quartile = 0.722254\n",
    "DFA_third_quartile = 0.761881\n",
    "DFA_IQR = DFA_third_quartile - DFA_first_quartile\n",
    "DFA_lower_inner_fence = DFA_first_quartile - (1.5 * DFA_IQR)\n",
    "DFA_upper_inner_fence = DFA_third_quartile + (1.5 * DFA_IQR)\n",
    "print(DFA_lower_inner_fence)\n",
    "print(DFA_upper_inner_fence)"
   ]
  },
  {
   "cell_type": "code",
   "execution_count": 173,
   "id": "11ceeb3d",
   "metadata": {},
   "outputs": [
    {
     "data": {
      "text/plain": [
       "89"
      ]
     },
     "execution_count": 173,
     "metadata": {},
     "output_type": "execute_result"
    }
   ],
   "source": [
    "#accessing the number of DFA below the mean\n",
    "len(park_data.loc[park_data['DFA'] < DFA_mean])"
   ]
  },
  {
   "cell_type": "code",
   "execution_count": 174,
   "id": "9ee2f044",
   "metadata": {},
   "outputs": [
    {
     "data": {
      "text/plain": [
       "97"
      ]
     },
     "execution_count": 174,
     "metadata": {},
     "output_type": "execute_result"
    }
   ],
   "source": [
    "#accessing the number of DFA below the median\n",
    "len(park_data.loc[park_data['DFA'] < DFA_second_quartile])"
   ]
  },
  {
   "cell_type": "code",
   "execution_count": 175,
   "id": "3347d328",
   "metadata": {
    "scrolled": true
   },
   "outputs": [
    {
     "data": {
      "text/plain": [
       "0"
      ]
     },
     "execution_count": 175,
     "metadata": {},
     "output_type": "execute_result"
    }
   ],
   "source": [
    "#accessing the number of DFA which are outliers\n",
    "len(park_data.loc[park_data['DFA'] > DFA_upper_inner_fence])"
   ]
  },
  {
   "cell_type": "markdown",
   "id": "e44b38bb",
   "metadata": {},
   "source": [
    "From the distribution ,majority of data was recorded at 50% or less. 89 recordings thus 45.64% are below the mean. also, 97 of recordiongs makes 49.74% of the distribution"
   ]
  },
  {
   "cell_type": "markdown",
   "id": "d0f395fa",
   "metadata": {},
   "source": [
    "#### spread1"
   ]
  },
  {
   "cell_type": "code",
   "execution_count": 176,
   "id": "0f89bf63",
   "metadata": {},
   "outputs": [
    {
     "data": {
      "text/plain": [
       "count    195.000000\n",
       "mean      -5.684397\n",
       "std        1.090208\n",
       "min       -7.964984\n",
       "25%       -6.450096\n",
       "50%       -5.720868\n",
       "75%       -5.046192\n",
       "max       -2.434031\n",
       "Name: spread1, dtype: float64"
      ]
     },
     "execution_count": 176,
     "metadata": {},
     "output_type": "execute_result"
    }
   ],
   "source": [
    "park_data['spread1'].describe() "
   ]
  },
  {
   "cell_type": "code",
   "execution_count": 177,
   "id": "677c9308",
   "metadata": {},
   "outputs": [
    {
     "data": {
      "image/png": "[encoded data removed]",
      "text/plain": [
       "<Figure size 432x288 with 1 Axes>"
      ]
     },
     "metadata": {
      "needs_background": "light"
     },
     "output_type": "display_data"
    }
   ],
   "source": [
    "plt.hist(park_data['spread1'])\n",
    "plt.show()"
   ]
  },
  {
   "cell_type": "code",
   "execution_count": 178,
   "id": "95ea1abe",
   "metadata": {
    "scrolled": true
   },
   "outputs": [
    {
     "data": {
      "text/plain": [
       "{'whiskers': [<matplotlib.lines.Line2D at 0xb36c19fbb0>,\n",
       "  <matplotlib.lines.Line2D at 0xb36c19f8b0>],\n",
       " 'caps': [<matplotlib.lines.Line2D at 0xb36c236190>,\n",
       "  <matplotlib.lines.Line2D at 0xb36c236d90>],\n",
       " 'boxes': [<matplotlib.lines.Line2D at 0xb36bf5b310>],\n",
       " 'medians': [<matplotlib.lines.Line2D at 0xb36c2360d0>],\n",
       " 'fliers': [<matplotlib.lines.Line2D at 0xb36be320d0>],\n",
       " 'means': []}"
      ]
     },
     "execution_count": 178,
     "metadata": {},
     "output_type": "execute_result"
    },
    {
     "data": {
      "image/png": "[encoded data removed]",
      "text/plain": [
       "<Figure size 432x288 with 1 Axes>"
      ]
     },
     "metadata": {
      "needs_background": "light"
     },
     "output_type": "display_data"
    }
   ],
   "source": [
    "plt.boxplot(park_data['spread1'])"
   ]
  },
  {
   "cell_type": "markdown",
   "id": "6e39b64b",
   "metadata": {},
   "source": [
    "From the histogram and boxplot we can observe the distribution approaches a normal. We will analyze that. we also can see some outliers"
   ]
  },
  {
   "cell_type": "code",
   "execution_count": 179,
   "id": "22a4dc64",
   "metadata": {},
   "outputs": [
    {
     "name": "stdout",
     "output_type": "stream",
     "text": [
      "-8.555952000000001\n",
      "-2.9403359999999985\n"
     ]
    }
   ],
   "source": [
    "#parameters\n",
    "ff_first_quartile = -6.450096\n",
    "ff_second_quartile = -5.720868\n",
    "ff_third_quartile = -5.046192\n",
    "ff_mean = -5.684397\n",
    "ff_IQR = ff_third_quartile - ff_first_quartile\n",
    "ff_lower_inner_fence = ff_first_quartile -(1.5 * ff_IQR) #lower outlier range\n",
    "ff_upper_inner_fence = ff_third_quartile + (1.5 *ff_IQR)  #upper outlier range\n",
    "print(ff_lower_inner_fence)\n",
    "print(ff_upper_inner_fence)"
   ]
  },
  {
   "cell_type": "code",
   "execution_count": 180,
   "id": "c1c5ab7d",
   "metadata": {},
   "outputs": [
    {
     "data": {
      "text/plain": [
       "100"
      ]
     },
     "execution_count": 180,
     "metadata": {},
     "output_type": "execute_result"
    }
   ],
   "source": [
    "#Accessing the number of fundamental frequency below the mean\n",
    "len(park_data.loc[park_data['spread1'] < ff_mean])"
   ]
  },
  {
   "cell_type": "code",
   "execution_count": 181,
   "id": "152ba2fb",
   "metadata": {},
   "outputs": [
    {
     "data": {
      "text/plain": [
       "97"
      ]
     },
     "execution_count": 181,
     "metadata": {},
     "output_type": "execute_result"
    }
   ],
   "source": [
    "#Accessing the number of fundamental frequency below the median\n",
    "len(park_data.loc[park_data['spread1'] < ff_second_quartile])"
   ]
  },
  {
   "cell_type": "code",
   "execution_count": 182,
   "id": "c4bf31cc",
   "metadata": {},
   "outputs": [
    {
     "data": {
      "text/plain": [
       "4"
      ]
     },
     "execution_count": 182,
     "metadata": {},
     "output_type": "execute_result"
    }
   ],
   "source": [
    "#Accessing the number of fundamental frequency which are outliers\n",
    "len(park_data.loc[park_data['spread1'] > ff_upper_inner_fence])"
   ]
  },
  {
   "cell_type": "code",
   "execution_count": 183,
   "id": "d6c39d59",
   "metadata": {
    "scrolled": true
   },
   "outputs": [
    {
     "data": {
      "text/html": [
       "<div>\n",
       "<style scoped>\n",
       "    .dataframe tbody tr th:only-of-type {\n",
       "        vertical-align: middle;\n",
       "    }\n",
       "\n",
       "    .dataframe tbody tr th {\n",
       "        vertical-align: top;\n",
       "    }\n",
       "\n",
       "    .dataframe thead th {\n",
       "        text-align: right;\n",
       "    }\n",
       "</style>\n",
       "<table border=\"1\" class=\"dataframe\">\n",
       "  <thead>\n",
       "    <tr style=\"text-align: right;\">\n",
       "      <th></th>\n",
       "      <th>name</th>\n",
       "      <th>MDVP:Fo(Hz)</th>\n",
       "      <th>MDVP:Fhi(Hz)</th>\n",
       "      <th>MDVP:Flo(Hz)</th>\n",
       "      <th>MDVP:Jitter(%)</th>\n",
       "      <th>MDVP:Jitter(Abs)</th>\n",
       "      <th>MDVP:RAP</th>\n",
       "      <th>MDVP:PPQ</th>\n",
       "      <th>Jitter:DDP</th>\n",
       "      <th>MDVP:Shimmer</th>\n",
       "      <th>...</th>\n",
       "      <th>Shimmer:DDA</th>\n",
       "      <th>NHR</th>\n",
       "      <th>HNR</th>\n",
       "      <th>status</th>\n",
       "      <th>RPDE</th>\n",
       "      <th>DFA</th>\n",
       "      <th>spread1</th>\n",
       "      <th>spread2</th>\n",
       "      <th>D2</th>\n",
       "      <th>PPE</th>\n",
       "    </tr>\n",
       "  </thead>\n",
       "  <tbody>\n",
       "    <tr>\n",
       "      <th>17</th>\n",
       "      <td>phon_R01_S04_6</td>\n",
       "      <td>168.778</td>\n",
       "      <td>232.181</td>\n",
       "      <td>75.603</td>\n",
       "      <td>0.00718</td>\n",
       "      <td>0.00004</td>\n",
       "      <td>0.00284</td>\n",
       "      <td>0.00387</td>\n",
       "      <td>0.00853</td>\n",
       "      <td>0.03327</td>\n",
       "      <td>...</td>\n",
       "      <td>0.04322</td>\n",
       "      <td>0.02919</td>\n",
       "      <td>20.376</td>\n",
       "      <td>1</td>\n",
       "      <td>0.631099</td>\n",
       "      <td>0.605417</td>\n",
       "      <td>-2.931070</td>\n",
       "      <td>0.434326</td>\n",
       "      <td>3.007463</td>\n",
       "      <td>0.430788</td>\n",
       "    </tr>\n",
       "    <tr>\n",
       "      <th>151</th>\n",
       "      <td>phon_R01_S35_6</td>\n",
       "      <td>192.818</td>\n",
       "      <td>224.429</td>\n",
       "      <td>168.793</td>\n",
       "      <td>0.03107</td>\n",
       "      <td>0.00016</td>\n",
       "      <td>0.01800</td>\n",
       "      <td>0.01958</td>\n",
       "      <td>0.05401</td>\n",
       "      <td>0.11908</td>\n",
       "      <td>...</td>\n",
       "      <td>0.16942</td>\n",
       "      <td>0.21713</td>\n",
       "      <td>8.441</td>\n",
       "      <td>1</td>\n",
       "      <td>0.625866</td>\n",
       "      <td>0.768320</td>\n",
       "      <td>-2.434031</td>\n",
       "      <td>0.450493</td>\n",
       "      <td>3.079221</td>\n",
       "      <td>0.527367</td>\n",
       "    </tr>\n",
       "    <tr>\n",
       "      <th>152</th>\n",
       "      <td>phon_R01_S35_7</td>\n",
       "      <td>198.116</td>\n",
       "      <td>233.099</td>\n",
       "      <td>174.478</td>\n",
       "      <td>0.02714</td>\n",
       "      <td>0.00014</td>\n",
       "      <td>0.01568</td>\n",
       "      <td>0.01699</td>\n",
       "      <td>0.04705</td>\n",
       "      <td>0.08684</td>\n",
       "      <td>...</td>\n",
       "      <td>0.12851</td>\n",
       "      <td>0.16265</td>\n",
       "      <td>9.449</td>\n",
       "      <td>1</td>\n",
       "      <td>0.584164</td>\n",
       "      <td>0.754449</td>\n",
       "      <td>-2.839756</td>\n",
       "      <td>0.356224</td>\n",
       "      <td>3.184027</td>\n",
       "      <td>0.454721</td>\n",
       "    </tr>\n",
       "    <tr>\n",
       "      <th>164</th>\n",
       "      <td>phon_R01_S39_6</td>\n",
       "      <td>102.273</td>\n",
       "      <td>142.830</td>\n",
       "      <td>85.902</td>\n",
       "      <td>0.00907</td>\n",
       "      <td>0.00009</td>\n",
       "      <td>0.00493</td>\n",
       "      <td>0.00461</td>\n",
       "      <td>0.01480</td>\n",
       "      <td>0.02814</td>\n",
       "      <td>...</td>\n",
       "      <td>0.04736</td>\n",
       "      <td>0.03882</td>\n",
       "      <td>18.447</td>\n",
       "      <td>1</td>\n",
       "      <td>0.671378</td>\n",
       "      <td>0.674562</td>\n",
       "      <td>-2.929379</td>\n",
       "      <td>0.396746</td>\n",
       "      <td>2.560422</td>\n",
       "      <td>0.367233</td>\n",
       "    </tr>\n",
       "  </tbody>\n",
       "</table>\n",
       "<p>4 rows × 24 columns</p>\n",
       "</div>"
      ],
      "text/plain": [
       "               name  MDVP:Fo(Hz)  MDVP:Fhi(Hz)  MDVP:Flo(Hz)  MDVP:Jitter(%)  \\\n",
       "17   phon_R01_S04_6      168.778       232.181        75.603         0.00718   \n",
       "151  phon_R01_S35_6      192.818       224.429       168.793         0.03107   \n",
       "152  phon_R01_S35_7      198.116       233.099       174.478         0.02714   \n",
       "164  phon_R01_S39_6      102.273       142.830        85.902         0.00907   \n",
       "\n",
       "     MDVP:Jitter(Abs)  MDVP:RAP  MDVP:PPQ  Jitter:DDP  MDVP:Shimmer  ...  \\\n",
       "17            0.00004   0.00284   0.00387     0.00853       0.03327  ...   \n",
       "151           0.00016   0.01800   0.01958     0.05401       0.11908  ...   \n",
       "152           0.00014   0.01568   0.01699     0.04705       0.08684  ...   \n",
       "164           0.00009   0.00493   0.00461     0.01480       0.02814  ...   \n",
       "\n",
       "     Shimmer:DDA      NHR     HNR  status      RPDE       DFA   spread1  \\\n",
       "17       0.04322  0.02919  20.376       1  0.631099  0.605417 -2.931070   \n",
       "151      0.16942  0.21713   8.441       1  0.625866  0.768320 -2.434031   \n",
       "152      0.12851  0.16265   9.449       1  0.584164  0.754449 -2.839756   \n",
       "164      0.04736  0.03882  18.447       1  0.671378  0.674562 -2.929379   \n",
       "\n",
       "      spread2        D2       PPE  \n",
       "17   0.434326  3.007463  0.430788  \n",
       "151  0.450493  3.079221  0.527367  \n",
       "152  0.356224  3.184027  0.454721  \n",
       "164  0.396746  2.560422  0.367233  \n",
       "\n",
       "[4 rows x 24 columns]"
      ]
     },
     "execution_count": 183,
     "metadata": {},
     "output_type": "execute_result"
    }
   ],
   "source": [
    "#Accessing the dataset which are outliers\n",
    "park_data.loc[park_data['spread1'] > ff_upper_inner_fence]"
   ]
  },
  {
   "cell_type": "markdown",
   "id": "162f0231",
   "metadata": {},
   "source": [
    "We see the status of the outliers are positive with 2 recordings from from patient. We can also observe 100 recordings make a 51.28% of fundamental frequency. and they appraoch an even distribution. and a 2.05% of the data that went beyond the frequency were tested positive. \n",
    "\n",
    "All coloumns have a percentage of 49.74 of data below their median.\n",
    "We will then find out the factors and conditions for testing positive further, from the observations we have highlighted "
   ]
  },
  {
   "cell_type": "markdown",
   "id": "00edb1f1",
   "metadata": {},
   "source": [
    "#### spread2"
   ]
  },
  {
   "cell_type": "code",
   "execution_count": 184,
   "id": "c1718b7e",
   "metadata": {
    "scrolled": true
   },
   "outputs": [
    {
     "data": {
      "text/plain": [
       "count    195.000000\n",
       "mean       0.226510\n",
       "std        0.083406\n",
       "min        0.006274\n",
       "25%        0.174351\n",
       "50%        0.218885\n",
       "75%        0.279234\n",
       "max        0.450493\n",
       "Name: spread2, dtype: float64"
      ]
     },
     "execution_count": 184,
     "metadata": {},
     "output_type": "execute_result"
    }
   ],
   "source": [
    "#accessing statistical data\n",
    "park_data['spread2'].describe()"
   ]
  },
  {
   "cell_type": "code",
   "execution_count": 185,
   "id": "6a55a79a",
   "metadata": {
    "scrolled": true
   },
   "outputs": [
    {
     "data": {
      "image/png": "[encoded data removed]",
      "text/plain": [
       "<Figure size 432x288 with 1 Axes>"
      ]
     },
     "metadata": {
      "needs_background": "light"
     },
     "output_type": "display_data"
    }
   ],
   "source": [
    "#plotting histogram\n",
    "plt.hist(park_data['spread2'])\n",
    "plt.show()"
   ]
  },
  {
   "cell_type": "code",
   "execution_count": 186,
   "id": "29401cdf",
   "metadata": {},
   "outputs": [
    {
     "data": {
      "text/plain": [
       "{'whiskers': [<matplotlib.lines.Line2D at 0xb36d4f11f0>,\n",
       "  <matplotlib.lines.Line2D at 0xb36d4f1580>],\n",
       " 'caps': [<matplotlib.lines.Line2D at 0xb36d4f1910>,\n",
       "  <matplotlib.lines.Line2D at 0xb36d4f1ca0>],\n",
       " 'boxes': [<matplotlib.lines.Line2D at 0xb36d4fae20>],\n",
       " 'medians': [<matplotlib.lines.Line2D at 0xb36d4d1070>],\n",
       " 'fliers': [<matplotlib.lines.Line2D at 0xb36d4d1400>],\n",
       " 'means': []}"
      ]
     },
     "execution_count": 186,
     "metadata": {},
     "output_type": "execute_result"
    },
    {
     "data": {
      "image/png": "[encoded data removed]",
      "text/plain": [
       "<Figure size 432x288 with 1 Axes>"
      ]
     },
     "metadata": {
      "needs_background": "light"
     },
     "output_type": "display_data"
    }
   ],
   "source": [
    "#plotting boxplot\n",
    "plt.boxplot(park_data['spread2'])"
   ]
  },
  {
   "cell_type": "markdown",
   "id": "79a6b420",
   "metadata": {},
   "source": [
    "From the the histogram and boxplot, we can observe a normal distribution. we can also observe outliers on both ends of the boxplot"
   ]
  },
  {
   "cell_type": "code",
   "execution_count": 187,
   "id": "d5b19044",
   "metadata": {
    "scrolled": true
   },
   "outputs": [
    {
     "name": "stdout",
     "output_type": "stream",
     "text": [
      "0.43655849999999996\n",
      "0.017026500000000028\n"
     ]
    }
   ],
   "source": [
    "#useful parameters\n",
    "sp2_first_quartile = 0.174351\n",
    "sp2_second_quartile = 0.218885\n",
    "sp2_third_quartile = 0.279234\n",
    "sp2_mean = 0.226510\n",
    "sp2_IQR = sp2_third_quartile -sp2_first_quartile\n",
    "sp2_upper_inner_fence = sp2_third_quartile + (1.5 * sp2_IQR) #upper outlier range\n",
    "sp2_lower_inner_fence = sp2_first_quartile - (1.5 * sp2_IQR) #lower outlier range\n",
    "print(sp2_upper_inner_fence)\n",
    "print(sp2_lower_inner_fence)"
   ]
  },
  {
   "cell_type": "code",
   "execution_count": 188,
   "id": "1fb41d56",
   "metadata": {
    "scrolled": true
   },
   "outputs": [
    {
     "data": {
      "text/plain": [
       "105"
      ]
     },
     "execution_count": 188,
     "metadata": {},
     "output_type": "execute_result"
    }
   ],
   "source": [
    "#accessing the number of frequnecy variation below the mean\n",
    "len(park_data.loc[park_data['spread2'] < sp2_mean])"
   ]
  },
  {
   "cell_type": "code",
   "execution_count": 189,
   "id": "1ee2f504",
   "metadata": {
    "scrolled": true
   },
   "outputs": [
    {
     "data": {
      "text/plain": [
       "97"
      ]
     },
     "execution_count": 189,
     "metadata": {},
     "output_type": "execute_result"
    }
   ],
   "source": [
    "#accessing the number of frequency variation below the median\n",
    "len(park_data.loc[park_data['spread2'] < sp2_second_quartile])"
   ]
  },
  {
   "cell_type": "code",
   "execution_count": 190,
   "id": "94180d5c",
   "metadata": {
    "scrolled": true
   },
   "outputs": [
    {
     "data": {
      "text/plain": [
       "1"
      ]
     },
     "execution_count": 190,
     "metadata": {},
     "output_type": "execute_result"
    }
   ],
   "source": [
    "#Accessing the number of frequency variation which are upper outliers\n",
    "len(park_data.loc[park_data['spread2'] > sp2_upper_inner_fence])"
   ]
  },
  {
   "cell_type": "code",
   "execution_count": 191,
   "id": "a9b4ddbe",
   "metadata": {
    "scrolled": true
   },
   "outputs": [
    {
     "data": {
      "text/html": [
       "<div>\n",
       "<style scoped>\n",
       "    .dataframe tbody tr th:only-of-type {\n",
       "        vertical-align: middle;\n",
       "    }\n",
       "\n",
       "    .dataframe tbody tr th {\n",
       "        vertical-align: top;\n",
       "    }\n",
       "\n",
       "    .dataframe thead th {\n",
       "        text-align: right;\n",
       "    }\n",
       "</style>\n",
       "<table border=\"1\" class=\"dataframe\">\n",
       "  <thead>\n",
       "    <tr style=\"text-align: right;\">\n",
       "      <th></th>\n",
       "      <th>name</th>\n",
       "      <th>MDVP:Fo(Hz)</th>\n",
       "      <th>MDVP:Fhi(Hz)</th>\n",
       "      <th>MDVP:Flo(Hz)</th>\n",
       "      <th>MDVP:Jitter(%)</th>\n",
       "      <th>MDVP:Jitter(Abs)</th>\n",
       "      <th>MDVP:RAP</th>\n",
       "      <th>MDVP:PPQ</th>\n",
       "      <th>Jitter:DDP</th>\n",
       "      <th>MDVP:Shimmer</th>\n",
       "      <th>...</th>\n",
       "      <th>Shimmer:DDA</th>\n",
       "      <th>NHR</th>\n",
       "      <th>HNR</th>\n",
       "      <th>status</th>\n",
       "      <th>RPDE</th>\n",
       "      <th>DFA</th>\n",
       "      <th>spread1</th>\n",
       "      <th>spread2</th>\n",
       "      <th>D2</th>\n",
       "      <th>PPE</th>\n",
       "    </tr>\n",
       "  </thead>\n",
       "  <tbody>\n",
       "    <tr>\n",
       "      <th>151</th>\n",
       "      <td>phon_R01_S35_6</td>\n",
       "      <td>192.818</td>\n",
       "      <td>224.429</td>\n",
       "      <td>168.793</td>\n",
       "      <td>0.03107</td>\n",
       "      <td>0.00016</td>\n",
       "      <td>0.018</td>\n",
       "      <td>0.01958</td>\n",
       "      <td>0.05401</td>\n",
       "      <td>0.11908</td>\n",
       "      <td>...</td>\n",
       "      <td>0.16942</td>\n",
       "      <td>0.21713</td>\n",
       "      <td>8.441</td>\n",
       "      <td>1</td>\n",
       "      <td>0.625866</td>\n",
       "      <td>0.76832</td>\n",
       "      <td>-2.434031</td>\n",
       "      <td>0.450493</td>\n",
       "      <td>3.079221</td>\n",
       "      <td>0.527367</td>\n",
       "    </tr>\n",
       "  </tbody>\n",
       "</table>\n",
       "<p>1 rows × 24 columns</p>\n",
       "</div>"
      ],
      "text/plain": [
       "               name  MDVP:Fo(Hz)  MDVP:Fhi(Hz)  MDVP:Flo(Hz)  MDVP:Jitter(%)  \\\n",
       "151  phon_R01_S35_6      192.818       224.429       168.793         0.03107   \n",
       "\n",
       "     MDVP:Jitter(Abs)  MDVP:RAP  MDVP:PPQ  Jitter:DDP  MDVP:Shimmer  ...  \\\n",
       "151           0.00016     0.018   0.01958     0.05401       0.11908  ...   \n",
       "\n",
       "     Shimmer:DDA      NHR    HNR  status      RPDE      DFA   spread1  \\\n",
       "151      0.16942  0.21713  8.441       1  0.625866  0.76832 -2.434031   \n",
       "\n",
       "      spread2        D2       PPE  \n",
       "151  0.450493  3.079221  0.527367  \n",
       "\n",
       "[1 rows x 24 columns]"
      ]
     },
     "execution_count": 191,
     "metadata": {},
     "output_type": "execute_result"
    }
   ],
   "source": [
    "#accessing the dataframe with a upper outlier\n",
    "park_data.loc[park_data['spread2'] > sp2_upper_inner_fence]"
   ]
  },
  {
   "cell_type": "code",
   "execution_count": 192,
   "id": "676e1624",
   "metadata": {
    "scrolled": true
   },
   "outputs": [
    {
     "data": {
      "text/plain": [
       "1"
      ]
     },
     "execution_count": 192,
     "metadata": {},
     "output_type": "execute_result"
    }
   ],
   "source": [
    "#Accessing the number of frequency variation with a lower outlier\n",
    "len(park_data.loc[park_data['spread2'] < sp2_lower_inner_fence])"
   ]
  },
  {
   "cell_type": "code",
   "execution_count": 193,
   "id": "f1b40843",
   "metadata": {
    "scrolled": true
   },
   "outputs": [
    {
     "data": {
      "text/html": [
       "<div>\n",
       "<style scoped>\n",
       "    .dataframe tbody tr th:only-of-type {\n",
       "        vertical-align: middle;\n",
       "    }\n",
       "\n",
       "    .dataframe tbody tr th {\n",
       "        vertical-align: top;\n",
       "    }\n",
       "\n",
       "    .dataframe thead th {\n",
       "        text-align: right;\n",
       "    }\n",
       "</style>\n",
       "<table border=\"1\" class=\"dataframe\">\n",
       "  <thead>\n",
       "    <tr style=\"text-align: right;\">\n",
       "      <th></th>\n",
       "      <th>name</th>\n",
       "      <th>MDVP:Fo(Hz)</th>\n",
       "      <th>MDVP:Fhi(Hz)</th>\n",
       "      <th>MDVP:Flo(Hz)</th>\n",
       "      <th>MDVP:Jitter(%)</th>\n",
       "      <th>MDVP:Jitter(Abs)</th>\n",
       "      <th>MDVP:RAP</th>\n",
       "      <th>MDVP:PPQ</th>\n",
       "      <th>Jitter:DDP</th>\n",
       "      <th>MDVP:Shimmer</th>\n",
       "      <th>...</th>\n",
       "      <th>Shimmer:DDA</th>\n",
       "      <th>NHR</th>\n",
       "      <th>HNR</th>\n",
       "      <th>status</th>\n",
       "      <th>RPDE</th>\n",
       "      <th>DFA</th>\n",
       "      <th>spread1</th>\n",
       "      <th>spread2</th>\n",
       "      <th>D2</th>\n",
       "      <th>PPE</th>\n",
       "    </tr>\n",
       "  </thead>\n",
       "  <tbody>\n",
       "    <tr>\n",
       "      <th>65</th>\n",
       "      <td>phon_R01_S17_6</td>\n",
       "      <td>228.969</td>\n",
       "      <td>239.541</td>\n",
       "      <td>113.201</td>\n",
       "      <td>0.00238</td>\n",
       "      <td>0.00001</td>\n",
       "      <td>0.00136</td>\n",
       "      <td>0.0014</td>\n",
       "      <td>0.00408</td>\n",
       "      <td>0.01745</td>\n",
       "      <td>...</td>\n",
       "      <td>0.02827</td>\n",
       "      <td>0.0042</td>\n",
       "      <td>24.547</td>\n",
       "      <td>0</td>\n",
       "      <td>0.305429</td>\n",
       "      <td>0.681811</td>\n",
       "      <td>-7.314237</td>\n",
       "      <td>0.006274</td>\n",
       "      <td>2.118596</td>\n",
       "      <td>0.091546</td>\n",
       "    </tr>\n",
       "  </tbody>\n",
       "</table>\n",
       "<p>1 rows × 24 columns</p>\n",
       "</div>"
      ],
      "text/plain": [
       "              name  MDVP:Fo(Hz)  MDVP:Fhi(Hz)  MDVP:Flo(Hz)  MDVP:Jitter(%)  \\\n",
       "65  phon_R01_S17_6      228.969       239.541       113.201         0.00238   \n",
       "\n",
       "    MDVP:Jitter(Abs)  MDVP:RAP  MDVP:PPQ  Jitter:DDP  MDVP:Shimmer  ...  \\\n",
       "65           0.00001   0.00136    0.0014     0.00408       0.01745  ...   \n",
       "\n",
       "    Shimmer:DDA     NHR     HNR  status      RPDE       DFA   spread1  \\\n",
       "65      0.02827  0.0042  24.547       0  0.305429  0.681811 -7.314237   \n",
       "\n",
       "     spread2        D2       PPE  \n",
       "65  0.006274  2.118596  0.091546  \n",
       "\n",
       "[1 rows x 24 columns]"
      ]
     },
     "execution_count": 193,
     "metadata": {},
     "output_type": "execute_result"
    }
   ],
   "source": [
    "#accessing the dataframe with the lower outlier\n",
    "park_data.loc[park_data['spread2'] < sp2_lower_inner_fence]"
   ]
  },
  {
   "cell_type": "markdown",
   "id": "453a9497",
   "metadata": {},
   "source": [
    "From the distribution, We see the status of the lower outliers are positive with 2 recordings from from patient. We can also observe 100 recordings make a 51.28% of fundamental frequency. and they appraoch an even distribution. and a 2.05% of the data that went beyond the frequency were tested positive."
   ]
  },
  {
   "cell_type": "markdown",
   "id": "7e4dd5bd",
   "metadata": {},
   "source": [
    "### MULTIVARIATE ANALYSIS"
   ]
  },
  {
   "cell_type": "markdown",
   "id": "5be50743",
   "metadata": {},
   "source": [
    " Analyzing the Relationship between the maximum & minimum vocal frequency"
   ]
  },
  {
   "cell_type": "code",
   "execution_count": 194,
   "id": "ac2ad992",
   "metadata": {},
   "outputs": [
    {
     "data": {
      "image/png": "[encoded data removed]",
      "text/plain": [
       "<Figure size 432x288 with 1 Axes>"
      ]
     },
     "metadata": {
      "needs_background": "light"
     },
     "output_type": "display_data"
    }
   ],
   "source": [
    "plt.scatter([park_data['MDVP:Fhi(Hz)']],[park_data['MDVP:Flo(Hz)']])\n",
    "plt.xlabel('Maximum vocal fundamental frequency')\n",
    "plt.ylabel('Minimum vocal fundamental frequency')\n",
    "plt.title('Relationship between the maximum & minimum vocal frequency')\n",
    "plt.show()"
   ]
  },
  {
   "cell_type": "markdown",
   "id": "aea5674e",
   "metadata": {},
   "source": [
    "We can observe majority of vocal frequency gather within 100 to 290 at the maximum vocal axis and lie betwwen 75 to 125 at the minimum focal axis. Again , the highest point of relationship at y axis which increases as the x axis increases somewhere about 280 at the maximum vocal and 250 at the minimum vocal. oultiers present  go against the the pattern of the distribution\n",
    "The distribution appears to be a weak positive correlation "
   ]
  },
  {
   "cell_type": "markdown",
   "id": "40588f44",
   "metadata": {},
   "source": [
    "#### Relationship between the average & maximum vocal frequency"
   ]
  },
  {
   "cell_type": "code",
   "execution_count": 195,
   "id": "7b731023",
   "metadata": {},
   "outputs": [
    {
     "data": {
      "image/png": "[encoded data removed]",
      "text/plain": [
       "<Figure size 432x288 with 1 Axes>"
      ]
     },
     "metadata": {
      "needs_background": "light"
     },
     "output_type": "display_data"
    }
   ],
   "source": [
    "r = park_data['MDVP:Fo(Hz)']\n",
    "d = park_data['MDVP:Fhi(Hz)']\n",
    "a, b = np.polyfit(r, d, 1)\n",
    "plt.scatter(r, d, c = 'red')\n",
    "plt.plot(r, a *r + b)\n",
    "plt.xlabel('Average vocal fundamental frequency')\n",
    "plt.ylabel('Maximum vocal fundamental frequency')\n",
    "plt.title('Relationship between the average & maximum vocal frequency')\n",
    "plt.show()"
   ]
  },
  {
   "cell_type": "markdown",
   "id": "3ae037c8",
   "metadata": {},
   "source": [
    "The scatterplot shows a strong positive correlation . As the average vocal frequency inscrease, so does the maximum vocal frequency. Between points 50 t0 250 at the maximum frequency  and the average frequnecy increases the distribution is strongly related. points above 250 at the maximum frequency conote abnormal distribution as they are widely spread outside the normal distribution.these are the Outliers"
   ]
  },
  {
   "cell_type": "markdown",
   "id": "bb69d4db",
   "metadata": {},
   "source": [
    "Relationship between the average & minimum vocal frequency"
   ]
  },
  {
   "cell_type": "code",
   "execution_count": 196,
   "id": "ade822c7",
   "metadata": {},
   "outputs": [
    {
     "data": {
      "image/png": "[encoded data removed]",
      "text/plain": [
       "<Figure size 432x288 with 1 Axes>"
      ]
     },
     "metadata": {
      "needs_background": "light"
     },
     "output_type": "display_data"
    }
   ],
   "source": [
    "w = park_data['MDVP:Fo(Hz)']\n",
    "o = park_data['MDVP:Flo(Hz)']\n",
    "a, b = np.polyfit(w, o, 1)\n",
    "plt.scatter(w, o, c = 'green')\n",
    "plt.plot(w, a *w + b)\n",
    "plt.xlabel('Average vocal fundamental frequency')\n",
    "plt.ylabel('Minimum vocal fundamental frequency')\n",
    "plt.title('Relationship between the average & minimum vocal frequency')\n",
    "plt.show()"
   ]
  },
  {
   "cell_type": "markdown",
   "id": "968d621f",
   "metadata": {},
   "source": [
    "The scatterplot shows a strong positive correlation. Again the minimum vocal frequency increases as the average vocal frequancy increases. Below the line of best fit shows a weaker relationship of the distribution.\n",
    "We can then say there is a large number of minimum vocal frequencies that have a strong correlation against the average vocal fundamental frequency as suppose to the relationship of the maximum frequency against the average vocal frequency"
   ]
  },
  {
   "cell_type": "markdown",
   "id": "381fc9ec",
   "metadata": {},
   "source": [
    "### Relationship between the average vocal frequency and the measures of variation of the frequency"
   ]
  },
  {
   "cell_type": "code",
   "execution_count": 198,
   "id": "7806f6da",
   "metadata": {},
   "outputs": [
    {
     "data": {
      "image/png": "[encoded data removed]",
      "text/plain": [
       "<Figure size 576x576 with 1 Axes>"
      ]
     },
     "metadata": {
      "needs_background": "light"
     },
     "output_type": "display_data"
    }
   ],
   "source": [
    "j = park_data['MDVP:Jitter(%)']\n",
    "t = park_data['MDVP:Jitter(Abs)']\n",
    "R = park_data['MDVP:RAP']\n",
    "k = park_data['MDVP:PPQ']\n",
    "M= park_data['Jitter:DDP']\n",
    "w = park_data['MDVP:Fo(Hz)']\n",
    "fig= plt.figure(figsize= (8,8))\n",
    "ax1 = fig.add_subplot(111)\n",
    "ax1.scatter(w,j ,c = 'purple', s = 20,marker = 's', label = 'Jitter(%)')\n",
    "ax1.scatter(w,R,c= 'blue',s=20,marker = 'o', label = 'RAP')\n",
    "ax1.scatter(w,t,c = 'red', s= 20,marker= 'p',label = 'Jitter(Abs)')\n",
    "ax1.scatter(w,k, c= 'y',s =20,marker = 'h',label= 'PPQ')\n",
    "ax1.scatter(w,M, c = 'green', s=20,marker = 'd',label = 'DDP')\n",
    "\n",
    "plt.xlabel('Average vocal fundamental frequency')\n",
    "plt.ylabel('Measures of variation in fundamental frequency')\n",
    "plt.title('Relationship between the average vocal frequency and the measures of variation of the frequency')\n",
    "plt.legend()\n",
    "\n",
    "plt.grid()\n",
    "plt.show()"
   ]
  },
  {
   "cell_type": "markdown",
   "id": "2f21bdb4",
   "metadata": {},
   "source": [
    "From the graph, we can observe values of DDP which are distant from most of the data on top. in this data distribution, points are randomly distributed.therefore, we can say the data points have no correlation or significant small correlation.\n",
    "\n",
    "We also see jitter(abs),variation of the vocal frequency, having the lowest frequency recordings. Again, DDP and jitter(%)  vocal variations have the highest frequency "
   ]
  },
  {
   "cell_type": "markdown",
   "id": "4e587627",
   "metadata": {},
   "source": [
    "#### Relationship between measures of variation in amplitude against ratio of noise to tonal components in the voice"
   ]
  },
  {
   "cell_type": "code",
   "execution_count": 199,
   "id": "20c24aba",
   "metadata": {},
   "outputs": [
    {
     "data": {
      "image/png": "[encoded data removed]",
      "text/plain": [
       "<Figure size 576x576 with 2 Axes>"
      ]
     },
     "metadata": {
      "needs_background": "light"
     },
     "output_type": "display_data"
    }
   ],
   "source": [
    "#MDVP:Shimmer,MDVP:Shimmer(dB),Shimmer:APQ3,Shimmer:APQ5,MDVP:APQ,Shimmer:DDA  - Several measures of variation in amplitude\n",
    "#NHR,HNR - Two measures of ratio of noise to tonal components in the voice\n",
    "sh = park_data['MDVP:Shimmer']\n",
    "dB = park_data['MDVP:Shimmer(dB)']\n",
    "AQ3 = park_data['Shimmer:APQ3']\n",
    "AQ5 = park_data['Shimmer:APQ5']\n",
    "AQ= park_data['MDVP:APQ']\n",
    "DDA = park_data['Shimmer:DDA']\n",
    "nh = park_data['NHR']\n",
    "hn = park_data['HNR']\n",
    "fig= plt.figure(figsize= (8,8))\n",
    "ax1 = fig.add_subplot(121)\n",
    "ax2 = fig.add_subplot(122)\n",
    "ax1.scatter(nh,sh ,c = 'purple', s = 20,marker = 's', label = 'shimmer')\n",
    "ax1.scatter(nh,dB,c= 'blue',s=20,marker = 'o', label = 'dB')\n",
    "ax1.scatter(nh,AQ3,c = 'red', s= 20,marker= 'p',label = 'APQ3')\n",
    "ax1.scatter(nh,AQ5, c= 'y',s =20,marker = 'h',label= 'APQ5')\n",
    "ax1.scatter(nh,AQ, c = 'green', s=20,marker = 'd',label = 'APQ')\n",
    "ax1.scatter(nh,DDA, c = 'cyan',s = 20, marker = 'v', label = 'DDA')\n",
    "\n",
    "ax2.scatter(hn,sh ,c = 'purple', s = 20,marker = 's', label = 'shimmer')\n",
    "ax2.scatter(hn,dB,c= 'blue',s=20,marker = 'o', label = 'dB')\n",
    "ax2.scatter(hn,AQ3,c = 'red', s= 20,marker= 'p',label = 'APQ3')\n",
    "ax2.scatter(hn,AQ5, c= 'y',s =20,marker = 'h',label= 'APQ5')\n",
    "ax2.scatter(hn,AQ, c = 'green', s=20,marker = 'd',label = 'APQ')\n",
    "ax2.scatter(hn,DDA, c = 'cyan',s = 20, marker = 'v', label = 'DDA')\n",
    "ax1.set_xlabel('NHR')\n",
    "ax1.set_ylabel('variation in aptitude')\n",
    "ax2.set_xlabel('HNR')\n",
    "ax2.set_ylabel('variation in aptitude')\n",
    "plt.ylabel('variation in aptitude')\n",
    "plt.title('Relationship between measures of variation in amplitude against ratio of noise to tonal components in the voice')\n",
    "plt.legend()\n",
    "plt.grid()\n",
    "plt.show()\n"
   ]
  },
  {
   "cell_type": "markdown",
   "id": "50d5570e",
   "metadata": {},
   "source": [
    "From both graphs, shimmer(dB) have high aptitudes against the tonal components in the recordings. Again, in the first graph, there is barely a correlation in the distribution unlike the second , which has a weak negative correlation of which is the shimmer(dB). that means, the jitter aptitudes in the recordings have a relationship with the tonal/noise components in the recording "
   ]
  },
  {
   "cell_type": "markdown",
   "id": "5b68ce3b",
   "metadata": {},
   "source": [
    "#### Signal fractal scaling exponent vs nonlinear dynamical complexity measures"
   ]
  },
  {
   "cell_type": "code",
   "execution_count": 200,
   "id": "a680db74",
   "metadata": {},
   "outputs": [
    {
     "data": {
      "image/png": "[encoded data removed]",
      "text/plain": [
       "<Figure size 432x432 with 2 Axes>"
      ]
     },
     "metadata": {
      "needs_background": "light"
     },
     "output_type": "display_data"
    }
   ],
   "source": [
    "fig = plt.figure(figsize = (6,6))\n",
    "ax1 = fig.add_subplot(121)\n",
    "ax2 = fig.add_subplot(122)\n",
    "ax1.scatter(park_data['DFA'], park_data['RPDE'], s = 20, c = 'blue')\n",
    "\n",
    "ax2.scatter(park_data['DFA'], park_data['D2'], s= 20, c = 'purple')\n",
    "ax1.set_xlabel('DFA')\n",
    "ax1.set_ylabel('RPDE')\n",
    "ax2.set_xlabel('DFA')\n",
    "ax2.set_ylabel('D2')\n",
    "plt.title('Signal fractal scaling exponent vs nonlinear dynamical complexity measures')\n",
    "plt.show()"
   ]
  },
  {
   "cell_type": "markdown",
   "id": "0a998790",
   "metadata": {},
   "source": [
    "From the graph, we can observe there is no correlation in the distributions of DFA(signal scaling exponetent) against RPDE(dynamic complexity measure) and D2"
   ]
  },
  {
   "cell_type": "markdown",
   "id": "47458e64",
   "metadata": {},
   "source": [
    "#### Relationship between Nonlinear Recurrence and Fractal Scaling  for Voice Disorder Detection'"
   ]
  },
  {
   "cell_type": "code",
   "execution_count": 201,
   "id": "e6e831e8",
   "metadata": {},
   "outputs": [
    {
     "data": {
      "image/png": "[encoded data removed]",
      "text/plain": [
       "<Figure size 576x576 with 1 Axes>"
      ]
     },
     "metadata": {
      "needs_background": "light"
     },
     "output_type": "display_data"
    }
   ],
   "source": [
    "sp1=park_data['spread1']\n",
    "sp2=park_data['spread2']\n",
    "pe= park_data['PPE']\n",
    "dfa= park_data['DFA']\n",
    "RP= park_data['RPDE']\n",
    "d2= park_data['D2'] \n",
    "\n",
    "fig= plt.figure(figsize= (8,8))\n",
    "ax1 = fig.add_subplot(111)\n",
    "ax1.scatter(dfa,sp1 ,c = 'purple', s = 20,marker = 's', label = 'spread1')\n",
    "ax1.scatter(dfa,sp2,c= 'blue',s=20,marker = 'o', label = 'spread2')\n",
    "ax1.scatter(dfa,pe,c = 'red', s= 20,marker= 'p',label = 'PPE')\n",
    "ax1.scatter(dfa,RP, c = 'green', s=20,marker = '*',label = 'RPDE')\n",
    "ax1.scatter(dfa,d2, c = 'cyan', s=20,marker = 'v',label = 'D2')\n",
    "\n",
    "plt.xlabel('Signal fractal scaling exponent')\n",
    "plt.ylabel('Nonlinear recurrence/variations')\n",
    "plt.title('Relationship between Nonlinear Recurrence and Fractal Scaling for Voice Disorder Detection')\n",
    "plt.legend()\n",
    "\n",
    "plt.grid()\n",
    "plt.show()"
   ]
  },
  {
   "cell_type": "markdown",
   "id": "b9a51cbd",
   "metadata": {},
   "source": [
    "From the graph, the distribution shows the scale signals of the recordings aand at which variation recurring points they appear. We can observe at which points of variations spread1 occur thus between -2 and -8 and D2 between 2 and 4. However,the points where we observe variation acitivity between the signal exponents are between 0 and 1 which exists among RPDE,spread2 and PPE."
   ]
  },
  {
   "cell_type": "code",
   "execution_count": null,
   "id": "1525a4e9",
   "metadata": {},
   "outputs": [],
   "source": [
    " "
   ]
  },
  {
   "cell_type": "markdown",
   "id": "793f54b7",
   "metadata": {},
   "source": [
    "### OBSERVATIONS"
   ]
  },
  {
   "cell_type": "markdown",
   "id": "914dc2df",
   "metadata": {},
   "source": [
    "The data distribution shows a 1 status of 147 ; 6 voice recordings each involving 24 individuals.Instead of the 6 audio from each individual,3 individuals thus(phon_R01_S35,phon_R01_S21,phon_R01_S27) had 7 recordings made.\n",
    "\n",
    "We also obeserved through the distributions that 97 recordings ,which makes 49.74% of the total number of recordings was less than the median.Thus, relatively half of the data fell below the median. Most of the data had a 97 recording at the 50% percentile only Jitters% which had 96 recordings at its 50% percentile. \n",
    "\n",
    "Again,we observe outliers in the data.especially with the measures of variation in fundamental frequency. the recordings that recurred as most outliers are (phon_R01_S35 and phon_R01_S24) and the least outlier being phon_R01_S17.\n",
    "\n",
    "In the relationship between the high and low focal frequency, we observe a weak correlation with them. the maximumfrequency increases as the minimumin increases and vise versa. Again, we observe a strong positive correlation between the average freqency and the maximum and minimum frequency.\n",
    "\n",
    "The data showed a frequency distribution between the average frequency and the measures of variation of the frequency. We see jitter(abs),variation of the vocal frequency, having the lowest frequency recordings. Again, DDP and jitter(%) vocal variations have the highest frequency. There is alot of variation in the frequency between 0.0 to 0.01 as the average fundamental frequency consist of these variation measures. \n",
    "\n",
    "With the relationship between measures of variation in amplitude against ratio of noise to tonal components in the voice(NHR and HNR), we observe shimmer(dB) having high aptitudes against the tonal components in the recordings. We barely see a correlation in shimmer(db) aptitude variation against the NHR as whilst other variations slightly increase as the tonal component increase. Whereas against the HNR, there is weak negative correlation of which is the shimmer(dB). Thus the jitter aptitudes in the recordings have a relationship with the tonal/noise components in the recording.\n",
    "\n",
    "In the case of the relationship between nonlinear recurrence and fractal scaling for voice disorder detection, we observe the points were most variations occured were they were close. The points where we observe variation acitivity between the signal exponents are between 0 and 1 which exists amongst RPDE,spread2 and PPE\n",
    "\n",
    "Finally it has been highlighted the factors that strongly influenced or identifies the status of a patient which are based on the frequency of the voice are maximum vocal frequency(MDVP:Fhi(Hz)),average minimum vocal frequency(MDVP:Fo(Hz)), minimum vocal frequency(MDVP:Fhi(Hz)) , ratio of tonal compoent in the voice(NHR) and the measure of the fundamental frequency(PPE).\n"
   ]
  },
  {
   "cell_type": "markdown",
   "id": "de9f8f09",
   "metadata": {},
   "source": [
    "### Treating outliers "
   ]
  },
  {
   "cell_type": "code",
   "execution_count": 366,
   "id": "4b47b2f0",
   "metadata": {},
   "outputs": [],
   "source": [
    "#Replacing whatever is above the upper limits with the upper limits value and replacing whatever is below the lower limits with the lower limit value\n",
    "NHR_cln = np.where(park_data['NHR'] > NHR_upper_inner_fence,NHR_upper_inner_fence,\n",
    "                             np.where(park_data['NHR'] < NHR_lower_inner_fence, NHR_lower_inner_fence, park_data['NHR']))\n",
    "\n"
   ]
  },
  {
   "cell_type": "code",
   "execution_count": 243,
   "id": "ed2cf725",
   "metadata": {
    "scrolled": true
   },
   "outputs": [
    {
     "data": {
      "image/png": "[encoded data removed]",
      "text/plain": [
       "<Figure size 720x288 with 2 Axes>"
      ]
     },
     "metadata": {
      "needs_background": "light"
     },
     "output_type": "display_data"
    },
    {
     "data": {
      "image/png": "[encoded data removed]",
      "text/plain": [
       "<Figure size 720x288 with 2 Axes>"
      ]
     },
     "metadata": {
      "needs_background": "light"
     },
     "output_type": "display_data"
    }
   ],
   "source": [
    "#Comparing the orginal column against the treated column to check the distribution and verify outier treatment\n",
    "    plt.figure(figsize=(10,4))\n",
    "    #histogram\n",
    "    plt.subplot(1,2,1)\n",
    "    sns.distplot(park_data['NHR'])\n",
    "    plt.title('before')\n",
    "    #boxplot\n",
    "    plt.subplot(1,2,2)\n",
    "    sns.boxplot(park_data['NHR'])\n",
    "    plt.title('before')\n",
    "    plt.show()\n",
    "    \n",
    "  \n",
    "plt.figure(figsize=(10,4))\n",
    "    plt.subplot(1,2,1)\n",
    "    sns.distplot(NHR_cln)\n",
    "    plt.xlabel('NHR_cln')\n",
    "    plt.title('after')\n",
    "    #boxplot\n",
    "    plt.subplot(1,2,2)\n",
    "    sns.boxplot(NHR_cln)\n",
    "    plt.xlabel('NHR_cln')\n",
    "    plt.title('after')\n",
    "    plt.show()"
   ]
  },
  {
   "cell_type": "markdown",
   "id": "f24eb09c",
   "metadata": {},
   "source": [
    "We can observe outliers have been capped in the distribution. It also can be seen no changes to the data distribution has been made after outlier treatment is is vital to the data analysis. We will therefore treat other columns having outliers"
   ]
  },
  {
   "cell_type": "code",
   "execution_count": 368,
   "id": "635751a1",
   "metadata": {},
   "outputs": [],
   "source": [
    "#Making a copy of the original dataset and reassigning the column names to their respective treated columns\n",
    "park_data2 = park_data.copy()"
   ]
  },
  {
   "cell_type": "code",
   "execution_count": 415,
   "id": "5b5bf37c",
   "metadata": {},
   "outputs": [],
   "source": [
    "park_data2['HNR'] = np.where(park_data['HNR'] > HNR_upper_fence,HNR_upper_fence,\n",
    "                             np.where(park_data['HNR'] < HNR_lower_fence, HNR_lower_fence, park_data['HNR']))\n",
    "\n",
    "park_data2['MDVP:Fhi(Hz)'] =np.where(park_data['MDVP:Fhi(Hz)'] > fhi_upper_inner_fence,fhi_upper_inner_fence,\n",
    "                             np.where(park_data['MDVP:Fhi(Hz)'] < fhi_lower_inner_fence, fhi_lower_inner_fence, park_data['MDVP:Fhi(Hz)']))\n",
    "\n",
    "park_data2['MDVP:Flo(Hz)'] =np.where(park_data['MDVP:Flo(Hz)'] > flo_upper_inner_fence,flo_upper_inner_fence,\n",
    "                             np.where(park_data['MDVP:Flo(Hz)'] < flo_lower_inner_fence, flo_lower_inner_fence, park_data['MDVP:Flo(Hz)']))\n",
    "\n",
    "park_data2['D2'] =np.where(park_data['D2'] > d2_upper_inner_fence,d2_upper_inner_fence,\n",
    "                    np.where(park_data['D2'] < d2_lower_inner_fence, d2_lower_inner_fence, park_data['D2']))\n",
    "\n",
    "park_data2['MDVP:APQ'] =np.where(park_data['MDVP:APQ'] > APQ_upper_inner_fence,APQ_upper_inner_fence,\n",
    "                             np.where(park_data['MDVP:APQ'] < APQ_lower_inner_fence, APQ_lower_inner_fence, park_data['MDVP:APQ']))\n",
    "\n",
    "park_data2['Jitter:DDP'] =np.where(park_data['Jitter:DDP'] > DDP_upper_inner_fence,DDP_upper_inner_fence,\n",
    "                             np.where(park_data['Jitter:DDP'] < DDP_lower_inner_fence, DDP_lower_inner_fence, park_data['Jitter:DDP']))\n",
    "\n",
    "park_data2['MDVP:PPQ'] =np.where(park_data['MDVP:PPQ'] > PPQ_outlier,PPQ_outlier,\n",
    "                             np.where(park_data['MDVP:PPQ'] < PPQ_lower_inner_fence, PPQ_lower_inner_fence, park_data['MDVP:PPQ']))\n",
    "\n",
    "park_data2['MDVP:RAP'] =np.where(park_data['MDVP:RAP'] > RAP_outlier,RAP_outlier,\n",
    "                             np.where(park_data['MDVP:RAP'] < RAP_lower_inner_fence, RAP_lower_inner_fence, park_data['MDVP:RAP']))\n",
    "\n",
    "park_data2['MDVP:Jitter(Abs)'] =np.where(park_data['MDVP:Jitter(Abs)'] > Abs_outlier,Abs_outlier,\n",
    "                                 np.where(park_data['MDVP:Jitter(Abs)'] < Abs_lower_outlier, Abs_lower_outlier, park_data['MDVP:Jitter(Abs)']))\n",
    "\n",
    "park_data2['MDVP:Jitter(%)'] =np.where(park_data['MDVP:Jitter(%)'] > Jit_outlier,Jit_outlier,\n",
    "                             np.where(park_data['MDVP:Jitter(%)'] < Jit_lower_outlier, Jit_lower_outlier, park_data['MDVP:Jitter(%)']))\n",
    "\n",
    "park_data2['Shimmer:APQ5'] =np.where(park_data['Shimmer:APQ5'] > APQ5_upper_inner_fence,APQ5_upper_inner_fence,\n",
    "                             np.where(park_data['Shimmer:APQ5'] < APQ5_lower_inner_fence, APQ5_lower_inner_fence, park_data['Shimmer:APQ5']))\n",
    "\n",
    "park_data2['Shimmer:APQ3'] =np.where(park_data['Shimmer:APQ3'] > APQ3_upper_inner_fence,APQ3_upper_inner_fence,\n",
    "                             np.where(park_data['Shimmer:APQ3'] < APQ3_lower_inner_fence, APQ3_lower_inner_fence, park_data['Shimmer:APQ3']))\n",
    "\n",
    "park_data2['MDVP:Shimmer(dB)'] =np.where(park_data['MDVP:Shimmer(dB)'] > db_upper_inner_fence,db_upper_inner_fence,\n",
    "                                 np.where(park_data['MDVP:Shimmer(dB)'] < db_lower_inner_fence, db_lower_inner_fence, park_data['MDVP:Shimmer(dB)']))\n",
    "\n",
    "park_data2['MDVP:Shimmer'] =np.where(park_data['MDVP:Shimmer'] > shim_upper_inner_fence,shim_upper_inner_fence,\n",
    "                             np.where(park_data['MDVP:Shimmer'] < shim_lower_inner_fence, shim_lower_inner_fence, park_data['MDVP:Shimmer']))\n",
    "\n",
    "park_data2['Shimmer:DDA'] =np.where(park_data['Shimmer:DDA'] > DDA_upper_inner_fence,DDA_upper_inner_fence,\n",
    "                             np.where(park_data['Shimmer:DDA'] < DDA_lower_inner_fence, DDA_lower_inner_fence, park_data['Shimmer:DDA']))\n",
    "\n",
    "park_data2['PPE'] =np.where(park_data['PPE'] > pp_upper_inner_fence,pp_upper_inner_fence,\n",
    "                             np.where(park_data['PPE'] < pp_lower_inner_fence, pp_lower_inner_fence, park_data['PPE']))\n",
    "\n",
    "park_data2['spread1'] =np.where(park_data['spread1'] > ff_upper_inner_fence,ff_upper_inner_fence,\n",
    "                             np.where(park_data['spread1'] < ff_lower_inner_fence, ff_lower_inner_fence, park_data['spread1']))\n",
    "\n",
    "park_data2['spread2'] =np.where(park_data['spread2'] > sp2_upper_inner_fence,sp2_upper_inner_fence,\n",
    "                             np.where(park_data['spread2'] < sp2_lower_inner_fence, sp2_lower_inner_fence, park_data['spread2']))\n",
    "\n",
    "park_data2['NHR'] = np.where(park_data['NHR'] > NHR_upper_inner_fence,NHR_upper_inner_fence,\n",
    "                             np.where(park_data['NHR'] < NHR_lower_inner_fence, NHR_lower_inner_fence, park_data['NHR']))\n",
    "\n"
   ]
  },
  {
   "cell_type": "code",
   "execution_count": 433,
   "id": "897a422d",
   "metadata": {},
   "outputs": [
    {
     "data": {
      "image/png": "[encoded data removed]",
      "text/plain": [
       "<Figure size 720x288 with 2 Axes>"
      ]
     },
     "metadata": {
      "needs_background": "light"
     },
     "output_type": "display_data"
    },
    {
     "data": {
      "image/png": "[encoded data removed]",
      "text/plain": [
       "<Figure size 720x288 with 2 Axes>"
      ]
     },
     "metadata": {
      "needs_background": "light"
     },
     "output_type": "display_data"
    }
   ],
   "source": [
    "#Investigating a column to check and confirm the distribution of the data and its outlier \n",
    "    plt.figure(figsize=(10,4))\n",
    "    #histogram\n",
    "    plt.subplot(1,2,1)\n",
    "    sns.distplot(park_data['MDVP:Shimmer(dB)'])\n",
    "    plt.title('before')\n",
    "    #boxplot\n",
    "    plt.subplot(1,2,2)\n",
    "    sns.boxplot(park_data['MDVP:Shimmer(dB)'])\n",
    "    plt.title('before')\n",
    "    plt.show()\n",
    "    \n",
    "  \n",
    "    plt.figure(figsize=(10,4))\n",
    "    plt.subplot(1,2,1)\n",
    "    sns.distplot(park_data2['MDVP:Shimmer(dB)'])\n",
    "    plt.xlabel('MDVP:Shimmer(dB)')\n",
    "    plt.title('after')\n",
    "    #boxplot\n",
    "    plt.subplot(1,2,2)\n",
    "    sns.boxplot(park_data2['MDVP:Shimmer(dB)'])\n",
    "    plt.xlabel('MDVP:Shimmer(dB)')\n",
    "    plt.title('after')\n",
    "    plt.show()"
   ]
  },
  {
   "cell_type": "markdown",
   "id": "4fb87b57",
   "metadata": {},
   "source": [
    "We can confirm all columns have been treated. We will then use this data for machine learning"
   ]
  },
  {
   "cell_type": "markdown",
   "id": "6c4bf64b",
   "metadata": {},
   "source": [
    "### MACHINE LEARNING"
   ]
  },
  {
   "cell_type": "markdown",
   "id": "7c6b3ed5",
   "metadata": {},
   "source": [
    "From the above analysis, we can see a correlation between most of the columns.in other to train a more accurate model we treated columns having noise or outliers and we will use the 'cln'(treated cloumns to train the model)"
   ]
  },
  {
   "cell_type": "code",
   "execution_count": 435,
   "id": "20f5b65b",
   "metadata": {},
   "outputs": [],
   "source": [
    "from sklearn.tree import DecisionTreeClassifier\n",
    "from sklearn.model_selection import train_test_split\n",
    "from sklearn.metrics import accuracy_score\n",
    "import joblib"
   ]
  },
  {
   "cell_type": "markdown",
   "id": "e4efe035",
   "metadata": {},
   "source": [
    "### Decision Tree Classifier"
   ]
  },
  {
   "cell_type": "code",
   "execution_count": 489,
   "id": "8ecb2ffc",
   "metadata": {},
   "outputs": [],
   "source": [
    "#seperating the features (X) and y\n",
    "X = park_data2.drop(['name','status'],axis = 1)\n",
    "y = park_data2['status']\n",
    "model = DecisionTreeClassifier() #creating the model\n",
    "\n",
    "model.fit(X_train, y_train) #training the model\n",
    "\n",
    "X_train, X_test, y_train, y_test =train_test_split(X, y, test_size =0.2) #training and testing the entire dataset of X and y\n",
    "\n",
    "predictions = model.predict(X_test) #predict the dataset of X\n",
    "\n",
    "score = accuracy_score(y_test,predictions) #determining the accuracy of the model\n"
   ]
  },
  {
   "cell_type": "code",
   "execution_count": 490,
   "id": "c4fc1f7b",
   "metadata": {},
   "outputs": [
    {
     "data": {
      "text/plain": [
       "0.9743589743589743"
      ]
     },
     "execution_count": 490,
     "metadata": {},
     "output_type": "execute_result"
    }
   ],
   "source": [
    "score"
   ]
  },
  {
   "cell_type": "code",
   "execution_count": 499,
   "id": "45efddc1",
   "metadata": {
    "scrolled": false
   },
   "outputs": [],
   "source": [
    "#checking predictions on status of names: phon_R01_S19_2 and phon_R01_S24_6 respectively\n",
    "predictions = model.predict([[237.226, 247.326 ,225.227 ,0.00298, 0.000010 ,0.00169 ,0.00182 ,0.00507,0.01752,0.03104, 0.00740 , 22.736,0.305062 , 0.654172 , 7.310550 , 0.098648, 2.416838 , 0.095032, 0.426, 0.02182, 0.03130, 0.02971],[241.404 ,248.834 ,232.483 ,0.00281 ,0.000010 ,0.00157 ,0.00173 ,0.00470 ,0.01760,0.03017, 0.00675, 23.145, 0.457702, 0.634267, 6.793547, 0.158266, 2.256699, 0.117399, 0.626, 0.03134, 0.04518, 0.04368]])"
   ]
  },
  {
   "cell_type": "code",
   "execution_count": 500,
   "id": "7daf220d",
   "metadata": {},
   "outputs": [
    {
     "data": {
      "text/plain": [
       "array([0, 0], dtype=int64)"
      ]
     },
     "execution_count": 500,
     "metadata": {},
     "output_type": "execute_result"
    }
   ],
   "source": [
    "predictions"
   ]
  },
  {
   "cell_type": "markdown",
   "id": "e169ee33",
   "metadata": {},
   "source": [
    "### Random Forest Tree"
   ]
  },
  {
   "cell_type": "code",
   "execution_count": 501,
   "id": "84189b32",
   "metadata": {},
   "outputs": [],
   "source": [
    "#importing libaries\n",
    "from sklearn.ensemble import RandomForestClassifier\n",
    "from sklearn import metrics"
   ]
  },
  {
   "cell_type": "code",
   "execution_count": 503,
   "id": "a38a512c",
   "metadata": {},
   "outputs": [
    {
     "data": {
      "text/plain": [
       "RandomForestClassifier(n_jobs=1)"
      ]
     },
     "execution_count": 503,
     "metadata": {},
     "output_type": "execute_result"
    }
   ],
   "source": [
    "RandomForestClassifier(bootstrap=True,class_weight = None, criterion = 'gini',\n",
    "                      max_depth=None, max_features='auto',max_leaf_nodes=None,\n",
    "                      min_impurity_decrease=0.0, min_impurity_split=None,\n",
    "                       min_samples_split=2,\n",
    "                      min_weight_fraction_leaf=0.0, n_estimators=100, n_jobs=1,\n",
    "                      oob_score=False, random_state=None, verbose=0,\n",
    "                      warm_start=False)"
   ]
  },
  {
   "cell_type": "code",
   "execution_count": 512,
   "id": "9a7fba9d",
   "metadata": {},
   "outputs": [
    {
     "name": "stdout",
     "output_type": "stream",
     "text": [
      "Accuracy: 1.0\n"
     ]
    }
   ],
   "source": [
    "X= park_data2.drop(['name','status'],axis = 1)\n",
    "y = park_data2['status']\n",
    "\n",
    "clf = RandomForestClassifier(n_estimators=100)\n",
    "\n",
    "#training the model using the training sets y_pred=clf.predict(X_test)\n",
    "clf.fit(X_train,y_train)\n",
    "\n",
    "X_train, X_test,y_train,y_test = train_test_split(X,y, test_size = 0.2) #70% for training, 30% test#split dataset into training\n",
    "#create a gaussian Classifier\n",
    " \n",
    "y_pred=clf.predict(X_test)\n",
    "\n",
    "#model accuracy\n",
    "print('Accuracy:',metrics.accuracy_score(y_test, y_pred))\n"
   ]
  },
  {
   "cell_type": "code",
   "execution_count": 513,
   "id": "97c85e4c",
   "metadata": {},
   "outputs": [
    {
     "data": {
      "text/plain": [
       "array([0, 0], dtype=int64)"
      ]
     },
     "execution_count": 513,
     "metadata": {},
     "output_type": "execute_result"
    }
   ],
   "source": [
    "#predict the status of audio names:phon_R01_S19_2 and phon_R01_S24_6 respectively\n",
    "clf.predict([[237.226, 247.326 ,225.227 ,0.00298, 0.000010 ,0.00169 ,0.00182 ,0.00507,0.01752,0.03104, 0.00740 , 22.736,0.305062 , 0.654172 , 7.310550 , 0.098648, 2.416838 , 0.095032, 0.426, 0.02182, 0.03130, 0.02971],[241.404 ,248.834 ,232.483 ,0.00281 ,0.000010 ,0.00157 ,0.00173 ,0.00470 ,0.01760,0.03017, 0.00675, 23.145, 0.457702, 0.634267, 6.793547, 0.158266, 2.256699, 0.117399, 0.626, 0.03134, 0.04518, 0.04368]])"
   ]
  },
  {
   "cell_type": "code",
   "execution_count": null,
   "id": "0fabdc15",
   "metadata": {},
   "outputs": [],
   "source": []
  }
 ],
 "metadata": {
  "kernelspec": {
   "display_name": "Python 3 (ipykernel)",
   "language": "python",
   "name": "python3"
  },
  "language_info": {
   "codemirror_mode": {
    "name": "ipython",
    "version": 3
   },
   "file_extension": ".py",
   "mimetype": "text/x-python",
   "name": "python",
   "nbconvert_exporter": "python",
   "pygments_lexer": "ipython3",
   "version": "3.9.7"
  }
 },
 "nbformat": 4,
 "nbformat_minor": 5
}
